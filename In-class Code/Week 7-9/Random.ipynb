{
 "cells": [
  {
   "cell_type": "markdown",
   "metadata": {},
   "source": [
    "# Random Numbers\n",
    "\n",
    "### what follows uses the frozen, legacy seed/state approach"
   ]
  },
  {
   "cell_type": "code",
   "execution_count": null,
   "metadata": {},
   "outputs": [],
   "source": [
    "import numpy.random as R\n",
    "\n",
    "# random sample from uniform [0,1)\n",
    "print(R.rand())\n",
    "print()\n",
    "\n",
    "# random sample from normal with mean 0 and stdev 1\n",
    "print(R.randn())\n",
    "print()\n",
    "\n",
    "# note that both rand and randn are \"Matlab style\" in specifying dimensions as arguments\n",
    "print(R.rand(3,4))\n",
    "print()\n",
    "print(R.rand(5,2))"
   ]
  },
  {
   "cell_type": "code",
   "execution_count": null,
   "metadata": {},
   "outputs": [],
   "source": [
    "# random sample from uniform [0,1)\n",
    "print(R.uniform())\n",
    "print()\n",
    "\n",
    "# random sample from normal with mean 0 and stdev 1\n",
    "print(R.normal())\n",
    "print()\n",
    "\n",
    "# these are numpy-style in specifying dimensions as tuples\n",
    "print(R.uniform(size=(3,4)))\n",
    "print()\n",
    "print(R.normal(size=(5,2)))"
   ]
  },
  {
   "cell_type": "code",
   "execution_count": null,
   "metadata": {},
   "outputs": [],
   "source": [
    "# random sample from uniform [a,b)\n",
    "a = 3; b = 8\n",
    "print(R.uniform(a, b))\n",
    "print()\n",
    "\n",
    "# random sample from normal with mean 0 and stdev 1\n",
    "m = 4; s = 5\n",
    "print(R.normal(m, s))\n",
    "print()"
   ]
  },
  {
   "cell_type": "markdown",
   "metadata": {},
   "source": [
    "### seeding\n",
    "\n",
    "#### these use frozen, legacy seed/state approach"
   ]
  },
  {
   "cell_type": "code",
   "execution_count": null,
   "metadata": {},
   "outputs": [],
   "source": [
    "R.seed(1254334)\n",
    "print(R.uniform(), R.uniform(), R.uniform())\n",
    "R.seed(1254334)\n",
    "print(R.uniform(), R.uniform(), R.uniform())\n",
    "R.seed(3788232)\n",
    "print(R.uniform(), R.uniform(), R.uniform())\n",
    "print(R.uniform(), R.uniform(), R.uniform())"
   ]
  },
  {
   "cell_type": "code",
   "execution_count": null,
   "metadata": {},
   "outputs": [],
   "source": [
    "import time\n",
    "\n",
    "t = time.time_ns()\n",
    "print(f't = {t}')\n",
    "\n",
    "seed = t\n",
    "\n",
    "# keeping only the remainder (%), otherwise different seeds might be identical\n",
    "seed = t%(2**32 - 1)\n",
    "\n",
    "print(f'seed = {seed}')\n",
    "R.seed(seed)"
   ]
  },
  {
   "cell_type": "markdown",
   "metadata": {},
   "source": [
    "### rand(), uniform distribution, and histograms"
   ]
  },
  {
   "cell_type": "code",
   "execution_count": null,
   "metadata": {},
   "outputs": [],
   "source": [
    "import numpy.random as R\n",
    "\n",
    "N = 10000\n",
    "\n",
    "rnd = R.uniform(size=(N,))"
   ]
  },
  {
   "cell_type": "code",
   "execution_count": null,
   "metadata": {},
   "outputs": [],
   "source": [
    "# histogram in numpy\n",
    "#\n",
    "# https://numpy.org/doc/stable/reference/generated/numpy.histogram.html\n",
    "\n",
    "import numpy as np\n",
    "import matplotlib.pyplot as plt\n",
    "\n",
    "nbins = 10\n",
    "(h, hb) = np.histogram(rnd, bins=nbins, range=(0,1))"
   ]
  },
  {
   "cell_type": "code",
   "execution_count": null,
   "metadata": {},
   "outputs": [],
   "source": [
    "plt.bar(hb[:len(hb)-1], h, width=1./nbins, align='edge')\n",
    "plt.xlabel('x')\n",
    "plt.ylabel('count')\n",
    "plt.title(f'rand()\\nN = {N:,}')\n",
    "plt.show()"
   ]
  },
  {
   "cell_type": "markdown",
   "metadata": {},
   "source": [
    "### general uniform distribution"
   ]
  },
  {
   "cell_type": "code",
   "execution_count": null,
   "metadata": {},
   "outputs": [],
   "source": [
    "# plot probability density (continuous) function\n",
    "\n",
    "import numpy as np\n",
    "import matplotlib.pyplot as plt\n",
    "import numpy.random as R\n",
    "\n",
    "a = 3; b = 11;\n",
    "c = .25*(b-a)\n",
    "inc = .01\n",
    "\n",
    "x = np.concatenate((np.arange(a-c,a,inc),\n",
    "                    np.arange(a,b,inc),\n",
    "                    np.arange(b,b+c,inc)))\n",
    "p = np.concatenate((np.zeros(len(np.arange(a-c,a,inc))),\n",
    "                    np.ones(len(np.arange(a,b,inc))),\n",
    "                    np.zeros(len(np.arange(b,b+c,inc)))))\n",
    "p = p/(b-a)\n",
    "plt.plot(x, p)\n",
    "plt.xlabel('x')\n",
    "plt.ylabel('p(x)')\n",
    "plt.title(f'uniform distribution [{a},{b})')\n",
    "plt.show()"
   ]
  },
  {
   "cell_type": "code",
   "execution_count": null,
   "metadata": {},
   "outputs": [],
   "source": [
    "N = 1000000\n",
    "\n",
    "rnd = a + (b-a)*R.uniform(size=(N,))"
   ]
  },
  {
   "cell_type": "code",
   "execution_count": null,
   "metadata": {},
   "outputs": [],
   "source": [
    "nbins = 10\n",
    "(h, hb) = np.histogram(rnd, bins=nbins, range=(a,b))\n",
    "\n",
    "plt.bar(hb[:len(hb)-1], h, width=(b-a)/nbins, align='edge')\n",
    "plt.xlabel('x')\n",
    "plt.ylabel('count')\n",
    "plt.title(f'a + (b-a)*rand()\\n[{a},{b})   N = {N:,}')\n",
    "plt.xlim((a-c, b+c))\n",
    "plt.show()"
   ]
  },
  {
   "cell_type": "markdown",
   "metadata": {},
   "source": [
    "### discrete uniform distribution"
   ]
  },
  {
   "cell_type": "code",
   "execution_count": null,
   "metadata": {},
   "outputs": [],
   "source": [
    "# plot probability mass (discrete) function\n",
    "\n",
    "import numpy as np\n",
    "import matplotlib.pyplot as plt\n",
    "import numpy.random as R\n",
    "\n",
    "a = 3; b = 11;\n",
    "c = .25*(b-a)\n",
    "\n",
    "x = np.arange(a, b)\n",
    "p = np.ones(len(x))*(1./(b-a))\n",
    "\n",
    "plt.bar(x, p, width=.6, align='center')\n",
    "\n",
    "plt.xlabel('x')\n",
    "plt.ylabel('P(x)')\n",
    "plt.xlim(a-c, b+c)\n",
    "plt.ylim(0, max(p)*1.2)\n",
    "plt.title(f'discrete distribution [{a},{b})')\n",
    "plt.show()"
   ]
  },
  {
   "cell_type": "code",
   "execution_count": null,
   "metadata": {},
   "outputs": [],
   "source": [
    "N = 1000\n",
    "\n",
    "# rnd = np.floor(a + (b-a)*R.uniform(size=(N,)))\n",
    "\n",
    "rnd = R.randint(a, b, size=(N,))"
   ]
  },
  {
   "cell_type": "code",
   "execution_count": null,
   "metadata": {},
   "outputs": [],
   "source": [
    "nbins = (b-a)\n",
    "(h, hb) = np.histogram(rnd, bins=nbins, range=(a,b))\n",
    "\n",
    "plt.bar(hb[:len(hb)-1], h, width=.6, align='center')\n",
    "plt.xlabel('x')\n",
    "plt.ylabel('count')\n",
    "plt.title(f'R.randint(a, b, size=(N,))\\n[{a},{b})   N = {N:,}')\n",
    "plt.xlim(a-c, b+c)\n",
    "plt.ylim(0, max(h)*1.2)\n",
    "plt.show()"
   ]
  },
  {
   "cell_type": "code",
   "execution_count": null,
   "metadata": {},
   "outputs": [],
   "source": [
    "nbins = (b-a)\n",
    "(h, hb) = np.histogram(rnd, bins=nbins, range=(a,b))\n",
    "\n",
    "plt.bar(hb[:len(hb)-1], h, width=.6, align='center')\n",
    "plt.xlabel('x')\n",
    "plt.ylabel('count')\n",
    "plt.title(f'np.round(a + (b-a)*R.uniform(size=(N,)))\\n[{a},{b})   N = {N:,}')\n",
    "plt.xlim(a-c, b+c)\n",
    "plt.ylim(0, max(h)*1.2)\n",
    "plt.show()"
   ]
  },
  {
   "cell_type": "markdown",
   "metadata": {},
   "source": [
    "### normal (Gaussian) distribution\n",
    "$p(x) = \\frac{1}{\\sqrt{2\\pi\\sigma^2}}\\exp\\left(\\frac{-(x-\\mu)^2}{2\\sigma^2}\\right)$"
   ]
  },
  {
   "cell_type": "code",
   "execution_count": null,
   "metadata": {},
   "outputs": [],
   "source": [
    "import numpy as np\n",
    "import matplotlib.pyplot as plt\n",
    "import math\n",
    "\n",
    "m = 0.0\n",
    "s = 1.0\n",
    "x = np.arange(-4.0, 4.0, .01)\n",
    "p = (1/math.sqrt(2*math.pi*(s**2))) * np.exp(-((x-m)**2)/(2*(s**2)))\n",
    "plt.plot(x, p)\n",
    "plt.xlabel(\"x\")\n",
    "plt.ylabel(\"p(x)\")\n",
    "plt.title(f\"Normal Distribution (m={m}, s={s})\")\n",
    "plt.show()"
   ]
  },
  {
   "cell_type": "code",
   "execution_count": null,
   "metadata": {},
   "outputs": [],
   "source": [
    "N = 10000\n",
    "\n",
    "rnd = R.normal(size=(N,))"
   ]
  },
  {
   "cell_type": "code",
   "execution_count": null,
   "metadata": {},
   "outputs": [],
   "source": [
    "nbins = 30\n",
    "xmin = -4; xmax = +4\n",
    "(h, hb) = np.histogram(rnd, bins=nbins, range=(xmin,xmax))\n",
    "\n",
    "plt.bar(hb[:len(hb)-1], h, width=(xmax-xmin)/nbins, align='edge')\n",
    "plt.xlabel('x')\n",
    "plt.ylabel('count')\n",
    "plt.title(f'randn()\\nN = {N:,}')\n",
    "plt.xlim((xmin, xmax))\n",
    "plt.show()"
   ]
  },
  {
   "cell_type": "code",
   "execution_count": null,
   "metadata": {},
   "outputs": [],
   "source": [
    "N = 1000000\n",
    "\n",
    "m = 1.0\n",
    "s = 0.4\n",
    "\n",
    "# rnd = m+s*R.randn(N)\n",
    "\n",
    "rnd = R.normal(m, s, size=(N,))"
   ]
  },
  {
   "cell_type": "markdown",
   "metadata": {},
   "source": [
    "### simulating Central Limit Theorem"
   ]
  },
  {
   "cell_type": "code",
   "execution_count": null,
   "metadata": {},
   "outputs": [],
   "source": [
    "import numpy as np\n",
    "import matplotlib.pyplot as plt\n",
    "import numpy.random as R\n",
    "import scipy\n",
    "\n",
    "N = 1000\n",
    "\n",
    "# rnd = R.beta(a=.5, b=.5, size=(N,))\n",
    "# rnd = R.exponential(scale=.1, size=(N,))\n",
    "rnd = R.gamma(shape=2, scale=3, size=(N,))\n",
    "\n",
    "nbins = 10\n",
    "(h, hb) = np.histogram(rnd, bins=nbins)\n",
    "\n",
    "plt.bar(hb[:len(hb)-1], h, align='edge', width=(hb[1]-hb[0]))\n",
    "plt.xlabel('x')\n",
    "plt.ylabel('count')\n",
    "plt.title('histogram')\n",
    "plt.show()"
   ]
  },
  {
   "cell_type": "code",
   "execution_count": null,
   "metadata": {},
   "outputs": [],
   "source": [
    "# central limit theorem\n",
    "\n",
    "iter = 10000\n",
    "\n",
    "m = np.zeros(iter)\n",
    "for i in range(iter):\n",
    "    # rnd = R.beta(a=.5, b=.5, size=(N,))\n",
    "    # rnd = R.exponential(scale=.1, size=(N,))\n",
    "    rnd = R.gamma(shape=2, scale=3, size=(N,))\n",
    "\n",
    "    m[i] = np.average(rnd)\n",
    "\n",
    "nbins = 30\n",
    "(h, hb) = np.histogram(m, bins=nbins)\n",
    "\n",
    "plt.bar(hb[:len(hb)-1], h, align='edge', width=(hb[1]-hb[0]))\n",
    "plt.xlabel('x')\n",
    "plt.ylabel('count')\n",
    "plt.title('histogram')\n",
    "plt.show()"
   ]
  },
  {
   "cell_type": "markdown",
   "metadata": {},
   "source": [
    "### cumulative distribution function"
   ]
  },
  {
   "cell_type": "code",
   "execution_count": null,
   "metadata": {},
   "outputs": [],
   "source": [
    "# plot cumulative distribution function (CDF)\n",
    "\n",
    "import numpy as np\n",
    "import matplotlib.pyplot as plt\n",
    "import numpy.random as R\n",
    "\n",
    "a = 3; b = 11;\n",
    "c = .25*(b-a)\n",
    "inc = .01\n",
    "\n",
    "x = np.concatenate((np.array([a-c]),\n",
    "                    np.array([a]),\n",
    "                    np.array([b]),\n",
    "                    np.array([b+c])))\n",
    "p = np.concatenate((np.array([0]),\n",
    "                    np.array([0]),\n",
    "                    np.array([1]),\n",
    "                    np.array([1])))\n",
    "\n",
    "plt.plot(x, p)\n",
    "plt.xlabel('X')\n",
    "plt.ylabel('P(x≤X)')\n",
    "plt.title(f'uniform distribution [{a},{b})')\n",
    "plt.show()"
   ]
  },
  {
   "cell_type": "code",
   "execution_count": null,
   "metadata": {},
   "outputs": [],
   "source": [
    "# normal CDF\n",
    "\n",
    "import numpy as np\n",
    "import matplotlib.pyplot as plt\n",
    "import math\n",
    "from scipy.stats import norm\n",
    "\n",
    "m = 0.0\n",
    "s = 1.0\n",
    "x = np.arange(-4.0, 4.0, .01)\n",
    "p = norm.cdf(x)\n",
    "plt.plot(x, p)\n",
    "plt.xlabel(\"X\")\n",
    "plt.ylabel(\"P(x≤X)\")\n",
    "plt.title(f\"Normal Distribution (m={m}, s={s})\")\n",
    "plt.show()"
   ]
  },
  {
   "cell_type": "markdown",
   "metadata": {},
   "source": [
    "### sample from a Bernoulli (Bernoulli process)"
   ]
  },
  {
   "cell_type": "code",
   "execution_count": null,
   "metadata": {},
   "outputs": [],
   "source": [
    "# fair coin flip, p = .5\n",
    "\n",
    "import numpy.random as R\n",
    "\n",
    "p = .5\n",
    "\n",
    "rnd = R.uniform()\n",
    "if (rnd < p):\n",
    "    val = 1\n",
    "else:\n",
    "    val = 0\n",
    "    \n",
    "print(val)"
   ]
  },
  {
   "cell_type": "markdown",
   "metadata": {},
   "source": [
    "### Bernoulli as Binomial with N = 1"
   ]
  },
  {
   "cell_type": "code",
   "execution_count": null,
   "metadata": {},
   "outputs": [],
   "source": [
    "# fair coin flip, p = .5\n",
    "\n",
    "import numpy.random as R\n",
    "\n",
    "p = .5\n",
    "N = 1\n",
    "\n",
    "val = R.binomial(N, p)\n",
    "    \n",
    "print(val)"
   ]
  },
  {
   "cell_type": "markdown",
   "metadata": {},
   "source": [
    "### Binomial (N > 1)"
   ]
  },
  {
   "cell_type": "code",
   "execution_count": null,
   "metadata": {},
   "outputs": [],
   "source": [
    "# example of unfair coint\n",
    "# number of \"heads\" / \"successes\" on N \"flips\" (p is prob of \"success\")\n",
    "\n",
    "p = .9\n",
    "N = 100\n",
    "\n",
    "val = R.binomial(N, p)\n",
    "    \n",
    "print(val)"
   ]
  },
  {
   "cell_type": "markdown",
   "metadata": {},
   "source": [
    "### simulating gambler's fallacy"
   ]
  },
  {
   "cell_type": "code",
   "execution_count": null,
   "metadata": {},
   "outputs": [],
   "source": [
    "# first simulate simple coin flips\n",
    "\n",
    "import numpy.random as R\n",
    "import numpy as np\n",
    "\n",
    "iterations = 10000\n",
    "nheads = 0; ntries = 0; p = 0.5\n",
    "for idx in range(iterations):\n",
    "    rnd = R.uniform()\n",
    "    if rnd < p:\n",
    "        nheads = nheads + 1\n",
    "    ntries = ntries + 1\n",
    "print(nheads/ntries)"
   ]
  },
  {
   "cell_type": "code",
   "execution_count": null,
   "metadata": {},
   "outputs": [],
   "source": [
    "# gambler's fallacy\n",
    "\n",
    "iterations = 1000000\n",
    "nheads = 0; ntries = 0; p = 0.5\n",
    "run = 0\n",
    "for idx in range(iterations):\n",
    "    rnd = R.uniform()\n",
    "    if run == 10:\n",
    "        if rnd < p:\n",
    "            nheads = nheads + 1\n",
    "        ntries = ntries + 1\n",
    "        run = 0\n",
    "    else:\n",
    "        if rnd < p:\n",
    "            run = run + 1\n",
    "        else:\n",
    "            run = 0\n",
    "print(nheads/ntries)"
   ]
  },
  {
   "cell_type": "markdown",
   "metadata": {},
   "source": [
    "### permutation (and shuffle)"
   ]
  },
  {
   "cell_type": "code",
   "execution_count": null,
   "metadata": {},
   "outputs": [],
   "source": [
    "import numpy as np\n",
    "import numpy.random as R\n",
    "\n",
    "# imagine these are conditions in an experiment\n",
    "a = np.array([1, 1, 1, 1, 1, 2, 2, 2, 2, 2, 3, 3, 3, 3, 3])\n",
    "\n",
    "# this produces a random order (a permutation) - this changes array a\n",
    "R.shuffle(a)\n",
    "print(a)"
   ]
  },
  {
   "cell_type": "code",
   "execution_count": null,
   "metadata": {},
   "outputs": [],
   "source": [
    "# imagine these are conditions in an experiment\n",
    "a = np.array([1, 1, 1, 1, 1, 2, 2, 2, 2, 2, 3, 3, 3, 3, 3])\n",
    "\n",
    "# this produces a random order (a permutation) - returns a new array (array a unchanged)\n",
    "b = R.permutation(a)\n",
    "print(b)\n",
    "print(a)"
   ]
  },
  {
   "cell_type": "markdown",
   "metadata": {},
   "source": [
    "### examples of constrained randomization"
   ]
  },
  {
   "cell_type": "markdown",
   "metadata": {},
   "source": [
    "#### version 1 : just a coin flip, but no attempt to equate the number of times each condition is presented"
   ]
  },
  {
   "cell_type": "code",
   "execution_count": 1,
   "metadata": {},
   "outputs": [
    {
     "name": "stdout",
     "output_type": "stream",
     "text": [
      "[1. 2. 3. 2. 1. 2. 1. 2. 1. 3. 2. 0. 3. 0. 2. 1. 3. 0. 3. 0. 2. 0. 3. 1.\n",
      " 0. 3. 2. 0. 2. 1. 2. 0. 1. 0. 1. 3. 2. 1. 2. 1. 3. 2. 3. 0. 2. 0. 1. 0.\n",
      " 1. 3. 1. 2. 0. 1. 0. 1. 0. 1. 0. 2. 3. 0. 3. 0. 1. 0. 2. 0. 2. 1. 2. 3.\n",
      " 1. 2. 1. 3. 1. 3. 0. 1. 0. 3. 2. 3. 2. 1. 3. 0. 2. 0. 2. 0. 3. 0. 2. 1.\n",
      " 0. 2. 1. 3.]\n"
     ]
    }
   ],
   "source": [
    "import numpy as np\n",
    "import numpy.random as R\n",
    "\n",
    "Ntrials = 100\n",
    "Nconds = 4\n",
    "\n",
    "trials = np.zeros(Ntrials)\n",
    "prev = -1\n",
    "for i in range(Ntrials):\n",
    "    trials[i] = R.randint(Nconds)\n",
    "    while trials[i] == prev:\n",
    "        trials[i] = R.randint(Nconds)\n",
    "    prev = trials[i]\n",
    "\n",
    "print(trials)"
   ]
  },
  {
   "cell_type": "markdown",
   "metadata": {},
   "source": [
    "#### version 2 : each condition needs to be presented once before ",
    "a condition can be presented again (with no repeats)"
   ]
  },
  {
   "cell_type": "code",
   "execution_count": 2,
   "metadata": {},
   "outputs": [
    {
     "name": "stdout",
     "output_type": "stream",
     "text": [
      "[3. 0. 1. 2. 1. 0. 3. 2. 0. 1. 2. 3. 2. 0. 1. 3. 0. 1. 3. 2. 3. 1. 2. 0.\n",
      " 1. 3. 0. 2. 3. 2. 1. 0. 3. 2. 1. 0. 2. 3. 0. 1. 2. 1. 0. 3. 0. 3. 2. 1.\n",
      " 2. 0. 3. 1. 3. 1. 0. 2. 3. 1. 2. 0. 3. 0. 1. 2. 1. 3. 0. 2. 3. 2. 1. 0.\n",
      " 1. 0. 2. 3. 0. 1. 2. 3. 1. 0. 2. 3. 2. 1. 3. 0. 1. 2. 3. 0. 2. 3. 1. 0.\n",
      " 2. 0. 1. 3.]\n"
     ]
    }
   ],
   "source": [
    "import numpy as np\n",
    "import numpy.random as R\n",
    "\n",
    "Nblocks = 25\n",
    "Nconds = 4\n",
    "\n",
    "trials = np.zeros(Nblocks*Nconds)\n",
    "prev = -1\n",
    "for b in range(Nblocks):\n",
    "    trials[b*Nconds:(b+1)*Nconds] = R.permutation(Nconds)\n",
    "    while trials[b*Nconds] == prev:\n",
    "        trials[b*Nconds:(b+1)*Nconds] = R.permutation(Nconds)\n",
    "    prev = trials[(b+1)*Nconds-1]\n",
    "\n",
    "print(trials)"
   ]
  },
  {
   "cell_type": "markdown",
   "metadata": {},
   "source": [
    "### exponential via transformation"
   ]
  },
  {
   "cell_type": "code",
   "execution_count": null,
   "metadata": {},
   "outputs": [],
   "source": [
    "import numpy as np\n",
    "import matplotlib.pyplot as plt\n",
    "import numpy.random as R\n",
    "\n",
    "N = 100000\n",
    "rnd = R.uniform(size=(N,))\n",
    "nbins = 20\n",
    "(h, hb) = np.histogram(rnd, bins=nbins, range=(0,1))\n",
    "\n",
    "plt.bar(hb[:len(hb)-1], h, width=1/nbins, align='edge')\n",
    "plt.xlabel('x')\n",
    "plt.ylabel('count')\n",
    "plt.title('uniform distribution')\n",
    "plt.show()"
   ]
  },
  {
   "cell_type": "code",
   "execution_count": null,
   "metadata": {},
   "outputs": [],
   "source": [
    "N = 100000\n",
    "rnd = R.uniform(size=(N,))\n",
    "\n",
    "lam = 2\n",
    "x = -(1/lam)*np.log(rnd)\n",
    "\n",
    "nbins = 20\n",
    "xrange = 4\n",
    "(h, hb) = np.histogram(x, bins=nbins, range=(0,xrange))\n",
    "\n",
    "plt.bar(hb[:len(hb)-1], h, width=xrange/nbins, align='edge')\n",
    "plt.xlabel('x')\n",
    "plt.ylabel('count')\n",
    "plt.title('exponential distribution')\n",
    "plt.show()"
   ]
  },
  {
   "cell_type": "code",
   "execution_count": null,
   "metadata": {},
   "outputs": [],
   "source": [
    "x = np.arange(0, xrange, .01)\n",
    "p = lam * np.exp(-lam * x)\n",
    "\n",
    "plt.plot(x, p, 'r-')\n",
    "plt.xlabel('x')\n",
    "plt.ylabel('p(x)')\n",
    "plt.title('exponential distribution')\n",
    "plt.show()"
   ]
  },
  {
   "cell_type": "markdown",
   "metadata": {},
   "source": [
    "<hr>\n",
    "\n",
    "# Generator Approach\n",
    "\n",
    "#### using generators (newer, recommended approach)"
   ]
  },
  {
   "cell_type": "code",
   "execution_count": null,
   "metadata": {},
   "outputs": [],
   "source": [
    "import numpy.random as R\n",
    "\n",
    "# seed a generator (for random numbers)\n",
    "\n",
    "# PCG64() is one particular random number algorithm\n",
    "# others include MT19937() for Mersenne Twister\n",
    "\n",
    "seed = 4233981212398\n",
    "rng = R.Generator(R.PCG64(seed))\n",
    "\n",
    "# to create a Mersenne Twister generator you would run this instead\n",
    "# rng = R.Generator(R.MT19937(seed))\n",
    "\n",
    "# PCG64() is a lot faster and has better statistical properties than MT19937()\n",
    "\n",
    "# MT19937() has a larger cycle (by many orders of magnitude) but there are\n",
    "# methods to increase the cycle of PCG64()"
   ]
  },
  {
   "cell_type": "code",
   "execution_count": null,
   "metadata": {},
   "outputs": [],
   "source": [
    "# note that seeds can be large numbers (far larger than old approach)\n",
    "\n",
    "import time\n",
    "\n",
    "t = time.time_ns()\n",
    "print(f't = {t}')\n",
    "\n",
    "seed = t\n",
    "\n",
    "rng = R.Generator(R.PCG64(seed))\n",
    "\n",
    "# recall that using a large seed like this with the old approach caused an error"
   ]
  },
  {
   "cell_type": "code",
   "execution_count": null,
   "metadata": {},
   "outputs": [],
   "source": [
    "# rng is an object\n",
    "\n",
    "print(type(rng))"
   ]
  },
  {
   "cell_type": "code",
   "execution_count": null,
   "metadata": {},
   "outputs": [],
   "source": [
    "# it has a number of methods\n",
    "\n",
    "print(dir(rng))"
   ]
  },
  {
   "cell_type": "code",
   "execution_count": null,
   "metadata": {},
   "outputs": [],
   "source": [
    "# this uses the \"default\" random number generator (current PCG64, but it could change)\n",
    "\n",
    "seed = 337231238\n",
    "rng = default_rng(seed)"
   ]
  },
  {
   "cell_type": "code",
   "execution_count": null,
   "metadata": {},
   "outputs": [],
   "source": [
    "# specific random numbers are sampled by using methods that are part of rng\n",
    "\n",
    "print('uniform:     ', rng.uniform(low=4, high=12))\n",
    "print('normal:      ', rng.normal(loc=4, scale=2.5))    # loc is mean, scale is stdev\n",
    "print('exponential: ', rng.exponential(scale=2))"
   ]
  },
  {
   "cell_type": "code",
   "execution_count": null,
   "metadata": {},
   "outputs": [],
   "source": [
    "# can create numpy arrays of random numbers using size\n",
    "\n",
    "print(rng.uniform(low=1, high=9, size=(6, 3)))"
   ]
  },
  {
   "cell_type": "code",
   "execution_count": null,
   "metadata": {},
   "outputs": [],
   "source": [
    "# the rng object needs to be passed around to functions to use the random number generator\n",
    "\n",
    "def calc_func(r, N, a, b):\n",
    "    r = a**r.uniform(size=(N,)) + b*r.uniform(size=(N,))\n",
    "    return (r)\n",
    "\n",
    "N = 10\n",
    "alpha = 3\n",
    "beta = 2\n",
    "arr = calc_func(rng, N, alpha, beta)\n",
    "\n",
    "print(arr)"
   ]
  },
  {
   "cell_type": "code",
   "execution_count": null,
   "metadata": {},
   "outputs": [],
   "source": []
  }
 ],
 "metadata": {
  "kernelspec": {
   "display_name": "Python 3 (ipykernel)",
   "language": "python",
   "name": "python3"
  },
  "language_info": {
   "codemirror_mode": {
    "name": "ipython",
    "version": 3
   },
   "file_extension": ".py",
   "mimetype": "text/x-python",
   "name": "python",
   "nbconvert_exporter": "python",
   "pygments_lexer": "ipython3",
   "version": "3.8.13"
  }
 },
 "nbformat": 4,
 "nbformat_minor": 4
}
