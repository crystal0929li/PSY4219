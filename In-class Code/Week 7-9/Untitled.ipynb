{
 "cells": [
  {
   "cell_type": "code",
   "execution_count": 1,
   "id": "beaebaa0-471a-462f-9ce9-21b83a3ac61a",
   "metadata": {},
   "outputs": [],
   "source": [
    "import numpy.random as R"
   ]
  },
  {
   "cell_type": "code",
   "execution_count": 13,
   "id": "bd3caa15-0577-49cd-a4c0-13437ede0f6a",
   "metadata": {},
   "outputs": [
    {
     "data": {
      "text/plain": [
       "(2542, 2488, 2433, 2537)"
      ]
     },
     "execution_count": 13,
     "metadata": {},
     "output_type": "execute_result"
    }
   ],
   "source": [
    "val1 = 0\n",
    "val2 = 0\n",
    "val3 = 0\n",
    "val4 = 0\n",
    "for i in range(10000):\n",
    "    rnd = R.uniform()\n",
    "    if rnd < 0.25:\n",
    "        val = 1\n",
    "        val1 += 1\n",
    "    elif rnd < 0.5:\n",
    "        val = 2\n",
    "        val2 += 1\n",
    "    elif rnd < 0.75:\n",
    "        val = 3\n",
    "        val3 += 1\n",
    "    else:\n",
    "        val = 4\n",
    "        val4 += 1\n",
    "val1, val2, val3, val4"
   ]
  },
  {
   "cell_type": "code",
   "execution_count": 21,
   "id": "c0debd35-bf60-4172-9521-fd20e0415f08",
   "metadata": {},
   "outputs": [
    {
     "data": {
      "text/plain": [
       "(3316, 3313, 3371)"
      ]
     },
     "execution_count": 21,
     "metadata": {},
     "output_type": "execute_result"
    }
   ],
   "source": [
    "val1 = 0\n",
    "val2 = 0\n",
    "val3 = 0\n",
    "val4 = 0\n",
    "for i in range(10000):\n",
    "    rnd1 = R.randint(3)\n",
    "    if rnd1 < 1:\n",
    "        val = 1\n",
    "        val1 += 1\n",
    "    elif rnd1 < 2:\n",
    "        val = 2\n",
    "        val2 += 1\n",
    "    else:\n",
    "        val = 3\n",
    "        val3 += 1\n",
    "val1, val2, val3"
   ]
  },
  {
   "cell_type": "code",
   "execution_count": 19,
   "id": "0dcea271-ad8a-41bf-b3da-b1feaadef8b2",
   "metadata": {},
   "outputs": [
    {
     "data": {
      "text/plain": [
       "2"
      ]
     },
     "execution_count": 19,
     "metadata": {},
     "output_type": "execute_result"
    }
   ],
   "source": [
    "R.randint(3)"
   ]
  },
  {
   "cell_type": "code",
   "execution_count": null,
   "id": "22ef05ae-0059-4b53-af6c-15aa195ccf4f",
   "metadata": {},
   "outputs": [],
   "source": []
  }
 ],
 "metadata": {
  "kernelspec": {
   "display_name": "Python 3 (ipykernel)",
   "language": "python",
   "name": "python3"
  },
  "language_info": {
   "codemirror_mode": {
    "name": "ipython",
    "version": 3
   },
   "file_extension": ".py",
   "mimetype": "text/x-python",
   "name": "python",
   "nbconvert_exporter": "python",
   "pygments_lexer": "ipython3",
   "version": "3.8.13"
  }
 },
 "nbformat": 4,
 "nbformat_minor": 5
}
