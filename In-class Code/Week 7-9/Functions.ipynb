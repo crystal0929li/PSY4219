{
 "cells": [
  {
   "cell_type": "markdown",
   "metadata": {
    "pycharm": {
     "name": "#%% md\n"
    }
   },
   "source": [
    "***\n",
    "\n",
    "# Functions in Python"
   ]
  },
  {
   "cell_type": "code",
   "execution_count": null,
   "metadata": {
    "pycharm": {
     "name": "#%%\n"
    }
   },
   "outputs": [],
   "source": [
    "def myfun(d, e, f):\n",
    "    n = d + e / f\n",
    "    m = e - f ** d\n",
    "    return n, m\n",
    "\n",
    "x = 1.5; y = 2.1; z = 1.4\n",
    "r = myfun(x, y, z)\n",
    "print(r)\n",
    "print(type(r))\n",
    "\n",
    "val1 = r[0]\n",
    "val2 = r[1]"
   ]
  },
  {
   "cell_type": "code",
   "execution_count": null,
   "metadata": {
    "pycharm": {
     "name": "#%%\n"
    }
   },
   "outputs": [],
   "source": [
    "def myfun(d, e, f):\n",
    "    m = e - f ** d\n",
    "    return m\n",
    "\n",
    "x = 1.5; y = 2.1; z = 1.4\n",
    "r = myfun(x, y, z)\n",
    "print(r)\n",
    "print(type(r))"
   ]
  },
  {
   "cell_type": "code",
   "execution_count": null,
   "metadata": {
    "pycharm": {
     "name": "#%%\n"
    }
   },
   "outputs": [],
   "source": [
    "# (optional) return statement\n",
    "\n",
    "def myfun(d):\n",
    "    if (d < 0):\n",
    "        return d-10\n",
    "    else:\n",
    "        return d+10\n",
    "\n",
    "x = -2\n",
    "r = myfun(x)\n",
    "print(r)"
   ]
  },
  {
   "cell_type": "code",
   "execution_count": null,
   "metadata": {
    "pycharm": {
     "name": "#%%\n"
    }
   },
   "outputs": [],
   "source": [
    "# functions (as simple procedures) do not need to take parameters or return value\n",
    "\n",
    "def mymessage():\n",
    "    print('This is my message!')\n",
    "    return\n",
    "    print('This is never printed, of course!')\n",
    "\n",
    "mymessage()"
   ]
  },
  {
   "cell_type": "markdown",
   "metadata": {
    "pycharm": {
     "name": "#%% md\n"
    }
   },
   "source": [
    "### argument passing"
   ]
  },
  {
   "cell_type": "code",
   "execution_count": null,
   "metadata": {
    "pycharm": {
     "name": "#%%\n"
    }
   },
   "outputs": [],
   "source": [
    "# argument/parameters of basic types are essentially \"passed by value\"\n",
    "\n",
    "def myfun(z):\n",
    "    z = 100 + z\n",
    "    return (z)\n",
    "\n",
    "x = 1\n",
    "y = myfun(x)\n",
    "print(x)\n",
    "print(y)"
   ]
  },
  {
   "cell_type": "code",
   "execution_count": null,
   "metadata": {
    "pycharm": {
     "name": "#%%\n"
    }
   },
   "outputs": [],
   "source": [
    "# argument/parameters of compound types are essentially \"passed by reference\"\n",
    "\n",
    "def myfun(z):\n",
    "    z[1] = 99\n",
    "    return (z)\n",
    "\n",
    "x = [1, 2, 3]\n",
    "y = myfun(x)\n",
    "print(x)\n",
    "print(y)"
   ]
  },
  {
   "cell_type": "code",
   "execution_count": null,
   "metadata": {
    "pycharm": {
     "name": "#%%\n"
    }
   },
   "outputs": [],
   "source": [
    "# argument/parameters of compound types are essentially \"passed by reference\"\n",
    "\n",
    "import numpy as np\n",
    "\n",
    "def myfun(x):\n",
    "    x[0, 0] = 99\n",
    "    x[1, 1] = 5\n",
    "    return (x)\n",
    "\n",
    "x = np.array([[1, 2], [3, 4]])\n",
    "y = myfun(x)\n",
    "print(x)\n",
    "print(y)"
   ]
  },
  {
   "cell_type": "code",
   "execution_count": null,
   "metadata": {
    "pycharm": {
     "name": "#%%\n"
    }
   },
   "outputs": [],
   "source": [
    "# but see this\n",
    "\n",
    "def myfun(x):\n",
    "    x = 'truck'\n",
    "    return (x)\n",
    "\n",
    "x = np.array([[1, 2], [3, 4]])\n",
    "y = myfun(x)\n",
    "print(x)\n",
    "print(y)"
   ]
  },
  {
   "cell_type": "markdown",
   "metadata": {
    "pycharm": {
     "name": "#%% md\n"
    }
   },
   "source": [
    "### variable scope"
   ]
  },
  {
   "cell_type": "code",
   "execution_count": null,
   "metadata": {
    "pycharm": {
     "name": "#%%\n"
    }
   },
   "outputs": [],
   "source": [
    "# x is a global variable\n",
    "x = 100\n",
    "\n",
    "def myfun(y):\n",
    "    # x is still a global variable\n",
    "    print('in myfun(), x = ', x)\n",
    "    print('in myfun(), y = ', y)\n",
    "    \n",
    "    # z is a local variable\n",
    "    z = 99\n",
    "    \n",
    "    # y, as a variable is local\n",
    "    \n",
    "    return(y-z)\n",
    "\n",
    "b = 2\n",
    "a = myfun(b)\n",
    "\n",
    "print('x = ', x)\n",
    "print('y = ', y)\n",
    "print('z = ', z)\n"
   ]
  },
  {
   "cell_type": "code",
   "execution_count": null,
   "metadata": {
    "pycharm": {
     "name": "#%%\n"
    }
   },
   "outputs": [],
   "source": [
    "# x is a global variable\n",
    "x = 100\n",
    "\n",
    "def myfun(y):\n",
    "    # but look what happens here\n",
    "    x = y\n",
    "    # now x is considered local\n",
    "    \n",
    "    return(x)\n",
    "\n",
    "a = 1\n",
    "b = myfun(a)\n",
    "print('a = ', a)\n",
    "print('b = ', b)\n",
    "print('x = ', x)\n",
    "print('y = ', y)"
   ]
  },
  {
   "cell_type": "code",
   "execution_count": null,
   "metadata": {
    "pycharm": {
     "name": "#%%\n"
    }
   },
   "outputs": [],
   "source": [
    "# x is a global variable\n",
    "x = 100\n",
    "\n",
    "def myfun(y):\n",
    "    # explicit declaration that x is global\n",
    "    global x\n",
    "    \n",
    "    # but look what happens here\n",
    "    x = y\n",
    "    # now x is considered global\n",
    "    \n",
    "    return(x)\n",
    "\n",
    "a = 1\n",
    "b = myfun(a)\n",
    "print('a = ', a)\n",
    "print('b = ', b)\n",
    "print('x = ', x)"
   ]
  },
  {
   "cell_type": "code",
   "execution_count": null,
   "metadata": {
    "pycharm": {
     "name": "#%%\n"
    }
   },
   "outputs": [],
   "source": [
    "# x is a global variable\n",
    "x = [1, 2, 3, 4]\n",
    "\n",
    "def myfun(y):\n",
    "    # but look what happens here\n",
    "    x[2] = y\n",
    "    # like what happened when passing a compound type\n",
    "    \n",
    "    return(x)\n",
    "\n",
    "a = 99\n",
    "b = myfun(a)\n",
    "print(a)\n",
    "print(b)\n",
    "print(x)"
   ]
  },
  {
   "cell_type": "markdown",
   "metadata": {
    "pycharm": {
     "name": "#%% md\n"
    }
   },
   "source": [
    "### function scope"
   ]
  },
  {
   "cell_type": "code",
   "execution_count": null,
   "metadata": {
    "pycharm": {
     "name": "#%%\n"
    }
   },
   "outputs": [],
   "source": [
    "def myfun(x):\n",
    "    x = x + 1\n",
    "    \n",
    "    def anotherfun(y):\n",
    "        return (y + 100)\n",
    "    \n",
    "    return (x + anotherfun(x))\n",
    "\n",
    "print(myfun(1))\n",
    "\n",
    "# cannot \"see\" anotherfun()\n",
    "print(anotherfun(1))"
   ]
  },
  {
   "cell_type": "markdown",
   "metadata": {
    "pycharm": {
     "name": "#%% md\n"
    }
   },
   "source": [
    "### passing a function"
   ]
  },
  {
   "cell_type": "code",
   "execution_count": null,
   "metadata": {
    "pycharm": {
     "name": "#%%\n"
    }
   },
   "outputs": [],
   "source": [
    "# a function in Python is just another object and can be passed to another function\n",
    "\n",
    "import math\n",
    "\n",
    "def myfun(func, x):\n",
    "    y = func(x)\n",
    "    return (y)\n",
    "\n",
    "def myop(x):\n",
    "    y = x**2\n",
    "    return (y)\n",
    "\n",
    "print(myfun(myop, 2))\n",
    "\n",
    "print(myfun(math.log10, 2))"
   ]
  },
  {
   "cell_type": "code",
   "execution_count": null,
   "metadata": {
    "pycharm": {
     "name": "#%%\n"
    }
   },
   "outputs": [],
   "source": [
    "# a real example of passing a function for optimization\n",
    "# https://docs.scipy.org/doc/scipy/reference/tutorial/optimize.html\n",
    "\n",
    "import numpy as np\n",
    "import matplotlib.pyplot as plt\n",
    "\n",
    "def myfun(x):\n",
    "    return(x**2 - 4*x + 10)\n",
    "\n",
    "x = np.linspace(-4, 8, 500)\n",
    "f = myfun(x)\n",
    "\n",
    "plt.plot(x, f)\n",
    "plt.xlabel(\"x\")\n",
    "plt.ylabel(\"f(x)\")\n",
    "plt.title(\"my quadratic function\")\n",
    "plt.ylim((0, 50))\n",
    "plt.show()"
   ]
  },
  {
   "cell_type": "code",
   "execution_count": null,
   "metadata": {
    "pycharm": {
     "name": "#%%\n"
    }
   },
   "outputs": [],
   "source": [
    "import scipy.optimize as opt\n",
    "\n",
    "x0 = np.array([6])\n",
    "res = opt.minimize(myfun, x0)\n",
    "\n",
    "print(f'min: f({res.x[0]:.3f}) = {res.fun:.3f}')"
   ]
  },
  {
   "cell_type": "markdown",
   "metadata": {
    "pycharm": {
     "name": "#%% md\n"
    }
   },
   "source": [
    "### default function arguments"
   ]
  },
  {
   "cell_type": "code",
   "execution_count": null,
   "metadata": {
    "pycharm": {
     "name": "#%%\n"
    }
   },
   "outputs": [],
   "source": [
    "import numpy as np\n",
    "import matplotlib.pyplot as plt\n",
    "\n",
    "def psiphys(x, alpha=1., beta=2., gam=.5, lam=.1):\n",
    "    F = 1 - np.exp(-(x/alpha)**beta)\n",
    "    psi = gam + (1. - lam - gam)*F\n",
    "    return (psi)\n",
    "\n",
    "x = np.arange(0, 5, .01)\n",
    "psi1 = psiphys(x)\n",
    "psi2 = psiphys(x, lam = .01, gam = .2)\n",
    "\n",
    "plt.plot(x, psi1, 'r-', x, psi2, 'g-')\n",
    "plt.xlabel(\"stimulus manipulation\")\n",
    "plt.ylabel(\"accuracy\")\n",
    "plt.title(\"psychophysical function\")\n",
    "plt.ylim((.1, 1))\n",
    "plt.show()"
   ]
  },
  {
   "cell_type": "markdown",
   "metadata": {
    "pycharm": {
     "name": "#%% md\n"
    }
   },
   "source": [
    "### doc strings (for functions)\n",
    "\n",
    "https://www.python.org/dev/peps/pep-0257/"
   ]
  },
  {
   "cell_type": "code",
   "execution_count": null,
   "metadata": {
    "pycharm": {
     "name": "#%%\n"
    }
   },
   "outputs": [],
   "source": [
    "import numpy as np\n",
    "import matplotlib.pyplot as plt\n",
    "\n",
    "def psiphys(x, alpha=1., beta=2., gam=.5, lam=.1):\n",
    "    '''Computes psychophysical function\n",
    "    \n",
    "    Arguments:\n",
    "        x (numpy array):   point at which to evaluate psi(x)\n",
    "        alpha (float):     scale parameter of the Weibull\n",
    "        beta (float):      shape parameter of the Weibull\n",
    "        gam (float):       chance (floor on performance)\n",
    "        lam (float):       lapse rate (ceil on performance)\n",
    "        \n",
    "    Returns:\n",
    "        psi (numpy array): psychophysical function psi(x)\n",
    "    '''\n",
    "    F = 1 - np.exp(-(x/alpha)**beta)\n",
    "    psi = gam + (1. - lam - gam)*F\n",
    "    return (psi)"
   ]
  },
  {
   "cell_type": "code",
   "execution_count": null,
   "metadata": {
    "pycharm": {
     "name": "#%%\n"
    }
   },
   "outputs": [],
   "source": [
    "x = np.arange(0, 5, .01)\n",
    "psi1 = psiphys(x)\n",
    "psi2 = psiphys(x, lam = .01, gam = .2)\n",
    "\n",
    "plt.plot(x, psi1, 'r-', x, psi2, 'g-')\n",
    "plt.xlabel(\"stimulus manipulation\")\n",
    "plt.ylabel(\"accuracy\")\n",
    "plt.title(\"psychophysical function\")\n",
    "plt.ylim((.1, 1))\n",
    "plt.show()"
   ]
  },
  {
   "cell_type": "code",
   "execution_count": null,
   "metadata": {
    "pycharm": {
     "name": "#%%\n"
    }
   },
   "outputs": [],
   "source": [
    "help(psiphys)"
   ]
  },
  {
   "cell_type": "markdown",
   "metadata": {
    "pycharm": {
     "name": "#%% md\n"
    }
   },
   "source": [
    "### type hints (for functions)\n",
    "\n",
    "https://docs.python.org/3/library/typing.html"
   ]
  },
  {
   "cell_type": "code",
   "execution_count": null,
   "metadata": {
    "pycharm": {
     "name": "#%%\n"
    }
   },
   "outputs": [],
   "source": [
    "import numpy as np\n",
    "import matplotlib.pyplot as plt\n",
    "\n",
    "# type hints are not enforced by Python, but can be interpretted by an IDE\n",
    "\n",
    "def psiphys(x     : np.ndarray, \n",
    "            alpha : float = 1., \n",
    "            beta  : float = 2., \n",
    "            gam   : float = .5, \n",
    "            lam   : float = .1) -> np.ndarray:\n",
    "    '''Computes psychophysical function\n",
    "    \n",
    "    Arguments:\n",
    "        x (numpy array):   point at which to evaluate psi(x)\n",
    "        alpha (float):     scale parameter of the Weibull (optional)\n",
    "        beta (float):      shape parameter of the Weibull (optional)\n",
    "        gam (float):       chance (floor on performance) (optional)\n",
    "        lam (float):       lapse rate (ceil on performance) (optional)\n",
    "        \n",
    "    Returns:\n",
    "        psi (numpy array): psychophysical function psi(x)\n",
    "    '''\n",
    "    F = 1 - np.exp(-(x/alpha)**beta)\n",
    "    psi = gam + (1. - lam - gam)*F\n",
    "    return (psi)"
   ]
  },
  {
   "cell_type": "code",
   "execution_count": null,
   "metadata": {
    "pycharm": {
     "name": "#%%\n"
    }
   },
   "outputs": [],
   "source": [
    "x = np.arange(0, 5, .01)\n",
    "psi1 = psiphys(x)                       # this uses defaults for optionals\n",
    "psi2 = psiphys(x, lam = .01, gam = .2)  # this sets new values of lambda and gamma\n",
    "psi3 = psiphys(x, 2.3, 3.4)             # this sets new values of alpha and beta (first two)\n",
    "\n",
    "plt.plot(x, psi1, 'r-', x, psi2, 'g-')\n",
    "plt.xlabel(\"stimulus manipulation\")\n",
    "plt.ylabel(\"accuracy\")\n",
    "plt.title(\"psychophysical function\")\n",
    "plt.ylim((.1, 1))\n",
    "plt.show()"
   ]
  },
  {
   "cell_type": "code",
   "execution_count": null,
   "metadata": {
    "pycharm": {
     "name": "#%%\n"
    }
   },
   "outputs": [],
   "source": [
    "# forcing optional arguments to use names\n",
    "\n",
    "import numpy as np\n",
    "import matplotlib.pyplot as plt\n",
    "\n",
    "# the asterisk forces the names of the named arguments that follow to be used\n",
    "\n",
    "def psiphys(x     : np.ndarray, \n",
    "            *,\n",
    "            alpha : float = 1., \n",
    "            beta  : float = 2., \n",
    "            gam   : float = .5, \n",
    "            lam   : float = .1) -> np.ndarray:\n",
    "    '''Computes psychophysical function\n",
    "    \n",
    "    Arguments:\n",
    "        x (numpy array):   point at which to evaluate psi(x)\n",
    "        alpha (float):     scale parameter of the Weibull (optional)\n",
    "        beta (float):      shape parameter of the Weibull (optional)\n",
    "        gam (float):       chance (floor on performance) (optional)\n",
    "        lam (float):       lapse rate (ceil on performance) (optional)\n",
    "        \n",
    "    Returns:\n",
    "        psi (numpy array): psychophysical function psi(x)\n",
    "    '''\n",
    "    F = 1 - np.exp(-(x/alpha)**beta)\n",
    "    psi = gam + (1. - lam - gam)*F\n",
    "    return (psi)"
   ]
  },
  {
   "cell_type": "code",
   "execution_count": null,
   "metadata": {
    "pycharm": {
     "name": "#%%\n"
    }
   },
   "outputs": [],
   "source": [
    "x = np.arange(0, 5, .01)\n",
    "psi1 = psiphys(x)                       # this still works\n",
    "psi2 = psiphys(x, lam = .01, gam = .2)  # this still works\n",
    "psi3 = psiphys(x, 2.3, 3.4)             # this throws an error now (arguments must be named)\n",
    "\n",
    "plt.plot(x, psi1, 'r-', x, psi2, 'g-')\n",
    "plt.xlabel(\"stimulus manipulation\")\n",
    "plt.ylabel(\"accuracy\")\n",
    "plt.title(\"psychophysical function\")\n",
    "plt.ylim((.1, 1))\n",
    "plt.show()"
   ]
  },
  {
   "cell_type": "code",
   "execution_count": null,
   "metadata": {
    "pycharm": {
     "name": "#%%\n"
    }
   },
   "outputs": [],
   "source": []
  }
 ],
 "metadata": {
  "kernelspec": {
   "display_name": "Python 3 (ipykernel)",
   "language": "python",
   "name": "python3"
  },
  "language_info": {
   "codemirror_mode": {
    "name": "ipython",
    "version": 3
   },
   "file_extension": ".py",
   "mimetype": "text/x-python",
   "name": "python",
   "nbconvert_exporter": "python",
   "pygments_lexer": "ipython3",
   "version": "3.8.13"
  }
 },
 "nbformat": 4,
 "nbformat_minor": 4
}