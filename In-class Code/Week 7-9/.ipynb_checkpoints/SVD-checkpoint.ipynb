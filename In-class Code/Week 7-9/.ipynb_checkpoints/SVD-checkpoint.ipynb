{
 "cells": [
  {
   "cell_type": "markdown",
   "metadata": {},
   "source": [
    "## Singular Value Decomposition (SVD)\n",
    "\n",
    "example of one of a number of methods of decomposing a matrix into the product of other (often simpler) matrices"
   ]
  },
  {
   "cell_type": "markdown",
   "metadata": {},
   "source": [
    "#### case where X is n x m, where n = m (X is square matrix)"
   ]
  },
  {
   "cell_type": "code",
   "execution_count": null,
   "metadata": {},
   "outputs": [],
   "source": [
    "# we'll start by just generating a matrix of random numbers\n",
    "# we'll talk about random numbers a lot more later\n",
    "\n",
    "import numpy as np\n",
    "import numpy.random as R\n",
    "\n",
    "# case of n = m\n",
    "n = 5\n",
    "m = 5\n",
    "\n",
    "# generate an nxm matrix\n",
    "X = R.rand(n, m)\n",
    "\n",
    "# SVD\n",
    "(U, S, Vt) = np.linalg.svd(X)\n",
    "print('U  is', U.shape, '\\nS  is', S.shape, '\\nVt is', Vt.shape)\n",
    "\n",
    "# note the shape of S (just showing diagonals), turn into a matrix\n",
    "S = np.diag(S)\n",
    "print('\\nS is now', S.shape)"
   ]
  },
  {
   "cell_type": "code",
   "execution_count": null,
   "metadata": {},
   "outputs": [],
   "source": [
    "# compare A and U@S@Vt\n",
    "Y = U@S@Vt\n",
    "print('X = ', X)\n",
    "print('Y = ', Y)\n",
    "print()\n",
    "print(np.sum(np.sum(X - Y)))"
   ]
  },
  {
   "cell_type": "markdown",
   "metadata": {},
   "source": [
    "#### case where X is n x m, where n > m (X is tall and skinny)"
   ]
  },
  {
   "cell_type": "code",
   "execution_count": null,
   "metadata": {},
   "outputs": [],
   "source": [
    "# now consider n > m\n",
    "n = 8\n",
    "m = 5\n",
    "\n",
    "# generate an nxm matrix\n",
    "X = R.rand(n, m)\n",
    "\n",
    "# SVD\n",
    "(U, S, Vt) = np.linalg.svd(X)\n",
    "S = np.diag(S)\n",
    "\n",
    "print('U  is', U.shape, '\\nS  is', S.shape, '\\nVt is', Vt.shape)"
   ]
  },
  {
   "cell_type": "code",
   "execution_count": null,
   "metadata": {},
   "outputs": [],
   "source": [
    "# recall from slides that with n > m, we have rows of zeros in S\n",
    "# it should be nxm, but here it's only mxm (with n > m)\n",
    "\n",
    "# cannot simply multiple components together\n",
    "\n",
    "Y = U@S@Vt"
   ]
  },
  {
   "cell_type": "code",
   "execution_count": null,
   "metadata": {},
   "outputs": [],
   "source": [
    "# could add rows of zeros to S\n",
    "\n",
    "S = np.concatenate((S, np.zeros((X.shape[0]-S.shape[0], S.shape[1]))))\n",
    "print(S)\n",
    "print('U  is', U.shape, '\\nS  is', S.shape, '\\nVt is', Vt.shape)"
   ]
  },
  {
   "cell_type": "code",
   "execution_count": null,
   "metadata": {},
   "outputs": [],
   "source": [
    "Y = U@S@Vt\n",
    "print('A = ', X)\n",
    "print('B = ', Y)\n",
    "print()\n",
    "print(np.sum(np.sum(X - Y)))"
   ]
  },
  {
   "cell_type": "code",
   "execution_count": null,
   "metadata": {},
   "outputs": [],
   "source": [
    "# can also use this option, which returns matrices sized to allow multiplication\n",
    "\n",
    "(U, S, Vt) = np.linalg.svd(X, full_matrices=False)\n",
    "S = np.diag(S)\n",
    "print('U  is', U.shape, '\\nS  is', S.shape, '\\nVt is', Vt.shape)\n",
    "\n",
    "# it ignores the parts of U that would be zero when multiplied by 0s in S"
   ]
  },
  {
   "cell_type": "code",
   "execution_count": null,
   "metadata": {},
   "outputs": [],
   "source": [
    "Y = U@S@Vt\n",
    "print('X = ', X)\n",
    "print('Y = ', Y)\n",
    "print()\n",
    "print(np.sum(np.sum(X - Y)))"
   ]
  },
  {
   "cell_type": "code",
   "execution_count": null,
   "metadata": {},
   "outputs": [],
   "source": [
    "# now consider n < m (X is short and fat)\n",
    "n = 5\n",
    "m = 8\n",
    "\n",
    "# generate an nxm matrix\n",
    "X = R.rand(n, m)\n",
    "\n",
    "# SVD\n",
    "(U, S, Vt) = np.linalg.svd(X)\n",
    "S = np.diag(S)\n",
    "\n",
    "print('U  is', U.shape, '\\nS  is', S.shape, '\\nVt is', Vt.shape)"
   ]
  },
  {
   "cell_type": "code",
   "execution_count": null,
   "metadata": {},
   "outputs": [],
   "source": [
    "# recall from slides that with n < m, we have cols of zeros in S\n",
    "# it should be nxm, but here it's only mxm (with n < m)\n",
    "\n",
    "# cannot simply multiple components together\n",
    "\n",
    "Y = U@S@Vt"
   ]
  },
  {
   "cell_type": "code",
   "execution_count": null,
   "metadata": {},
   "outputs": [],
   "source": [
    "# can also use this option, which returns matrices sized to allow multiplication\n",
    "\n",
    "(U, S, Vt) = np.linalg.svd(X, full_matrices=False)\n",
    "S = np.diag(S)\n",
    "print('U  is', U.shape, '\\nS  is', S.shape, '\\nVt is', Vt.shape)\n",
    "\n",
    "# it ignores the parts of V that would be zero when multiplied by 0s in S"
   ]
  },
  {
   "cell_type": "code",
   "execution_count": null,
   "metadata": {},
   "outputs": [],
   "source": [
    "Y = U@S@Vt\n",
    "print('X = ', X)\n",
    "print('Y = ', Y)\n",
    "print()\n",
    "print(np.sum(np.sum(X - Y)))"
   ]
  },
  {
   "cell_type": "markdown",
   "metadata": {},
   "source": [
    "#### some nice properties of SVD"
   ]
  },
  {
   "cell_type": "code",
   "execution_count": null,
   "metadata": {},
   "outputs": [],
   "source": [
    "n = 8\n",
    "m = 5\n",
    "\n",
    "# generate an nxm matrix\n",
    "X = R.rand(n, m)\n",
    "\n",
    "# SVD\n",
    "(U, S, Vt) = np.linalg.svd(X)\n",
    "S = np.diag(S)\n",
    "\n",
    "print('U  is', U.shape, '\\nS  is', S.shape, '\\nVt is', Vt.shape)"
   ]
  },
  {
   "cell_type": "code",
   "execution_count": null,
   "metadata": {},
   "outputs": [],
   "source": [
    "# remember that the transpose of a matrix just makes the rows columns\n",
    "\n",
    "print(U)\n",
    "print()\n",
    "print(U.T)"
   ]
  },
  {
   "cell_type": "code",
   "execution_count": null,
   "metadata": {},
   "outputs": [],
   "source": [
    "# U multiple by U-transpose is just the identity matrix\n",
    "\n",
    "print(U@U.T)"
   ]
  },
  {
   "cell_type": "code",
   "execution_count": null,
   "metadata": {},
   "outputs": [],
   "source": [
    "# hard to see with tiny numbers in the off-diagonals\n",
    "\n",
    "print(np.round(2.2334353e-17, 8))"
   ]
  },
  {
   "cell_type": "code",
   "execution_count": null,
   "metadata": {},
   "outputs": [],
   "source": [
    "# round the matrix\n",
    "\n",
    "print(np.round(U@U.T, 8))"
   ]
  },
  {
   "cell_type": "code",
   "execution_count": null,
   "metadata": {},
   "outputs": [],
   "source": [
    "# Vt multiple by Vt-transpose (which is just V) is just the identity matrix\n",
    "\n",
    "print(np.round(Vt@Vt.T, 8))"
   ]
  },
  {
   "cell_type": "code",
   "execution_count": null,
   "metadata": {},
   "outputs": [],
   "source": [
    "print(S)"
   ]
  },
  {
   "cell_type": "code",
   "execution_count": null,
   "metadata": {},
   "outputs": [],
   "source": [
    "# the inverse of a diagonal matrix is just the inverse of the diagonal elements\n",
    "\n",
    "print(np.linalg.inv(S))"
   ]
  },
  {
   "cell_type": "code",
   "execution_count": null,
   "metadata": {},
   "outputs": [],
   "source": [
    "# SVD\n",
    "(U, S, Vt) = np.linalg.svd(X, full_matrices=False)\n",
    "S = np.diag(S)\n",
    "\n",
    "# note that the identity matrix property only happens with the full matrices\n",
    "print(U@U.T)"
   ]
  },
  {
   "cell_type": "code",
   "execution_count": null,
   "metadata": {},
   "outputs": [],
   "source": [
    "# note that the values along the diagonal of S decrease;\n",
    "# this is something we will make use of later\n",
    "\n",
    "n = 8\n",
    "m = 6\n",
    "\n",
    "# generate an nxm matrix\n",
    "X = R.rand(n, m)\n",
    "\n",
    "# SVD\n",
    "(U, S, Vt) = np.linalg.svd(X)\n",
    "S = np.diag(S)\n",
    "\n",
    "print(S)"
   ]
  },
  {
   "cell_type": "markdown",
   "metadata": {},
   "source": [
    "### visualizing SVD as a series of matrix transformations"
   ]
  },
  {
   "cell_type": "code",
   "execution_count": null,
   "metadata": {},
   "outputs": [],
   "source": [
    "# plot points around a circle\n",
    "\n",
    "from math import pi\n",
    "import numpy as np\n",
    "\n",
    "def pol2cart(rho, phi):\n",
    "    x = rho * np.cos(phi)\n",
    "    y = rho * np.sin(phi)\n",
    "    return (x, y)\n",
    "\n",
    "N = 100\n",
    "b = np.zeros((2, N))\n",
    "\n",
    "for i in range(N):\n",
    "    # polar coordinates\n",
    "    rad = 1; ang = 2*pi*i/N\n",
    "    \n",
    "    xy = pol2cart(rad, ang)\n",
    "    b[0, i] = xy[0]; b[1, i] = xy[1]\n",
    "\n",
    "# pull three vectors\n",
    "Nvec = 3\n",
    "v = np.zeros((2, Nvec))\n",
    "for i in range(Nvec):\n",
    "    v[0, i] = b[0, int(i*(N/(2*Nvec)))]; v[1, i] = b[1, int(i*(N/(2*Nvec)))]"
   ]
  },
  {
   "cell_type": "code",
   "execution_count": null,
   "metadata": {},
   "outputs": [],
   "source": [
    "import matplotlib.pyplot as plt\n",
    "\n",
    "def plt_graph(b, v):\n",
    "    ex = 1.1*np.max(b)\n",
    "\n",
    "    plt.plot(b[0, :], b[1, :], 'r-')\n",
    "    plt.plot([0, v[0,0]], [0, v[1,0]], 'b-')\n",
    "    plt.plot([0, v[0,1]], [0, v[1,1]], 'c-')\n",
    "    plt.plot([0, v[0,2]], [0, v[1,2]], 'g-')\n",
    "    plt.xlim(-ex, ex)\n",
    "    plt.ylim(-ex, ex)\n",
    "    plt.axis('equal')"
   ]
  },
  {
   "cell_type": "code",
   "execution_count": null,
   "metadata": {},
   "outputs": [],
   "source": [
    "plt_graph(b, v)"
   ]
  },
  {
   "cell_type": "code",
   "execution_count": null,
   "metadata": {},
   "outputs": [],
   "source": [
    "M = np.array([[5, -3],\n",
    "              [6, 1]])\n",
    "\n",
    "Mb = M@b\n",
    "Mv = M@v\n",
    "\n",
    "plt.subplot(1,2,1); plt_graph(b, v)\n",
    "plt.subplot(1,2,2); plt_graph(Mb, Mv)"
   ]
  },
  {
   "cell_type": "code",
   "execution_count": null,
   "metadata": {},
   "outputs": [],
   "source": [
    "# do SVD\n",
    "\n",
    "(U, S, Vt) = np.linalg.svd(M, full_matrices=False)\n",
    "S = np.diag(S)"
   ]
  },
  {
   "cell_type": "code",
   "execution_count": null,
   "metadata": {},
   "outputs": [],
   "source": [
    "USVtb = U@S@Vt@b\n",
    "USVtv = U@S@Vt@v\n",
    "\n",
    "plt.subplot(1,2,1); plt_graph(b, v)\n",
    "plt.subplot(1,2,2); plt_graph(USVtb, USVtv)"
   ]
  },
  {
   "cell_type": "code",
   "execution_count": null,
   "metadata": {},
   "outputs": [],
   "source": [
    "# USVtb = U@S@Vt@b\n",
    "# USVtv = U@S@Vt@v\n",
    "\n",
    "Vtb = Vt@b\n",
    "Vtv = Vt@v\n",
    "\n",
    "plt.subplot(1,2,1); plt_graph(b, v)\n",
    "plt.subplot(1,2,2); plt_graph(Vtb, Vtv)"
   ]
  },
  {
   "cell_type": "code",
   "execution_count": null,
   "metadata": {},
   "outputs": [],
   "source": [
    "# USVtb = U@S@Vt@b\n",
    "# USVtv = U@S@Vt@v\n",
    "\n",
    "SVtb = S@Vtb\n",
    "SVtv = S@Vtv\n",
    "\n",
    "plt.subplot(1,2,1); plt_graph(b, v)\n",
    "plt.subplot(1,2,2); plt_graph(SVtb, SVtv)"
   ]
  },
  {
   "cell_type": "code",
   "execution_count": null,
   "metadata": {},
   "outputs": [],
   "source": [
    "# USVtb = U@S@Vt@b\n",
    "# USVtv = U@S@Vt@v\n",
    "\n",
    "USVtb = U@SVtb\n",
    "USVtv = U@SVtv\n",
    "\n",
    "plt.subplot(1,2,1); plt_graph(b, v)\n",
    "plt.subplot(1,2,2); plt_graph(USVtb, USVtv)"
   ]
  },
  {
   "cell_type": "markdown",
   "metadata": {},
   "source": [
    "### for Homework 5"
   ]
  },
  {
   "cell_type": "code",
   "execution_count": null,
   "metadata": {},
   "outputs": [],
   "source": [
    "import numpy as np\n",
    "import matplotlib.pyplot as plt\n",
    "\n",
    "X = plt.imread('BoysBW.jpg')[:,:,0]\n",
    "\n",
    "print('image dimensions : ', X.shape)\n",
    "print('image size       : ', X.size)\n",
    "\n",
    "plt.imshow(X, cmap='gray'); plt.axis('off');"
   ]
  },
  {
   "cell_type": "code",
   "execution_count": null,
   "metadata": {},
   "outputs": [],
   "source": []
  }
 ],
 "metadata": {
  "kernelspec": {
   "display_name": "Python 3 (ipykernel)",
   "language": "python",
   "name": "python3"
  },
  "language_info": {
   "codemirror_mode": {
    "name": "ipython",
    "version": 3
   },
   "file_extension": ".py",
   "mimetype": "text/x-python",
   "name": "python",
   "nbconvert_exporter": "python",
   "pygments_lexer": "ipython3",
   "version": "3.8.13"
  }
 },
 "nbformat": 4,
 "nbformat_minor": 4
}
