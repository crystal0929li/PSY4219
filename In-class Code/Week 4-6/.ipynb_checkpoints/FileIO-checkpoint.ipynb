{
 "cells": [
  {
   "cell_type": "markdown",
   "metadata": {},
   "source": [
    "***\n",
    "\n",
    "# Basic File I/O"
   ]
  },
  {
   "cell_type": "code",
   "execution_count": null,
   "metadata": {},
   "outputs": [],
   "source": [
    "# imagine these are data collected in an experiment (here we are just\n",
    "# making up the data and hard-coding into lists and numpy arrays)\n",
    "\n",
    "import numpy as np\n",
    "\n",
    "# subject initials\n",
    "sinit = ['TP', 'JA', 'WO', 'WM', 'KL', 'WS', 'BB', 'EC', 'VB']\n",
    "\n",
    "# subject accuracy\n",
    "acc = np.array([[.89, .91, .78, .82, .74, .81, .88, .92, .83],\n",
    "                [.71, .73, .81, .73, .76, .83, .70, .72, .83]])\n",
    "\n",
    "# subject mean RTs\n",
    "rts = np.array([[451, 515, 574, 614, 550, 643, 634, 514, 613],\n",
    "                [723, 689, 712, 613, 812, 743, 690, 719, 772]])"
   ]
  },
  {
   "cell_type": "markdown",
   "metadata": {},
   "source": [
    "### CSV files"
   ]
  },
  {
   "cell_type": "markdown",
   "metadata": {},
   "source": [
    "https://docs.python.org/3/library/csv.html"
   ]
  },
  {
   "cell_type": "code",
   "execution_count": null,
   "metadata": {},
   "outputs": [],
   "source": [
    "# save as CSV (comma-delimited) format\n",
    "\n",
    "# can save 1-dimensional (writerow) or 2-dimensional (writerows) only\n",
    "\n",
    "import csv\n",
    "\n",
    "# with in Python is a robust way to open file for writing ('w')\n",
    "with open('sinit.csv', 'w', newline='') as fp:\n",
    "    csvwriter = csv.writer(fp)\n",
    "    csvwriter.writerow(sinit) \n",
    "\n",
    "with open('acc.csv', 'w', newline='') as fp:\n",
    "    csvwriter = csv.writer(fp)\n",
    "    csvwriter.writerows(acc) \n",
    "\n",
    "with open('rts.csv', 'w', newline='') as fp:\n",
    "    csvwriter = csv.writer(fp)\n",
    "    csvwriter.writerows(rts)\n",
    "\n",
    "# Note: the newline='' is optional for linux/Mac, required for Windows.\n",
    "# It has to do with how the different systems implement an Enter/Return.\n",
    "# DOS/Windows uses carriage return and line feed \"\\r\\n\" as a line ending, \n",
    "# whereas Unix/Linux/Mac uses just line feed \"\\n\" (old Macs pre-OSX\n",
    "# used just a carriage return \"\\r\")\n"
   ]
  },
  {
   "cell_type": "code",
   "execution_count": null,
   "metadata": {},
   "outputs": [],
   "source": [
    "# load from CSV (comma-delimited)\n",
    "\n",
    "# this is a robust way to open file for reading ('r')\n",
    "with open('sinit.csv', 'r') as fp:\n",
    "    csvreader = csv.reader(fp, delimiter=',')\n",
    "    for row in csvreader:\n",
    "        print(row)"
   ]
  },
  {
   "cell_type": "code",
   "execution_count": null,
   "metadata": {},
   "outputs": [],
   "source": [
    "with open('acc.csv', 'r') as fp:\n",
    "    csvreader = csv.reader(fp, delimiter=',')\n",
    "    for row in csvreader:\n",
    "        print(row)\n",
    "        print(type(row))\n",
    "\n",
    "# what type is row, what type are the elements of row"
   ]
  },
  {
   "cell_type": "code",
   "execution_count": null,
   "metadata": {},
   "outputs": [],
   "source": [
    "# need to convert CVS to correct types\n",
    "\n",
    "with open('sinit.csv', 'r') as fp:\n",
    "    csvreader = csv.reader(fp, delimiter=',')\n",
    "    for row in csvreader:\n",
    "        Sinit = row\n",
    "        \n",
    "# proper style\n",
    "Nsubj = len(Sinit)\n",
    "Ncond = 2\n",
    "Acc = np.zeros((Ncond, Nsubj))\n",
    "Rts = np.zeros((Ncond, Nsubj))\n",
    "\n",
    "with open('acc.csv', 'r') as fp:\n",
    "    csvreader = csv.reader(fp, delimiter=',')\n",
    "    for i, row in enumerate(csvreader):\n",
    "        for j in range(Nsubj):\n",
    "            Acc[i,j] = float(row[j])\n",
    "\n",
    "with open('rts.csv', 'r') as fp:\n",
    "    csvreader = csv.reader(fp, delimiter=',')\n",
    "    for i, row in enumerate(csvreader):\n",
    "        for j in range(Nsubj):\n",
    "            Rts[i,j] = float(row[j])\n",
    "\n",
    "print(Sinit); print()\n",
    "print(Acc);   print()\n",
    "print(Rts);   print()"
   ]
  },
  {
   "cell_type": "code",
   "execution_count": null,
   "metadata": {},
   "outputs": [],
   "source": [
    "# of course, you can also write everything to one CSV file\n",
    "\n",
    "# this is a robust way to open file for writing ('w')\n",
    "with open('data.csv', 'w', newline='') as fp:\n",
    "    csvwriter = csv.writer(fp)\n",
    "    csvwriter.writerow(sinit) \n",
    "    csvwriter.writerows(acc) \n",
    "    csvwriter.writerows(rts) "
   ]
  },
  {
   "cell_type": "code",
   "execution_count": null,
   "metadata": {},
   "outputs": [],
   "source": [
    "# just need to read it back in the same way\n",
    "\n",
    "with open('data.csv', 'r') as fp:\n",
    "    csvreader = csv.reader(fp, delimiter=',')\n",
    "    Sinit = next(csvreader)\n",
    "    \n",
    "    Nsubj = len(Sinit)\n",
    "    Ncond = 2\n",
    "    Acc = np.zeros((Ncond, Nsubj))\n",
    "    Rts = np.zeros((Ncond, Nsubj))\n",
    "    \n",
    "    for i in range(Ncond):\n",
    "        row = next(csvreader)\n",
    "        for j in range(Nsubj):\n",
    "            Acc[i,j] = float(row[j])\n",
    "    \n",
    "    for i in range(Ncond):\n",
    "        row = next(csvreader)\n",
    "        for j in range(Nsubj):\n",
    "            Rts[i,j] = float(row[j])\n",
    "            \n",
    "print(Sinit); print()\n",
    "print(Acc);   print()\n",
    "print(Rts);   print()"
   ]
  },
  {
   "cell_type": "markdown",
   "metadata": {},
   "source": [
    "<hr>\n",
    "\n",
    "# File I/O for Homework 4 (Q2)"
   ]
  },
  {
   "cell_type": "code",
   "execution_count": null,
   "metadata": {},
   "outputs": [],
   "source": [
    "# read in the data\n",
    "\n",
    "import csv\n",
    "import numpy as np\n",
    "\n",
    "with open('difdata.csv', 'r') as fp:\n",
    "    # create the \"reader\" object\n",
    "    csvreader = csv.reader(fp, delimiter=',')\n",
    "\n",
    "    # get a line of the file\n",
    "    row = next(csvreader)\n",
    "    \n",
    "    # that first line is the # trials\n",
    "    Ntrials = int(row[0])\n",
    "    \n",
    "    # using # trials, preallocate np arrays to hold condition, choice, and RT\n",
    "    icondition = np.zeros(Ntrials, dtype=int)\n",
    "    ichoice    = np.zeros(Ntrials, dtype=int)\n",
    "    iRT        = np.zeros(Ntrials, dtype=float)\n",
    "\n",
    "    # loop over all trials (all remaining lines in the file)\n",
    "    for i, row in enumerate(csvreader):\n",
    "        icondition[i] = int(row[1])\n",
    "        ichoice[i]    = int(row[2])\n",
    "        iRT[i]        = float(row[3])"
   ]
  },
  {
   "cell_type": "code",
   "execution_count": null,
   "metadata": {},
   "outputs": [],
   "source": [
    "# read in the data (printing out info in this code)\n",
    "\n",
    "import csv\n",
    "import numpy as np\n",
    "\n",
    "with open('difdata.csv', 'r') as fp:\n",
    "    # create the \"reader\" object\n",
    "    csvreader = csv.reader(fp, delimiter=',')\n",
    "    print(type(csvreader))\n",
    "    print('----')\n",
    "    \n",
    "    # get a line of the file\n",
    "    row = next(csvreader)\n",
    "    print(row)\n",
    "    print(type(row))\n",
    "    print('----')   \n",
    "    \n",
    "    # that first line is the # trials\n",
    "    Ntrials = int(row[0])\n",
    "    \n",
    "    # using # trials, preallocate np arrays to hold condition, choice, and RT\n",
    "    icondition = np.zeros(Ntrials, dtype=int)\n",
    "    ichoice    = np.zeros(Ntrials, dtype=int)\n",
    "    iRT        = np.zeros(Ntrials, dtype=float)\n",
    "\n",
    "    # loop over all trials (all remaining lines in the file)\n",
    "    for i, row in enumerate(csvreader):\n",
    "        print(row)\n",
    "        icondition[i] = int(row[1])\n",
    "        ichoice[i]    = int(row[2])\n",
    "        iRT[i]        = float(row[3])"
   ]
  },
  {
   "cell_type": "markdown",
   "metadata": {},
   "source": [
    "### enumerate"
   ]
  },
  {
   "cell_type": "code",
   "execution_count": null,
   "metadata": {},
   "outputs": [],
   "source": [
    "# enumerate can sometimes be useful more generally\n",
    "\n",
    "import numpy as np\n",
    "\n",
    "data = np.array([11, 12, 13, 14, 15, 16])\n",
    "\n",
    "for i, d in enumerate(data):\n",
    "    print(i, d)"
   ]
  },
  {
   "cell_type": "code",
   "execution_count": null,
   "metadata": {},
   "outputs": [],
   "source": [
    "print(enumerate(data))"
   ]
  },
  {
   "cell_type": "code",
   "execution_count": null,
   "metadata": {},
   "outputs": [],
   "source": [
    "print(list(enumerate(data)))"
   ]
  },
  {
   "cell_type": "markdown",
   "metadata": {},
   "source": [
    "***\n",
    "\n",
    "# Command-Line Input"
   ]
  },
  {
   "cell_type": "code",
   "execution_count": 24,
   "metadata": {},
   "outputs": [
    {
     "name": "stdin",
     "output_type": "stream",
     "text": [
      "Enter Name : Tom\n"
     ]
    },
    {
     "name": "stdout",
     "output_type": "stream",
     "text": [
      "Tom\n",
      "<class 'str'>\n"
     ]
    }
   ],
   "source": [
    "# input a string\n",
    "\n",
    "name = input('Enter Name :')\n",
    "print(name)\n",
    "print(type(name))"
   ]
  },
  {
   "cell_type": "code",
   "execution_count": 25,
   "metadata": {},
   "outputs": [
    {
     "name": "stdin",
     "output_type": "stream",
     "text": [
      "Enter the Subject Number:  1\n",
      "Enter the Session Number:  2\n"
     ]
    },
    {
     "name": "stdout",
     "output_type": "stream",
     "text": [
      "Subject 1 | Session 2\n"
     ]
    }
   ],
   "source": [
    "# entering a non-string requires a type conversion\n",
    "\n",
    "SubjN = int(input('Enter the Subject Number: '))\n",
    "SessN = int(input('Enter the Session Number: '))\n",
    "print(f'Subject {SubjN} | Session {SessN}')"
   ]
  },
  {
   "cell_type": "code",
   "execution_count": null,
   "metadata": {},
   "outputs": [],
   "source": []
  }
 ],
 "metadata": {
  "kernelspec": {
   "display_name": "Python 3 (ipykernel)",
   "language": "python",
   "name": "python3"
  },
  "language_info": {
   "codemirror_mode": {
    "name": "ipython",
    "version": 3
   },
   "file_extension": ".py",
   "mimetype": "text/x-python",
   "name": "python",
   "nbconvert_exporter": "python",
   "pygments_lexer": "ipython3",
   "version": "3.8.13"
  }
 },
 "nbformat": 4,
 "nbformat_minor": 4
}
