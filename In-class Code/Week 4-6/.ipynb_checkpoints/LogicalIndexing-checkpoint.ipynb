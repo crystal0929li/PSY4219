{
 "cells": [
  {
   "cell_type": "markdown",
   "metadata": {
    "tags": []
   },
   "source": [
    "*** \n",
    "\n",
    "# logical (Boolean) indexing"
   ]
  },
  {
   "cell_type": "code",
   "execution_count": null,
   "metadata": {},
   "outputs": [],
   "source": [
    "import numpy as np\n",
    "\n",
    "# logical (Boolean) indexing\n",
    "\n",
    "a = np.array([1, 2, 3, 4, 5])\n",
    "b = np.array([False, True, False, False, True])\n",
    "print(len(a),len(b))"
   ]
  },
  {
   "cell_type": "code",
   "execution_count": null,
   "metadata": {},
   "outputs": [],
   "source": [
    "# logical (Boolean) indexing\n",
    "\n",
    "print(a[b])"
   ]
  },
  {
   "cell_type": "code",
   "execution_count": null,
   "metadata": {},
   "outputs": [],
   "source": [
    "# typically, the bool array comes from another test\n",
    "\n",
    "a = np.arange(100)\n",
    "b = ((a % 2) == 0)\n",
    "print(a)\n",
    "print(a[b])"
   ]
  },
  {
   "cell_type": "code",
   "execution_count": null,
   "metadata": {},
   "outputs": [],
   "source": [
    "# this is the same, of course\n",
    "\n",
    "a = np.arange(100)\n",
    "print(a[((a % 2) == 0)])"
   ]
  },
  {
   "cell_type": "code",
   "execution_count": null,
   "metadata": {},
   "outputs": [],
   "source": [
    "# hint for Homework 4\n",
    "\n",
    "a = np.array([1, 2, 1, 1, 2, 1, 2, 2, 2, 1])\n",
    "b = np.array([0, 0, 1, 1, 1, 0, 1, 1, 1, 0])\n",
    "print(b[a == 1])\n",
    "print(b[a == 2])"
   ]
  },
  {
   "cell_type": "code",
   "execution_count": null,
   "metadata": {},
   "outputs": [],
   "source": [
    "# hint for Homework 4\n",
    "\n",
    "a = np.array([0.423, 0.034, 0.512, 1.332, 0.873, 0.545, 0.089, 1.034, 0.643])\n",
    "print(a[(a >= 0.100) & (a <= 1.000)])\n",
    "print(a[np.logical_and((a >= 0.100), (a <= 1.000))])\n",
    "\n",
    "# using logical_and, logical_or, logical_not, logical_xor recommended"
   ]
  },
  {
   "cell_type": "code",
   "execution_count": null,
   "metadata": {},
   "outputs": [],
   "source": [
    "a = np.array([0.423, 0.034, 0.512, 1.332, 0.873, 0.545, 0.089, 1.034, 0.643])\n",
    "(a >= 0.100) & (a <= 1.000)"
   ]
  },
  {
   "cell_type": "code",
   "execution_count": null,
   "metadata": {},
   "outputs": [],
   "source": [
    "# this gives an error (a bit inexplicably)\n",
    "\n",
    "print(a[(a >= 0.100) and (a <= 1.000)])\n",
    "\n",
    "# the meaning of the logical, short-circuiting operators *and* and *or* in Python can’t be redefined (they are \n",
    "# keywords of the language) - Numpy implements its own versions as functions: logical_and and logical_or (as well \n",
    "# as not and xor versions). It would be good to extend the PEP to cover type-defined implementations of logical \n",
    "# operators. Today, numpy users often abuses the & and | operators for logical operations, but the behavior of \n",
    "# these isn’t exactly that of Python logical operators"
   ]
  },
  {
   "cell_type": "markdown",
   "metadata": {},
   "source": [
    "#### logical indexing with NaN"
   ]
  },
  {
   "cell_type": "code",
   "execution_count": null,
   "metadata": {},
   "outputs": [],
   "source": [
    "# using logical indexing with arrays containing nan\n",
    "\n",
    "import numpy as np\n",
    "\n",
    "data = np.array([[np.nan, .91, .78, .82, .74, .81,    np.nan, .92, np.nan],\n",
    "                 [.71,    .73, .81, .73, .76, np.nan, .70,    .72, .83]])\n",
    "\n",
    "print(data)"
   ]
  },
  {
   "cell_type": "code",
   "execution_count": null,
   "metadata": {},
   "outputs": [],
   "source": [
    "# we want to identify NaN entries\n",
    "\n",
    "# we cannot do this\n",
    "print(data != np.nan)"
   ]
  },
  {
   "cell_type": "code",
   "execution_count": null,
   "metadata": {},
   "outputs": [],
   "source": [
    "# note this oddity\n",
    "\n",
    "print(np.nan == np.nan)"
   ]
  },
  {
   "cell_type": "code",
   "execution_count": null,
   "metadata": {},
   "outputs": [],
   "source": [
    "# you can do this\n",
    "\n",
    "np.isnan(data)"
   ]
  },
  {
   "cell_type": "code",
   "execution_count": null,
   "metadata": {},
   "outputs": [],
   "source": [
    "# note this (we lose the 2D structure of the numpy array)\n",
    "#\n",
    "# this is not just an np.nan issue (it's true for other kinds of logical indexing)\n",
    "\n",
    "data2 = data[~np.isnan(data)]\n",
    "print(data2)"
   ]
  },
  {
   "cell_type": "code",
   "execution_count": null,
   "metadata": {},
   "outputs": [],
   "source": [
    "# note difference in # nans between row 0 and row 1\n",
    "\n",
    "print(data[0, ~np.isnan(data[0,:])])\n",
    "print(data[1, ~np.isnan(data[1,:])])\n",
    "\n",
    "# we can't store this in a 2D numpy array"
   ]
  },
  {
   "cell_type": "code",
   "execution_count": null,
   "metadata": {},
   "outputs": [],
   "source": [
    "# we can store this in a list of numpy arrays\n",
    "\n",
    "data3 = [data[0, ~np.isnan(data[0,:])], data[1, ~np.isnan(data[1,:])]]\n",
    "print(data3)"
   ]
  },
  {
   "cell_type": "code",
   "execution_count": null,
   "metadata": {},
   "outputs": [],
   "source": [
    "# referencing a list of numpy arrays\n",
    "\n",
    "# this pulls out one of the numpy arrays\n",
    "print(data3[0])\n",
    "print(type(data3[0]))"
   ]
  },
  {
   "cell_type": "code",
   "execution_count": null,
   "metadata": {},
   "outputs": [],
   "source": [
    "# this pulls out an element from the list\n",
    "\n",
    "print(data3[0][2])\n",
    "print(type(data3[0][2]))"
   ]
  },
  {
   "cell_type": "code",
   "execution_count": null,
   "metadata": {},
   "outputs": [],
   "source": []
  }
 ],
 "metadata": {
  "kernelspec": {
   "display_name": "Python 3 (ipykernel)",
   "language": "python",
   "name": "python3"
  },
  "language_info": {
   "codemirror_mode": {
    "name": "ipython",
    "version": 3
   },
   "file_extension": ".py",
   "mimetype": "text/x-python",
   "name": "python",
   "nbconvert_exporter": "python",
   "pygments_lexer": "ipython3",
   "version": "3.8.13"
  }
 },
 "nbformat": 4,
 "nbformat_minor": 4
}
