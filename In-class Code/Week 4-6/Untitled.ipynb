{
 "cells": [
  {
   "cell_type": "code",
   "execution_count": 4,
   "id": "5dbf1f87-3827-423a-8156-ef612001b610",
   "metadata": {},
   "outputs": [
    {
     "name": "stdout",
     "output_type": "stream",
     "text": [
      "Enter your social security number:\n"
     ]
    },
    {
     "name": "stdin",
     "output_type": "stream",
     "text": [
      "None 712345000\n"
     ]
    },
    {
     "name": "stdout",
     "output_type": "stream",
     "text": [
      "712\n",
      "5000\n",
      "35\n",
      "Your SSN is: 712-35-5000\n"
     ]
    }
   ],
   "source": [
    "ss_num = int(input(print('Enter your social security number:')))\n",
    "\n",
    "#math\n",
    "fdigits = ss_num // 1000000\n",
    "print(fdigits)\n",
    "ldigits = ss_num % 10000\n",
    "print(ldigits)\n",
    "mdigits = int((((ss_num - (fdigits * 1000000) + ldigits))) / 10000)\n",
    "print(mdigits)\n",
    "\n",
    "#same as step 1\n",
    "print('Your SSN is:', str(fdigits) + '-' + str(mdigits) + '-' + str(ldigits))"
   ]
  },
  {
   "cell_type": "code",
   "execution_count": 5,
   "id": "1c479156-8c2d-48bd-8a8d-b57d9e71c91e",
   "metadata": {},
   "outputs": [
    {
     "ename": "SyntaxError",
     "evalue": "invalid syntax (1026183693.py, line 7)",
     "output_type": "error",
     "traceback": [
      "\u001b[0;36m  Input \u001b[0;32mIn [5]\u001b[0;36m\u001b[0m\n\u001b[0;31m    print('You entered:', favorite_color, car_make, pin_digits)favorite_color = input('Enter favorite color (in one word): ')\u001b[0m\n\u001b[0m                                                               ^\u001b[0m\n\u001b[0;31mSyntaxError\u001b[0m\u001b[0;31m:\u001b[0m invalid syntax\n"
     ]
    }
   ],
   "source": [
    "favorite_color = input('Enter favorite color (in one word): ')\n",
    "car_make = input('Enter the make of your first car: ')\n",
    "pin_digits = int(input('Enter a 4-digit pin: '))\n",
    "\n",
    "# A summary of the user's entry is outputted. \n",
    "\n",
    "print('You entered:', favorite_color, car_make, pin_digits)favorite_color = input('Enter favorite color (in one word): ')\n",
    "car_make = input('Enter the make of your first car: ')\n",
    "pin_digits = int(input('Enter a 4-digit pin: '))\n",
    "\n",
    "# A summary of the user's entry is outputted. \n",
    "\n",
    "print('You entered:', favorite_color, car_make, pin_digits)"
   ]
  },
  {
   "cell_type": "code",
   "execution_count": null,
   "id": "c2cbb268-b545-43a1-bc7a-60303d67ce0a",
   "metadata": {},
   "outputs": [],
   "source": []
  }
 ],
 "metadata": {
  "kernelspec": {
   "display_name": "Python 3 (ipykernel)",
   "language": "python",
   "name": "python3"
  },
  "language_info": {
   "codemirror_mode": {
    "name": "ipython",
    "version": 3
   },
   "file_extension": ".py",
   "mimetype": "text/x-python",
   "name": "python",
   "nbconvert_exporter": "python",
   "pygments_lexer": "ipython3",
   "version": "3.9.12"
  }
 },
 "nbformat": 4,
 "nbformat_minor": 5
}
