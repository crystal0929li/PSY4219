{
 "cells": [
  {
   "cell_type": "markdown",
   "metadata": {
    "tags": []
   },
   "source": [
    "*** \n",
    "\n",
    "# logical (Boolean) indexing"
   ]
  },
  {
   "cell_type": "code",
   "execution_count": 1,
   "metadata": {},
   "outputs": [
    {
     "name": "stdout",
     "output_type": "stream",
     "text": [
      "5 5\n"
     ]
    }
   ],
   "source": [
    "import numpy as np\n",
    "\n",
    "# logical (Boolean) indexing\n",
    "\n",
    "a = np.array([1, 2, 3, 4, 5])\n",
    "b = np.array([False, True, False, False, True])\n",
    "print(len(a),len(b))"
   ]
  },
  {
   "cell_type": "code",
   "execution_count": 2,
   "metadata": {},
   "outputs": [
    {
     "name": "stdout",
     "output_type": "stream",
     "text": [
      "[2 5]\n"
     ]
    }
   ],
   "source": [
    "# logical (Boolean) indexing\n",
    "\n",
    "print(a[b])"
   ]
  },
  {
   "cell_type": "code",
   "execution_count": 3,
   "metadata": {},
   "outputs": [
    {
     "name": "stdout",
     "output_type": "stream",
     "text": [
      "[ 0  1  2  3  4  5  6  7  8  9 10 11 12 13 14 15 16 17 18 19 20 21 22 23\n",
      " 24 25 26 27 28 29 30 31 32 33 34 35 36 37 38 39 40 41 42 43 44 45 46 47\n",
      " 48 49 50 51 52 53 54 55 56 57 58 59 60 61 62 63 64 65 66 67 68 69 70 71\n",
      " 72 73 74 75 76 77 78 79 80 81 82 83 84 85 86 87 88 89 90 91 92 93 94 95\n",
      " 96 97 98 99]\n",
      "[ 0  2  4  6  8 10 12 14 16 18 20 22 24 26 28 30 32 34 36 38 40 42 44 46\n",
      " 48 50 52 54 56 58 60 62 64 66 68 70 72 74 76 78 80 82 84 86 88 90 92 94\n",
      " 96 98]\n"
     ]
    }
   ],
   "source": [
    "# typically, the bool array comes from another test\n",
    "\n",
    "a = np.arange(100)\n",
    "b = ((a % 2) == 0)\n",
    "print(a)\n",
    "print(a[b])"
   ]
  },
  {
   "cell_type": "code",
   "execution_count": 4,
   "metadata": {},
   "outputs": [
    {
     "name": "stdout",
     "output_type": "stream",
     "text": [
      "[ 0  2  4  6  8 10 12 14 16 18 20 22 24 26 28 30 32 34 36 38 40 42 44 46\n",
      " 48 50 52 54 56 58 60 62 64 66 68 70 72 74 76 78 80 82 84 86 88 90 92 94\n",
      " 96 98]\n"
     ]
    }
   ],
   "source": [
    "# this is the same, of course\n",
    "\n",
    "a = np.arange(100)\n",
    "print(a[((a % 2) == 0)])"
   ]
  },
  {
   "cell_type": "code",
   "execution_count": 5,
   "metadata": {},
   "outputs": [
    {
     "name": "stdout",
     "output_type": "stream",
     "text": [
      "[0 1 1 0 0]\n",
      "[0 1 1 1 1]\n"
     ]
    }
   ],
   "source": [
    "# hint for Homework 4\n",
    "\n",
    "a = np.array([1, 2, 1, 1, 2, 1, 2, 2, 2, 1])\n",
    "b = np.array([0, 0, 1, 1, 1, 0, 1, 1, 1, 0])\n",
    "print(b[a == 1])\n",
    "print(b[a == 2])"
   ]
  },
  {
   "cell_type": "code",
   "execution_count": null,
   "metadata": {},
   "outputs": [],
   "source": [
    "# hint for Homework 4\n",
    "\n",
    "a = np.array([0.423, 0.034, 0.512, 1.332, 0.873, 0.545, 0.089, 1.034, 0.643])\n",
    "print(a[(a >= 0.100) & (a <= 1.000)])\n",
    "print(a[np.logical_and((a >= 0.100), (a <= 1.000))])\n",
    "\n",
    "# using logical_and, logical_or, logical_not, logical_xor recommended"
   ]
  },
  {
   "cell_type": "code",
   "execution_count": null,
   "metadata": {},
   "outputs": [],
   "source": [
    "a = np.array([0.423, 0.034, 0.512, 1.332, 0.873, 0.545, 0.089, 1.034, 0.643])\n",
    "(a >= 0.100) & (a <= 1.000)"
   ]
  },
  {
   "cell_type": "code",
   "execution_count": null,
   "metadata": {},
   "outputs": [],
   "source": [
    "# this gives an error (a bit inexplicably)\n",
    "\n",
    "print(a[(a >= 0.100) and (a <= 1.000)])\n",
    "\n",
    "# the meaning of the logical, short-circuiting operators *and* and *or* in Python can’t be redefined (they are \n",
    "# keywords of the language) - Numpy implements its own versions as functions: logical_and and logical_or (as well \n",
    "# as not and xor versions). It would be good to extend the PEP to cover type-defined implementations of logical \n",
    "# operators. Today, numpy users often abuses the & and | operators for logical operations, but the behavior of \n",
    "# these isn’t exactly that of Python logical operators"
   ]
  },
  {
   "cell_type": "markdown",
   "metadata": {},
   "source": [
    "#### logical indexing with NaN"
   ]
  },
  {
   "cell_type": "code",
   "execution_count": null,
   "metadata": {},
   "outputs": [],
   "source": [
    "# using logical indexing with arrays containing nan\n",
    "\n",
    "import numpy as np\n",
    "\n",
    "data = np.array([[np.nan, .91, .78, .82, .74, .81,    np.nan, .92, np.nan],\n",
    "                 [.71,    .73, .81, .73, .76, np.nan, .70,    .72, .83]])\n",
    "\n",
    "print(data)"
   ]
  },
  {
   "cell_type": "code",
   "execution_count": null,
   "metadata": {},
   "outputs": [],
   "source": [
    "# we want to identify NaN entries\n",
    "\n",
    "# we cannot do this\n",
    "print(data != np.nan)"
   ]
  },
  {
   "cell_type": "code",
   "execution_count": null,
   "metadata": {},
   "outputs": [],
   "source": [
    "# note this oddity\n",
    "\n",
    "print(np.nan == np.nan)"
   ]
  },
  {
   "cell_type": "code",
   "execution_count": null,
   "metadata": {},
   "outputs": [],
   "source": [
    "# you can do this\n",
    "\n",
    "np.isnan(data)"
   ]
  },
  {
   "cell_type": "code",
   "execution_count": null,
   "metadata": {},
   "outputs": [],
   "source": [
    "# note this (we lose the 2D structure of the numpy array)\n",
    "#\n",
    "# this is not just an np.nan issue (it's true for other kinds of logical indexing)\n",
    "\n",
    "data2 = data[~np.isnan(data)]\n",
    "print(data2)"
   ]
  },
  {
   "cell_type": "code",
   "execution_count": null,
   "metadata": {},
   "outputs": [],
   "source": [
    "# note difference in # nans between row 0 and row 1\n",
    "\n",
    "print(data[0, ~np.isnan(data[0,:])])\n",
    "print(data[1, ~np.isnan(data[1,:])])\n",
    "\n",
    "# we can't store this in a 2D numpy array"
   ]
  },
  {
   "cell_type": "code",
   "execution_count": null,
   "metadata": {},
   "outputs": [],
   "source": [
    "# we can store this in a list of numpy arrays\n",
    "\n",
    "data3 = [data[0, ~np.isnan(data[0,:])], data[1, ~np.isnan(data[1,:])]]\n",
    "print(data3)"
   ]
  },
  {
   "cell_type": "code",
   "execution_count": null,
   "metadata": {},
   "outputs": [],
   "source": [
    "# referencing a list of numpy arrays\n",
    "\n",
    "# this pulls out one of the numpy arrays\n",
    "print(data3[0])\n",
    "print(type(data3[0]))"
   ]
  },
  {
   "cell_type": "code",
   "execution_count": null,
   "metadata": {},
   "outputs": [],
   "source": [
    "# this pulls out an element from the list\n",
    "\n",
    "print(data3[0][2])\n",
    "print(type(data3[0][2]))"
   ]
  },
  {
   "cell_type": "code",
   "execution_count": null,
   "metadata": {},
   "outputs": [],
   "source": []
  }
 ],
 "metadata": {
  "kernelspec": {
   "display_name": "Python 3 (ipykernel)",
   "language": "python",
   "name": "python3"
  },
  "language_info": {
   "codemirror_mode": {
    "name": "ipython",
    "version": 3
   },
   "file_extension": ".py",
   "mimetype": "text/x-python",
   "name": "python",
   "nbconvert_exporter": "python",
   "pygments_lexer": "ipython3",
   "version": "3.9.12"
  }
 },
 "nbformat": 4,
 "nbformat_minor": 4
}
