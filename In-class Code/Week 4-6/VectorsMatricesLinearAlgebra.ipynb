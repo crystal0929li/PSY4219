{
 "cells": [
  {
   "cell_type": "markdown",
   "metadata": {},
   "source": [
    "***\n",
    "\n",
    "# Vectors, Matrices, and Linear Algebra\n",
    "\n",
    "https://www.youtube.com/playlist?list=PLZHQObOWTQDPD3MizzM2xVFitgF8hE_ab"
   ]
  },
  {
   "cell_type": "markdown",
   "metadata": {},
   "source": [
    "### vectors"
   ]
  },
  {
   "cell_type": "code",
   "execution_count": null,
   "metadata": {},
   "outputs": [],
   "source": [
    "import numpy as np\n",
    "\n",
    "a = np.array([1, 2])\n",
    "b = np.array([3, 2, 1])\n",
    "c = np.array([1, 3, 3, 1])\n",
    "print(a.shape, b.shape, c.shape)"
   ]
  },
  {
   "cell_type": "markdown",
   "metadata": {},
   "source": [
    "### adding vectors"
   ]
  },
  {
   "cell_type": "code",
   "execution_count": null,
   "metadata": {},
   "outputs": [],
   "source": [
    "a = np.array([1, 2])\n",
    "b = np.array([3, 2])\n",
    "\n",
    "print(a+b)"
   ]
  },
  {
   "cell_type": "markdown",
   "metadata": {},
   "source": [
    "### multiplying by a scalar"
   ]
  },
  {
   "cell_type": "code",
   "execution_count": null,
   "metadata": {},
   "outputs": [],
   "source": [
    "a = np.array([1, 2])\n",
    "b = 2*a\n",
    "\n",
    "print(b)"
   ]
  },
  {
   "cell_type": "markdown",
   "metadata": {},
   "source": [
    "### (norm) length of a vector"
   ]
  },
  {
   "cell_type": "code",
   "execution_count": null,
   "metadata": {},
   "outputs": [],
   "source": [
    "a = np.array([3, 4])\n",
    "\n",
    "print(np.linalg.norm(a))"
   ]
  },
  {
   "cell_type": "markdown",
   "metadata": {},
   "source": [
    "### angle between two vectors"
   ]
  },
  {
   "cell_type": "code",
   "execution_count": null,
   "metadata": {},
   "outputs": [],
   "source": [
    "import math\n",
    "\n",
    "a = np.array([1, 3])\n",
    "b = np.array([2, 1])\n",
    "\n",
    "an = np.linalg.norm(a)\n",
    "bn = np.linalg.norm(b)\n",
    "theta = math.acos(np.dot(a,b)/(an*bn))\n",
    "print(np.rad2deg(theta))"
   ]
  },
  {
   "cell_type": "code",
   "execution_count": null,
   "metadata": {},
   "outputs": [],
   "source": [
    "# same as this in for loops\n",
    "\n",
    "an = 0.;   bn = 0.;   adb = 0.\n",
    "for i in range(len(a)):\n",
    "    an  += a[i]**2\n",
    "    bn  += b[i]**2\n",
    "    adb += a[i]*b[i]\n",
    "an = math.sqrt(an)\n",
    "bn = math.sqrt(bn)\n",
    "theta = math.acos(adb/(an*bn))\n",
    "print(np.rad2deg(theta))"
   ]
  },
  {
   "cell_type": "markdown",
   "metadata": {},
   "source": [
    "### basic matrix operations (scalar, matrix addition, matrix subtraction)"
   ]
  },
  {
   "cell_type": "code",
   "execution_count": null,
   "metadata": {},
   "outputs": [],
   "source": [
    "# mathematical operations on matrices\n",
    "\n",
    "A = np.array([[2, 1], [2, 3]])\n",
    "B = np.array([[1, 2], [0, 1]])\n",
    "c = 2\n",
    "\n",
    "print(f\"A\\n{A}\")                 # \\n forces a return/enter (new line)\n",
    "print(f\"B\\n{B}\")\n",
    "print()\n",
    "print(\"A+B\");     print(A+B)     # matrix addition\n",
    "print()\n",
    "print(\"A-B\");     print(A-B)     # matrix subtraction\n",
    "print()\n",
    "print(\"c*(A+B)\"); print(c*(A+B)) # scalar multiplication"
   ]
  },
  {
   "cell_type": "code",
   "execution_count": null,
   "metadata": {},
   "outputs": [],
   "source": [
    "print((A + B) - (B + A))      # matrix addition (and subtraction) is commutative\n",
    "print()\n",
    "print(c*(A+B) - (c*A + c*B))  # scalar multiplication is distributive"
   ]
  },
  {
   "cell_type": "markdown",
   "metadata": {},
   "source": [
    "### solving systems of linear equations"
   ]
  },
  {
   "cell_type": "code",
   "execution_count": null,
   "metadata": {},
   "outputs": [],
   "source": [
    "# consider this system of equations\n",
    "#\n",
    "# x + 2y = 2\n",
    "# x +  y = 3\n",
    "    \n",
    "import numpy as np\n",
    "import matplotlib.pyplot as plt\n",
    "\n",
    "x = np.arange(-3, 8, .01)\n",
    "y1 = 1 - .5*x\n",
    "y2 = 3 - x\n",
    "plt.plot(x, y1, x, y2)\n",
    "plt.xlabel('x'); plt.ylabel('y')"
   ]
  },
  {
   "cell_type": "markdown",
   "metadata": {},
   "source": [
    "### matrix multiplication"
   ]
  },
  {
   "cell_type": "code",
   "execution_count": null,
   "metadata": {},
   "outputs": [],
   "source": [
    "import numpy as np\n",
    "\n",
    "A = np.array([[3, 4], [1, 6]])\n",
    "B = np.array([[1, 1], [8, 1]])"
   ]
  },
  {
   "cell_type": "code",
   "execution_count": null,
   "metadata": {},
   "outputs": [],
   "source": [
    "# obviously, element-wise multiplication is commutative\n",
    "\n",
    "print(A*B)\n",
    "print(B*A)"
   ]
  },
  {
   "cell_type": "code",
   "execution_count": null,
   "metadata": {},
   "outputs": [],
   "source": [
    "# matrix multiplication is not commutative (in general)\n",
    "\n",
    "print(np.matmul(A, B))\n",
    "print(np.matmul(B, A))"
   ]
  },
  {
   "cell_type": "code",
   "execution_count": null,
   "metadata": {},
   "outputs": [],
   "source": [
    "# another way to do matrix multiplication \n",
    "print(A @ B)\n",
    "print(B @ A)"
   ]
  },
  {
   "cell_type": "code",
   "execution_count": null,
   "metadata": {},
   "outputs": [],
   "source": [
    "# matrices have to have the right shape for multiplication\n",
    "\n",
    "C = np.array([[3, 4, 6, 2], [1, 6, 8, 3]])\n",
    "D = np.array([[1, 1, 4], \n",
    "              [8, 1, 2],\n",
    "              [1, 1, 1],\n",
    "              [1, 9, 1]])\n",
    "\n",
    "print(C.shape)\n",
    "print(D.shape)"
   ]
  },
  {
   "cell_type": "code",
   "execution_count": null,
   "metadata": {},
   "outputs": [],
   "source": [
    "# matrix multiplication\n",
    "\n",
    "print(C @ D)"
   ]
  },
  {
   "cell_type": "code",
   "execution_count": null,
   "metadata": {},
   "outputs": [],
   "source": [
    "# this matrix multiplication does not work\n",
    "\n",
    "print(D @ C)"
   ]
  },
  {
   "cell_type": "code",
   "execution_count": null,
   "metadata": {},
   "outputs": [],
   "source": [
    "# element-wise multiplication does not work either (see homework)\n",
    "\n",
    "print(C * D)"
   ]
  },
  {
   "cell_type": "markdown",
   "metadata": {},
   "source": [
    "### matrix inverse"
   ]
  },
  {
   "cell_type": "code",
   "execution_count": null,
   "metadata": {},
   "outputs": [],
   "source": [
    "# consider this system of equations\n",
    "#\n",
    "# x + 2y = 2\n",
    "# x +  y = 3\n",
    "\n",
    "import numpy as np\n",
    "\n",
    "A = np.array([[1, 2], [1, 1]])\n",
    "\n",
    "Ainv = np.linalg.inv(A)\n",
    "print(Ainv)"
   ]
  },
  {
   "cell_type": "code",
   "execution_count": null,
   "metadata": {},
   "outputs": [],
   "source": [
    "print(Ainv @ A)"
   ]
  },
  {
   "cell_type": "code",
   "execution_count": null,
   "metadata": {},
   "outputs": [],
   "source": [
    "# consider this system of equations\n",
    "#\n",
    "# x + 2y = 2\n",
    "# x +  y = 3\n",
    "\n",
    "A = np.array([[1, 2], [1, 1]])\n",
    "b = np.array([[2],[3]]) \n",
    "\n",
    "x = np.linalg.inv(A) @ b\n",
    "\n",
    "print(x)"
   ]
  },
  {
   "cell_type": "code",
   "execution_count": null,
   "metadata": {},
   "outputs": [],
   "source": [
    "# this uses a better numerical method\n",
    "\n",
    "x = np.linalg.solve(A, b)\n",
    "print(x)"
   ]
  },
  {
   "cell_type": "code",
   "execution_count": null,
   "metadata": {},
   "outputs": [],
   "source": [
    "# consider this system of equations\n",
    "#\n",
    "# x + 2y = 2\n",
    "# x +  y = 3\n",
    "\n",
    "# remember the graphical solution\n",
    "    \n",
    "import numpy as np\n",
    "import matplotlib.pyplot as plt\n",
    "\n",
    "x = np.arange(-3, 8, .01)\n",
    "y1 = 1 - .5*x\n",
    "y2 = 3 - x\n",
    "plt.plot(x, y1, x, y2)\n",
    "plt.xlabel('x'); plt.ylabel('y')"
   ]
  },
  {
   "cell_type": "markdown",
   "metadata": {},
   "source": [
    "### some matrices have no inverse\n",
    "\n",
    "- if they are not square\n",
    "\n",
    "- if they are \"singular\""
   ]
  },
  {
   "cell_type": "code",
   "execution_count": null,
   "metadata": {},
   "outputs": [],
   "source": [
    "# only square matrices have an inverse\n",
    "\n",
    "B = np.array([[2, 3, 4], [1, 9, 3]])\n",
    "print(B)\n",
    "print()\n",
    "Binv = np.linalg.inv(B)\n",
    "print(Binv)"
   ]
  },
  {
   "cell_type": "code",
   "execution_count": null,
   "metadata": {},
   "outputs": [],
   "source": [
    "# consider this system of equations\n",
    "#\n",
    "# 2x -  y = 2\n",
    "# 6x - 3y = 12\n",
    "\n",
    "import numpy as np\n",
    "import matplotlib.pyplot as plt\n",
    "\n",
    "x = np.arange(-3, 8, .01)\n",
    "y1 = -2 + 2*x\n",
    "y2 = -4 + 2*x\n",
    "plt.plot(x, y1, x, y2)\n",
    "plt.xlabel('x'); plt.ylabel('y')"
   ]
  },
  {
   "cell_type": "code",
   "execution_count": null,
   "metadata": {},
   "outputs": [],
   "source": [
    "# consider this system of equations\n",
    "#\n",
    "# 2x -  y = 2\n",
    "# 6x - 3y = 12\n",
    "#\n",
    "# not all square matrices have inverses (some are singular or near-singular)\n",
    "\n",
    "A = np.array([[2, -1], [6, -3]])\n",
    "print(A)\n",
    "print()\n",
    "Ainv = np.linalg.inv(A)\n",
    "print(Ainv)"
   ]
  },
  {
   "cell_type": "code",
   "execution_count": null,
   "metadata": {},
   "outputs": [],
   "source": [
    "# solve using an inverse\n",
    "\n",
    "A = np.array([[2, -1], [6, -3]])\n",
    "b = np.array([[2],[12]]) \n",
    "\n",
    "x = np.linalg.inv(A) @ b\n",
    "print(x)"
   ]
  },
  {
   "cell_type": "code",
   "execution_count": null,
   "metadata": {},
   "outputs": [],
   "source": [
    "# matrix is singular if \"determinant\" is zero\n",
    "\n",
    "print(np.linalg.det(A))"
   ]
  },
  {
   "cell_type": "markdown",
   "metadata": {},
   "source": [
    "### linear regression"
   ]
  },
  {
   "cell_type": "code",
   "execution_count": null,
   "metadata": {},
   "outputs": [],
   "source": [
    "import numpy as np\n",
    "\n",
    "X = np.array([[1, 60],\n",
    "              [1, 61],\n",
    "              [1, 62],\n",
    "              [1, 63],\n",
    "              [1, 65]])\n",
    "y = np.array([[3.1],\n",
    "              [3.6],\n",
    "              [3.8],\n",
    "              [4],\n",
    "              [4.1]])"
   ]
  },
  {
   "cell_type": "code",
   "execution_count": null,
   "metadata": {},
   "outputs": [],
   "source": [
    "import matplotlib.pyplot as plt\n",
    "\n",
    "plt.plot(X[:,1], y[:,0], 'ro')\n",
    "plt.xlabel(\"x\")\n",
    "plt.ylabel(\"y\")\n",
    "plt.title(\"find a line through this data\")\n",
    "plt.show()"
   ]
  },
  {
   "cell_type": "code",
   "execution_count": null,
   "metadata": {},
   "outputs": [],
   "source": [
    "print(X.shape)\n",
    "print(np.linalg.inv(X) @ X)"
   ]
  },
  {
   "cell_type": "code",
   "execution_count": null,
   "metadata": {},
   "outputs": [],
   "source": [
    "Xt = np.transpose(X)\n",
    "\n",
    "b = np.linalg.inv(Xt @ X) @ Xt @ y\n",
    "\n",
    "print(b)\n",
    "print(b.shape)"
   ]
  },
  {
   "cell_type": "code",
   "execution_count": null,
   "metadata": {},
   "outputs": [],
   "source": [
    "Xt = np.transpose(X)\n",
    "\n",
    "print(X)\n",
    "print(Xt)"
   ]
  },
  {
   "cell_type": "code",
   "execution_count": null,
   "metadata": {},
   "outputs": [],
   "source": [
    "Xt @ X"
   ]
  },
  {
   "cell_type": "code",
   "execution_count": null,
   "metadata": {},
   "outputs": [],
   "source": [
    "np.linalg.inv(Xt @ X)"
   ]
  },
  {
   "cell_type": "code",
   "execution_count": null,
   "metadata": {},
   "outputs": [],
   "source": [
    "print(np.linalg.inv(Xt @ X) @ Xt @ X)"
   ]
  },
  {
   "cell_type": "code",
   "execution_count": null,
   "metadata": {},
   "outputs": [],
   "source": [
    "print((np.linalg.inv(Xt @ X)).shape)\n",
    "print(Xt.shape)\n",
    "print(X.shape)"
   ]
  },
  {
   "cell_type": "code",
   "execution_count": null,
   "metadata": {},
   "outputs": [],
   "source": [
    "b = np.linalg.inv(Xt @ X) @ Xt @ y\n",
    "print(b)"
   ]
  },
  {
   "cell_type": "code",
   "execution_count": null,
   "metadata": {},
   "outputs": [],
   "source": [
    "yhat = b[0] + b[1] * X[:,1] \n",
    "plt.plot(X[:,1], y[:,0], 'ro', X[:,1], yhat, 'g-')\n",
    "plt.xlabel(\"x\")\n",
    "plt.ylabel(\"y\")\n",
    "plt.title(\"simple linear regression\")\n",
    "plt.show()"
   ]
  },
  {
   "cell_type": "code",
   "execution_count": null,
   "metadata": {},
   "outputs": [],
   "source": [
    "# doing real linear regression, you'd use a statistical package in Python (or R)\n",
    "\n",
    "from sklearn.linear_model import LinearRegression\n",
    "\n",
    "model = LinearRegression()\n",
    "\n",
    "Xdat = (X[:,1]).reshape((len(X[:,1]),1))\n",
    "model.fit(Xdat, y)\n",
    "\n",
    "print(model.intercept_, model.coef_)"
   ]
  },
  {
   "cell_type": "markdown",
   "metadata": {},
   "source": [
    "### matrices as transformations"
   ]
  },
  {
   "cell_type": "code",
   "execution_count": null,
   "metadata": {},
   "outputs": [],
   "source": [
    "import numpy as np\n",
    "import math as m\n",
    "import matplotlib.pyplot as plt\n",
    "\n",
    "A = np.array([[1, 1],\n",
    "              [1, 2],\n",
    "              [1, 3],\n",
    "              [2, 1],\n",
    "              [2, 2],\n",
    "              [2, 3],\n",
    "              [3, 1],\n",
    "              [3, 2],\n",
    "              [3, 3]])\n",
    "print(A)\n",
    "\n",
    "plt.plot(A[:,0],A[:,1],'r+')\n",
    "plt.xlim(-1, 6); plt.ylim(-2, 5); \n",
    "ax = plt.gca(); ax.set_aspect(1.0)"
   ]
  },
  {
   "cell_type": "code",
   "execution_count": null,
   "metadata": {},
   "outputs": [],
   "source": [
    "theta = 45\n",
    "R = np.array([[m.cos(m.radians(theta)), -m.sin(m.radians(theta))], \n",
    "              [m.sin(m.radians(theta)),  m.cos(m.radians(theta))]])\n",
    "print(R)"
   ]
  },
  {
   "cell_type": "code",
   "execution_count": null,
   "metadata": {},
   "outputs": [],
   "source": [
    "B = A @ R\n",
    "\n",
    "plt.plot(B[:,0],B[:,1],'b+')\n",
    "plt.xlim(-1, 6); plt.ylim(-2, 5); \n",
    "ax = plt.gca(); ax.set_aspect(1.0)"
   ]
  },
  {
   "cell_type": "code",
   "execution_count": null,
   "metadata": {},
   "outputs": [],
   "source": [
    "C = np.mean(A, axis=0)\n",
    "B = (A-C) @ R + C"
   ]
  },
  {
   "cell_type": "code",
   "execution_count": null,
   "metadata": {},
   "outputs": [],
   "source": [
    "plt.plot(B[:,0],B[:,1],'b+')\n",
    "plt.xlim(-1, 6); plt.ylim(-2, 5); \n",
    "ax = plt.gca(); ax.set_aspect(1.0)"
   ]
  },
  {
   "cell_type": "code",
   "execution_count": null,
   "metadata": {},
   "outputs": [],
   "source": []
  }
 ],
 "metadata": {
  "kernelspec": {
   "display_name": "Python 3 (ipykernel)",
   "language": "python",
   "name": "python3"
  },
  "language_info": {
   "codemirror_mode": {
    "name": "ipython",
    "version": 3
   },
   "file_extension": ".py",
   "mimetype": "text/x-python",
   "name": "python",
   "nbconvert_exporter": "python",
   "pygments_lexer": "ipython3",
   "version": "3.8.13"
  }
 },
 "nbformat": 4,
 "nbformat_minor": 4
}
