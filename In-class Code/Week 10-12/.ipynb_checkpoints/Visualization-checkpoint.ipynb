{
 "cells": [
  {
   "cell_type": "markdown",
   "metadata": {},
   "source": [
    "# Visualization with matplotlib"
   ]
  },
  {
   "cell_type": "code",
   "execution_count": null,
   "metadata": {},
   "outputs": [],
   "source": [
    "import numpy as np\n",
    "import matplotlib.pyplot as plt\n",
    "import numpy.random as R\n",
    "\n",
    "m = 0.0\n",
    "s = 1.0\n",
    "x = np.arange(-4.0, 4.0, .01)\n",
    "p = (1/np.sqrt(2*np.pi*(s**2))) * np.exp(-((x-m)**2)/(2*(s**2)))\n",
    "plt.plot(x, p)\n",
    "plt.xlabel('x')\n",
    "plt.ylabel('p(x)')\n",
    "plt.title(f'Normal Distribution (m={m}, s={s})');\n",
    "# use a semicolon to suppress unnecessary output\n",
    "\n",
    "# plt.show() is not necessary in a Jupyter Notebook\n",
    "plt.show()"
   ]
  },
  {
   "cell_type": "code",
   "execution_count": null,
   "metadata": {},
   "outputs": [],
   "source": [
    "# save plot to file\n",
    "plt.savefig('lnplot.pdf', dpi=300, format='pdf')\n",
    "plt.savefig('lnplot.jpg', dpi=300, format='jpg')\n",
    "plt.savefig('lnplot200.tif', dpi=200, format='tif')\n",
    "plt.savefig('lnplot600.tif', dpi=600, format='tif')"
   ]
  },
  {
   "cell_type": "code",
   "execution_count": null,
   "metadata": {},
   "outputs": [],
   "source": [
    "fig = plt.figure()\n",
    "fig.canvas.get_supported_filetypes()"
   ]
  },
  {
   "cell_type": "code",
   "execution_count": null,
   "metadata": {},
   "outputs": [],
   "source": [
    "N = 10000\n",
    "\n",
    "rnd = R.randn(N)\n",
    "nbins = 30\n",
    "xmin = -4; xmax = +4\n",
    "(h, hb) = np.histogram(rnd, bins=nbins, range=(xmin,xmax), density=True)\n",
    "\n",
    "plt.bar(hb[:len(hb)-1], h, width=(xmax-xmin)/nbins, align='edge')\n",
    "plt.xlabel('x')\n",
    "plt.ylabel('p(x)')\n",
    "plt.title(f'randn()\\nN = {N:,}')\n",
    "plt.xlim((xmin, xmax));\n",
    "# use a semicolon to suppress unnecessary output\n",
    "\n",
    "# plt.show()"
   ]
  },
  {
   "cell_type": "code",
   "execution_count": null,
   "metadata": {},
   "outputs": [],
   "source": [
    "# histogram\n",
    "plt.bar(hb[:len(hb)-1], h, width=(xmax-xmin)/nbins, align='edge')\n",
    "plt.xlabel('x')\n",
    "plt.ylabel('p(x)')\n",
    "plt.title(f'randn()\\nN = {N:,}')\n",
    "plt.xlim((xmin, xmax));\n",
    "plt.show()\n",
    "# see what happens if the plt.show() above is commented out\n",
    "\n",
    "# pdf\n",
    "plt.plot(x, p, 'r-')\n",
    "plt.xlabel('x')\n",
    "plt.ylabel('p(x)')\n",
    "plt.title(f'Normal Distribution (m={m}, s={s})');\n",
    "\n",
    "plt.show()"
   ]
  },
  {
   "cell_type": "code",
   "execution_count": null,
   "metadata": {},
   "outputs": [],
   "source": [
    "# histogram\n",
    "plt.figure()\n",
    "plt.bar(hb[:len(hb)-1], h, width=(xmax-xmin)/nbins, align='edge')\n",
    "plt.xlabel('x')\n",
    "plt.ylabel('p(x)')\n",
    "plt.title(f'randn()\\nN = {N:,}')\n",
    "plt.xlim((xmin, xmax));\n",
    "\n",
    "# pdf\n",
    "plt.figure()\n",
    "plt.plot(x, p, 'r-')\n",
    "plt.xlabel('x')\n",
    "plt.ylabel('p(x)')\n",
    "plt.title(f'Normal Distribution (m={m}, s={s})');\n",
    "\n",
    "# plt.show()"
   ]
  },
  {
   "cell_type": "code",
   "execution_count": null,
   "metadata": {},
   "outputs": [],
   "source": [
    "import numpy as np\n",
    "import matplotlib.pyplot as plt\n",
    "import numpy.random as R\n",
    "\n",
    "# declare blank fig and ax objects\n",
    "\n",
    "fig, ax = plt.subplots()\n",
    "\n",
    "plt.show()"
   ]
  },
  {
   "cell_type": "code",
   "execution_count": null,
   "metadata": {},
   "outputs": [],
   "source": [
    "# declare blank fig and ax objects (another way)\n",
    "\n",
    "fig1 = plt.figure(); ax1 = plt.axes()\n",
    "fig2 = plt.figure(); ax2 = plt.axes()\n",
    "\n",
    "plt.show()"
   ]
  },
  {
   "cell_type": "code",
   "execution_count": null,
   "metadata": {},
   "outputs": [],
   "source": [
    "N = 10000\n",
    "\n",
    "rnd = R.randn(N)\n",
    "nbins = 30\n",
    "xmin = -4; xmax = +4\n",
    "(h, hb) = np.histogram(rnd, bins=nbins, range=(xmin,xmax), density=True)\n",
    "\n",
    "m = 0.0\n",
    "s = 1.0\n",
    "x = np.arange(-4.0, 4.0, .01)\n",
    "p = (1/np.sqrt(2*np.pi*(s**2))) * np.exp(-((x-m)**2)/(2*(s**2)))\n",
    "\n",
    "# histogram\n",
    "ax1.bar(hb[:len(hb)-1], h, width=(xmax-xmin)/nbins, align='edge', color='green')\n",
    "ax1.set_xlabel('x')\n",
    "ax1.set_ylabel('p(x)')\n",
    "ax1.set_title(f'randn()\\nN = {N:,}')\n",
    "ax1.set_xlim((xmin, xmax));\n",
    "\n",
    "# pdf\n",
    "ax2.plot(x, p, 'r-')\n",
    "ax2.set_xlabel('x')\n",
    "ax2.set_ylabel('p(x)')\n",
    "ax2.set_title(f'Normal Distribution (m={m}, s={s})');"
   ]
  },
  {
   "cell_type": "code",
   "execution_count": null,
   "metadata": {},
   "outputs": [],
   "source": [
    "fig1"
   ]
  },
  {
   "cell_type": "code",
   "execution_count": null,
   "metadata": {},
   "outputs": [],
   "source": [
    "fig2"
   ]
  },
  {
   "cell_type": "code",
   "execution_count": null,
   "metadata": {},
   "outputs": [],
   "source": [
    "# alternative way to set axis elements\n",
    "\n",
    "ax1.set(xlim=(xmin-1,xmax+1), ylim=(0,.45), xlabel='x', ylabel='p(x)', title=f'randn()\\nN = {N:,}');"
   ]
  },
  {
   "cell_type": "code",
   "execution_count": null,
   "metadata": {},
   "outputs": [],
   "source": [
    "fig1"
   ]
  },
  {
   "cell_type": "code",
   "execution_count": null,
   "metadata": {},
   "outputs": [],
   "source": [
    "# just showing that the axes are embedded in the figure\n",
    "\n",
    "fig1.axes"
   ]
  },
  {
   "cell_type": "code",
   "execution_count": null,
   "metadata": {},
   "outputs": [],
   "source": [
    "ax1"
   ]
  },
  {
   "cell_type": "markdown",
   "metadata": {},
   "source": [
    "### subplots"
   ]
  },
  {
   "cell_type": "code",
   "execution_count": null,
   "metadata": {},
   "outputs": [],
   "source": [
    "# a single figure with multiple axes (subplots)\n",
    "fig, axs = plt.subplots(3, 2)\n",
    "\n",
    "x = np.linspace(0, 10, 1000)\n",
    "axs[0,0].plot(x, np.sin(x), 'r-'); axs[0,0].set_xticklabels([])\n",
    "axs[0,1].plot(x, np.cos(x), 'g-'); axs[0,1].set_xticklabels([])\n",
    "axs[1,0].plot(x, np.sqrt(x), 'b-'); axs[1,0].set_xticklabels([])\n",
    "axs[1,1].plot(x, np.log(x+1), 'b-'); axs[1,1].set_xticklabels([])\n",
    "axs[2,0].plot(x, np.exp(x), 'y-')\n",
    "axs[2,1].plot(x, 3*x+2, 'm-');\n",
    "\n",
    "plt.show()"
   ]
  },
  {
   "cell_type": "code",
   "execution_count": null,
   "metadata": {},
   "outputs": [],
   "source": [
    "# a single figure with multiple axes\n",
    "fig, axs = plt.subplots(3, 2)\n",
    "\n",
    "x = np.linspace(0, 10, 1000)\n",
    "axs[0,0].plot(x, np.sin(x), 'r-'); \n",
    "axs[0,1].plot(x, np.cos(x), 'g-'); \n",
    "axs[1,0].plot(x, np.sqrt(x), 'b-'); \n",
    "axs[1,1].plot(x, np.log(x+1), 'b-'); \n",
    "axs[2,0].plot(x, np.exp(x), 'y-')\n",
    "axs[2,1].plot(x, 3*x+2, 'm-');\n",
    "\n",
    "plt.show()"
   ]
  },
  {
   "cell_type": "code",
   "execution_count": null,
   "metadata": {},
   "outputs": [],
   "source": [
    "print(axs)\n",
    "print(axs.shape)\n",
    "print(type(axs))"
   ]
  },
  {
   "cell_type": "markdown",
   "metadata": {},
   "source": [
    "### multiple plots on same graph"
   ]
  },
  {
   "cell_type": "code",
   "execution_count": null,
   "metadata": {},
   "outputs": [],
   "source": [
    "# multiple plots on the same axes\n",
    "\n",
    "x = np.linspace(0, 2, 100)\n",
    "\n",
    "# create a figure and an axes\n",
    "fig = plt.figure(figsize=[10,3])                     \n",
    "ax = plt.axes(polar=False) \n",
    "\n",
    "ax.plot(x, x, label='linear')          \n",
    "ax.plot(x, x**2, label='quadratic')\n",
    "ax.plot(x, x**3, label='cubic')\n",
    "ax.set_xlabel('x label')\n",
    "ax.set_ylabel('y label')\n",
    "ax.set_title('Simple Plot')\n",
    "ax.legend();\n",
    "\n",
    "plt.show()"
   ]
  },
  {
   "cell_type": "markdown",
   "metadata": {},
   "source": [
    "### formatting line plots"
   ]
  },
  {
   "cell_type": "code",
   "execution_count": null,
   "metadata": {},
   "outputs": [],
   "source": [
    "fig = plt.figure(); ax = plt.axes() \n",
    "\n",
    "x = np.linspace(0, 2, 10)\n",
    "\n",
    "# Matlab-style line and symbol specifications\n",
    "# https://matplotlib.org/api/markers_api.html\n",
    "# https://matplotlib.org/gallery/lines_bars_and_markers/line_styles_reference.html\n",
    "\n",
    "ax.plot(x, x**2, 'r-o')\n",
    "ax.plot(x, x**3, 'g:^')\n",
    "ax.plot(x, x**4, 'b-.s');\n",
    "\n",
    "plt.show()"
   ]
  },
  {
   "cell_type": "code",
   "execution_count": null,
   "metadata": {},
   "outputs": [],
   "source": [
    "fig = plt.figure(); ax = plt.axes() \n",
    "\n",
    "ax.plot(x, x**2, color='sienna', linestyle='dashed', linewidth=6, marker='^', markersize=15)\n",
    "ax.plot(x, x**3, color='teal',   linestyle='solid',  linewidth=1, marker='D', markersize=5);\n",
    "\n",
    "plt.show()"
   ]
  },
  {
   "cell_type": "code",
   "execution_count": null,
   "metadata": {},
   "outputs": [],
   "source": [
    "# specifying colors\n",
    "# https://matplotlib.org/3.3.1/tutorials/colors/colors.html\n",
    "\n",
    "fig = plt.figure(); ax = plt.axes() \n",
    "\n",
    "ax.plot(x, 1*x, color=(.3,.7,.5),  marker='^', markersize=12)\n",
    "ax.plot(x, 2*x, color='#3f23a1',   marker='D', markersize=12)\n",
    "ax.plot(x, 3*x, color='chocolate', marker='s', markersize=12);\n",
    "\n",
    "plt.show()"
   ]
  },
  {
   "cell_type": "markdown",
   "metadata": {},
   "source": [
    "### scatterplots"
   ]
  },
  {
   "cell_type": "code",
   "execution_count": null,
   "metadata": {},
   "outputs": [],
   "source": [
    "# scatterplot\n",
    "\n",
    "import numpy.random as R\n",
    "\n",
    "fig = plt.figure(); ax = plt.axes() \n",
    "\n",
    "N = 50\n",
    "x = R.randn(N)\n",
    "y = R.randn(N)\n",
    "colors = R.rand(N)\n",
    "sizes = 1000 * R.rand(N)\n",
    "\n",
    "pos = ax.scatter(x, y, c=colors, s=sizes, alpha=0.3, cmap='viridis')\n",
    "fig.colorbar(pos);\n",
    "\n",
    "plt.show()"
   ]
  },
  {
   "cell_type": "markdown",
   "metadata": {},
   "source": [
    "### categorical axes"
   ]
  },
  {
   "cell_type": "code",
   "execution_count": null,
   "metadata": {},
   "outputs": [],
   "source": [
    "illness = ['depression', 'schizophrenia', 'alcoholism', 'bipolar']\n",
    "score = [.6, .3, .5, .9]\n",
    "\n",
    "fig = plt.figure(); ax = plt.axes() \n",
    "\n",
    "ax.plot(illness, score, 'r-o')\n",
    "ax.set_xlabel('mental illness')\n",
    "ax.set_ylabel('test score')\n",
    "ax.set_title('Line Plot (bad)');\n",
    "\n",
    "plt.show()"
   ]
  },
  {
   "cell_type": "code",
   "execution_count": null,
   "metadata": {},
   "outputs": [],
   "source": [
    "fig = plt.figure(); ax = plt.axes() \n",
    "\n",
    "ax.bar(illness, score)\n",
    "ax.set_xlabel('mental illness')\n",
    "ax.set_ylabel('test score')\n",
    "ax.set_title('Bar Plot (better)');\n",
    "\n",
    "plt.show()"
   ]
  },
  {
   "cell_type": "code",
   "execution_count": null,
   "metadata": {},
   "outputs": [],
   "source": [
    "fig = plt.figure(); ax = plt.axes() \n",
    "\n",
    "ax.barh(illness, score)\n",
    "ax.set_xlabel('mental illness')\n",
    "ax.set_ylabel('test score')\n",
    "ax.set_title('Horizontal Bar Plot');\n",
    "\n",
    "plt.show()"
   ]
  },
  {
   "cell_type": "markdown",
   "metadata": {},
   "source": [
    "### log axes"
   ]
  },
  {
   "cell_type": "code",
   "execution_count": null,
   "metadata": {},
   "outputs": [],
   "source": [
    "# log x axis\n",
    "\n",
    "x = np.arange(1, 1000, 1)\n",
    "\n",
    "fig = plt.figure(); ax = plt.axes() \n",
    "\n",
    "ax.semilogx(x, x**2, 'r-');\n",
    "\n",
    "plt.show()"
   ]
  },
  {
   "cell_type": "code",
   "execution_count": null,
   "metadata": {},
   "outputs": [],
   "source": [
    "# log y axis\n",
    "\n",
    "fig = plt.figure(); ax = plt.axes() \n",
    "\n",
    "ax.semilogy(x, x**2, 'r-');\n",
    "\n",
    "plt.show()"
   ]
  },
  {
   "cell_type": "code",
   "execution_count": null,
   "metadata": {},
   "outputs": [],
   "source": [
    "# log-log axes\n",
    "\n",
    "fig = plt.figure(); ax = plt.axes() \n",
    "\n",
    "ax.loglog(x, x**2, 'r-');\n",
    "\n",
    "plt.show()"
   ]
  },
  {
   "cell_type": "markdown",
   "metadata": {},
   "source": [
    "### multiple axes on same graph"
   ]
  },
  {
   "cell_type": "code",
   "execution_count": null,
   "metadata": {},
   "outputs": [],
   "source": [
    "# multiple (vertical) axes on the same graph\n",
    "\n",
    "setsize = [1, 2, 4, 8, 16, 32]\n",
    "RT = [332, 412, 534, 712, 943, 1213]\n",
    "acc = [.94, .93, .87, .84, .78, .71]\n",
    "\n",
    "fig = plt.figure()\n",
    "ax1 = plt.axes() \n",
    "ax2 = ax1.twinx()\n",
    "\n",
    "ax1.plot(setsize, RT,  'r-o')\n",
    "ax2.plot(setsize, acc, 'b-s')\n",
    "ax1.set_ylim((0, 1300))\n",
    "ax2.set_ylim((0, 1))\n",
    "ax1.set_xlabel('set size')\n",
    "ax1.set_ylabel('RT (ms) - red')\n",
    "ax2.set_ylabel('accuracy - blue');\n",
    "\n",
    "plt.show()"
   ]
  },
  {
   "cell_type": "markdown",
   "metadata": {},
   "source": [
    "### styles"
   ]
  },
  {
   "cell_type": "code",
   "execution_count": null,
   "metadata": {},
   "outputs": [],
   "source": [
    "with plt.style.context('fivethirtyeight'):\n",
    "    fig, ax = plt.subplots(1, 2, figsize=(11, 4))\n",
    "    ax[0].hist(R.randn(1000))\n",
    "    for i in range(3):\n",
    "        ax[1].plot(R.rand(10))\n",
    "        ax[1].legend(['a', 'b', 'c'], loc='lower left');\n",
    "        \n",
    "plt.show()"
   ]
  },
  {
   "cell_type": "code",
   "execution_count": null,
   "metadata": {},
   "outputs": [],
   "source": [
    "with plt.style.context('ggplot'):\n",
    "    fig, ax = plt.subplots(1, 2, figsize=(11, 4))\n",
    "    ax[0].hist(R.randn(1000))\n",
    "    for i in range(3):\n",
    "        ax[1].plot(R.rand(10))\n",
    "    ax[1].legend(['a', 'b', 'c'], loc='lower left');\n",
    "    \n",
    "plt.show()"
   ]
  },
  {
   "cell_type": "code",
   "execution_count": null,
   "metadata": {},
   "outputs": [],
   "source": [
    "with plt.style.context('dark_background'):\n",
    "    fig, ax = plt.subplots(1, 2, figsize=(11, 4))\n",
    "    ax[0].hist(R.randn(1000))\n",
    "    for i in range(3):\n",
    "        ax[1].plot(R.rand(10))\n",
    "    ax[1].legend(['a', 'b', 'c'], loc='lower left');\n",
    "    \n",
    "plt.show()"
   ]
  },
  {
   "cell_type": "code",
   "execution_count": null,
   "metadata": {},
   "outputs": [],
   "source": [
    "import seaborn as sns\n",
    "\n",
    "sns.set()\n",
    "\n",
    "fig, ax = plt.subplots(1, 2, figsize=(11, 4))\n",
    "ax[0].hist(R.randn(1000))\n",
    "for i in range(3):\n",
    "    ax[1].plot(R.rand(10))\n",
    "ax[1].legend(['a', 'b', 'c'], loc='lower left');\n",
    "\n",
    "plt.show()"
   ]
  },
  {
   "cell_type": "markdown",
   "metadata": {},
   "source": [
    "### 3D plots"
   ]
  },
  {
   "cell_type": "code",
   "execution_count": null,
   "metadata": {},
   "outputs": [],
   "source": [
    "import numpy as np\n",
    "import matplotlib.pyplot as plt\n",
    "import numpy.random as R\n",
    "from scipy.integrate import odeint\n",
    "\n",
    "# Lorenz attractor\n",
    "def lorenz(x, t):\n",
    "    sig  = 10\n",
    "    beta = 8/3\n",
    "    rho  = 28\n",
    "\n",
    "    dxdt = np.zeros(3)\n",
    "    dxdt[0] = sig*(x[1]-x[0])\n",
    "    dxdt[1] = x[0]*(rho-x[2])-x[1]\n",
    "    dxdt[2] = x[0]*x[1] - beta*x[2]\n",
    "\n",
    "    return dxdt\n",
    "\n",
    "x0 = np.array([1., 1., 1.])\n",
    "\n",
    "dt = .01; tmax = 40\n",
    "tims = np.arange(0,tmax,dt)\n",
    "x = odeint(lorenz, x0, tims)"
   ]
  },
  {
   "cell_type": "code",
   "execution_count": null,
   "metadata": {},
   "outputs": [],
   "source": [
    "fig = plt.figure(); ax = plt.axes() \n",
    "ax.plot(x[:,0],x[:,1])\n",
    "ax.set_xlabel('x'); ax.set_ylabel('y')\n",
    "ax.set_title('Lorenz Attractor');\n",
    "\n",
    "plt.show()"
   ]
  },
  {
   "cell_type": "code",
   "execution_count": null,
   "metadata": {},
   "outputs": [],
   "source": [
    "fig = plt.figure(); ax = plt.axes() \n",
    "ax.plot(x[:,0],x[:,2])\n",
    "ax.set_xlabel('x'); ax.set_ylabel('z')\n",
    "ax.set_title('Lorenz Attractor');\n",
    "\n",
    "plt.show()"
   ]
  },
  {
   "cell_type": "code",
   "execution_count": null,
   "metadata": {},
   "outputs": [],
   "source": [
    "from mpl_toolkits.mplot3d import Axes3D\n",
    "\n",
    "fig = plt.figure()\n",
    "ax = plt.axes(projection='3d')\n",
    "\n",
    "ax.plot(x[:,0], x[:,1], x[:,2]);\n",
    "\n",
    "plt.show()"
   ]
  },
  {
   "cell_type": "markdown",
   "metadata": {},
   "source": [
    "### multivariate normal"
   ]
  },
  {
   "cell_type": "code",
   "execution_count": null,
   "metadata": {},
   "outputs": [],
   "source": [
    "def my_mvnpdf(x, M, S):\n",
    "    return (1 / np.sqrt((2 * np.pi * np.linalg.det(S)))) * np.exp(-(1/2) * (np.transpose(x-M) @ np.linalg.inv(S) @ (x-M)))\n",
    "\n",
    "mx = 0; my = 0\n",
    "sx = 1; sy = 2; r = .4\n",
    "mu = np.array([mx, my])\n",
    "sig = np.array([[sx**2,   r*sx*sy],\n",
    "                [r*sx*sy, sy**2]])\n",
    "\n",
    "xy = np.array([3, 2])\n",
    "                                                         \n",
    "print(my_mvnpdf(xy, mu, sig))\n"
   ]
  },
  {
   "cell_type": "code",
   "execution_count": null,
   "metadata": {},
   "outputs": [],
   "source": [
    "# make 3D plot\n",
    "# https://jakevdp.github.io/PythonDataScienceHandbook/04.04-density-and-contour-plots.html\n",
    "\n",
    "inc = .25\n",
    "lim = 7\n",
    "xsteps = np.arange(-lim, lim, inc)\n",
    "ysteps = np.arange(-lim, lim, inc)\n",
    "X, Y = np.meshgrid(xsteps, ysteps)\n",
    "Z = np.zeros(X.shape)\n",
    "\n",
    "for i in range(len(xsteps)):\n",
    "    for j in range(len(ysteps)):\n",
    "        xy = np.array([X[i,j], Y[i,j]])\n",
    "        Z[i,j] = my_mvnpdf(xy, mu, sig)"
   ]
  },
  {
   "cell_type": "code",
   "execution_count": null,
   "metadata": {},
   "outputs": [],
   "source": [
    "# surface plot\n",
    "# https://jakevdp.github.io/PythonDataScienceHandbook/04.04-density-and-contour-plots.html\n",
    "\n",
    "from mpl_toolkits.mplot3d import Axes3D\n",
    "\n",
    "fig = plt.figure()\n",
    "ax = plt.axes(projection='3d')\n",
    "\n",
    "ax.plot_surface(X, Y, Z)\n",
    "\n",
    "ax.set_xlim((-lim, lim)); ax.set_xticks(np.arange(-lim, lim+1, 2))\n",
    "ax.set_ylim((-lim, lim)); ax.set_yticks(np.arange(-lim, lim+1, 2));\n",
    "\n",
    "plt.show()"
   ]
  },
  {
   "cell_type": "code",
   "execution_count": null,
   "metadata": {},
   "outputs": [],
   "source": [
    "fig = plt.figure()\n",
    "ax = plt.axes(projection='3d')\n",
    "\n",
    "ax.plot_surface(X, Y, Z, cmap='autumn')\n",
    "\n",
    "ax.set_xlim((-lim, lim)); ax.set_xticks(np.arange(-lim, lim+1, 2))\n",
    "ax.set_ylim((-lim, lim)); ax.set_yticks(np.arange(-lim, lim+1, 2));\n",
    "\n",
    "plt.show()"
   ]
  },
  {
   "cell_type": "code",
   "execution_count": null,
   "metadata": {},
   "outputs": [],
   "source": [
    "# contour plot\n",
    "# https://jakevdp.github.io/PythonDataScienceHandbook/04.04-density-and-contour-plots.html\n",
    "\n",
    "fig = plt.figure()\n",
    "ax = plt.axes()\n",
    "\n",
    "ax.contour(X, Y, Z)\n",
    "ax.axis('square')\n",
    "\n",
    "ax.set_xlim((-lim, lim)); ax.set_xticks(np.arange(-lim, lim+1, 2))\n",
    "ax.set_ylim((-lim, lim)); ax.set_yticks(np.arange(-lim, lim+1, 2));\n",
    "\n",
    "plt.show()"
   ]
  },
  {
   "cell_type": "code",
   "execution_count": null,
   "metadata": {},
   "outputs": [],
   "source": [
    "fig = plt.figure()\n",
    "ax = plt.axes()\n",
    "\n",
    "ax.contourf(X, Y, Z)\n",
    "ax.axis('square')\n",
    "\n",
    "ax.set_xlim((-lim, lim)); ax.set_xticks(np.arange(-lim, lim+1, 2))\n",
    "ax.set_ylim((-lim, lim)); ax.set_yticks(np.arange(-lim, lim+1, 2));\n",
    "\n",
    "plt.show()"
   ]
  },
  {
   "cell_type": "markdown",
   "metadata": {},
   "source": [
    "### seaborn"
   ]
  },
  {
   "cell_type": "code",
   "execution_count": null,
   "metadata": {},
   "outputs": [],
   "source": [
    "import numpy as np\n",
    "import matplotlib.pyplot as plt\n",
    "import numpy.random as R\n",
    "\n",
    "import seaborn as sns\n",
    "\n",
    "sns.set()\n",
    "\n",
    "print(sns.__version__)"
   ]
  },
  {
   "cell_type": "code",
   "execution_count": null,
   "metadata": {},
   "outputs": [],
   "source": [
    "mx = 0; my = 0\n",
    "sx = 2; sy = 1; r = -.7\n",
    "M  = np.array([mx, my])\n",
    "S  = np.array([[sx**2,   r*sx*sy],\n",
    "               [r*sx*sy, sy**2]])\n",
    "data = R.multivariate_normal(M, S, size=2000)\n",
    "\n",
    "fig, ax = plt.subplots()\n",
    "\n",
    "xm = 10\n",
    "ax.scatter(data[:,0], data[:,1])\n",
    "ax.axis('square')\n",
    "ax.set_xlim((-xm, xm)); ax.set_xticks(np.arange(-xm, xm+1, 2))\n",
    "ax.set_ylim((-xm, xm)); ax.set_yticks(np.arange(-xm, xm+1, 2));\n",
    "\n",
    "plt.show()"
   ]
  },
  {
   "cell_type": "code",
   "execution_count": null,
   "metadata": {},
   "outputs": [],
   "source": [
    "fig, ax = plt.subplots()\n",
    "\n",
    "ax.hist(data[:,0], alpha=0.5)\n",
    "ax.hist(data[:,1], alpha=0.5);"
   ]
  },
  {
   "cell_type": "code",
   "execution_count": null,
   "metadata": {},
   "outputs": [],
   "source": [
    "fig, ax = plt.subplots()\n",
    "\n",
    "sns.kdeplot(data[:,0], shade=True)\n",
    "sns.kdeplot(data[:,1], shade=True)"
   ]
  },
  {
   "cell_type": "code",
   "execution_count": null,
   "metadata": {},
   "outputs": [],
   "source": [
    "# https://seaborn.pydata.org/introduction.html\n",
    "\n",
    "dots = sns.load_dataset('dots')\n",
    "sns.relplot(\n",
    "    data=dots, kind='line',\n",
    "    x='time', y='firing_rate', col='align',\n",
    "    hue='choice', size='coherence', style='choice',\n",
    "    facet_kws=dict(sharex=False),\n",
    ");"
   ]
  },
  {
   "cell_type": "code",
   "execution_count": null,
   "metadata": {},
   "outputs": [],
   "source": [
    "fmri = sns.load_dataset('fmri')\n",
    "sns.relplot(\n",
    "    data=fmri, kind='line',\n",
    "    x='timepoint', y='signal', col='region',\n",
    "    hue='event', style='event',\n",
    ");"
   ]
  },
  {
   "cell_type": "code",
   "execution_count": null,
   "metadata": {},
   "outputs": [],
   "source": [
    "tips = sns.load_dataset(\"tips\")\n",
    "\n",
    "sns.relplot(\n",
    "    data=tips,\n",
    "    x='total_bill', y='tip', col='time',\n",
    "    hue='smoker', style='smoker', size='size',\n",
    ");"
   ]
  },
  {
   "cell_type": "code",
   "execution_count": null,
   "metadata": {},
   "outputs": [],
   "source": [
    "sns.catplot(data=tips, kind='violin', x='day', y='total_bill', hue='smoker', split=True);"
   ]
  },
  {
   "cell_type": "code",
   "execution_count": null,
   "metadata": {},
   "outputs": [],
   "source": [
    "penguins = sns.load_dataset(\"penguins\")\n",
    "\n",
    "sns.jointplot(data=penguins, x=\"bill_length_mm\", y=\"bill_depth_mm\", hue=\"species\", kind=\"kde\");"
   ]
  },
  {
   "cell_type": "code",
   "execution_count": null,
   "metadata": {},
   "outputs": [],
   "source": [
    "sns.pairplot(data=penguins, hue='species');"
   ]
  },
  {
   "cell_type": "code",
   "execution_count": null,
   "metadata": {},
   "outputs": [],
   "source": [
    "g = sns.PairGrid(penguins, hue=\"species\", corner=True)\n",
    "g.map_lower(sns.kdeplot, hue=None, levels=5, color=\".2\")\n",
    "g.map_lower(sns.scatterplot, marker=\"+\")\n",
    "g.map_diag(sns.histplot, element=\"step\", linewidth=0, kde=True)\n",
    "g.add_legend(frameon=True)\n",
    "g.legend.set_bbox_to_anchor((.61, .6));"
   ]
  },
  {
   "cell_type": "code",
   "execution_count": null,
   "metadata": {},
   "outputs": [],
   "source": []
  }
 ],
 "metadata": {
  "kernelspec": {
   "display_name": "Python 3 (ipykernel)",
   "language": "python",
   "name": "python3"
  },
  "language_info": {
   "codemirror_mode": {
    "name": "ipython",
    "version": 3
   },
   "file_extension": ".py",
   "mimetype": "text/x-python",
   "name": "python",
   "nbconvert_exporter": "python",
   "pygments_lexer": "ipython3",
   "version": "3.8.13"
  }
 },
 "nbformat": 4,
 "nbformat_minor": 4
}
