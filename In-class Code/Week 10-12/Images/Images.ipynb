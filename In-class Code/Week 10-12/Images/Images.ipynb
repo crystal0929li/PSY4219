{
 "cells": [
  {
   "cell_type": "markdown",
   "metadata": {},
   "source": [
    "# Images"
   ]
  },
  {
   "cell_type": "markdown",
   "metadata": {},
   "source": [
    "### reading images with numpy"
   ]
  },
  {
   "cell_type": "code",
   "execution_count": null,
   "metadata": {},
   "outputs": [],
   "source": [
    "import numpy as np\n",
    "import matplotlib.pyplot as plt\n",
    "import matplotlib.image as mpimg\n",
    "\n",
    "im = mpimg.imread('Jordingray.bmp')"
   ]
  },
  {
   "cell_type": "code",
   "execution_count": null,
   "metadata": {},
   "outputs": [],
   "source": [
    "print('shape:      ', im.shape)\n",
    "print('type:       ', type(im))\n",
    "print('pixel type: ', type(im[0,0]))"
   ]
  },
  {
   "cell_type": "code",
   "execution_count": null,
   "metadata": {},
   "outputs": [],
   "source": [
    "print(im)"
   ]
  },
  {
   "cell_type": "code",
   "execution_count": null,
   "metadata": {},
   "outputs": [],
   "source": [
    "plt.imshow(im);"
   ]
  },
  {
   "cell_type": "markdown",
   "metadata": {},
   "source": [
    "### colormaps"
   ]
  },
  {
   "cell_type": "code",
   "execution_count": null,
   "metadata": {},
   "outputs": [],
   "source": [
    "fig = plt.figure(); ax = plt.axes()\n",
    "ax.imshow(im, cmap='gray')\n",
    "ax.set_xticks([]); ax.set_yticks([]);"
   ]
  },
  {
   "cell_type": "code",
   "execution_count": null,
   "metadata": {},
   "outputs": [],
   "source": [
    "fig = plt.figure(); ax = plt.axes()\n",
    "ax.imshow(im, cmap='copper')\n",
    "ax.set_xticks([]); ax.set_yticks([]);"
   ]
  },
  {
   "cell_type": "code",
   "execution_count": null,
   "metadata": {},
   "outputs": [],
   "source": [
    "fig = plt.figure(); ax = plt.axes()\n",
    "ax.imshow(im, cmap='twilight')\n",
    "ax.set_xticks([]); ax.set_yticks([]);"
   ]
  },
  {
   "cell_type": "code",
   "execution_count": null,
   "metadata": {},
   "outputs": [],
   "source": [
    "fig = plt.figure(); ax = plt.axes()\n",
    "ax.imshow(im, cmap='gray')\n",
    "ax.set_xticks([]); ax.set_yticks([]);"
   ]
  },
  {
   "cell_type": "code",
   "execution_count": null,
   "metadata": {},
   "outputs": [],
   "source": [
    "im = mpimg.imread('Jordingray.bmp')\n",
    "\n",
    "fig, axs = plt.subplots(nrows=2, ncols=2, tight_layout=True, figsize=(5,5))\n",
    "axs[0,0].imshow(im, cmap='magma');    axs[0,0].set_xticks([]); axs[0,0].set_yticks([]);\n",
    "axs[0,1].imshow(im, cmap='RdPu');     axs[0,1].set_xticks([]); axs[0,1].set_yticks([]);\n",
    "axs[1,0].imshow(im, cmap='coolwarm'); axs[1,0].set_xticks([]); axs[1,0].set_yticks([]);\n",
    "axs[1,1].imshow(im, cmap='hsv');      axs[1,1].set_xticks([]); axs[1,1].set_yticks([]);\n",
    "\n",
    "# https://matplotlib.org/3.1.1/gallery/color/colormap_reference.html"
   ]
  },
  {
   "cell_type": "markdown",
   "metadata": {},
   "source": [
    "### color images"
   ]
  },
  {
   "cell_type": "code",
   "execution_count": null,
   "metadata": {},
   "outputs": [],
   "source": [
    "im = mpimg.imread('Jordin.bmp')"
   ]
  },
  {
   "cell_type": "code",
   "execution_count": null,
   "metadata": {},
   "outputs": [],
   "source": [
    "print('shape:      ', im.shape)\n",
    "print('type:       ', type(im))\n",
    "print('pixel type: ', type(im[0,0,0]))"
   ]
  },
  {
   "cell_type": "code",
   "execution_count": null,
   "metadata": {},
   "outputs": [],
   "source": [
    "plt.imshow(im);\n",
    "plt.axis('off');"
   ]
  },
  {
   "cell_type": "code",
   "execution_count": null,
   "metadata": {},
   "outputs": [],
   "source": [
    "fig = plt.figure(); ax = plt.axes()\n",
    "ax.imshow(im)\n",
    "ax.set_xticks([])\n",
    "ax.set_yticks([]);"
   ]
  },
  {
   "cell_type": "markdown",
   "metadata": {},
   "source": [
    "### RGB colors"
   ]
  },
  {
   "cell_type": "code",
   "execution_count": null,
   "metadata": {},
   "outputs": [],
   "source": [
    "im = np.ones((100,100,3))\n",
    "fig, axs = plt.subplots(nrows=3, ncols=3, tight_layout=True, figsize=(5,5))\n",
    "rgb=(255,0,  0);   axs[0,0].imshow(np.uint8(im*rgb)); axs[0,0].set_title(f'{rgb}'); axs[0,0].set_axis_off()\n",
    "rgb=(0,  255,0);   axs[0,1].imshow(np.uint8(im*rgb)); axs[0,1].set_title(f'{rgb}'); axs[0,1].set_axis_off()\n",
    "rgb=(0,  0,  255); axs[0,2].imshow(np.uint8(im*rgb)); axs[0,2].set_title(f'{rgb}'); axs[0,2].set_axis_off()\n",
    "rgb=(255,255,0);   axs[1,0].imshow(np.uint8(im*rgb)); axs[1,0].set_title(f'{rgb}'); axs[1,0].set_axis_off()\n",
    "rgb=(255,0,  255); axs[1,1].imshow(np.uint8(im*rgb)); axs[1,1].set_title(f'{rgb}'); axs[1,1].set_axis_off()\n",
    "rgb=(0,  255,255); axs[1,2].imshow(np.uint8(im*rgb)); axs[1,2].set_title(f'{rgb}'); axs[1,2].set_axis_off()\n",
    "rgb=(140,87, 211); axs[2,0].imshow(np.uint8(im*rgb)); axs[2,0].set_title(f'{rgb}'); axs[2,0].set_axis_off()\n",
    "rgb=(212,132,13);  axs[2,1].imshow(np.uint8(im*rgb)); axs[2,1].set_title(f'{rgb}'); axs[2,1].set_axis_off()\n",
    "rgb=(143,43, 122); axs[2,2].imshow(np.uint8(im*rgb)); axs[2,2].set_title(f'{rgb}'); axs[2,2].set_axis_off()"
   ]
  },
  {
   "cell_type": "code",
   "execution_count": null,
   "metadata": {},
   "outputs": [],
   "source": [
    "from PIL import Image\n",
    "from PIL.ExifTags import TAGS\n",
    "\n",
    "im = Image.open('MeJordinMatthew.jpg')\n",
    "\n",
    "fig = plt.figure(); ax = plt.axes()\n",
    "ax.imshow(im)\n",
    "ax.set_xticks([]); ax.set_yticks([]);\n",
    "\n",
    "exif_data = im._getexif()\n",
    "exif = {}\n",
    "for tag, value in im._getexif().items():\n",
    "    if tag in TAGS:\n",
    "        exif[TAGS[tag]] = value\n",
    "exif['MakerNote'] = []\n",
    "exif"
   ]
  },
  {
   "cell_type": "code",
   "execution_count": null,
   "metadata": {},
   "outputs": [],
   "source": [
    "from PIL import Image\n",
    "from PIL.ExifTags import TAGS\n",
    "\n",
    "im = Image.open('MaineLighthouse2015.JPG')\n",
    "\n",
    "fig = plt.figure(); ax = plt.axes()\n",
    "ax.imshow(im)\n",
    "ax.set_xticks([]); ax.set_yticks([]);\n",
    "\n",
    "exif_data = im._getexif()\n",
    "exif = {}\n",
    "for tag, value in im._getexif().items():\n",
    "    if tag in TAGS:\n",
    "        exif[TAGS[tag]] = value\n",
    "exif['MakerNote'] = []\n",
    "exif"
   ]
  },
  {
   "cell_type": "markdown",
   "metadata": {},
   "source": [
    "### PIL"
   ]
  },
  {
   "cell_type": "code",
   "execution_count": null,
   "metadata": {},
   "outputs": [],
   "source": [
    "from PIL import Image\n",
    "\n",
    "im = Image.open('Jordingray.bmp')"
   ]
  },
  {
   "cell_type": "code",
   "execution_count": null,
   "metadata": {},
   "outputs": [],
   "source": [
    "print(type(im))\n",
    "print(dir(im))"
   ]
  },
  {
   "cell_type": "code",
   "execution_count": null,
   "metadata": {},
   "outputs": [],
   "source": [
    "im.show()"
   ]
  },
  {
   "cell_type": "code",
   "execution_count": null,
   "metadata": {},
   "outputs": [],
   "source": [
    "from IPython.display import display\n",
    "\n",
    "display(im)"
   ]
  },
  {
   "cell_type": "code",
   "execution_count": null,
   "metadata": {},
   "outputs": [],
   "source": [
    "print(im.size)\n",
    "print(im.format)\n",
    "print(im.filename)"
   ]
  },
  {
   "cell_type": "markdown",
   "metadata": {},
   "source": [
    "### manipulating images"
   ]
  },
  {
   "cell_type": "code",
   "execution_count": null,
   "metadata": {},
   "outputs": [],
   "source": [
    "# manipulate image object directly\n",
    "# https://pillow.readthedocs.io/en/stable/reference/Image.html\n",
    "\n",
    "# note that this manipulates the image itself\n",
    "im.thumbnail(tuple(np.int64(np.array(im.size)/4)))\n",
    "\n",
    "display(im)"
   ]
  },
  {
   "cell_type": "code",
   "execution_count": null,
   "metadata": {},
   "outputs": [],
   "source": [
    "# note that this creates a new (rotated) image\n",
    "\n",
    "im2 = im.rotate(45)\n",
    "display(im2)"
   ]
  },
  {
   "cell_type": "code",
   "execution_count": null,
   "metadata": {},
   "outputs": [],
   "source": [
    "im2 = im.rotate(45, expand=True)\n",
    "display(im2)"
   ]
  },
  {
   "cell_type": "code",
   "execution_count": null,
   "metadata": {},
   "outputs": [],
   "source": [
    "### properties of new image\n",
    "\n",
    "print(im2.size)\n",
    "print(im2.format)"
   ]
  },
  {
   "cell_type": "code",
   "execution_count": null,
   "metadata": {},
   "outputs": [],
   "source": [
    "from PIL import ImageEnhance\n",
    "\n",
    "im = Image.open('Jordingray.bmp')"
   ]
  },
  {
   "cell_type": "code",
   "execution_count": null,
   "metadata": {},
   "outputs": [],
   "source": [
    "# contrast \n",
    "\n",
    "im2 = ImageEnhance.Contrast(im)\n",
    "display(im2.enhance(4))"
   ]
  },
  {
   "cell_type": "code",
   "execution_count": null,
   "metadata": {},
   "outputs": [],
   "source": [
    "# brightness \n",
    "\n",
    "im2 = ImageEnhance.Brightness(im)\n",
    "display(im2.enhance(.4))"
   ]
  },
  {
   "cell_type": "code",
   "execution_count": null,
   "metadata": {},
   "outputs": [],
   "source": [
    "# sharpness \n",
    "\n",
    "im2 = ImageEnhance.Sharpness(im)\n",
    "display(im2.enhance(2.0))"
   ]
  },
  {
   "cell_type": "markdown",
   "metadata": {},
   "source": [
    "### saving images"
   ]
  },
  {
   "cell_type": "code",
   "execution_count": null,
   "metadata": {},
   "outputs": [],
   "source": [
    "# save new image\n",
    "\n",
    "im = Image.open('Jordingray.bmp')\n",
    "\n",
    "im2 = im.rotate(45, expand=True)\n",
    "\n",
    "# formats:\n",
    "# https://pillow.readthedocs.io/en/stable/handbook/image-file-formats.html\n",
    "\n",
    "im2.save('outJordingray_Rot45.jpg', format='JPEG')"
   ]
  },
  {
   "cell_type": "code",
   "execution_count": null,
   "metadata": {},
   "outputs": [],
   "source": [
    "im = Image.open('outJordingray_Rot45.jpg')\n",
    "\n",
    "print(im.size)\n",
    "print(im.format)\n",
    "print(im.filename)"
   ]
  },
  {
   "cell_type": "code",
   "execution_count": null,
   "metadata": {},
   "outputs": [],
   "source": [
    "display(im)"
   ]
  },
  {
   "cell_type": "markdown",
   "metadata": {},
   "source": [
    "### extracting (numpy) data from images"
   ]
  },
  {
   "cell_type": "code",
   "execution_count": null,
   "metadata": {},
   "outputs": [],
   "source": [
    "im = Image.open('Jordingray.bmp')\n",
    "\n",
    "imdata = np.asarray(im)\n",
    "\n",
    "print(type(imdata))\n",
    "print(type(imdata[0,0]))\n",
    "print(imdata.shape)\n",
    "\n",
    "display(im)"
   ]
  },
  {
   "cell_type": "markdown",
   "metadata": {},
   "source": [
    "### creating an image (object) from a numpy array"
   ]
  },
  {
   "cell_type": "code",
   "execution_count": null,
   "metadata": {},
   "outputs": [],
   "source": [
    "im2 = Image.fromarray(imdata)"
   ]
  },
  {
   "cell_type": "code",
   "execution_count": null,
   "metadata": {},
   "outputs": [],
   "source": [
    "print(im2.size)\n",
    "print(im2.format)\n",
    "display(im2)"
   ]
  },
  {
   "cell_type": "code",
   "execution_count": null,
   "metadata": {},
   "outputs": [],
   "source": [
    "im2.save('outJordingray.jpg', format='JPEG')\n",
    "\n",
    "im = Image.open('outJordingray.jpg')\n",
    "\n",
    "print(im.size)\n",
    "print(im.format)\n",
    "print(im.filename)"
   ]
  },
  {
   "cell_type": "code",
   "execution_count": null,
   "metadata": {},
   "outputs": [],
   "source": [
    "imdata = np.asarray(im)\n",
    "\n",
    "print(type(imdata))\n",
    "print(type(imdata[0,0]))\n",
    "print(imdata.shape)"
   ]
  },
  {
   "cell_type": "markdown",
   "metadata": {},
   "source": [
    "### create an image from scratch"
   ]
  },
  {
   "cell_type": "code",
   "execution_count": null,
   "metadata": {},
   "outputs": [],
   "source": [
    "import numpy.random as R\n",
    "\n",
    "imdata = np.uint8(R.randint(0,2,(250,250))*255)\n",
    "#imdata = R.randint(0,2,(250,250))*255\n",
    "\n",
    "im = Image.fromarray(imdata)\n",
    "\n",
    "im.save('outRand.jpg', format='JPEG')\n",
    "\n",
    "display(im)"
   ]
  },
  {
   "cell_type": "markdown",
   "metadata": {},
   "source": [
    "### manipulations of image numpy array data"
   ]
  },
  {
   "cell_type": "code",
   "execution_count": null,
   "metadata": {},
   "outputs": [],
   "source": [
    "im = Image.open('Jordingray.bmp')\n",
    "\n",
    "imdata = np.asarray(im)\n",
    "\n",
    "print(type(imdata[0,0]))\n",
    "\n",
    "imdata"
   ]
  },
  {
   "cell_type": "code",
   "execution_count": null,
   "metadata": {},
   "outputs": [],
   "source": [
    "x = np.uint8(255)\n",
    "y = np.uint8(1)\n",
    "z = np.uint8(100)\n",
    "\n",
    "print(x+y); print(type(x+y)); print()"
   ]
  },
  {
   "cell_type": "code",
   "execution_count": null,
   "metadata": {},
   "outputs": [],
   "source": [
    "print(x+z); print(type(x+y))"
   ]
  },
  {
   "cell_type": "code",
   "execution_count": null,
   "metadata": {},
   "outputs": [],
   "source": [
    "imdata2 = imdata + 1000\n",
    "#imdata2 = imdata + 255\n",
    "\n",
    "fig = plt.figure(); ax = plt.axes()\n",
    "ax.imshow(imdata2, cmap='gray')\n",
    "ax.set_xticks([]); ax.set_yticks([]);\n",
    "\n",
    "imdata2"
   ]
  },
  {
   "cell_type": "code",
   "execution_count": null,
   "metadata": {},
   "outputs": [],
   "source": [
    "imdata2 = imdata + 1000\n",
    "\n",
    "fig = plt.figure(); ax = plt.axes()\n",
    "ax.imshow(imdata2, cmap='gray')\n",
    "ax.set_xticks([]); ax.set_yticks([]);\n",
    "\n",
    "imdata2"
   ]
  },
  {
   "cell_type": "code",
   "execution_count": null,
   "metadata": {},
   "outputs": [],
   "source": [
    "im2 = Image.fromarray(imdata2)\n",
    "\n",
    "im2.save('outTmp.jpg', format='JPEG')"
   ]
  },
  {
   "cell_type": "code",
   "execution_count": null,
   "metadata": {},
   "outputs": [],
   "source": [
    "np.uint8(np.float64(np.uint8(255)+np.uint8(100)))"
   ]
  },
  {
   "cell_type": "code",
   "execution_count": null,
   "metadata": {},
   "outputs": [],
   "source": [
    "# convert to float, manipulate, convert to uint8\n",
    "\n",
    "imdataf = np.float64(imdata)\n",
    "imdataf = imdataf*500 + 250\n",
    "imdata2 = np.uint8((imdataf/np.max(imdataf))*255)\n",
    "\n",
    "fig = plt.figure(); ax = plt.axes()\n",
    "ax.imshow(imdata2, cmap='gray')\n",
    "ax.set_xticks([]); ax.set_yticks([]);"
   ]
  },
  {
   "cell_type": "markdown",
   "metadata": {},
   "source": [
    "### image histogram"
   ]
  },
  {
   "cell_type": "code",
   "execution_count": null,
   "metadata": {},
   "outputs": [],
   "source": [
    "import numpy as np\n",
    "import matplotlib.pyplot as plt\n",
    "from PIL import Image\n",
    "\n",
    "im = Image.open('Jordingray.bmp')\n",
    "\n",
    "hist = np.array(im.histogram())\n",
    "pix = np.arange(256)\n",
    "\n",
    "plt.bar(pix, hist, width=1, alpha=.3, color='grey')\n",
    "plt.xlim((0,255))\n",
    "plt.xlabel('pixel value')\n",
    "plt.ylabel('count');"
   ]
  },
  {
   "cell_type": "code",
   "execution_count": null,
   "metadata": {},
   "outputs": [],
   "source": [
    "import numpy as np\n",
    "import matplotlib.pyplot as plt\n",
    "from PIL import Image\n",
    "\n",
    "im = Image.open('Jordin.bmp')\n",
    "\n",
    "hist = np.array(im.histogram())\n",
    "hist = np.resize(hist, (3,256))\n",
    "pix = np.arange(256)\n",
    "\n",
    "plt.bar(pix, hist[0,:], width=1, alpha=.3, color='red')\n",
    "plt.bar(pix, hist[1,:], width=1, alpha=.3, color='green')\n",
    "plt.bar(pix, hist[2,:], width=1, alpha=.3, color='blue')\n",
    "plt.xlim((0,255))\n",
    "plt.xlabel('pixel value')\n",
    "plt.ylabel('count');"
   ]
  },
  {
   "cell_type": "markdown",
   "metadata": {},
   "source": [
    "### simple example of image processing"
   ]
  },
  {
   "cell_type": "code",
   "execution_count": null,
   "metadata": {},
   "outputs": [],
   "source": [
    "im = Image.open('Jordingray.bmp')\n",
    "\n",
    "imdata = np.asarray(im)"
   ]
  },
  {
   "cell_type": "code",
   "execution_count": null,
   "metadata": {},
   "outputs": [],
   "source": [
    "C = 100\n",
    "\n",
    "imdata2 = imdata>C\n",
    "\n",
    "imdata2"
   ]
  },
  {
   "cell_type": "code",
   "execution_count": null,
   "metadata": {},
   "outputs": [],
   "source": [
    "imdata2 = 255*(imdata>C)\n",
    "\n",
    "print(type(imdata2[0,0]))\n",
    "imdata2"
   ]
  },
  {
   "cell_type": "code",
   "execution_count": null,
   "metadata": {},
   "outputs": [],
   "source": [
    "imdata2 = np.uint8(255*(imdata>C))"
   ]
  },
  {
   "cell_type": "code",
   "execution_count": null,
   "metadata": {},
   "outputs": [],
   "source": [
    "C = 100\n",
    "\n",
    "imdata2 = np.uint8(255*(imdata>C))\n",
    "im2 = Image.fromarray(imdata2)\n",
    "\n",
    "display(im2)"
   ]
  },
  {
   "cell_type": "markdown",
   "metadata": {},
   "source": [
    "### another image manipulation"
   ]
  },
  {
   "cell_type": "code",
   "execution_count": null,
   "metadata": {},
   "outputs": [],
   "source": [
    "def myfilter(x, alpha=1., beta=2., gam=.5, lam=.1):\n",
    "    F = 1 - np.exp(-(x/alpha)**beta)\n",
    "    psi = gam + (1. - lam - gam)*F\n",
    "    return (psi)\n",
    "\n",
    "x = np.arange(0, 255, .1)\n",
    "psi = myfilter(x, alpha=100, beta=3, gam=0.0, lam=0.0)\n",
    "#psi = myfilter(x, alpha=100, beta=2, gam=0.45, lam=0.45)\n",
    "\n",
    "plt.plot(x, psi, 'r-');\n",
    "plt.ylim((0,1))"
   ]
  },
  {
   "cell_type": "code",
   "execution_count": null,
   "metadata": {},
   "outputs": [],
   "source": [
    "im = Image.open('Jordingray.bmp')\n",
    "\n",
    "imdata = np.asarray(im)"
   ]
  },
  {
   "cell_type": "code",
   "execution_count": null,
   "metadata": {},
   "outputs": [],
   "source": [
    "imdata2 = myfilter(imdata, alpha=100, beta=3, gam=0.0, lam=0.0)\n",
    "\n",
    "im2 = Image.fromarray(imdata2)\n",
    "\n",
    "print(imdata2)\n",
    "\n",
    "display(im2)"
   ]
  },
  {
   "cell_type": "code",
   "execution_count": null,
   "metadata": {},
   "outputs": [],
   "source": [
    "imdata2"
   ]
  },
  {
   "cell_type": "code",
   "execution_count": null,
   "metadata": {},
   "outputs": [],
   "source": [
    "#imdata2 = myfilter(imdata, alpha=100, beta=3, gam=0.0, lam=0.0)\n",
    "imdata2 = myfilter(imdata, alpha=150, beta=8, gam=0.48, lam=0.48)\n",
    "\n",
    "imdata2 = np.uint8(255*imdata2)\n",
    "\n",
    "im2 = Image.fromarray(imdata2)\n",
    "\n",
    "display(im)\n",
    "display(im2)"
   ]
  },
  {
   "cell_type": "markdown",
   "metadata": {},
   "source": [
    "### image processing"
   ]
  },
  {
   "cell_type": "code",
   "execution_count": null,
   "metadata": {},
   "outputs": [],
   "source": [
    "import numpy as np\n",
    "import matplotlib.pyplot as plt\n",
    "from PIL import Image\n",
    "\n",
    "def myfilter(x, alpha=1., beta=2., gam=.5, lam=.1):\n",
    "    F = 1 - np.exp(-(x/alpha)**beta)\n",
    "    psi = gam + (1. - lam - gam)*F\n",
    "    return (psi)\n",
    "\n",
    "alpha = 100\n",
    "beta  = 3\n",
    "gam   = 0.48\n",
    "lam   = 0.48\n",
    "\n",
    "x = np.arange(0, 255, .1)\n",
    "psi = myfilter(x, alpha, beta, gam, lam)\n",
    "plt.plot(x, psi, 'r-');\n",
    "plt.ylim((0,1))\n",
    "\n",
    "im = Image.open('Jordingray.bmp')\n",
    "\n",
    "imdata = np.asarray(im)\n",
    "\n",
    "imdata2 = myfilter(imdata, alpha, beta, gam, lam)\n",
    "\n",
    "imdata2 = np.uint8(255*imdata2)\n",
    "\n",
    "im2 = Image.fromarray(imdata2)\n",
    "\n",
    "display(im)\n",
    "display(im2)"
   ]
  },
  {
   "cell_type": "markdown",
   "metadata": {},
   "source": [
    "### Masking"
   ]
  },
  {
   "cell_type": "code",
   "execution_count": null,
   "metadata": {},
   "outputs": [],
   "source": [
    "import numpy as np\n",
    "import matplotlib.pyplot as plt\n",
    "from PIL import Image\n",
    "\n",
    "im = Image.open('Jordingray.bmp')\n",
    "\n",
    "imdata = np.asarray(im)\n",
    "r,c = imdata.shape"
   ]
  },
  {
   "cell_type": "code",
   "execution_count": null,
   "metadata": {},
   "outputs": [],
   "source": [
    "sz = 100\n",
    "mask = np.zeros((r,c))\n",
    "mask[int(r/2-sz/2):int(r/2+sz/2), int(r/2-sz/2):int(r/2+sz/2)] = 1\n",
    "\n",
    "# you did a similar operation in an earlier homework"
   ]
  },
  {
   "cell_type": "code",
   "execution_count": null,
   "metadata": {},
   "outputs": [],
   "source": [
    "immask = Image.fromarray(np.uint8(mask*255))\n",
    "\n",
    "display(immask)"
   ]
  },
  {
   "cell_type": "code",
   "execution_count": null,
   "metadata": {},
   "outputs": [],
   "source": [
    "imdata2 = np.uint8(imdata * mask)\n",
    "\n",
    "im2 = Image.fromarray(np.uint8(imdata2))\n",
    "display(im2)"
   ]
  },
  {
   "cell_type": "code",
   "execution_count": null,
   "metadata": {},
   "outputs": [],
   "source": [
    "im = Image.open('Jordingray.bmp')\n",
    "\n",
    "imdata = np.asarray(im)\n",
    "r,c = imdata.shape"
   ]
  },
  {
   "cell_type": "code",
   "execution_count": null,
   "metadata": {},
   "outputs": [],
   "source": [
    "def my_mvnpdf(x, M, S):\n",
    "    return (1 / np.sqrt((2 * np.pi * np.linalg.det(S)))) * np.exp(-(1/2) * (np.transpose(x-M) @ np.linalg.inv(S) @ (x-M)))\n",
    "\n",
    "mx = r/2; my = c/2\n",
    "sx = 100; sy = 100; rho = 0.0\n",
    "mu = np.array([mx, my])\n",
    "sig = np.array([[sx**2,     rho*sx*sy],\n",
    "                [rho*sx*sy, sy**2]])\n",
    "\n",
    "# mx = r/2; my = c/2\n",
    "# sx = 150; sy = 100; rho = 0.8\n",
    "# mu = np.array([mx, my])\n",
    "# sig = np.array([[sx**2,     rho*sx*sy],\n",
    "#                 [rho*sx*sy, sy**2]])\n",
    "\n",
    "inc = 1\n",
    "xsteps = np.arange(0, r, 1)\n",
    "ysteps = np.arange(0, c, 1)\n",
    "X, Y = np.meshgrid(xsteps, ysteps)\n",
    "Z = np.zeros(X.shape)\n",
    "\n",
    "for i in range(len(xsteps)):\n",
    "    for j in range(len(ysteps)):\n",
    "        xy = np.array([X[i,j], Y[i,j]])\n",
    "        Z[i,j] = my_mvnpdf(xy, mu, sig)\n",
    "\n",
    "mask = Z/np.max(Z)"
   ]
  },
  {
   "cell_type": "code",
   "execution_count": null,
   "metadata": {},
   "outputs": [],
   "source": [
    "immask = Image.fromarray(np.uint8(mask*255))\n",
    "\n",
    "display(immask)"
   ]
  },
  {
   "cell_type": "code",
   "execution_count": null,
   "metadata": {},
   "outputs": [],
   "source": [
    "imdata2 = np.uint8(imdata * mask)\n",
    "\n",
    "im2 = Image.fromarray(np.uint8(imdata2))\n",
    "display(im2)"
   ]
  },
  {
   "cell_type": "markdown",
   "metadata": {},
   "source": [
    "### read multiple files from drive"
   ]
  },
  {
   "cell_type": "code",
   "execution_count": null,
   "metadata": {},
   "outputs": [],
   "source": [
    "import os\n",
    "\n",
    "dir = '.'\n",
    "with os.scandir(dir) as entries:\n",
    "    for entry in entries:\n",
    "        print(entry.name)"
   ]
  },
  {
   "cell_type": "code",
   "execution_count": null,
   "metadata": {},
   "outputs": [],
   "source": [
    "import os\n",
    "import re\n",
    "\n",
    "pattern = r'.*.((jpg)|(JPG))'\n",
    "\n",
    "dir = '.'\n",
    "with os.scandir(dir) as entries:\n",
    "    for entry in entries:\n",
    "        if re.search(pattern, entry.name):\n",
    "            print(entry.name)"
   ]
  },
  {
   "cell_type": "code",
   "execution_count": null,
   "metadata": {},
   "outputs": [],
   "source": [
    "dir = './images'\n",
    "with os.scandir(dir) as entries:\n",
    "    for entry in entries:\n",
    "        if re.search(pattern, dir+'/'+entry.name):\n",
    "            fullpath = dir + '/' + entry.name\n",
    "            im = Image.open(fullpath)\n",
    "            im.thumbnail((150,150))\n",
    "            display(im)"
   ]
  },
  {
   "cell_type": "code",
   "execution_count": null,
   "metadata": {},
   "outputs": [],
   "source": []
  }
 ],
 "metadata": {
  "kernelspec": {
   "display_name": "Python 3 (ipykernel)",
   "language": "python",
   "name": "python3"
  },
  "language_info": {
   "codemirror_mode": {
    "name": "ipython",
    "version": 3
   },
   "file_extension": ".py",
   "mimetype": "text/x-python",
   "name": "python",
   "nbconvert_exporter": "python",
   "pygments_lexer": "ipython3",
   "version": "3.8.13"
  }
 },
 "nbformat": 4,
 "nbformat_minor": 4
}
