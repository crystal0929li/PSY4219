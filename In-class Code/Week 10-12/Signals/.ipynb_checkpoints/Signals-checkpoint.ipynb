{
 "cells": [
  {
   "cell_type": "markdown",
   "id": "eef53221-b411-4315-9686-069d2109bdb0",
   "metadata": {},
   "source": [
    "# Convolution"
   ]
  },
  {
   "cell_type": "code",
   "execution_count": null,
   "id": "18b5de5a-7aae-4160-ba11-b3f2c93c1f1c",
   "metadata": {},
   "outputs": [],
   "source": [
    "import numpy as np\n",
    "import matplotlib.pyplot as plt\n",
    "from PIL import Image\n",
    "\n",
    "# simple signal\n",
    "\n",
    "sig = np.concatenate((np.zeros(50), np.ones(20), np.zeros(50)))\n",
    "t = np.arange(0, len(sig))\n",
    "\n",
    "fig = plt.figure(figsize=(15,2.5)); ax = plt.axes()\n",
    "ax.stem(t, sig, linefmt=None, markerfmt='.', basefmt=None, use_line_collection=True); ax.set_ylim((0,2));"
   ]
  },
  {
   "cell_type": "code",
   "execution_count": null,
   "id": "747e59d8-56f2-498c-b66c-121552f62794",
   "metadata": {},
   "outputs": [],
   "source": [
    "# simple example filter\n",
    "\n",
    "fil = np.array([0, 0,  0,  0,  0,  0,  1,  0,  0,  0,  0, 0, 0,])\n",
    "#fil = np.array([1, 0,  0,  0,  0,  0,  0,  0,  0,  0,  0, 0, 0,])\n",
    "#fil = np.array([0, 0,  0,  0,  0,  0,  2,  0,  0,  0,  0, 0, 0,])\n",
    "#fil = np.array([0, 0,  0,  0, .2, .2, .2, .2, .2,  0,  0, 0, 0,])\n",
    "#fil = np.array([0, 0,  0,  0, .1, .2, .4, .2, .1,  0,  0, 0, 0,])\n",
    "#fil = np.array([0, 0, .2, .2, .1,  0,  0,  0, .1, .2, .2, 0, 0,])\n",
    "\n",
    "t = np.arange(0, len(fil)) - np.floor(len(fil)/2)\n",
    "\n",
    "fig = plt.figure(figsize=(5,2)); ax = plt.axes()\n",
    "ax.stem(t, fil, linefmt=None, markerfmt='.', basefmt=None, use_line_collection=True); ax.set_ylim((0,2))"
   ]
  },
  {
   "cell_type": "code",
   "execution_count": null,
   "id": "6856672b-49b2-49ec-b97d-23f147248232",
   "metadata": {},
   "outputs": [],
   "source": [
    "from scipy import signal\n",
    "\n",
    "filtered = signal.convolve(sig, fil, mode='same')\n",
    "t = np.arange(0, len(filtered))\n",
    "\n",
    "fig, axs = plt.subplots(nrows=2, ncols=1, figsize=(15,5))\n",
    "\n",
    "axs[0].stem(t, sig,      linefmt=None, markerfmt='.', basefmt=None, use_line_collection=True); axs[0].set_ylim((0,2)); \n",
    "axs[1].stem(t, filtered, linefmt=None, markerfmt='.', basefmt=None, use_line_collection=True); axs[1].set_ylim((0,2)); "
   ]
  },
  {
   "cell_type": "markdown",
   "id": "83674970-3fbc-40f0-81d4-939f7d85bfd0",
   "metadata": {},
   "source": [
    "### Spiking Neuron Example"
   ]
  },
  {
   "cell_type": "code",
   "execution_count": null,
   "id": "ce0940ee-de84-459d-9fb1-daf8f75b89cf",
   "metadata": {},
   "outputs": [],
   "source": [
    "import numpy as np\n",
    "import numpy.random as R\n",
    "import matplotlib.pyplot as plt\n",
    "from scipy import signal\n",
    "\n",
    "# this is NOT how we would really simulate spikes\n",
    "def create_spikes(maxt, propback, propsig):\n",
    "\n",
    "    spikesback = np.concatenate((np.ones(int(propback*maxt)), np.zeros(int((1-propback)*maxt))))\n",
    "    spikesback = R.permutation(spikesback)\n",
    "\n",
    "    spikessig = np.concatenate((np.ones(int(propsig*maxt)), np.zeros(int((1-propsig)*maxt))))\n",
    "    spikessig = R.permutation(spikessig)\n",
    "\n",
    "    spikes = np.concatenate((spikesback, spikessig))\n",
    "    \n",
    "    return(spikes)\n",
    "\n",
    "maxt = 500\n",
    "propback = .02\n",
    "propsig = .08\n",
    "\n",
    "spikes1 = create_spikes(maxt, propback, propsig)\n",
    "spikes2 = create_spikes(maxt, propback, propsig)\n",
    "spikes3 = create_spikes(maxt, propback, propsig)\n",
    "t = np.arange(2*maxt)\n",
    "\n",
    "fig, axs = plt.subplots(nrows=3, ncols=1, figsize=(15,4))\n",
    "axs[0].stem(t, spikes1, linefmt=None, markerfmt='.', basefmt=None, use_line_collection=True); axs[0].set_ylim((0,1.1)); axs[0].set_yticks([]); axs[0].set_xticks([]);\n",
    "axs[1].stem(t, spikes2, linefmt=None, markerfmt='.', basefmt=None, use_line_collection=True); axs[1].set_ylim((0,1.1)); axs[1].set_yticks([]); axs[1].set_xticks([]);\n",
    "axs[2].stem(t, spikes3, linefmt=None, markerfmt='.', basefmt=None, use_line_collection=True); axs[2].set_ylim((0,1.1)); axs[2].set_yticks([]);"
   ]
  },
  {
   "cell_type": "code",
   "execution_count": null,
   "id": "cb744c19-bf89-4783-a0f3-ea9af825edf2",
   "metadata": {},
   "outputs": [],
   "source": [
    "# exponential filter\n",
    "\n",
    "ml = 2; mr = 20;\n",
    "wid = 100\n",
    "ltau = np.arange(-wid, 0)\n",
    "lfilter = np.exp(-(-ltau)*(1/ml))\n",
    "\n",
    "rtau = np.arange(0, wid)\n",
    "rfilter = np.exp(-rtau*(1/mr))\n",
    "\n",
    "tau = np.concatenate((ltau, rtau))\n",
    "filter = np.concatenate((lfilter, rfilter))\n",
    "filter = filter/np.sum(filter)\n",
    "\n",
    "plt.plot(tau, filter)"
   ]
  },
  {
   "cell_type": "code",
   "execution_count": null,
   "id": "a3a74ffd-620b-496e-9653-eeac755967b1",
   "metadata": {},
   "outputs": [],
   "source": [
    "from scipy import signal\n",
    "\n",
    "filtered1 = signal.convolve(spikes1, filter, mode='same')\n",
    "filtered2 = signal.convolve(spikes2, filter, mode='same')\n",
    "filtered3 = signal.convolve(spikes3, filter, mode='same')\n",
    "t = np.arange(0, len(filtered1))\n",
    "\n",
    "fig, axs = plt.subplots(nrows=3, ncols=1, figsize=(15,4))\n",
    "\n",
    "maxs = np.max(np.concatenate((filtered1, filtered2, filtered2)))\n",
    "axs[0].plot(t, filtered1); axs[0].set_ylim((0,maxs*1.1))\n",
    "axs[1].plot(t, filtered2); axs[1].set_ylim((0,maxs*1.1))\n",
    "axs[2].plot(t, filtered3); axs[2].set_ylim((0,maxs*1.1));"
   ]
  },
  {
   "cell_type": "code",
   "execution_count": null,
   "id": "1b3efd1f-b574-4c18-ab41-a5e43ccf7ecc",
   "metadata": {},
   "outputs": [],
   "source": [
    "fig, ax = plt.subplots(figsize=(15,2))\n",
    "\n",
    "maxs = np.max(filtered1+filtered2+filtered2)\n",
    "\n",
    "ax.plot(t, (filtered1+filtered2+filtered3)); ax.set_ylim((0,maxs*1.1));"
   ]
  },
  {
   "cell_type": "markdown",
   "id": "37104c53-9d23-499f-b6d8-a0bf8e3bfcb0",
   "metadata": {},
   "source": [
    "### hemodynamic response function example"
   ]
  },
  {
   "cell_type": "code",
   "execution_count": null,
   "id": "de43b118-2fdf-4339-a522-b10a07787221",
   "metadata": {},
   "outputs": [],
   "source": [
    "# HDR function from previous homework assignments\n",
    "\n",
    "import numpy as np\n",
    "import matplotlib.pyplot as plt\n",
    "import math\n",
    "\n",
    "def hdr(x, a1=6., b1=1., a2=16., b2=1., w=5. / 6.):\n",
    "    HDRval1 = ((b1 ** a1) * (x ** a1) * np.exp(-x * b1)) / math.gamma(a1)\n",
    "    HDRval2 = ((b2 ** a2) * (x ** a2) * np.exp(-x * b2)) / math.gamma(a2)\n",
    "    HDRval = w * HDRval1 - (1 - w) * HDRval2\n",
    "    return HDRval\n",
    "\n",
    "def plothdr(x, h):\n",
    "    plt.plot(x, h)\n",
    "    plt.xlabel(\"time\")\n",
    "    plt.ylabel(\"HDR\")\n",
    "    plt.title(\"Hemodynamic Response (HDR) Function\")\n",
    "    plt.show()\n",
    "   \n",
    "dt = .01\n",
    "x = np.arange(0, 30, dt)\n",
    "\n",
    "h = hdr(x)\n",
    "h = h/np.sum(h)\n",
    "\n",
    "plothdr(x, h)\n",
    "\n",
    "# note that this filter is NOT centered at zero (but zero is at the left)"
   ]
  },
  {
   "cell_type": "code",
   "execution_count": null,
   "id": "3312acb0-9d4e-427f-9fa6-220f0f84ec5f",
   "metadata": {},
   "outputs": [],
   "source": [
    "def create_steps(N, tevent, tgap, dt):\n",
    "    seq = np.zeros(int(tgap*(1/dt)))\n",
    "    for i in range(N):\n",
    "        step = np.concatenate((np.ones(int(tevent*(1/dt))), np.zeros(int(tgap*(1/dt)))))\n",
    "        seq = np.concatenate((seq, step))\n",
    "    return (seq)\n",
    "\n",
    "N = 3; tevent = 1; tgap = 10; dt = .01\n",
    "\n",
    "seq = create_steps(N, tevent, tgap, dt)\n",
    "tim = np.arange(0, N*(tevent+tgap)+tgap, dt)\n",
    "\n",
    "fig, ax = plt.subplots(figsize=(10,1.5))\n",
    "ax.plot(tim, seq);  ax.set_ylim((-.1, 1.1));"
   ]
  },
  {
   "cell_type": "code",
   "execution_count": null,
   "id": "56e6c91c-f63d-4302-a440-3467cb2e470e",
   "metadata": {},
   "outputs": [],
   "source": [
    "from scipy import signal\n",
    "\n",
    "N = 3; tevent = 1; tgap = 20; dt = .01\n",
    "\n",
    "seq = create_steps(N, tevent, tgap, dt)\n",
    "\n",
    "# I did not include 'same' here to force a time shift because the filter is not centered at t=0\n",
    "cseq = signal.convolve(np.float64(seq), np.float64(h))\n",
    "\n",
    "fig, axs = plt.subplots(nrows=2, ncols=1, tight_layout=True, figsize=(10,3))\n",
    "\n",
    "tim = np.arange(0, N*(tevent+tgap)+tgap, dt)\n",
    "\n",
    "axs[0].plot(tim, seq);  axs[0].set_ylim((-.1, 1.1))\n",
    "\n",
    "# here I take into account the longer filtered version because I left off 'same' above\n",
    "axs[1].plot(tim, cseq[:len(seq)]);"
   ]
  },
  {
   "cell_type": "markdown",
   "id": "ddbca0a6-51ca-48da-b729-b941da0f4908",
   "metadata": {},
   "source": [
    "### Convolution with 2D Images"
   ]
  },
  {
   "cell_type": "code",
   "execution_count": null,
   "id": "f37ed1cc-4019-469f-838e-7e39ccddc346",
   "metadata": {},
   "outputs": [],
   "source": [
    "import numpy as np\n",
    "import matplotlib.pyplot as plt\n",
    "from PIL import Image\n",
    "from IPython.display import display\n",
    "from scipy import signal\n",
    "\n",
    "im = Image.open('Jordingray-small.jpg')\n",
    "\n",
    "imdata = np.asarray(im)\n",
    "plt.imshow(im);"
   ]
  },
  {
   "cell_type": "code",
   "execution_count": null,
   "id": "528f9220-7b13-4398-b3ff-f8789759a9ae",
   "metadata": {},
   "outputs": [],
   "source": [
    "# gaussian filter\n",
    "\n",
    "fil = np.array([[1, 2, 1],\n",
    "                [2, 4, 2],\n",
    "                [1, 2, 1]])\n",
    "fil = fil / np.sum(fil)\n",
    "\n",
    "fimdata = signal.convolve2d(imdata, fil, mode='same')\n",
    "\n",
    "fim = Image.fromarray(np.uint8(fimdata))\n",
    "\n",
    "# this is a tiny image (play around with sz to see that)\n",
    "sz = (imdata.shape)[0]*6\n",
    "display(im.resize((sz,sz),resample=Image.Resampling.NEAREST))\n",
    "display(fim.resize((sz,sz),resample=Image.Resampling.NEAREST))\n",
    "\n",
    "# see what the \"NEAREST\" optional argument does by removing it\n",
    "# display(im.resize((sz,sz)))\n",
    "# display(fim.resize((sz,sz)))"
   ]
  },
  {
   "cell_type": "code",
   "execution_count": null,
   "id": "0300a086-d88c-47da-8e02-475900fc9101",
   "metadata": {},
   "outputs": [],
   "source": [
    "# larger gaussian filter\n",
    "\n",
    "def my_mvnpdf(x, M, S):\n",
    "    return (1 / np.sqrt((2 * np.pi * np.linalg.det(S)))) * np.exp(-(1/2) * (np.transpose(x-M) @ np.linalg.inv(S) @ (x-M)))\n",
    "\n",
    "s = 5\n",
    "sx = s; sy = s; rho = 0.0\n",
    "mu = np.array([0, 0])\n",
    "sig = np.array([[sx**2,     rho*sx*sy],\n",
    "                [rho*sx*sy, sy**2]])\n",
    "\n",
    "sz = 25\n",
    "inc = 1\n",
    "xsteps = np.arange(-sz, sz, 1)\n",
    "ysteps = np.arange(-sz, sz, 1)\n",
    "X, Y = np.meshgrid(xsteps, ysteps)\n",
    "Z = np.zeros(X.shape)\n",
    "\n",
    "for i in range(len(xsteps)):\n",
    "    for j in range(len(ysteps)):\n",
    "        xy = np.array([X[i,j], Y[i,j]])\n",
    "        Z[i,j] = my_mvnpdf(xy, mu, sig)\n",
    "\n",
    "fil = Z/np.sum(Z)"
   ]
  },
  {
   "cell_type": "code",
   "execution_count": null,
   "id": "23b7529c-e373-44ba-b3eb-e1eb1289d590",
   "metadata": {},
   "outputs": [],
   "source": [
    "im = Image.open('Jordingray.bmp')\n",
    "\n",
    "imdata = np.asarray(im)\n",
    "\n",
    "fimdata = signal.convolve2d(imdata, fil, mode='same')\n",
    "\n",
    "fim = Image.fromarray(np.uint8(fimdata))\n",
    "\n",
    "sz = (imdata.shape)[0]*1\n",
    "display(im.resize((sz,sz), resample=Image.Resampling.NEAREST))\n",
    "display(fim.resize((sz,sz),resample=Image.Resampling.NEAREST))"
   ]
  },
  {
   "cell_type": "code",
   "execution_count": null,
   "id": "a7e9f3c7-750a-487c-bde7-37c381b0aeb1",
   "metadata": {},
   "outputs": [],
   "source": [
    "im = Image.open('Jordingray-small.jpg')\n",
    "\n",
    "imdata = np.asarray(im)\n",
    "\n",
    "# first, blur with gaussian filter\n",
    "\n",
    "filg = np.array([[1, 2, 1],\n",
    "                 [2, 4, 2],\n",
    "                 [1, 2, 1]])\n",
    "filg = filg / np.sum(filg)\n",
    "\n",
    "fimdatag = signal.convolve2d(np.float64(imdata), np.float64(filg), mode='same')\n",
    "fimdatag[fimdatag<0]   = 0\n",
    "fimdatag[fimdatag>255] = 255\n",
    "\n",
    "# then, use a sharpen mask\n",
    "fils = np.array([[ 0, -1,  0],\n",
    "                 [-1,  5, -1],\n",
    "                 [ 0, -1,  0]])\n",
    "fils = fils / np.sum(fils)\n",
    "\n",
    "fimdatas = signal.convolve2d(np.float64(fimdatag), np.float64(fils), mode='same')\n",
    "fimdatas[fimdatas<0]   = 0\n",
    "fimdatas[fimdatas>255] = 255\n",
    "\n",
    "fimg = Image.fromarray(np.uint8(fimdatag))\n",
    "fims = Image.fromarray(np.uint8(fimdatas))\n",
    "\n",
    "sz = (imdata.shape)[0]*6\n",
    "display(im.resize((sz,sz), Image.Resampling.NEAREST))\n",
    "display(fimg.resize((sz,sz),Image.Resampling.NEAREST))\n",
    "display(fims.resize((sz,sz),Image.Resampling.NEAREST))"
   ]
  },
  {
   "cell_type": "code",
   "execution_count": null,
   "id": "807444bb-91f2-4e40-a9ce-613e90ea6443",
   "metadata": {},
   "outputs": [],
   "source": [
    "display(im)\n",
    "display(fimg)\n",
    "display(fims)"
   ]
  },
  {
   "cell_type": "markdown",
   "id": "11a25227-b751-4371-af96-921371de173b",
   "metadata": {},
   "source": [
    "### Laplacian of Gaussians filter"
   ]
  },
  {
   "cell_type": "code",
   "execution_count": null,
   "id": "2cb280ae-b994-496c-b9b6-1ee7f0573379",
   "metadata": {},
   "outputs": [],
   "source": [
    "import numpy as np\n",
    "import matplotlib.pyplot as plt\n",
    "from PIL import Image\n",
    "from scipy import signal\n",
    "\n",
    "im = Image.open('Jordingray.bmp')\n",
    "\n",
    "imdata = np.asarray(im)\n",
    "\n",
    "fig = plt.figure(); ax = plt.axes()\n",
    "\n",
    "ax.imshow(imdata, cmap='gray')\n",
    "ax.set_xticks([]); ax.set_yticks([]);"
   ]
  },
  {
   "cell_type": "code",
   "execution_count": null,
   "id": "f27aeea2-dde1-4d4f-8274-d7a31389ad74",
   "metadata": {},
   "outputs": [],
   "source": [
    "fLoG = np.array([[0,   1,   1,   2,   2,   2,   1,   1,   0],\n",
    "                 [1,   2,   4,   5,   5,   5,   4,   2,   1],\n",
    "                 [1,   4,   5,   3,   0,   3,   5,   4,   1],\n",
    "                 [2,   5,   3, -12, -24, -12,   3,   5,   2],\n",
    "                 [2,   5,   0, -24, -40, -24,   0,   5,   2],\n",
    "                 [2,   5,   3, -12, -24, -12,   3,   5,   2],\n",
    "                 [1,   4,   5,   3,   0,   3,   5,   4,   1],\n",
    "                 [1,   2,   4,   5,   5,   5,   4,   2,   1],\n",
    "                 [0,   1,   1,   2,   2,   2,   1,   1,   0]])\n",
    "\n",
    "fimdata = signal.convolve2d(imdata, fLoG, mode='same')\n",
    "\n",
    "fimdata"
   ]
  },
  {
   "cell_type": "code",
   "execution_count": null,
   "id": "4ba65457-9068-47f4-a358-81ddf6e467ea",
   "metadata": {},
   "outputs": [],
   "source": [
    "fimdata[fimdata<0]   = 0\n",
    "fimdata[fimdata>255] = 255"
   ]
  },
  {
   "cell_type": "code",
   "execution_count": null,
   "id": "a388791f-2f26-4471-8217-573190490b65",
   "metadata": {},
   "outputs": [],
   "source": [
    "fig = plt.figure(); ax = plt.axes()\n",
    "\n",
    "ax.imshow(fimdata, cmap='gray')\n",
    "ax.set_xticks([]); ax.set_yticks([]);"
   ]
  },
  {
   "cell_type": "markdown",
   "id": "444459e0-4aef-42be-9241-3eff3ba5ba62",
   "metadata": {},
   "source": [
    "### cross-correlation and auto-correlation"
   ]
  },
  {
   "cell_type": "code",
   "execution_count": null,
   "id": "f33a421a-32c0-48e9-b162-0a6fe3214d5d",
   "metadata": {},
   "outputs": [],
   "source": [
    "# pattern in signal\n",
    "\n",
    "pattern = np.arange(-.5,.5,.01)\n",
    "sig = np.tile(pattern, 20)\n",
    "\n",
    "fig = plt.figure(figsize=(10,2.5)); ax = plt.axes()\n",
    "ax.plot(sig);"
   ]
  },
  {
   "cell_type": "code",
   "execution_count": null,
   "id": "8e30f4e5-e736-499a-86fd-82d46a395308",
   "metadata": {},
   "outputs": [],
   "source": [
    "# add noise\n",
    "\n",
    "import numpy.random as R\n",
    "\n",
    "noise = .5\n",
    "pattern = np.arange(-.5,.5,.01)\n",
    "sig = np.tile(pattern, 20)\n",
    "sig = np.concatenate((noise*R.randn(len(sig)), sig + noise*R.randn(len(sig)), noise*R.randn(len(sig))))\n",
    "\n",
    "fig = plt.figure(figsize=(10,2.5)); ax = plt.axes()\n",
    "ax.plot(sig);"
   ]
  },
  {
   "cell_type": "code",
   "execution_count": null,
   "id": "301ae0e3-858c-498b-a8bf-10e52fee1aae",
   "metadata": {},
   "outputs": [],
   "source": [
    "# cross-correlation\n",
    "\n",
    "from scipy import signal\n",
    "\n",
    "corr = signal.correlate(sig, pattern, mode='same')\n",
    "\n",
    "ym = 1.1*np.max(np.abs(corr))\n",
    "fig = plt.figure(figsize=(10,2.5)); ax = plt.axes()\n",
    "ax.plot(corr); ax.set_ylim((-ym, ym));"
   ]
  },
  {
   "cell_type": "code",
   "execution_count": null,
   "id": "ed965b1f-2ac0-469f-a625-5040792b5092",
   "metadata": {},
   "outputs": [],
   "source": [
    "# cross-correlation with scrambled signal\n",
    "\n",
    "scram = R.permutation(sig)\n",
    "\n",
    "corr = signal.correlate(scram, pattern, mode='same')\n",
    "\n",
    "fig = plt.figure(figsize=(10,2.5)); ax = plt.axes()\n",
    "ax.plot(corr); ax.set_ylim((-ym, ym));"
   ]
  },
  {
   "cell_type": "code",
   "execution_count": null,
   "id": "b62dfaca-bc2f-48ec-8aa7-9d5eee76d9f8",
   "metadata": {},
   "outputs": [],
   "source": [
    "# autocorrelation of signal with itself\n",
    "\n",
    "corr = signal.correlate(sig, sig, mode='same')\n",
    "\n",
    "ym = 1.1*np.max(np.abs(corr))\n",
    "fig = plt.figure(figsize=(10,2.5)); ax = plt.axes()\n",
    "ax.plot(corr); ax.set_ylim((-ym, ym));"
   ]
  },
  {
   "cell_type": "code",
   "execution_count": null,
   "id": "ee545fe6-ab57-4f7f-990c-497d10701280",
   "metadata": {},
   "outputs": [],
   "source": [
    "# autocorrelation with scrambled version\n",
    "\n",
    "corr = signal.correlate(scram, scram, mode='same')\n",
    "\n",
    "fig = plt.figure(figsize=(10,2.5)); ax = plt.axes()\n",
    "ax.plot(corr); ax.set_ylim((-ym, ym));"
   ]
  },
  {
   "cell_type": "markdown",
   "id": "d7c3e38c-5d33-4cc5-8fd3-a02c4fb32b15",
   "metadata": {},
   "source": [
    "# Fourier Analysis"
   ]
  },
  {
   "cell_type": "code",
   "execution_count": null,
   "id": "08fa5d0e-15a4-4d9a-bd4b-a0a47376bbad",
   "metadata": {},
   "outputs": [],
   "source": [
    "# fourier elements of a square wave\n",
    "\n",
    "# number of elements\n",
    "K = 10\n",
    "\n",
    "L = 1\n",
    "\n",
    "t = np.arange(0, 10, .01)\n",
    "\n",
    "result = np.zeros(len(t))\n",
    "parts = np.zeros((len(t),K))\n",
    "\n",
    "fig, axs = plt.subplots(nrows=1, ncols=2, tight_layout=True, figsize=(10,5))\n",
    "\n",
    "for n in range(1,K,2):\n",
    "\n",
    "    parts[:,n] = (1/n)*np.sin(n*np.pi*t/L)\n",
    "    result[:] = result[:] + parts[:,n]\n",
    "\n",
    "# constituent sinusoids\n",
    "axs[0].plot(t,parts)\n",
    "\n",
    "# sum to this point\n",
    "axs[1].plot(t,result);"
   ]
  },
  {
   "cell_type": "code",
   "execution_count": null,
   "id": "4f331c55-4c6e-4ce6-92e4-bb988139fa7a",
   "metadata": {},
   "outputs": [],
   "source": [
    "from scipy.fft import fft, ifft\n",
    "\n",
    "fig, axs = plt.subplots(nrows=1, ncols=2, tight_layout=True, figsize=(10,5))\n",
    "\n",
    "f1 = result\n",
    "\n",
    "axs[0].plot(t,f1); axs[0].set_title('Original')\n",
    "\n",
    "# take FFT\n",
    "F = fft(result)\n",
    "\n",
    "# take the inverse FFT\n",
    "f2 = np.real(ifft(F))\n",
    "\n",
    "axs[1].plot(t,f2); axs[1].set_title('Recovered');"
   ]
  },
  {
   "cell_type": "code",
   "execution_count": null,
   "id": "948e4170-374f-4dac-ad06-493f05256a4c",
   "metadata": {},
   "outputs": [],
   "source": [
    "import numpy as np\n",
    "import matplotlib.pyplot as plt\n",
    "from scipy.fft import fft, ifft\n",
    "\n",
    "# Sampling Rate\n",
    "#   - could be samples per second (if time)\n",
    "#   - could be samples per inch (if space)\n",
    "#   - could be samples per degree of visual angle (if psychophys exp)\n",
    "Sr = 250\n",
    "\n",
    "# example function\n",
    "t = np.arange(0, 100, 1/Sr)\n",
    "f1 = 1*np.sin((2*np.pi)*2*t  + np.pi/6)      + \\\n",
    "     2*np.sin((2*np.pi)*5*t  + np.pi)        + \\\n",
    "     3*np.sin((2*np.pi)*10*t + np.pi/2)      + \\\n",
    "     1*np.sin((2*np.pi)*70*t + np.pi/4)\n",
    "\n",
    "fig = plt.figure(); ax = plt.axes()\n",
    "\n",
    "ax.plot(t[:int(len(t)/80)], f1[:int(len(t)/80)]);"
   ]
  },
  {
   "cell_type": "code",
   "execution_count": null,
   "id": "d64c58dd-3aa1-4f5d-a2a1-f4c6350059d4",
   "metadata": {},
   "outputs": [],
   "source": [
    "fig, axs = plt.subplots(nrows=1, ncols=2, tight_layout=True, figsize=(10,5))\n",
    "\n",
    "axs[0].plot(t[:int(len(t)/80)], f1[:int(len(t)/80)]); axs[0].set_title('Original');\n",
    "\n",
    "# take fourier\n",
    "F = fft(f1)\n",
    "\n",
    "# take the inverse FFT\n",
    "f2 = np.real(ifft(F))\n",
    "\n",
    "axs[1].plot(t[:int(len(t)/80)], f2[:int(len(t)/80)]); axs[1].set_title('Recovered');"
   ]
  },
  {
   "cell_type": "code",
   "execution_count": null,
   "id": "6fa158d2-b343-4021-9c1c-3ade7f01eab8",
   "metadata": {},
   "outputs": [],
   "source": [
    "# num of samples\n",
    "nsamples = len(t)\n",
    "\n",
    "# fft\n",
    "F = fft(f1)\n",
    "\n",
    "# amplitude\n",
    "A = abs(F)\n",
    "\n",
    "# plot amplitude by frequency\n",
    "# note that only half of the frequency range is meaningful\n",
    "Freq = np.arange(0, nsamples)*(Sr/nsamples)\n",
    "\n",
    "fig = plt.figure(); ax = plt.axes()\n",
    "# ax.plot(Freq[:int(len(Freq)/2)], A[:int(len(A)/2)]); ax.set_xlabel('frequency'); ax.set_ylabel('amplitude');\n",
    "ax.plot(Freq, A); ax.set_xlabel('frequency'); ax.set_ylabel('amplitude');"
   ]
  },
  {
   "cell_type": "code",
   "execution_count": null,
   "id": "5db9a720-cbd2-4bdd-a2cc-6e7cc8bc9739",
   "metadata": {},
   "outputs": [],
   "source": [
    "# plot phase by frequency\n",
    "Phase = np.arctan2(np.imag(F), np.real(F))\n",
    "\n",
    "fig = plt.figure(); ax = plt.axes()\n",
    "ax.plot(Freq, (A>.1)*Phase); ax.set_xlabel('frequency'); ax.set_ylabel('phase');"
   ]
  },
  {
   "cell_type": "markdown",
   "id": "b7faadc3-554f-430b-98ce-d587d2ca162f",
   "metadata": {},
   "source": [
    "### 2D Fourier Analysis"
   ]
  },
  {
   "cell_type": "code",
   "execution_count": null,
   "id": "2f707e2e-2fc1-40d4-a403-2c01e8879bed",
   "metadata": {},
   "outputs": [],
   "source": [
    "from scipy.fft import fft2, ifft2, fftshift\n",
    "from PIL import Image\n",
    "from IPython.display import display\n",
    "\n",
    "im = Image.open('line90.jpg')\n",
    "#im = Image.open('line45.jpg')\n",
    "#im = Image.open('square.jpg')\n",
    "#im = Image.open('line.jpg')\n",
    "\n",
    "imdata = np.asarray(im)\n",
    "\n",
    "F = fft2(imdata)\n",
    "F2 = np.log(np.abs(fftshift(F)))\n",
    "\n",
    "fig, axs = plt.subplots(nrows=1, ncols=2, tight_layout=True, figsize=(10,5))\n",
    "axs[0].imshow(imdata, cmap='gray')\n",
    "axs[1].imshow(F2, cmap='gray');"
   ]
  },
  {
   "cell_type": "code",
   "execution_count": null,
   "id": "d38e8391-a593-4c54-aaf8-b716627b7663",
   "metadata": {},
   "outputs": [],
   "source": [
    "from scipy.fft import fft2, ifft2, fftshift\n",
    "\n",
    "im = Image.open('Jordingray.bmp')\n",
    "\n",
    "imdata = np.asarray(im)\n",
    "\n",
    "F = fft2(imdata)\n",
    "F2 = np.log(np.abs(fftshift(F)))\n",
    "\n",
    "fig, axs = plt.subplots(nrows=1, ncols=2, tight_layout=True, figsize=(10,5))\n",
    "axs[0].imshow(imdata, cmap='gray')\n",
    "axs[1].imshow(F2, cmap='gray');"
   ]
  },
  {
   "cell_type": "code",
   "execution_count": null,
   "id": "28f53c46-39dc-4ca6-84a8-c461bdd642bd",
   "metadata": {},
   "outputs": [],
   "source": [
    "from scipy.fft import fft2, ifft2, fftshift\n",
    "\n",
    "im = Image.open('zebras.jpg')\n",
    "im = im.convert(mode=\"1\")\n",
    "\n",
    "imdata = np.asarray(im)\n",
    "\n",
    "F = fft2(imdata)\n",
    "F2 = np.log(np.abs(fftshift(F)))\n",
    "\n",
    "fig, axs = plt.subplots(nrows=1, ncols=2, tight_layout=True, figsize=(10,5))\n",
    "axs[0].imshow(imdata, cmap='gray')\n",
    "axs[1].imshow(F2, cmap='gray');"
   ]
  },
  {
   "cell_type": "code",
   "execution_count": null,
   "id": "93a1a40a-5fbb-4b06-ad76-b13d6598573a",
   "metadata": {},
   "outputs": [],
   "source": [
    "from scipy.fft import fft2, ifft2, fftshift\n",
    "import numpy.random as R\n",
    "\n",
    "im = Image.open('Jordingray.bmp')\n",
    "\n",
    "imdata = np.asarray(im)\n",
    "\n",
    "F = fft2(imdata)\n",
    "\n",
    "# add noise to phase\n",
    "A = abs(F)\n",
    "\n",
    "# add noise to phase\n",
    "pnoise = 0.5\n",
    "P = np.arctan2(np.imag(F), np.real(F));\n",
    "P += pnoise*R.randn(P.shape[0], P.shape[1])\n",
    "\n",
    "F2 = A * np.exp(1j*P)\n",
    "\n",
    "f2 = np.real(ifft2(F2))\n",
    "\n",
    "fig, axs = plt.subplots(nrows=1, ncols=2, tight_layout=True, figsize=(10,5))\n",
    "axs[0].imshow(imdata, cmap='gray')\n",
    "axs[1].imshow(f2, cmap='gray');"
   ]
  },
  {
   "cell_type": "code",
   "execution_count": null,
   "id": "847b7b41-dfc8-48a4-b8e7-5c8373853d73",
   "metadata": {},
   "outputs": [],
   "source": []
  }
 ],
 "metadata": {
  "kernelspec": {
   "display_name": "Python 3 (ipykernel)",
   "language": "python",
   "name": "python3"
  },
  "language_info": {
   "codemirror_mode": {
    "name": "ipython",
    "version": 3
   },
   "file_extension": ".py",
   "mimetype": "text/x-python",
   "name": "python",
   "nbconvert_exporter": "python",
   "pygments_lexer": "ipython3",
   "version": "3.8.13"
  }
 },
 "nbformat": 4,
 "nbformat_minor": 5
}
