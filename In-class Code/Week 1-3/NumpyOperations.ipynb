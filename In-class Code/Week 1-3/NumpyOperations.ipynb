{
 "cells": [
  {
   "cell_type": "markdown",
   "metadata": {},
   "source": [
    "***\n",
    "\n",
    "# Operations on Numpy Arrays"
   ]
  },
  {
   "cell_type": "markdown",
   "metadata": {},
   "source": [
    "### scalar operations on arrays"
   ]
  },
  {
   "cell_type": "code",
   "execution_count": 2,
   "metadata": {},
   "outputs": [
    {
     "name": "stdout",
     "output_type": "stream",
     "text": [
      "[[ 1.  1.  3. 14.  5.]\n",
      " [ 6.  1.  8. 29.  0.]]\n"
     ]
    }
   ],
   "source": [
    "import numpy as np\n",
    "import math\n",
    "\n",
    "data = np.array([[1., 2., 3., 4., 5.],[6., 7., 8., 9., 0.]])\n",
    "\n",
    "# operations on individual elements\n",
    "data[0, 3] = data[0, 3] + 10\n",
    "data[1, 3] += 20\n",
    "data[0, 1] /= 2\n",
    "data[1, 1] = math.cos(data[1, 4])\n",
    "\n",
    "print(data)"
   ]
  },
  {
   "cell_type": "code",
   "execution_count": 3,
   "metadata": {},
   "outputs": [
    {
     "name": "stdout",
     "output_type": "stream",
     "text": [
      "[[11. 12. 13. 14. 15.]\n",
      " [ 6.  7.  8.  9.  0.]]\n"
     ]
    }
   ],
   "source": [
    "# operations on entire array (or slices of an array)\n",
    "\n",
    "data = np.array([[1., 2., 3., 4., 5.],[6., 7., 8., 9., 0.]])\n",
    "\n",
    "# remember, never hard code things, instead do things like this\n",
    "(nrow, ncol) = data.shape\n",
    "\n",
    "# element-wise operation on 1st row using a for loop\n",
    "for j in range(ncol):\n",
    "    data[0, j] += 10\n",
    "\n",
    "print(data)"
   ]
  },
  {
   "cell_type": "code",
   "execution_count": 4,
   "metadata": {},
   "outputs": [
    {
     "name": "stdout",
     "output_type": "stream",
     "text": [
      "[[11. 12. 13. 14. 15.]\n",
      " [ 6.  7.  8.  9.  0.]]\n"
     ]
    }
   ],
   "source": [
    "# can do the same operations in one line (vectorized array operations)\n",
    "\n",
    "data = np.array([[1., 2., 3., 4., 5.],[6., 7., 8., 9., 0.]])\n",
    "(nrow, ncol) = data.shape\n",
    "\n",
    "# add to each element in first row (vectorized)\n",
    "data[0,:] = data[0,:] + 10\n",
    "print(data)"
   ]
  },
  {
   "cell_type": "code",
   "execution_count": 5,
   "metadata": {},
   "outputs": [
    {
     "name": "stdout",
     "output_type": "stream",
     "text": [
      "[[11. 12. 13. 14. 15.]\n",
      " [16. 17. 18. 19. 10.]]\n"
     ]
    }
   ],
   "source": [
    "data = np.array([[1., 2., 3., 4., 5.],[6., 7., 8., 9., 0.]])\n",
    "\n",
    "# remember, never hard code things, instead do things like this\n",
    "(nrow, ncol) = data.shape\n",
    "\n",
    "# element-wise operation on entire array using nested for loops\n",
    "for i in range(nrow):\n",
    "    for j in range(ncol):\n",
    "        data[i, j] += 10\n",
    "\n",
    "print(data)"
   ]
  },
  {
   "cell_type": "code",
   "execution_count": 6,
   "metadata": {},
   "outputs": [
    {
     "name": "stdout",
     "output_type": "stream",
     "text": [
      "[[11. 12. 13. 14. 15.]\n",
      " [16. 17. 18. 19. 10.]]\n"
     ]
    }
   ],
   "source": [
    "# can do the same operations in one line (vectorized array operations)\n",
    "\n",
    "data = np.array([[1., 2., 3., 4., 5.],[6., 7., 8., 9., 0.]])\n",
    "\n",
    "# add to all elements in array (vectorized)\n",
    "data += 10\n",
    "print(data)"
   ]
  },
  {
   "cell_type": "code",
   "execution_count": 7,
   "metadata": {},
   "outputs": [
    {
     "name": "stdout",
     "output_type": "stream",
     "text": [
      "[1, 2, 3, 4, 5]\n",
      "[1, 2, 3, 4, 5, 1, 2, 3, 4, 5, 1, 2, 3, 4, 5]\n"
     ]
    }
   ],
   "source": [
    "# lists vs. numpy arrays\n",
    "\n",
    "a = [1, 2, 3, 4, 5]\n",
    "print(a)\n",
    "print(3*a)"
   ]
  },
  {
   "cell_type": "code",
   "execution_count": 8,
   "metadata": {},
   "outputs": [
    {
     "name": "stdout",
     "output_type": "stream",
     "text": [
      "[1 2 3 4 5]\n",
      "[ 3  6  9 12 15]\n"
     ]
    }
   ],
   "source": [
    "# lists vs. numpy arrays\n",
    "\n",
    "b = np.array([1, 2, 3, 4, 5])\n",
    "print(b)\n",
    "print(3*b)"
   ]
  },
  {
   "cell_type": "markdown",
   "metadata": {},
   "source": [
    "### element-wise operations on arrays\n",
    "\n",
    "(arrays must have the same size)"
   ]
  },
  {
   "cell_type": "code",
   "execution_count": 9,
   "metadata": {},
   "outputs": [
    {
     "name": "stdout",
     "output_type": "stream",
     "text": [
      "[[1 2 1 2]\n",
      " [3 4 3 4]\n",
      " [1 2 1 2]\n",
      " [3 4 3 4]]\n",
      "\n",
      "[[5 0 5 0]\n",
      " [0 5 0 5]\n",
      " [5 0 5 0]\n",
      " [0 5 0 5]]\n"
     ]
    }
   ],
   "source": [
    "# element-wise operations on two arrays (same size)\n",
    "\n",
    "a = np.tile([[1, 2], [3, 4]], (2, 2))\n",
    "b = np.tile([[5, 0], [0, 5]], (2, 2))\n",
    "print(a)\n",
    "print()\n",
    "print(b)"
   ]
  },
  {
   "cell_type": "code",
   "execution_count": 10,
   "metadata": {},
   "outputs": [
    {
     "name": "stdout",
     "output_type": "stream",
     "text": [
      "[[6 2 6 2]\n",
      " [3 9 3 9]\n",
      " [6 2 6 2]\n",
      " [3 9 3 9]]\n"
     ]
    }
   ],
   "source": [
    "print(a+b)"
   ]
  },
  {
   "cell_type": "code",
   "execution_count": 11,
   "metadata": {},
   "outputs": [
    {
     "name": "stdout",
     "output_type": "stream",
     "text": [
      "[[ 5  0  5  0]\n",
      " [ 0 20  0 20]\n",
      " [ 5  0  5  0]\n",
      " [ 0 20  0 20]]\n"
     ]
    }
   ],
   "source": [
    "print(a*b)"
   ]
  },
  {
   "cell_type": "code",
   "execution_count": 12,
   "metadata": {},
   "outputs": [
    {
     "name": "stdout",
     "output_type": "stream",
     "text": [
      "[[  5   0   5   0]\n",
      " [  0 625   0 625]\n",
      " [  5   0   5   0]\n",
      " [  0 625   0 625]]\n"
     ]
    }
   ],
   "source": [
    "print(b**a)"
   ]
  },
  {
   "cell_type": "markdown",
   "metadata": {},
   "source": [
    "***\n",
    "\n",
    "### computing mathematical functions with numpy arrays"
   ]
  },
  {
   "cell_type": "code",
   "execution_count": null,
   "metadata": {},
   "outputs": [],
   "source": [
    "import math\n",
    "\n",
    "alpha = 1.\n",
    "beta = 2.\n",
    "gam = .5\n",
    "lam = .1\n",
    "\n",
    "x = 1.\n",
    "\n",
    "F = 1 - math.exp(-(x/alpha)**beta)\n",
    "psi = gam + (1. - lam - gam)*F\n",
    "\n",
    "print(psi)"
   ]
  },
  {
   "cell_type": "code",
   "execution_count": null,
   "metadata": {},
   "outputs": [],
   "source": [
    "# compute a full graph\n",
    "\n",
    "import math\n",
    "import numpy as np\n",
    "\n",
    "alpha = 1.\n",
    "beta = 2.\n",
    "gam = .5\n",
    "lam = .1\n",
    "\n",
    "x = np.arange(0, 5, .01)\n",
    "\n",
    "# need to replace math.exp() with np.exp()\n",
    "F = 1 - np.exp(-(x/alpha)**beta)\n",
    "psi = gam + (1. - lam - gam)*F\n"
   ]
  },
  {
   "cell_type": "code",
   "execution_count": null,
   "metadata": {},
   "outputs": [],
   "source": [
    "# equivalent to\n",
    "\n",
    "psi = np.zeros(len(x))\n",
    "for i in range(len(x)):\n",
    "    F = 1 - np.exp(-(x[i]/alpha)**beta)\n",
    "    psi[i] = gam + (1. - lam - gam)*F"
   ]
  },
  {
   "cell_type": "code",
   "execution_count": null,
   "metadata": {},
   "outputs": [],
   "source": [
    "# basic plotting with matplotlib\n",
    "\n",
    "import matplotlib.pyplot as plt\n",
    "\n",
    "plt.plot(x, psi)\n",
    "plt.xlabel(\"stimulus manipulation\")\n",
    "plt.ylabel(\"accuracy\")\n",
    "plt.title(\"psychophysical function\")\n",
    "plt.show()"
   ]
  },
  {
   "cell_type": "markdown",
   "metadata": {},
   "source": [
    "Normal Distribution:\n",
    "$p(x) = \\frac{1}{\\sqrt{2\\pi\\sigma^2}}\\exp\\left(\\frac{-(x-\\mu)^2}{2\\sigma^2}\\right)$"
   ]
  },
  {
   "cell_type": "code",
   "execution_count": null,
   "metadata": {},
   "outputs": [],
   "source": [
    "import numpy as np\n",
    "import matplotlib.pyplot as plt\n",
    "import math\n",
    "\n",
    "m = 0.0\n",
    "s = 1.0\n",
    "x = np.arange(-4.0, 4.0, .01)\n",
    "p = (1/math.sqrt(2*math.pi*(s**2))) * np.exp(-((x-m)**2)/(2*(s**2)))\n",
    "plt.plot(x, p)\n",
    "plt.xlabel(\"x\")\n",
    "plt.ylabel(\"p(x)\")\n",
    "plt.title(\"Normal Distribution\")\n",
    "plt.show()"
   ]
  },
  {
   "cell_type": "markdown",
   "metadata": {},
   "source": [
    "### for loops vs. vectorizing\n",
    "\n",
    "<i>The danger of vectorizing is making a (largely hidden) mistake. Unless you are certain of your coding, it makes sense to compare vectorized with non-vectorized (for loop) code. In a laboratory setting, it can make sense to show a commented out for-loop version of the code above the vectorized code.</i>"
   ]
  },
  {
   "cell_type": "code",
   "execution_count": 13,
   "metadata": {},
   "outputs": [],
   "source": [
    "# power of vectorizing (using array, vector, and matrix operations rather than for loops)\n",
    "\n",
    "import numpy as np\n",
    "\n",
    "N = 1000\n",
    "\n",
    "a = np.random.rand(N,N)\n",
    "b = np.random.rand(N,N)\n",
    "c = np.zeros((N,N))"
   ]
  },
  {
   "cell_type": "code",
   "execution_count": 14,
   "metadata": {},
   "outputs": [
    {
     "name": "stdout",
     "output_type": "stream",
     "text": [
      "378 ms ± 1.7 ms per loop (mean ± std. dev. of 7 runs, 1 loop each)\n"
     ]
    }
   ],
   "source": [
    "%%timeit\n",
    "\n",
    "for i in range(N):\n",
    "    for j in range(N):\n",
    "        c[i,j] = a[i,j]+b[i,j]\n",
    "        \n",
    "# note that his IS QUICKER because it's running fewer iterations (it's just slow)"
   ]
  },
  {
   "cell_type": "code",
   "execution_count": 15,
   "metadata": {},
   "outputs": [
    {
     "name": "stdout",
     "output_type": "stream",
     "text": [
      "1.67 ms ± 31.4 µs per loop (mean ± std. dev. of 7 runs, 1000 loops each)\n"
     ]
    }
   ],
   "source": [
    "%%timeit\n",
    "\n",
    "c = a+b\n",
    "\n",
    "# note that this TAKES LONGER because it's running more iterations (better stats)"
   ]
  },
  {
   "cell_type": "code",
   "execution_count": null,
   "metadata": {},
   "outputs": [],
   "source": [
    "# built-in Python (sum) vs. numpy (np.sum)\n",
    "\n",
    "N = 1000000\n",
    "\n",
    "a = np.random.rand(N)\n",
    "\n",
    "%timeit sum(a)\n",
    "%timeit np.sum(a)"
   ]
  },
  {
   "cell_type": "code",
   "execution_count": null,
   "metadata": {},
   "outputs": [],
   "source": [
    "# numpy versions of math functions must be used (when applied to arrays, not elements)\n",
    "\n",
    "print(np.sin(a))\n",
    "\n",
    "# math.sin(a) would throw an error"
   ]
  },
  {
   "cell_type": "code",
   "execution_count": null,
   "metadata": {},
   "outputs": [],
   "source": [
    "# preallocate vs. append\n",
    "\n",
    "N = 100000\n",
    "\n",
    "a = np.zeros(N)       # preallocated\n",
    "b = np.array([])      # to be appended to"
   ]
  },
  {
   "cell_type": "code",
   "execution_count": null,
   "metadata": {},
   "outputs": [],
   "source": [
    "%%timeit\n",
    "\n",
    "# preallocated\n",
    "for i in range(N):\n",
    "    a[i] = i"
   ]
  },
  {
   "cell_type": "code",
   "execution_count": null,
   "metadata": {},
   "outputs": [],
   "source": [
    "%%timeit\n",
    "\n",
    "# appended\n",
    "for i in range(N):\n",
    "    np.append(b, i)"
   ]
  },
  {
   "cell_type": "code",
   "execution_count": null,
   "metadata": {},
   "outputs": [],
   "source": [
    "# another example of appending (and use of axes)\n",
    "\n",
    "import numpy as np\n",
    "\n",
    "a = np.array([[1, 2], [3, 4]])\n",
    "b = np.array([[6, 7], [8, 9]])\n",
    "print(a)\n",
    "print(b)"
   ]
  },
  {
   "cell_type": "code",
   "execution_count": null,
   "metadata": {},
   "outputs": [],
   "source": [
    "# can append to axis 0 OR axis 1\n",
    "\n",
    "print(np.append(a, b, axis=0))"
   ]
  },
  {
   "cell_type": "code",
   "execution_count": null,
   "metadata": {},
   "outputs": [],
   "source": [
    "print(np.append(a, b, axis=1))"
   ]
  },
  {
   "cell_type": "markdown",
   "metadata": {},
   "source": [
    "### broadcasting (with numpy)\n",
    "\n",
    "https://numpy.org/doc/stable/user/basics.broadcasting.html"
   ]
  },
  {
   "cell_type": "code",
   "execution_count": null,
   "metadata": {},
   "outputs": [],
   "source": [
    "import numpy as np\n",
    "\n",
    "a = np.array([[1, 1, 1, 1], [2, 2, 2, 2], [3, 3, 3, 3]])\n",
    "b = np.array([[10], [20], [30]])\n",
    "\n",
    "print(a)\n",
    "print(b)\n",
    "print(a.shape)\n",
    "print(b.shape)"
   ]
  },
  {
   "cell_type": "code",
   "execution_count": null,
   "metadata": {},
   "outputs": [],
   "source": [
    "print(a*b)"
   ]
  },
  {
   "cell_type": "code",
   "execution_count": null,
   "metadata": {},
   "outputs": [],
   "source": [
    "c = np.array([[10, 20, 30, 40]])\n",
    "\n",
    "print(a)\n",
    "print(c)\n",
    "print(a.shape)\n",
    "print(c.shape)"
   ]
  },
  {
   "cell_type": "code",
   "execution_count": null,
   "metadata": {
    "jupyter": {
     "source_hidden": true
    }
   },
   "outputs": [],
   "source": [
    "print(a*c)"
   ]
  },
  {
   "cell_type": "code",
   "execution_count": null,
   "metadata": {},
   "outputs": [],
   "source": []
  },
  {
   "cell_type": "code",
   "execution_count": null,
   "metadata": {},
   "outputs": [],
   "source": []
  }
 ],
 "metadata": {
  "kernelspec": {
   "display_name": "Python 3 (ipykernel)",
   "language": "python",
   "name": "python3"
  },
  "language_info": {
   "codemirror_mode": {
    "name": "ipython",
    "version": 3
   },
   "file_extension": ".py",
   "mimetype": "text/x-python",
   "name": "python",
   "nbconvert_exporter": "python",
   "pygments_lexer": "ipython3",
   "version": "3.8.13"
  }
 },
 "nbformat": 4,
 "nbformat_minor": 5
}
