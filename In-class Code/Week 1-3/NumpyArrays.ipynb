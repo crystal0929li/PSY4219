{
 "cells": [
  {
   "cell_type": "markdown",
   "id": "424f127c",
   "metadata": {},
   "source": [
    "***\n",
    "\n",
    "# Numpy Arrays\n",
    "\n",
    "https://numpy.org \n",
    "\n",
    "https://numpy.org/doc/stable/user/quickstart.html "
   ]
  },
  {
   "cell_type": "code",
   "execution_count": 1,
   "id": "b8c94edb",
   "metadata": {},
   "outputs": [
    {
     "name": "stdout",
     "output_type": "stream",
     "text": [
      "[1. 2. 3. 4. 5.]\n",
      "<class 'numpy.ndarray'>\n",
      "<class 'numpy.float64'>\n"
     ]
    }
   ],
   "source": [
    "import numpy as np\n",
    "\n",
    "# numpy arrays are homogeneous (the same type), unlike lists and tuples\n",
    "\n",
    "# creating a numpy array from a list\n",
    "a = np.array([1., 2., 3., 4., 5.])\n",
    "print(a)\n",
    "print(type(a))\n",
    "print(type(a[0]))"
   ]
  },
  {
   "cell_type": "markdown",
   "id": "2ad93e86",
   "metadata": {},
   "source": [
    "### Numpy Array Types"
   ]
  },
  {
   "cell_type": "code",
   "execution_count": 2,
   "id": "2e2578d7",
   "metadata": {},
   "outputs": [
    {
     "name": "stdout",
     "output_type": "stream",
     "text": [
      "[1 2 3 4 5]\n",
      "<class 'numpy.ndarray'>\n",
      "<class 'numpy.int64'>\n",
      "int64\n",
      "\n"
     ]
    }
   ],
   "source": [
    "# numpy arrays can have a wide range of types\n",
    "\n",
    "a = np.array([1, 2, 3, 4, 5], dtype='int64')\n",
    "\n",
    "print(a)\n",
    "print(type(a))\n",
    "print(type(a[0]))\n",
    "print(a.dtype)\n",
    "print()"
   ]
  },
  {
   "cell_type": "code",
   "execution_count": 3,
   "id": "de4a00fe",
   "metadata": {},
   "outputs": [
    {
     "name": "stdout",
     "output_type": "stream",
     "text": [
      "[1. 2. 3. 4. 5.]\n",
      "<class 'numpy.ndarray'>\n",
      "<class 'numpy.float64'>\n",
      "float64\n",
      "\n"
     ]
    }
   ],
   "source": [
    "# numpy arrays can have a wide range of types\n",
    "\n",
    "b = np.array([1, 2, 3, 4, 5], dtype='float64')\n",
    "\n",
    "print(b)\n",
    "print(type(b))\n",
    "print(type(b[0]))\n",
    "print(b.dtype)\n",
    "print()"
   ]
  },
  {
   "cell_type": "code",
   "execution_count": 4,
   "id": "9ca55ef4",
   "metadata": {},
   "outputs": [
    {
     "name": "stdout",
     "output_type": "stream",
     "text": [
      "[1 2 3 4 5]\n",
      "<class 'numpy.ndarray'>\n",
      "<class 'numpy.uint8'>\n",
      "uint8\n"
     ]
    }
   ],
   "source": [
    "# numpy arrays can have a wide range of types\n",
    "\n",
    "c = np.array([1, 2, 3, 4, 5], dtype='uint8')\n",
    "\n",
    "print(c)\n",
    "print(type(c))\n",
    "print(type(c[0]))\n",
    "print(c.dtype)"
   ]
  },
  {
   "cell_type": "markdown",
   "id": "885f09a7",
   "metadata": {},
   "source": [
    "### Multidimensional Numpy Arrays"
   ]
  },
  {
   "cell_type": "code",
   "execution_count": 5,
   "id": "ea61187e",
   "metadata": {},
   "outputs": [
    {
     "name": "stdout",
     "output_type": "stream",
     "text": [
      "[[1, 2, 3], [4, 5, 6]]\n",
      "[[1 2 3]\n",
      " [4 5 6]]\n",
      "((1, 2, 3), (4, 5, 6))\n",
      "[[1 2 3]\n",
      " [4 5 6]]\n"
     ]
    }
   ],
   "source": [
    "# multidimensional numpy arrays\n",
    "\n",
    "# this is a list\n",
    "a = [[1, 2, 3], [4, 5, 6]]\n",
    "\n",
    "# convert to a numpy array\n",
    "b = np.array(a)\n",
    "\n",
    "print(a)\n",
    "print(b)\n",
    "\n",
    "# can also start with a tuple\n",
    "a = ((1, 2, 3), (4, 5, 6))\n",
    "\n",
    "# convert to a numpy array\n",
    "b = np.array(a)\n",
    "\n",
    "print(a)\n",
    "print(b)"
   ]
  },
  {
   "cell_type": "markdown",
   "id": "95161a7b",
   "metadata": {},
   "source": [
    "### Lists vs. Numpy Arrays"
   ]
  },
  {
   "cell_type": "code",
   "execution_count": 6,
   "id": "ea4c96c5",
   "metadata": {},
   "outputs": [
    {
     "name": "stdout",
     "output_type": "stream",
     "text": [
      "a[1][2]  6\n",
      "b[1,2]   6\n"
     ]
    }
   ],
   "source": [
    "# lists vs. numpy arrays\n",
    "\n",
    "a = [[1, 2, 3], [4, 5, 6]]\n",
    "b = np.array(a)\n",
    "\n",
    "# addressing lists vs. numpy arrays\n",
    "print(\"a[1][2] \", a[1][2])\n",
    "print(\"b[1,2]  \", b[1,2])"
   ]
  },
  {
   "cell_type": "code",
   "execution_count": 7,
   "id": "7d48f409",
   "metadata": {},
   "outputs": [
    {
     "name": "stdout",
     "output_type": "stream",
     "text": [
      "[[1, 2], [4, 5, 6]]\n",
      "[list([1, 2]) list([4, 5, 6])]\n"
     ]
    },
    {
     "name": "stderr",
     "output_type": "stream",
     "text": [
      "/var/folders/cn/2ndxgmyd0s51q8_w0mfv_bhw0000gn/T/ipykernel_19952/3331529252.py:6: VisibleDeprecationWarning: Creating an ndarray from ragged nested sequences (which is a list-or-tuple of lists-or-tuples-or ndarrays with different lengths or shapes) is deprecated. If you meant to do this, you must specify 'dtype=object' when creating the ndarray.\n",
      "  b = np.array(a)\n"
     ]
    }
   ],
   "source": [
    "# this is perfectly ok with a list\n",
    "a = [[1, 2], [4, 5, 6]]\n",
    "print(a)\n",
    "\n",
    "# doesn't work with a numpy array\n",
    "b = np.array(a)\n",
    "print(b)"
   ]
  },
  {
   "cell_type": "markdown",
   "id": "6eae0032",
   "metadata": {},
   "source": [
    "### Shapes of Numpy Arrays"
   ]
  },
  {
   "cell_type": "code",
   "execution_count": 8,
   "id": "dd0eefee",
   "metadata": {},
   "outputs": [
    {
     "name": "stdout",
     "output_type": "stream",
     "text": [
      "[[1 2]\n",
      " [3 4]\n",
      " [5 6]\n",
      " [7 8]]\n",
      "a.shape :  (4, 2)\n"
     ]
    },
    {
     "data": {
      "text/plain": [
       "tuple"
      ]
     },
     "execution_count": 8,
     "metadata": {},
     "output_type": "execute_result"
    }
   ],
   "source": [
    "import numpy as np\n",
    "\n",
    "# shape of numpy array\n",
    "a = np.array([[1,2],[3,4],[5,6],[7,8]])\n",
    "print(a)\n",
    "s = a.shape\n",
    "print(\"a.shape : \", s)\n",
    "type(s)"
   ]
  },
  {
   "cell_type": "code",
   "execution_count": 9,
   "id": "ca1ddc02",
   "metadata": {},
   "outputs": [
    {
     "name": "stdout",
     "output_type": "stream",
     "text": [
      "[[[1, 2, 3], [4, 5, 6]], [[7, 8, 9], [10, 11, 12]]]\n",
      "[[[ 1  2  3]\n",
      "  [ 4  5  6]]\n",
      "\n",
      " [[ 7  8  9]\n",
      "  [10 11 12]]]\n",
      "(2, 2, 3)\n"
     ]
    }
   ],
   "source": [
    "b = [[[1, 2, 3], [4, 5, 6]], [[7, 8, 9], [10, 11, 12]]]\n",
    "print(b)\n",
    "c = np.array(b)\n",
    "print(c)\n",
    "print(c.shape)"
   ]
  },
  {
   "cell_type": "markdown",
   "id": "5083ad86",
   "metadata": {},
   "source": [
    "### Slicing Numpy Arrays"
   ]
  },
  {
   "cell_type": "code",
   "execution_count": 10,
   "id": "2b06a2f7",
   "metadata": {},
   "outputs": [
    {
     "name": "stdout",
     "output_type": "stream",
     "text": [
      "[[1 2 3]\n",
      " [4 5 6]]\n",
      "[[ 4  5  6]\n",
      " [10 11 12]]\n",
      "[[ 2  5]\n",
      " [ 8 11]]\n"
     ]
    }
   ],
   "source": [
    "# slicing numpy arrays (see class slides for illustrations)\n",
    "\n",
    "import numpy as np\n",
    "\n",
    "a = np.array([[[1, 2, 3], [4, 5, 6]], [[7, 8, 9], [10, 11, 12]]])\n",
    "\n",
    "print(a[0,:,:])\n",
    "print(a[:,1,:])\n",
    "print(a[:,:,1])"
   ]
  },
  {
   "cell_type": "code",
   "execution_count": 11,
   "id": "62d215be",
   "metadata": {},
   "outputs": [
    {
     "name": "stdout",
     "output_type": "stream",
     "text": [
      "[[1 1 2 2 3 3 4 4 5 5]\n",
      " [6 6 7 7 8 8 9 9 0 0]]\n"
     ]
    }
   ],
   "source": [
    "# slicing part of a numpy array\n",
    "\n",
    "a = np.array([[1, 1, 2, 2, 3, 3, 4, 4, 5, 5], [6, 6, 7, 7, 8, 8, 9, 9, 0, 0]])\n",
    "print(a)"
   ]
  },
  {
   "cell_type": "code",
   "execution_count": 12,
   "id": "39e1462e",
   "metadata": {},
   "outputs": [
    {
     "name": "stdout",
     "output_type": "stream",
     "text": [
      "a[0, 2:7]\n",
      "[2 2 3 3 4]\n"
     ]
    }
   ],
   "source": [
    "print(\"a[0, 2:7]\")\n",
    "print(a[0, 2:7])"
   ]
  },
  {
   "cell_type": "code",
   "execution_count": 13,
   "id": "5053c977",
   "metadata": {},
   "outputs": [
    {
     "name": "stdout",
     "output_type": "stream",
     "text": [
      "a[:, 5:]\n",
      "[[3 4 4 5 5]\n",
      " [8 9 9 0 0]]\n"
     ]
    }
   ],
   "source": [
    "print(\"a[:, 5:]\")\n",
    "print(a[:, 5:])"
   ]
  },
  {
   "cell_type": "code",
   "execution_count": 14,
   "id": "cd02ef05",
   "metadata": {},
   "outputs": [
    {
     "name": "stdout",
     "output_type": "stream",
     "text": [
      "a[1, 0:10:2]\n",
      "[6 7 8 9 0]\n"
     ]
    }
   ],
   "source": [
    "print(\"a[1, 0:10:2]\")\n",
    "print(a[1, 0:10:2])"
   ]
  },
  {
   "cell_type": "code",
   "execution_count": 15,
   "id": "dea00f4f",
   "metadata": {},
   "outputs": [
    {
     "name": "stdout",
     "output_type": "stream",
     "text": [
      "a[:, [9, 4, 6]]\n",
      "[[5 3 4]\n",
      " [0 8 9]]\n"
     ]
    }
   ],
   "source": [
    "print(\"a[:, [9, 4, 6]]\")\n",
    "print(a[:, [9, 4, 6]])"
   ]
  },
  {
   "cell_type": "markdown",
   "id": "fc633709",
   "metadata": {},
   "source": [
    "### Preallocating Numpy Arrays"
   ]
  },
  {
   "cell_type": "code",
   "execution_count": 16,
   "id": "dc942365",
   "metadata": {},
   "outputs": [
    {
     "name": "stdout",
     "output_type": "stream",
     "text": [
      "[0. 0. 0. 0. 0.]\n",
      "(5,)\n",
      "[0. 0. 0. 0. 0.]\n",
      "(5,)\n"
     ]
    }
   ],
   "source": [
    "# preallocating numpy arrays with zeros\n",
    "\n",
    "import numpy as np\n",
    "\n",
    "a = np.zeros(5)\n",
    "print(a)\n",
    "print(a.shape)\n",
    "\n",
    "# is the same as\n",
    "a = np.zeros((5,))\n",
    "print(a)\n",
    "print(a.shape)"
   ]
  },
  {
   "cell_type": "code",
   "execution_count": 17,
   "id": "0899e15d",
   "metadata": {},
   "outputs": [
    {
     "name": "stdout",
     "output_type": "stream",
     "text": [
      "[0 0 0 0 0]\n",
      "[0. 0. 0. 0. 0.]\n"
     ]
    }
   ],
   "source": [
    "# can specify type\n",
    "a = np.zeros(5, dtype=int)\n",
    "print(a)\n",
    "b = np.zeros(5, dtype=float)\n",
    "print(b)"
   ]
  },
  {
   "cell_type": "code",
   "execution_count": 18,
   "id": "ab8374ba",
   "metadata": {},
   "outputs": [
    {
     "name": "stdout",
     "output_type": "stream",
     "text": [
      "[[0. 0. 0.]\n",
      " [0. 0. 0.]\n",
      " [0. 0. 0.]\n",
      " [0. 0. 0.]]\n",
      "4 3\n"
     ]
    }
   ],
   "source": [
    "# multidimensional numpy array\n",
    "\n",
    "a = np.zeros((4,3))\n",
    "print(a)\n",
    "(r,c) = a.shape\n",
    "print(r,c)"
   ]
  },
  {
   "cell_type": "code",
   "execution_count": 19,
   "id": "a527bdcc",
   "metadata": {},
   "outputs": [
    {
     "name": "stdout",
     "output_type": "stream",
     "text": [
      "[1. 1. 1. 1. 1.]\n",
      "(5,)\n"
     ]
    }
   ],
   "source": [
    "# preallocating with ones\n",
    "\n",
    "a = np.ones((5,))\n",
    "print(a)\n",
    "print(a.shape)"
   ]
  },
  {
   "cell_type": "code",
   "execution_count": 20,
   "id": "5c328ab2",
   "metadata": {},
   "outputs": [
    {
     "name": "stdout",
     "output_type": "stream",
     "text": [
      "[1. 1. 1. 1. 1.]\n",
      "(5,)\n",
      "\n",
      "[[1.]\n",
      " [1.]\n",
      " [1.]\n",
      " [1.]\n",
      " [1.]]\n",
      "(5, 1)\n",
      "\n",
      "[[1. 1. 1. 1. 1.]]\n",
      "(1, 5)\n"
     ]
    }
   ],
   "source": [
    "# note these differences\n",
    "\n",
    "# array of 5 elements (1D vector)\n",
    "a = np.ones((5,))\n",
    "print(a)\n",
    "print(a.shape)\n",
    "print()\n",
    "\n",
    "# 2D column vector\n",
    "b = np.ones((5,1))\n",
    "print(b)\n",
    "print(b.shape)\n",
    "print()\n",
    "\n",
    "# 2D row vector\n",
    "c = np.ones((1,5))\n",
    "print(c)\n",
    "print(c.shape)"
   ]
  },
  {
   "cell_type": "code",
   "execution_count": 21,
   "id": "928db4b9",
   "metadata": {},
   "outputs": [
    {
     "name": "stdout",
     "output_type": "stream",
     "text": [
      "[0.  0.1 0.2 0.3 0.4 0.5 0.6 0.7 0.8 0.9 1.  1.1 1.2 1.3 1.4 1.5 1.6 1.7\n",
      " 1.8 1.9 2.  2.1 2.2 2.3 2.4 2.5 2.6 2.7 2.8 2.9 3.  3.1 3.2 3.3 3.4 3.5\n",
      " 3.6 3.7 3.8 3.9 4.  4.1 4.2 4.3 4.4 4.5 4.6 4.7 4.8 4.9 5.  5.1 5.2 5.3\n",
      " 5.4 5.5 5.6 5.7 5.8 5.9 6.  6.1 6.2 6.3 6.4 6.5 6.6 6.7 6.8 6.9 7.  7.1\n",
      " 7.2 7.3 7.4 7.5 7.6 7.7 7.8 7.9 8.  8.1 8.2 8.3 8.4 8.5 8.6 8.7 8.8 8.9\n",
      " 9.  9.1 9.2 9.3 9.4 9.5 9.6 9.7 9.8 9.9]\n",
      "[ 0.          0.1010101   0.2020202   0.3030303   0.4040404   0.50505051\n",
      "  0.60606061  0.70707071  0.80808081  0.90909091  1.01010101  1.11111111\n",
      "  1.21212121  1.31313131  1.41414141  1.51515152  1.61616162  1.71717172\n",
      "  1.81818182  1.91919192  2.02020202  2.12121212  2.22222222  2.32323232\n",
      "  2.42424242  2.52525253  2.62626263  2.72727273  2.82828283  2.92929293\n",
      "  3.03030303  3.13131313  3.23232323  3.33333333  3.43434343  3.53535354\n",
      "  3.63636364  3.73737374  3.83838384  3.93939394  4.04040404  4.14141414\n",
      "  4.24242424  4.34343434  4.44444444  4.54545455  4.64646465  4.74747475\n",
      "  4.84848485  4.94949495  5.05050505  5.15151515  5.25252525  5.35353535\n",
      "  5.45454545  5.55555556  5.65656566  5.75757576  5.85858586  5.95959596\n",
      "  6.06060606  6.16161616  6.26262626  6.36363636  6.46464646  6.56565657\n",
      "  6.66666667  6.76767677  6.86868687  6.96969697  7.07070707  7.17171717\n",
      "  7.27272727  7.37373737  7.47474747  7.57575758  7.67676768  7.77777778\n",
      "  7.87878788  7.97979798  8.08080808  8.18181818  8.28282828  8.38383838\n",
      "  8.48484848  8.58585859  8.68686869  8.78787879  8.88888889  8.98989899\n",
      "  9.09090909  9.19191919  9.29292929  9.39393939  9.49494949  9.5959596\n",
      "  9.6969697   9.7979798   9.8989899  10.        ]\n",
      "[ 0.   0.1  0.2  0.3  0.4  0.5  0.6  0.7  0.8  0.9  1.   1.1  1.2  1.3\n",
      "  1.4  1.5  1.6  1.7  1.8  1.9  2.   2.1  2.2  2.3  2.4  2.5  2.6  2.7\n",
      "  2.8  2.9  3.   3.1  3.2  3.3  3.4  3.5  3.6  3.7  3.8  3.9  4.   4.1\n",
      "  4.2  4.3  4.4  4.5  4.6  4.7  4.8  4.9  5.   5.1  5.2  5.3  5.4  5.5\n",
      "  5.6  5.7  5.8  5.9  6.   6.1  6.2  6.3  6.4  6.5  6.6  6.7  6.8  6.9\n",
      "  7.   7.1  7.2  7.3  7.4  7.5  7.6  7.7  7.8  7.9  8.   8.1  8.2  8.3\n",
      "  8.4  8.5  8.6  8.7  8.8  8.9  9.   9.1  9.2  9.3  9.4  9.5  9.6  9.7\n",
      "  9.8  9.9 10. ]\n"
     ]
    }
   ],
   "source": [
    "# fill a numpy array with a sequence\n",
    "\n",
    "# min, max, step (doesn't include max)\n",
    "a = np.arange(0, 10, .1)\n",
    "print(a)\n",
    "\n",
    "# min, max, number of equal-spaced elements (includes max)\n",
    "b = np.linspace(0, 10, 100)\n",
    "print(b)\n",
    "\n",
    "c = np.linspace(0, 10, 101)\n",
    "print(c)"
   ]
  },
  {
   "cell_type": "code",
   "execution_count": 22,
   "id": "aabfccaf",
   "metadata": {},
   "outputs": [
    {
     "name": "stdout",
     "output_type": "stream",
     "text": [
      "[[0.8068114  0.38670721 0.36305956 0.52768024]\n",
      " [0.24227015 0.22022674 0.10703583 0.54545592]\n",
      " [0.85120612 0.13414019 0.43938607 0.01259818]\n",
      " [0.03268108 0.4094064  0.58956313 0.72056486]\n",
      " [0.60121489 0.04738853 0.90205803 0.69638752]]\n"
     ]
    }
   ],
   "source": [
    "# fill with (uniformly-distributed) random numbers \n",
    "# (we will talk more about random numbers later)\n",
    "\n",
    "a = np.random.random((5, 4))\n",
    "print(a)"
   ]
  },
  {
   "cell_type": "markdown",
   "id": "e423f81b",
   "metadata": {},
   "source": [
    "### Extending, Reshaping, Resizing Numpy Arrays"
   ]
  },
  {
   "cell_type": "code",
   "execution_count": 23,
   "id": "4e856d69",
   "metadata": {},
   "outputs": [
    {
     "name": "stdout",
     "output_type": "stream",
     "text": [
      "a: (nrows, ncols) = (2, 3)\n",
      "[[1 2 3]\n",
      " [4 5 6]]\n"
     ]
    }
   ],
   "source": [
    "# extend a numpy array (using append)\n",
    "\n",
    "import numpy as np\n",
    "\n",
    "a = np.array([[1, 2, 3], [4, 5, 6]])\n",
    "print(f\"a: (nrows, ncols) = ({a.shape[0]}, {a.shape[1]})\")\n",
    "print(a)"
   ]
  },
  {
   "cell_type": "code",
   "execution_count": 24,
   "id": "8be08650",
   "metadata": {},
   "outputs": [
    {
     "name": "stdout",
     "output_type": "stream",
     "text": [
      "b: (nrows, ncols) = (1, 3)\n",
      "[[1 2 3]\n",
      " [4 5 6]\n",
      " [7 8 9]]\n"
     ]
    }
   ],
   "source": [
    "# add a new row\n",
    "b = np.array([[7, 8, 9]])\n",
    "print(f\"b: (nrows, ncols) = ({b.shape[0]}, {b.shape[1]})\")\n",
    "c = np.append(a, b, axis=0)\n",
    "print(c)"
   ]
  },
  {
   "cell_type": "code",
   "execution_count": 25,
   "id": "edccc485",
   "metadata": {},
   "outputs": [
    {
     "name": "stdout",
     "output_type": "stream",
     "text": [
      "[[1 2 3]\n",
      " [4 5 6]]\n"
     ]
    }
   ],
   "source": [
    "print(a)"
   ]
  },
  {
   "cell_type": "code",
   "execution_count": 26,
   "id": "be5abb58",
   "metadata": {},
   "outputs": [
    {
     "name": "stdout",
     "output_type": "stream",
     "text": [
      "b: (nrows, ncols) = (1, 3)\n",
      "[[1 2 3]\n",
      " [4 5 6]\n",
      " [0 0 0]]\n"
     ]
    }
   ],
   "source": [
    "# add a new row of zeros\n",
    "b = np.zeros((1, a.shape[1]), dtype=a.dtype)\n",
    "print(f\"b: (nrows, ncols) = ({b.shape[0]}, {b.shape[1]})\")\n",
    "c = np.append(a, b, axis=0)\n",
    "print(c)"
   ]
  },
  {
   "cell_type": "code",
   "execution_count": 27,
   "id": "b53e653e",
   "metadata": {},
   "outputs": [
    {
     "name": "stdout",
     "output_type": "stream",
     "text": [
      "b: (nrows, ncols) = (2, 5)\n",
      "[[1. 2. 3. 0. 0. 0. 0. 0.]\n",
      " [4. 5. 6. 0. 0. 0. 0. 0.]]\n"
     ]
    }
   ],
   "source": [
    "# add 5 new columns of zeros\n",
    "b = np.zeros((a.shape[0], 5))\n",
    "print(f\"b: (nrows, ncols) = ({b.shape[0]}, {b.shape[1]})\")\n",
    "c = np.append(a, b, axis=1)\n",
    "print(c)"
   ]
  },
  {
   "cell_type": "code",
   "execution_count": 28,
   "id": "f193037d",
   "metadata": {},
   "outputs": [
    {
     "name": "stdout",
     "output_type": "stream",
     "text": [
      "[[1 2]\n",
      " [3 4]]\n",
      "[[6 7]\n",
      " [8 9]]\n",
      "[[1 2 6 7]\n",
      " [3 4 8 9]]\n"
     ]
    }
   ],
   "source": [
    "a = np.array([[1, 2], [3, 4]])\n",
    "b = np.array([[6, 7], [8, 9]])\n",
    "\n",
    "# can append to axis 0 OR axis 1\n",
    "\n",
    "c = np.append(a, b, axis=1)\n",
    "\n",
    "print(a)\n",
    "print(b)\n",
    "print(c)"
   ]
  },
  {
   "cell_type": "code",
   "execution_count": 29,
   "id": "5a2d6711",
   "metadata": {},
   "outputs": [
    {
     "name": "stdout",
     "output_type": "stream",
     "text": [
      "a: (nrows, ncols) = (2, 3)\n",
      "[[1 2 3]\n",
      " [4 5 6]]\n"
     ]
    }
   ],
   "source": [
    "# extend a numpy array (using concatenate)\n",
    "\n",
    "a = np.array([[1, 2, 3], [4, 5, 6]])\n",
    "print(f\"a: (nrows, ncols) = ({a.shape[0]}, {a.shape[1]})\")\n",
    "print(a)"
   ]
  },
  {
   "cell_type": "code",
   "execution_count": 30,
   "id": "eb7e8abf",
   "metadata": {},
   "outputs": [
    {
     "name": "stdout",
     "output_type": "stream",
     "text": [
      "b: (nrows, ncols) = (1, 3)\n",
      "[[1 2 3]\n",
      " [4 5 6]\n",
      " [7 8 9]]\n"
     ]
    }
   ],
   "source": [
    "# add a new row\n",
    "b = np.array([[7, 8, 9]])\n",
    "print(f\"b: (nrows, ncols) = ({b.shape[0]}, {b.shape[1]})\")\n",
    "c = np.concatenate((a, b), axis=0)\n",
    "print(c)"
   ]
  },
  {
   "cell_type": "code",
   "execution_count": 31,
   "id": "f2e4fba0",
   "metadata": {},
   "outputs": [
    {
     "name": "stdout",
     "output_type": "stream",
     "text": [
      "b: (nrows, ncols) = (1, 3)\n",
      "[[1 2 3]\n",
      " [4 5 6]\n",
      " [0 0 0]]\n"
     ]
    }
   ],
   "source": [
    "# add a new row of zeros\n",
    "b = np.zeros((1, a.shape[1]), dtype=a.dtype)\n",
    "print(f\"b: (nrows, ncols) = ({b.shape[0]}, {b.shape[1]})\")\n",
    "c = np.concatenate((a, b), axis=0)\n",
    "print(c)"
   ]
  },
  {
   "cell_type": "code",
   "execution_count": 32,
   "id": "14d78298",
   "metadata": {},
   "outputs": [
    {
     "name": "stdout",
     "output_type": "stream",
     "text": [
      "b: (nrows, ncols) = (2, 5)\n"
     ]
    }
   ],
   "source": [
    "# add 5 new columns of zeros\n",
    "b = np.zeros((a.shape[0], 5))\n",
    "print(f\"b: (nrows, ncols) = ({b.shape[0]}, {b.shape[1]})\")\n",
    "c = np.concatenate((a, b), axis=1)"
   ]
  },
  {
   "cell_type": "code",
   "execution_count": 34,
   "id": "8dcad9e7",
   "metadata": {},
   "outputs": [
    {
     "name": "stdout",
     "output_type": "stream",
     "text": [
      "[[1. 2. 3. 0. 0. 0. 0. 0. 1. 2. 3. 0. 0. 0. 0. 0.]\n",
      " [4. 5. 6. 0. 0. 0. 0. 0. 4. 5. 6. 0. 0. 0. 0. 0.]]\n"
     ]
    }
   ],
   "source": [
    "# unlike append, concatenate can do multiples\n",
    "\n",
    "c = np.concatenate((a, b, a, b), axis=1)\n",
    "print(c)"
   ]
  },
  {
   "cell_type": "code",
   "execution_count": 35,
   "id": "786fde4a",
   "metadata": {},
   "outputs": [
    {
     "name": "stdout",
     "output_type": "stream",
     "text": [
      "(2, 3)\n",
      "(2, 5)\n"
     ]
    },
    {
     "ename": "ValueError",
     "evalue": "all the input array dimensions for the concatenation axis must match exactly, but along dimension 1, the array at index 0 has size 3 and the array at index 1 has size 5",
     "output_type": "error",
     "traceback": [
      "\u001b[0;31m---------------------------------------------------------------------------\u001b[0m",
      "\u001b[0;31mValueError\u001b[0m                                Traceback (most recent call last)",
      "Input \u001b[0;32mIn [35]\u001b[0m, in \u001b[0;36m<cell line: 5>\u001b[0;34m()\u001b[0m\n\u001b[1;32m      3\u001b[0m \u001b[38;5;28mprint\u001b[39m(a\u001b[38;5;241m.\u001b[39mshape)\n\u001b[1;32m      4\u001b[0m \u001b[38;5;28mprint\u001b[39m(b\u001b[38;5;241m.\u001b[39mshape)\n\u001b[0;32m----> 5\u001b[0m c \u001b[38;5;241m=\u001b[39m \u001b[43mnp\u001b[49m\u001b[38;5;241;43m.\u001b[39;49m\u001b[43mconcatenate\u001b[49m\u001b[43m(\u001b[49m\u001b[43m(\u001b[49m\u001b[43ma\u001b[49m\u001b[43m,\u001b[49m\u001b[43m \u001b[49m\u001b[43mb\u001b[49m\u001b[43m,\u001b[49m\u001b[43m \u001b[49m\u001b[43ma\u001b[49m\u001b[43m,\u001b[49m\u001b[43m \u001b[49m\u001b[43mb\u001b[49m\u001b[43m)\u001b[49m\u001b[43m,\u001b[49m\u001b[43m \u001b[49m\u001b[43maxis\u001b[49m\u001b[38;5;241;43m=\u001b[39;49m\u001b[38;5;241;43m0\u001b[39;49m\u001b[43m)\u001b[49m\n\u001b[1;32m      6\u001b[0m \u001b[38;5;28mprint\u001b[39m(c)\n",
      "File \u001b[0;32m<__array_function__ internals>:5\u001b[0m, in \u001b[0;36mconcatenate\u001b[0;34m(*args, **kwargs)\u001b[0m\n",
      "\u001b[0;31mValueError\u001b[0m: all the input array dimensions for the concatenation axis must match exactly, but along dimension 1, the array at index 0 has size 3 and the array at index 1 has size 5"
     ]
    }
   ],
   "source": [
    "# for both append and concatenate, the axes need to make sense\n",
    "\n",
    "print(a.shape)\n",
    "print(b.shape)\n",
    "c = np.concatenate((a, b, a, b), axis=0)\n",
    "print(c)"
   ]
  },
  {
   "cell_type": "code",
   "execution_count": 36,
   "id": "5e98d5b5",
   "metadata": {},
   "outputs": [],
   "source": [
    "# reshape/resize numpy array\n",
    "\n",
    "a = np.array([[1, 2, 3], [4, 5, 6]])\n",
    "(nr, nc) = a.shape"
   ]
  },
  {
   "cell_type": "code",
   "execution_count": 37,
   "id": "f77cdd5a",
   "metadata": {},
   "outputs": [
    {
     "name": "stdout",
     "output_type": "stream",
     "text": [
      "[[1 2 3]\n",
      " [4 5 6]]\n",
      "[[1 2 3 4 5 6]]\n"
     ]
    }
   ],
   "source": [
    "# reshape (keep a the same)\n",
    "b = a.reshape((1, nr*nc))\n",
    "print(a)\n",
    "print(b)"
   ]
  },
  {
   "cell_type": "code",
   "execution_count": 38,
   "id": "538ca1b0",
   "metadata": {},
   "outputs": [
    {
     "name": "stdout",
     "output_type": "stream",
     "text": [
      "[[1 2 3]\n",
      " [4 5 6]]\n",
      "[[1]\n",
      " [2]\n",
      " [3]\n",
      " [4]\n",
      " [5]\n",
      " [6]]\n"
     ]
    }
   ],
   "source": [
    "b = a.reshape((nr*nc, 1))\n",
    "print(a)\n",
    "print(b)"
   ]
  },
  {
   "cell_type": "code",
   "execution_count": 39,
   "id": "059b9b99",
   "metadata": {},
   "outputs": [
    {
     "name": "stdout",
     "output_type": "stream",
     "text": [
      "[[1 2 3]\n",
      " [4 5 6]]\n",
      "[[[[[1]]\n",
      "\n",
      "   [[2]]\n",
      "\n",
      "   [[3]]\n",
      "\n",
      "   [[4]]\n",
      "\n",
      "   [[5]]\n",
      "\n",
      "   [[6]]]]]\n",
      "(1, 1, 6, 1, 1)\n"
     ]
    }
   ],
   "source": [
    "b = a.reshape((1, 1, nr*nc, 1, 1))\n",
    "print(a)\n",
    "print(b)\n",
    "print(b.shape)"
   ]
  },
  {
   "cell_type": "code",
   "execution_count": 40,
   "id": "64fc0232",
   "metadata": {},
   "outputs": [
    {
     "name": "stdout",
     "output_type": "stream",
     "text": [
      "[[1 2 3]\n",
      " [4 5 6]]\n",
      "[1 2 3 4 5 6]\n",
      "(2, 3)\n",
      "(6,)\n"
     ]
    }
   ],
   "source": [
    "b = a.reshape((nr*nc,))\n",
    "print(a)\n",
    "print(b)\n",
    "print(a.shape)\n",
    "print(b.shape)"
   ]
  },
  {
   "cell_type": "code",
   "execution_count": 41,
   "id": "c879b785",
   "metadata": {},
   "outputs": [
    {
     "name": "stdout",
     "output_type": "stream",
     "text": [
      "[[1 2]\n",
      " [3 4]\n",
      " [5 6]]\n",
      "None\n"
     ]
    }
   ],
   "source": [
    "# resize (changes a, doesn't return a new array)\n",
    "b = a.resize((nc, nr))\n",
    "print(a)\n",
    "print(b)"
   ]
  },
  {
   "cell_type": "code",
   "execution_count": 42,
   "id": "dd098181",
   "metadata": {},
   "outputs": [
    {
     "name": "stdout",
     "output_type": "stream",
     "text": [
      "[[1 2 3 4]\n",
      " [5 6 7 8]]\n",
      "\n",
      "[[1 5]\n",
      " [2 6]\n",
      " [3 7]\n",
      " [4 8]]\n",
      "\n"
     ]
    }
   ],
   "source": [
    "# transpose rows and columns\n",
    "\n",
    "a = np.array([[1, 2, 3, 4], [5, 6, 7, 8]])\n",
    "print(a)\n",
    "print()\n",
    "\n",
    "print(a.transpose())\n",
    "print()"
   ]
  },
  {
   "cell_type": "markdown",
   "id": "2bb46e3e",
   "metadata": {},
   "source": [
    "### Delete Indices, Rows, Columns in Numpy Array\n",
    "\n",
    "https://numpy.org/doc/stable/reference/generated/numpy.delete.html"
   ]
  },
  {
   "cell_type": "code",
   "execution_count": 43,
   "id": "fd7ab1bc",
   "metadata": {},
   "outputs": [
    {
     "name": "stdout",
     "output_type": "stream",
     "text": [
      "[10 20 40 50 60 70 80 90]\n",
      "[10 50 60 70 80 90]\n",
      "[10 30 40 50 70 90]\n"
     ]
    }
   ],
   "source": [
    "# delete part of a numpy array\n",
    "\n",
    "import numpy as np\n",
    "\n",
    "a = np.array([10, 20, 30, 40, 50, 60, 70, 80, 90])\n",
    "\n",
    "# delete a single index position\n",
    "b = np.delete(a, 2)\n",
    "print(b)\n",
    "\n",
    "# delete a range of index positions\n",
    "b = np.delete(a, range(1,4))\n",
    "print(b)\n",
    "\n",
    "# delete a list of index positions\n",
    "b = np.delete(a, [1, 5, 7])\n",
    "print(b)"
   ]
  },
  {
   "cell_type": "code",
   "execution_count": null,
   "id": "b6d9df11",
   "metadata": {},
   "outputs": [],
   "source": [
    "# delete rows and columns - first create a 3D numpy array\n",
    "\n",
    "a = (np.arange(100)).reshape((4, 5, 5))\n",
    "print(a.shape)\n",
    "print(a)"
   ]
  },
  {
   "cell_type": "code",
   "execution_count": null,
   "id": "1dd14f53",
   "metadata": {},
   "outputs": [],
   "source": [
    "# note that \"row\" refers to the first part of array, not what's displayed\n",
    "print(a[2,:,:])"
   ]
  },
  {
   "cell_type": "code",
   "execution_count": null,
   "id": "7edaf6ec",
   "metadata": {},
   "outputs": [],
   "source": [
    "# delete third \"row\" (axis=0)\n",
    "b = np.delete(a, 2, axis=0)\n",
    "print(b)"
   ]
  },
  {
   "cell_type": "code",
   "execution_count": null,
   "id": "679b4bb6",
   "metadata": {},
   "outputs": [],
   "source": [
    "# note that \"col\" refers to the second part of array, not what's displayed\n",
    "print(a[:,1,:])"
   ]
  },
  {
   "cell_type": "code",
   "execution_count": null,
   "id": "a32f989b",
   "metadata": {},
   "outputs": [],
   "source": [
    "# delete second column (axis=1)\n",
    "b = np.delete(a, 1, axis=1)\n",
    "print(b)"
   ]
  },
  {
   "cell_type": "code",
   "execution_count": null,
   "id": "ffdaa61a",
   "metadata": {},
   "outputs": [],
   "source": [
    "# note that \"page\" refers to the third part of array, not what's displayed\n",
    "print(a[:,:,0])"
   ]
  },
  {
   "cell_type": "code",
   "execution_count": null,
   "id": "8a7c1755",
   "metadata": {},
   "outputs": [],
   "source": [
    "# delete first page (axis=2)\n",
    "b = np.delete(a, 0, axis=2)\n",
    "print(b)"
   ]
  },
  {
   "cell_type": "markdown",
   "id": "f512b157",
   "metadata": {},
   "source": [
    "### Copying Numpy Arrays"
   ]
  },
  {
   "cell_type": "markdown",
   "id": "bd0fdda7",
   "metadata": {},
   "source": [
    "these are not copies of numpy array"
   ]
  },
  {
   "cell_type": "code",
   "execution_count": 44,
   "id": "9e06a7ff",
   "metadata": {},
   "outputs": [
    {
     "name": "stdout",
     "output_type": "stream",
     "text": [
      "[[1 2 3]\n",
      " [4 5 6]]\n",
      "[[1 2 3]\n",
      " [4 5 6]]\n",
      "[[2 3]\n",
      " [5 6]]\n"
     ]
    }
   ],
   "source": [
    "a = np.array([[1, 2, 3], [4, 5, 6]])\n",
    "b = a\n",
    "c = a[:, 1:]\n",
    "print(a)\n",
    "print(b)\n",
    "print(c)"
   ]
  },
  {
   "cell_type": "code",
   "execution_count": 45,
   "id": "96b2ba46",
   "metadata": {},
   "outputs": [
    {
     "name": "stdout",
     "output_type": "stream",
     "text": [
      "[[ 1  2  3]\n",
      " [ 4  5 99]]\n",
      "[[ 1  2  3]\n",
      " [ 4  5 99]]\n",
      "[[ 2  3]\n",
      " [ 5 99]]\n"
     ]
    }
   ],
   "source": [
    "a[1,2] = 99\n",
    "print(a)\n",
    "print(b)\n",
    "print(c)"
   ]
  },
  {
   "cell_type": "code",
   "execution_count": 46,
   "id": "02f376da",
   "metadata": {},
   "outputs": [
    {
     "name": "stdout",
     "output_type": "stream",
     "text": [
      "[[ 1 66  3]\n",
      " [ 4  5 99]]\n",
      "[[ 1 66  3]\n",
      " [ 4  5 99]]\n",
      "[[66  3]\n",
      " [ 5 99]]\n"
     ]
    }
   ],
   "source": [
    "b[0,1] = 66\n",
    "print(a)\n",
    "print(b)\n",
    "print(c)"
   ]
  },
  {
   "cell_type": "markdown",
   "id": "15c81b60",
   "metadata": {},
   "source": [
    "copy (will copy all numeric elements)"
   ]
  },
  {
   "cell_type": "code",
   "execution_count": 47,
   "id": "f3077b22",
   "metadata": {},
   "outputs": [
    {
     "name": "stdout",
     "output_type": "stream",
     "text": [
      "[[1 2 3]\n",
      " [4 5 6]]\n",
      "[[1 2 3]\n",
      " [4 5 6]]\n"
     ]
    }
   ],
   "source": [
    "a = np.array([[1, 2, 3], [4, 5, 6]])\n",
    "b = a.copy()\n",
    "print(a)\n",
    "print(b)"
   ]
  },
  {
   "cell_type": "code",
   "execution_count": 48,
   "id": "2ec0d71c",
   "metadata": {},
   "outputs": [
    {
     "name": "stdout",
     "output_type": "stream",
     "text": [
      "[[ 1  2  3]\n",
      " [ 4  5 99]]\n",
      "[[1 2 3]\n",
      " [4 5 6]]\n"
     ]
    }
   ],
   "source": [
    "a[1,2] = 99\n",
    "print(a)\n",
    "print(b)"
   ]
  },
  {
   "cell_type": "code",
   "execution_count": 49,
   "id": "2498a35a",
   "metadata": {},
   "outputs": [
    {
     "name": "stdout",
     "output_type": "stream",
     "text": [
      "[[ 1  2  3]\n",
      " [ 4  5 99]]\n",
      "[[ 1 66  3]\n",
      " [ 4  5  6]]\n"
     ]
    }
   ],
   "source": [
    "b[0,1] = 66\n",
    "print(a)\n",
    "print(b)"
   ]
  },
  {
   "cell_type": "markdown",
   "id": "b83a40c3",
   "metadata": {},
   "source": [
    "note this"
   ]
  },
  {
   "cell_type": "code",
   "execution_count": 50,
   "id": "ea0a0361",
   "metadata": {},
   "outputs": [
    {
     "name": "stdout",
     "output_type": "stream",
     "text": [
      "[[1 2 3]\n",
      " [4 5 6]]\n",
      "[[2 3]\n",
      " [5 6]]\n",
      "[[3 2]\n",
      " [6 5]]\n"
     ]
    }
   ],
   "source": [
    "a = np.array([[1, 2, 3], [4, 5, 6]])\n",
    "b = a[:, 1:]\n",
    "c = a[:, [2,1]]\n",
    "print(a)\n",
    "print(b)\n",
    "print(c)"
   ]
  },
  {
   "cell_type": "code",
   "execution_count": 51,
   "id": "cb73a335",
   "metadata": {},
   "outputs": [
    {
     "name": "stdout",
     "output_type": "stream",
     "text": [
      "[[ 1  2  3]\n",
      " [ 4  5 99]]\n",
      "[[ 2  3]\n",
      " [ 5 99]]\n",
      "[[3 2]\n",
      " [6 5]]\n"
     ]
    }
   ],
   "source": [
    "# this is a view\n",
    "b[1, 1] = 99\n",
    "print(a)\n",
    "print(b)\n",
    "print(c)"
   ]
  },
  {
   "cell_type": "code",
   "execution_count": 52,
   "id": "251d7fc3",
   "metadata": {},
   "outputs": [
    {
     "name": "stdout",
     "output_type": "stream",
     "text": [
      "[[ 1  2  3]\n",
      " [ 4  5 99]]\n",
      "[[ 2  3]\n",
      " [ 5 99]]\n",
      "[[ 3  2]\n",
      " [ 6 77]]\n"
     ]
    }
   ],
   "source": [
    "# this is a copy\n",
    "c[1, 1] = 77\n",
    "print(a)\n",
    "print(b)\n",
    "print(c)"
   ]
  },
  {
   "cell_type": "markdown",
   "id": "69e745d5",
   "metadata": {},
   "source": [
    "in this case, part of a is copied into part of b"
   ]
  },
  {
   "cell_type": "code",
   "execution_count": null,
   "id": "badae4f0",
   "metadata": {},
   "outputs": [],
   "source": [
    "a = np.array([[1, 2, 3, 5], [4, 5, 6, 7]])\n",
    "b = np.array([[8, 8, 8, 8], [9, 9, 9, 9]])\n",
    "b[:,2:] = a[:,2:]\n",
    "\n",
    "print(a)\n",
    "print(b)"
   ]
  },
  {
   "cell_type": "code",
   "execution_count": null,
   "id": "64ce012a",
   "metadata": {},
   "outputs": [],
   "source": [
    "a[0, 3] = 99\n",
    "b[0, 3] = 55\n",
    "print(a)\n",
    "print(b)\n",
    "print()"
   ]
  },
  {
   "cell_type": "code",
   "execution_count": 2,
   "id": "f0c43594",
   "metadata": {},
   "outputs": [
    {
     "data": {
      "text/plain": [
       "3"
      ]
     },
     "execution_count": 2,
     "metadata": {},
     "output_type": "execute_result"
    }
   ],
   "source": [
    "x = 3.9\n",
    "int(x)"
   ]
  },
  {
   "cell_type": "code",
   "execution_count": null,
   "id": "bad5b2d7-4fc4-42bc-a666-bcb6cf863042",
   "metadata": {},
   "outputs": [],
   "source": []
  }
 ],
 "metadata": {
  "kernelspec": {
   "display_name": "Python 3 (ipykernel)",
   "language": "python",
   "name": "python3"
  },
  "language_info": {
   "codemirror_mode": {
    "name": "ipython",
    "version": 3
   },
   "file_extension": ".py",
   "mimetype": "text/x-python",
   "name": "python",
   "nbconvert_exporter": "python",
   "pygments_lexer": "ipython3",
   "version": "3.8.13"
  }
 },
 "nbformat": 4,
 "nbformat_minor": 5
}
