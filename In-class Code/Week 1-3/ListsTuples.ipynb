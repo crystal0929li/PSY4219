{
 "cells": [
  {
   "cell_type": "markdown",
   "id": "5fd859fa",
   "metadata": {},
   "source": [
    "***\n",
    "\n",
    "# Lists and Tuples\n",
    "\n",
    "https://docs.python.org/3/tutorial/introduction.html#lists \n",
    "\n",
    "https://docs.python.org/3/tutorial/datastructures.html#more-on-lists \n",
    "\n",
    "https://docs.python.org/3/tutorial/datastructures.html#tuples-and-sequences"
   ]
  },
  {
   "cell_type": "code",
   "execution_count": null,
   "id": "b840a89f",
   "metadata": {},
   "outputs": [],
   "source": [
    "# declare lists using square brackets\n",
    "\n",
    "a = [2, 5, 10, 3, 9]\n",
    "print(type(a))\n",
    "\n",
    "# reference item in a list (like strings) with square brackets\n",
    "print(\"a[0]  \", a[0])\n",
    "print(\"a[2]  \", a[2])\n",
    "print(\"a[-1] \", a[-1])\n",
    "print()\n",
    "\n",
    "# slice using : (like strings)\n",
    "print(\"a[:]     \", a[:])\n",
    "print(\"a[1:5:2] \", a[1:5:2])\n",
    "print()\n",
    "\n",
    "# length\n",
    "print(\"len(a) = \", len(a))"
   ]
  },
  {
   "cell_type": "code",
   "execution_count": null,
   "id": "8e985f4d",
   "metadata": {},
   "outputs": [],
   "source": [
    "# declare tuples using parentheses\n",
    "\n",
    "a = (2, 5, 10, 3, 9)\n",
    "print(type(a))\n",
    "\n",
    "# reference item in a list (like strings) with square brackets\n",
    "print(\"a[0]  \", a[0])\n",
    "print(\"a[2]  \", a[2])\n",
    "print(\"a[-1] \", a[-1])\n",
    "print()\n",
    "\n",
    "# slice using : (like strings and lists)\n",
    "print(\"a[:]     \", a[:])\n",
    "print(\"a[1:5:2] \", a[1:5:2])\n",
    "print()\n",
    "\n",
    "# length\n",
    "print(\"len(a) = \", len(a))"
   ]
  },
  {
   "cell_type": "markdown",
   "id": "12b94ab6",
   "metadata": {},
   "source": [
    "### Homogeneous vs. Heterogeneous Data"
   ]
  },
  {
   "cell_type": "code",
   "execution_count": null,
   "id": "75afdfec",
   "metadata": {},
   "outputs": [],
   "source": [
    "# both lists and tuples can be homogenous or heterogenous\n",
    "\n",
    "a = [4, 9, 3, 1]\n",
    "b = [\"fish\", 3.1, 1, True]\n",
    "print(a[0], b[0])\n",
    "\n",
    "a = (4, 9, 3, 1)\n",
    "b = (\"fish\", 3.1, 1, True)\n",
    "print(a[0], b[0])"
   ]
  },
  {
   "cell_type": "markdown",
   "id": "8b6a3ee5",
   "metadata": {},
   "source": [
    "### Mutability"
   ]
  },
  {
   "cell_type": "code",
   "execution_count": null,
   "id": "f3909be4",
   "metadata": {},
   "outputs": [],
   "source": [
    "# lists are mutable (can be changed)\n",
    "\n",
    "a = [2, 5, 10, 3, 9]\n",
    "print(a)\n",
    "a[1] = 99\n",
    "print(a)\n",
    "\n",
    "print()\n",
    "\n",
    "# tuples are immutable (cannot be changed, like strings)\n",
    "\n",
    "a = (2, 5, 10, 3, 9)\n",
    "print(a)\n",
    "a[1] = 99\n",
    "print(a)\n",
    "\n",
    "# immutability can be beneficial to ensure that data in the tuple does not change "
   ]
  },
  {
   "cell_type": "markdown",
   "id": "bb3a02b1",
   "metadata": {},
   "source": [
    "### Tuples and Lists with Zero or One Element"
   ]
  },
  {
   "cell_type": "code",
   "execution_count": null,
   "id": "fd99af9a",
   "metadata": {},
   "outputs": [],
   "source": [
    "# empty tuple\n",
    "\n",
    "a = ()\n",
    "print(a)\n",
    "print(type(a))\n",
    "print(len(a))"
   ]
  },
  {
   "cell_type": "code",
   "execution_count": null,
   "id": "9590ad6b",
   "metadata": {},
   "outputs": [],
   "source": [
    "# tuple with one element  \n",
    "\n",
    "# this doesn't work, parentheses is interpretted mathematically\n",
    "a = (99)\n",
    "print(a)\n",
    "print(type(a))\n",
    "print()\n",
    "\n",
    "# this works\n",
    "a = (99,)\n",
    "print(a)\n",
    "print(type(a))"
   ]
  },
  {
   "cell_type": "code",
   "execution_count": null,
   "id": "69336b20",
   "metadata": {},
   "outputs": [],
   "source": [
    "# other ways to create tuple\n",
    "\n",
    "a = 1, 5, 10\n",
    "print(a)\n",
    "print(type(a))\n",
    "print()\n",
    "\n",
    "a = 99,\n",
    "print(a)\n",
    "print(type(a))"
   ]
  },
  {
   "cell_type": "code",
   "execution_count": null,
   "id": "1e8a643e",
   "metadata": {},
   "outputs": [],
   "source": [
    "# empty list\n",
    "\n",
    "a = []\n",
    "print(a)\n",
    "print(type(a))"
   ]
  },
  {
   "cell_type": "code",
   "execution_count": null,
   "id": "d78273a8",
   "metadata": {},
   "outputs": [],
   "source": [
    "# list with one element  \n",
    "\n",
    "# this works\n",
    "a = [99]\n",
    "print(a)\n",
    "print(type(a))\n",
    "print()\n",
    "\n",
    "# so does this\n",
    "a = [99,]\n",
    "print(a)\n",
    "print(type(a))"
   ]
  },
  {
   "cell_type": "markdown",
   "id": "35b3957d",
   "metadata": {},
   "source": [
    "### Converting Between Lists and Tuples"
   ]
  },
  {
   "cell_type": "code",
   "execution_count": null,
   "id": "07c1b12b",
   "metadata": {},
   "outputs": [],
   "source": [
    "# converting between lists and tuples \n",
    "\n",
    "mylist  = [10, 5, 1]\n",
    "mytuple = (11, 6, 0)\n",
    "\n",
    "newtuple  = tuple(mylist)\n",
    "newlist = list(mytuple)\n",
    "\n",
    "print(newlist)\n",
    "print(type(newlist))\n",
    "print()\n",
    "\n",
    "print(newtuple)\n",
    "print(type(newtuple))"
   ]
  },
  {
   "cell_type": "code",
   "execution_count": null,
   "id": "96cb86f8",
   "metadata": {},
   "outputs": [],
   "source": [
    "# can convert from iterator to list (or tuple)\n",
    "# recall range() is often used in a for loop\n",
    "\n",
    "a = range(10)\n",
    "print(a)\n",
    "print(type(a))\n",
    "print()\n",
    "\n",
    "b = list(range(10))\n",
    "print(b)\n",
    "print(type(b))\n",
    "print()\n",
    "\n",
    "c = tuple(range(10))\n",
    "print(c)\n",
    "print(type(c))"
   ]
  },
  {
   "cell_type": "markdown",
   "id": "f3022fc8",
   "metadata": {},
   "source": [
    "### Operations on Lists and Tuples"
   ]
  },
  {
   "cell_type": "code",
   "execution_count": null,
   "id": "e0b8408c",
   "metadata": {},
   "outputs": [],
   "source": [
    "# operations on lists and tuples \n",
    "\n",
    "a = [1, 2, 3]\n",
    "b = [5, 6, 7]\n",
    "print(a+b)\n",
    "print(3*a)\n",
    "print(max(b))\n",
    "print()\n",
    "\n",
    "c = (1, 2, 3)\n",
    "d = (5, 6, 7)\n",
    "print(c+d)\n",
    "print(3*c)\n",
    "print(max(d))"
   ]
  },
  {
   "cell_type": "markdown",
   "id": "744e9165",
   "metadata": {},
   "source": [
    "### Adding and Deleting Items on Lists"
   ]
  },
  {
   "cell_type": "code",
   "execution_count": null,
   "id": "ee17d64f",
   "metadata": {},
   "outputs": [],
   "source": [
    "# adding and deleting items on a list \n",
    "\n",
    "a = [1, 2, 3, 4, 5, 6]\n",
    "\n",
    "# adding items\n",
    "a.append(4)\n",
    "print(\"after a.append(4)       \", a)\n",
    "\n",
    "a.append(99)\n",
    "print(\"after a.append(99)      \", a)\n",
    "\n",
    "a.append(\"truck\")\n",
    "print(\"after a.append('truck') \", a)\n",
    "\n",
    "# deleting item\n",
    "del(a[1])\n",
    "print(\"after del(a[1])         \", a)\n",
    "\n",
    "# delete range of items\n",
    "del(a[0:3])\n",
    "print(\"after del(a[0:3])       \", a)"
   ]
  },
  {
   "cell_type": "code",
   "execution_count": null,
   "id": "301ba2d9",
   "metadata": {},
   "outputs": [],
   "source": [
    "# unlike Matlab, you cannot just do something like this\n",
    "\n",
    "a = [1, 2, 3]\n",
    "a[3] = 4\n",
    "\n",
    "# let alone this\n",
    "a[99] = 100"
   ]
  },
  {
   "cell_type": "markdown",
   "id": "209c7e0d",
   "metadata": {},
   "source": [
    "### Deleting/Removing Items from Lists"
   ]
  },
  {
   "cell_type": "code",
   "execution_count": null,
   "id": "99216f7c",
   "metadata": {},
   "outputs": [],
   "source": [
    "# other operations on lists \n",
    "\n",
    "a = [1, 4, 7, \"truck\", 3, 4]\n",
    "print(\"original list           \", a)\n",
    "\n",
    "# recall what del() does\n",
    "del(a[1])\n",
    "print(\"after del(a[1])         \", a)\n",
    "\n",
    "# can remove first one\n",
    "a.remove(\"truck\")\n",
    "print(\"after a.remove('truck') \", a)"
   ]
  },
  {
   "cell_type": "code",
   "execution_count": null,
   "id": "f151479a",
   "metadata": {},
   "outputs": [],
   "source": [
    "# no more left to remove - throws an error\n",
    "\n",
    "print(a)\n",
    "a.remove(\"truck\")\n",
    "print(\"after a.remove('truck') \", a)"
   ]
  },
  {
   "cell_type": "markdown",
   "id": "0d1f6ffd",
   "metadata": {},
   "source": [
    "### Finding Items on a List"
   ]
  },
  {
   "cell_type": "code",
   "execution_count": null,
   "id": "c3e4a608",
   "metadata": {},
   "outputs": [],
   "source": [
    "# find particular items in a list\n",
    "\n",
    "a = [\"nail\", \"truck\", \"cow\", \"fish\", \"cow\", \"ball\", \"kite\", \"cow\"]\n",
    "\n",
    "# count the number of occurrences\n",
    "print(\"a.count('cow')  \", a.count(\"cow\"))\n",
    "print(\"a.count('book') \", a.count(\"book\"))\n",
    "print()\n",
    "\n",
    "# find the index of the first occurence\n",
    "print(\"a.index('cow')  \", a.index(\"cow\"))\n",
    "print()\n",
    "\n",
    "# introducing the conditional (if statement) in Python\n",
    "if (a.count('book') > 0):\n",
    "    print(\"a.index('book') \", a.index(\"book\"))\n",
    "else:\n",
    "    print(\"not found!\")"
   ]
  },
  {
   "cell_type": "markdown",
   "id": "a70552f5",
   "metadata": {},
   "source": [
    "### Concatenating, Extending, Appending"
   ]
  },
  {
   "cell_type": "code",
   "execution_count": null,
   "id": "266b641b",
   "metadata": {},
   "outputs": [],
   "source": [
    "# + vs. extend vs. append\n",
    "\n",
    "a = [1, 2, 3, 4, 5]\n",
    "b = [6, 7, 8]\n",
    "\n",
    "print(\"a+b  \", a+b)\n",
    "print(a)\n",
    "print()\n",
    "\n",
    "a.extend(b)\n",
    "print(\"a.extend(b) \", a)\n",
    "print()\n",
    "\n",
    "a.append(b)\n",
    "print(\"a.append(b) \", a)"
   ]
  },
  {
   "cell_type": "markdown",
   "id": "cdd85112",
   "metadata": {},
   "source": [
    "### Sorting Lists"
   ]
  },
  {
   "cell_type": "code",
   "execution_count": null,
   "id": "276974c7",
   "metadata": {},
   "outputs": [],
   "source": [
    "# .sort method\n",
    "\n",
    "a = [5, 4, 6, 1, 4, 3, 5]\n",
    "\n",
    "a.sort()\n",
    "print(a)"
   ]
  },
  {
   "cell_type": "code",
   "execution_count": null,
   "id": "ad957abd",
   "metadata": {},
   "outputs": [],
   "source": [
    "# sorted() function\n",
    "\n",
    "a = [5, 4, 6, 1, 4, 3, 5]\n",
    "\n",
    "# sorted returns a sorted list without affecting the original list\n",
    "print(\"sorted(a)  \", sorted(a))\n",
    "print(\"original a \", a)"
   ]
  },
  {
   "cell_type": "markdown",
   "id": "ab93f123",
   "metadata": {},
   "source": [
    "### Iterating Over Lists and Tuples with For Loops"
   ]
  },
  {
   "cell_type": "code",
   "execution_count": null,
   "id": "00e10619",
   "metadata": {},
   "outputs": [],
   "source": [
    "# stepping through each item in a list - for loops in Python\n",
    "\n",
    "a = [1, 2, 3, 5, 7, 11]\n",
    "for i in range(len(a)):\n",
    "    print(i, \"\\t\", a[i])\n",
    "\n",
    "print()\n",
    "    \n",
    "for elem in a:\n",
    "    print(i, \"\\t\", elem)"
   ]
  },
  {
   "cell_type": "code",
   "execution_count": null,
   "id": "48de3f40",
   "metadata": {},
   "outputs": [],
   "source": [
    "# stepping through each item in a tuple - for loops in Python\n",
    "\n",
    "a = (1, 2, 3, 5, 7, 11)\n",
    "for i in range(len(a)):\n",
    "    print(i, \"\\t\", a[i])\n",
    "\n",
    "print(\"\\n- or -\\n\")\n",
    "\n",
    "a = (1, 2, 3, 5, 7, 11)\n",
    "for elem in a:\n",
    "    print(elem)"
   ]
  },
  {
   "cell_type": "markdown",
   "id": "b8d87ea6",
   "metadata": {},
   "source": [
    "### Copying a List"
   ]
  },
  {
   "cell_type": "code",
   "execution_count": 4,
   "id": "70594108",
   "metadata": {},
   "outputs": [
    {
     "name": "stdout",
     "output_type": "stream",
     "text": [
      "a  11\n",
      "b  11\n",
      "\n"
     ]
    }
   ],
   "source": [
    "# example using scalars (not lists)\n",
    "\n",
    "a = 11\n",
    "b = a\n",
    "print(\"a \", a); print(\"b \", b); print()"
   ]
  },
  {
   "cell_type": "code",
   "execution_count": 5,
   "id": "89a98864",
   "metadata": {},
   "outputs": [
    {
     "name": "stdout",
     "output_type": "stream",
     "text": [
      "a  99\n",
      "b  11\n",
      "\n"
     ]
    }
   ],
   "source": [
    "a = 99\n",
    "print(\"a \", a); print(\"b \", b); print()"
   ]
  },
  {
   "cell_type": "code",
   "execution_count": 6,
   "id": "f63f62f0",
   "metadata": {},
   "outputs": [
    {
     "name": "stdout",
     "output_type": "stream",
     "text": [
      "a  [5, 4, 6, 1, 4, 3, 5]\n",
      "b  [5, 4, 6, 1, 4, 3, 5]\n",
      "\n"
     ]
    }
   ],
   "source": [
    "# copy of a list\n",
    "\n",
    "a = [5, 4, 6, 1, 4, 3, 5]\n",
    "b = a\n",
    "print(\"a \", a); print(\"b \", b); print()"
   ]
  },
  {
   "cell_type": "code",
   "execution_count": 7,
   "id": "9ffbdd3d",
   "metadata": {},
   "outputs": [
    {
     "name": "stdout",
     "output_type": "stream",
     "text": [
      "a  [5, 4, 99, 1, 4, 3, 5]\n",
      "b  [5, 4, 99, 1, 4, 3, 5]\n",
      "\n"
     ]
    }
   ],
   "source": [
    "a[2] = 99\n",
    "print(\"a \", a); print(\"b \", b); print()"
   ]
  },
  {
   "cell_type": "code",
   "execution_count": 8,
   "id": "203ff9ae",
   "metadata": {},
   "outputs": [
    {
     "name": "stdout",
     "output_type": "stream",
     "text": [
      "a  [5, 4, 99, 1, 4, 3, 5]\n",
      "b  [5, 4, 6, 1, 4, 3, 5]\n",
      "\n",
      "a  [5, 4, 99, 1, 4, 3, 5]\n",
      "b  [5, 4, 6, 1, 4, 3, 5]\n",
      "\n"
     ]
    }
   ],
   "source": [
    "# make a copy\n",
    "a = [5, 4, 6, 1, 4, 3, 5]\n",
    "b = a.copy()\n",
    "a[2] = 99\n",
    "print(\"a \", a); print(\"b \", b); print()\n",
    "\n",
    "# or this way\n",
    "a = [5, 4, 6, 1, 4, 3, 5]\n",
    "b = a[:]\n",
    "a[2] = 99\n",
    "print(\"a \", a); print(\"b \", b); print()"
   ]
  },
  {
   "cell_type": "markdown",
   "id": "c4df33a1",
   "metadata": {},
   "source": [
    "### Nested (Multidimensional) Lists and Tuples"
   ]
  },
  {
   "cell_type": "code",
   "execution_count": 9,
   "id": "1d5bf9ee",
   "metadata": {},
   "outputs": [
    {
     "name": "stdout",
     "output_type": "stream",
     "text": [
      "[[1, 2, 3], [4, 5, 6]]\n",
      "3\n",
      "4\n"
     ]
    }
   ],
   "source": [
    "# lists and tuples contain object\n",
    "#\n",
    "# those object can be other lists and tuples \n",
    "# (or strings, or floats, or ints, or any other object)\n",
    "\n",
    "a = [[1, 2, 3], [4, 5, 6]]\n",
    "print(a)\n",
    "print(a[0][2])\n",
    "print(a[1][0])"
   ]
  },
  {
   "cell_type": "markdown",
   "id": "89115c01",
   "metadata": {},
   "source": [
    "given this:"
   ]
  },
  {
   "cell_type": "code",
   "execution_count": 10,
   "id": "3e7b440f",
   "metadata": {},
   "outputs": [
    {
     "name": "stdout",
     "output_type": "stream",
     "text": [
      "[1, 'fish', [2, 3], (1, 3, 5), ['truck', 'house']]\n"
     ]
    }
   ],
   "source": [
    "a = [1, \"fish\", [2, 3], (1, 3, 5), [\"truck\", \"house\"]]\n",
    "print(a)"
   ]
  },
  {
   "cell_type": "markdown",
   "id": "e5738e5d",
   "metadata": {},
   "source": [
    "what will these return?"
   ]
  },
  {
   "cell_type": "code",
   "execution_count": 11,
   "id": "dc5f03aa",
   "metadata": {},
   "outputs": [
    {
     "name": "stdout",
     "output_type": "stream",
     "text": [
      "a[2][0]  2\n"
     ]
    }
   ],
   "source": [
    "print(\"a[2][0] \", a[2][0])"
   ]
  },
  {
   "cell_type": "code",
   "execution_count": 12,
   "id": "c259a4db",
   "metadata": {},
   "outputs": [
    {
     "name": "stdout",
     "output_type": "stream",
     "text": [
      "a[4][1]  house\n"
     ]
    }
   ],
   "source": [
    "print(\"a[4][1] \", a[4][1])"
   ]
  },
  {
   "cell_type": "code",
   "execution_count": 13,
   "id": "270248b0",
   "metadata": {},
   "outputs": [
    {
     "ename": "TypeError",
     "evalue": "'int' object is not subscriptable",
     "output_type": "error",
     "traceback": [
      "\u001b[0;31m---------------------------------------------------------------------------\u001b[0m",
      "\u001b[0;31mTypeError\u001b[0m                                 Traceback (most recent call last)",
      "Input \u001b[0;32mIn [13]\u001b[0m, in \u001b[0;36m<cell line: 1>\u001b[0;34m()\u001b[0m\n\u001b[0;32m----> 1\u001b[0m \u001b[38;5;28mprint\u001b[39m(\u001b[38;5;124m\"\u001b[39m\u001b[38;5;124ma[0][0] \u001b[39m\u001b[38;5;124m\"\u001b[39m, \u001b[43ma\u001b[49m\u001b[43m[\u001b[49m\u001b[38;5;241;43m0\u001b[39;49m\u001b[43m]\u001b[49m\u001b[43m[\u001b[49m\u001b[38;5;241;43m0\u001b[39;49m\u001b[43m]\u001b[49m)\n",
      "\u001b[0;31mTypeError\u001b[0m: 'int' object is not subscriptable"
     ]
    }
   ],
   "source": [
    "print(\"a[0][0] \", a[0][0])"
   ]
  },
  {
   "cell_type": "code",
   "execution_count": 14,
   "id": "582f5bfb",
   "metadata": {},
   "outputs": [
    {
     "name": "stdout",
     "output_type": "stream",
     "text": [
      "a[1][0]  f\n"
     ]
    }
   ],
   "source": [
    "print(\"a[1][0] \", a[1][0])"
   ]
  },
  {
   "cell_type": "code",
   "execution_count": 15,
   "id": "81b8c38d",
   "metadata": {},
   "outputs": [
    {
     "name": "stdout",
     "output_type": "stream",
     "text": [
      "a[4][1][2]  u\n"
     ]
    }
   ],
   "source": [
    "print(\"a[4][1][2] \", a[4][1][2])"
   ]
  },
  {
   "cell_type": "markdown",
   "id": "0a8f79f9",
   "metadata": {},
   "source": [
    "how to think of accessing these nested lists/tuples"
   ]
  },
  {
   "cell_type": "code",
   "execution_count": 16,
   "id": "4240d86f",
   "metadata": {},
   "outputs": [
    {
     "name": "stdout",
     "output_type": "stream",
     "text": [
      "(1, [2, 3], (4, [5, 6]), 7)\n"
     ]
    }
   ],
   "source": [
    "a = (1, [2, 3], (4, [5, 6]), 7)\n",
    "print(a)"
   ]
  },
  {
   "cell_type": "code",
   "execution_count": 17,
   "id": "323f5c23",
   "metadata": {},
   "outputs": [
    {
     "name": "stdout",
     "output_type": "stream",
     "text": [
      "(4, [5, 6])\n"
     ]
    }
   ],
   "source": [
    "a1 = a[2]\n",
    "print(a1)"
   ]
  },
  {
   "cell_type": "code",
   "execution_count": 18,
   "id": "739714f5",
   "metadata": {},
   "outputs": [
    {
     "name": "stdout",
     "output_type": "stream",
     "text": [
      "[5, 6]\n"
     ]
    }
   ],
   "source": [
    "a2 = a1[1]\n",
    "print(a2)"
   ]
  },
  {
   "cell_type": "code",
   "execution_count": 19,
   "id": "1d1fa0a5",
   "metadata": {},
   "outputs": [
    {
     "name": "stdout",
     "output_type": "stream",
     "text": [
      "5\n"
     ]
    }
   ],
   "source": [
    "a3 = a2[0]\n",
    "print(a3)"
   ]
  },
  {
   "cell_type": "code",
   "execution_count": 20,
   "id": "b40ba696",
   "metadata": {},
   "outputs": [
    {
     "name": "stdout",
     "output_type": "stream",
     "text": [
      "5\n"
     ]
    }
   ],
   "source": [
    "# that is the same as\n",
    "print(a[2][1][0])"
   ]
  },
  {
   "cell_type": "code",
   "execution_count": 21,
   "id": "03dfd65e",
   "metadata": {},
   "outputs": [
    {
     "name": "stdout",
     "output_type": "stream",
     "text": [
      "5\n"
     ]
    }
   ],
   "source": [
    "# that is the same as\n",
    "print( ( (a[2]) [1]) [0])"
   ]
  },
  {
   "cell_type": "markdown",
   "id": "841712eb",
   "metadata": {},
   "source": [
    "### Shallow vs. Deep Copy of Lists"
   ]
  },
  {
   "cell_type": "markdown",
   "id": "f41fffcc",
   "metadata": {},
   "source": [
    "shallow copy"
   ]
  },
  {
   "cell_type": "code",
   "execution_count": 22,
   "id": "cafdbab9",
   "metadata": {},
   "outputs": [
    {
     "name": "stdout",
     "output_type": "stream",
     "text": [
      "[99, [2, 3], [4, [5, 6]], 7]\n",
      "[1, [2, 3], [4, [5, 6]], 7]\n"
     ]
    }
   ],
   "source": [
    "a = [1, [2, 3], [4, [5, 6]], 7]\n",
    "b = a.copy()\n",
    "\n",
    "a[0] = 99\n",
    "print(a)\n",
    "print(b)"
   ]
  },
  {
   "cell_type": "code",
   "execution_count": 23,
   "id": "187cc3c6",
   "metadata": {},
   "outputs": [
    {
     "name": "stdout",
     "output_type": "stream",
     "text": [
      "[1, [2, 3], [4, [99, 6]], 7]\n",
      "[1, [2, 3], [4, [99, 6]], 7]\n"
     ]
    }
   ],
   "source": [
    "a = [1, [2, 3], [4, [5, 6]], 7]\n",
    "b = a.copy()\n",
    "\n",
    "a[2][1][0] = 99\n",
    "print(a)\n",
    "print(b)"
   ]
  },
  {
   "cell_type": "markdown",
   "id": "c45843a9",
   "metadata": {},
   "source": [
    "also a shallow copy"
   ]
  },
  {
   "cell_type": "code",
   "execution_count": 24,
   "id": "7cfe8651",
   "metadata": {},
   "outputs": [
    {
     "name": "stdout",
     "output_type": "stream",
     "text": [
      "[1000, [2, 3], [4, [99, 6]], 7]\n",
      "[1, [2, 3], [4, [99, 6]], 7]\n"
     ]
    }
   ],
   "source": [
    "import copy\n",
    "\n",
    "a = [1, [2, 3], [4, [5, 6]], 7]\n",
    "b = copy.copy(a)\n",
    "\n",
    "a[2][1][0] = 99\n",
    "a[0] = 1000\n",
    "print(a)\n",
    "print(b)"
   ]
  },
  {
   "cell_type": "markdown",
   "id": "a8afad2a",
   "metadata": {},
   "source": [
    "deep copy (full nesting)"
   ]
  },
  {
   "cell_type": "code",
   "execution_count": 25,
   "id": "37a40275",
   "metadata": {},
   "outputs": [
    {
     "name": "stdout",
     "output_type": "stream",
     "text": [
      "[1, [2, 3], [4, [99, 6]], 7]\n",
      "[1, [2, 3], [4, [5, 6]], 7]\n"
     ]
    }
   ],
   "source": [
    "import copy\n",
    "\n",
    "a = [1, [2, 3], [4, [5, 6]], 7]\n",
    "b = copy.deepcopy(a)\n",
    "\n",
    "a[2][1][0] = 99\n",
    "print(a)\n",
    "print(b)"
   ]
  },
  {
   "cell_type": "markdown",
   "id": "640cbcc2",
   "metadata": {},
   "source": [
    "deep copy (full nesting) - with a different import syntax"
   ]
  },
  {
   "cell_type": "code",
   "execution_count": 26,
   "id": "38b8ad51",
   "metadata": {},
   "outputs": [
    {
     "name": "stdout",
     "output_type": "stream",
     "text": [
      "[1, [2, 3], [4, [99, 6]], 7]\n",
      "[1, [2, 3], [4, [5, 6]], 7]\n"
     ]
    }
   ],
   "source": [
    "from copy import deepcopy\n",
    "\n",
    "a = [1, [2, 3], [4, [5, 6]], 7]\n",
    "b = deepcopy(a)\n",
    "\n",
    "a[2][1][0] = 99\n",
    "print(a)\n",
    "print(b)"
   ]
  },
  {
   "cell_type": "code",
   "execution_count": null,
   "id": "63b980c2",
   "metadata": {},
   "outputs": [],
   "source": []
  },
  {
   "cell_type": "code",
   "execution_count": null,
   "id": "ae8149d5",
   "metadata": {},
   "outputs": [],
   "source": []
  }
 ],
 "metadata": {
  "kernelspec": {
   "display_name": "Python 3 (ipykernel)",
   "language": "python",
   "name": "python3"
  },
  "language_info": {
   "codemirror_mode": {
    "name": "ipython",
    "version": 3
   },
   "file_extension": ".py",
   "mimetype": "text/x-python",
   "name": "python",
   "nbconvert_exporter": "python",
   "pygments_lexer": "ipython3",
   "version": "3.9.12"
  }
 },
 "nbformat": 4,
 "nbformat_minor": 5
}
