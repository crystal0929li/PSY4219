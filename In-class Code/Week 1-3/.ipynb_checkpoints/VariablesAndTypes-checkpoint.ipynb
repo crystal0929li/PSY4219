{
 "cells": [
  {
   "cell_type": "markdown",
   "id": "5cbc8b76-96a5-479b-81cf-96270f031f1d",
   "metadata": {},
   "source": [
    "***\n",
    "\n",
    "## Variables and Types"
   ]
  },
  {
   "cell_type": "code",
   "execution_count": 1,
   "id": "a07fdbc7-0d46-4b9a-9c11-894e39ded678",
   "metadata": {},
   "outputs": [],
   "source": [
    "# examples of scalar variables\n",
    "\n",
    "x1 = 1\n",
    "y_text = \"text\"\n",
    "Zvar = True"
   ]
  },
  {
   "cell_type": "code",
   "execution_count": 2,
   "id": "e45a9563-ae90-4f7d-bc03-3c5ef8bdfbc1",
   "metadata": {},
   "outputs": [
    {
     "name": "stdout",
     "output_type": "stream",
     "text": [
      "<class 'int'>\n",
      "<class 'str'>\n",
      "<class 'bool'>\n"
     ]
    }
   ],
   "source": [
    "# variable types (classes)\n",
    "\n",
    "print(type(x1))\n",
    "print(type(y_text))\n",
    "print(type(Zvar))"
   ]
  },
  {
   "cell_type": "code",
   "execution_count": 3,
   "id": "aeefe7ab-6ed7-4c38-a433-f02caba1da2b",
   "metadata": {},
   "outputs": [
    {
     "name": "stdout",
     "output_type": "stream",
     "text": [
      "<class 'int'>\n",
      "<class 'float'>\n",
      "<class 'str'>\n",
      "<class 'bool'>\n"
     ]
    }
   ],
   "source": [
    "# Python is dynamically typed\n",
    "\n",
    "a = 1\n",
    "print(type(a))\n",
    "a = 4.5\n",
    "print(type(a))\n",
    "a = \"sample text\"\n",
    "print(type(a))\n",
    "a = False\n",
    "print(type(a))"
   ]
  },
  {
   "cell_type": "code",
   "execution_count": null,
   "id": "012b1af2-6744-4d15-9ac8-5c5a9b8c578c",
   "metadata": {},
   "outputs": [],
   "source": [
    "# type casting (convert from one type to another)\n",
    "\n",
    "x = 1.\n",
    "y = int(x)\n",
    "print(x, type(x))\n",
    "print(y, type(y))"
   ]
  },
  {
   "cell_type": "code",
   "execution_count": null,
   "id": "50b18feb-f961-4683-92d7-5dbaff18d356",
   "metadata": {},
   "outputs": [],
   "source": [
    "x = 1\n",
    "y = float(x)\n",
    "print(x, type(x))\n",
    "print(y, type(y))"
   ]
  },
  {
   "cell_type": "code",
   "execution_count": null,
   "id": "75957d82-9ced-4b5d-aae8-dd8d589a1d73",
   "metadata": {},
   "outputs": [],
   "source": [
    "x = 125.411\n",
    "y = str(x)\n",
    "print(x, type(x))\n",
    "print(y, type(y))"
   ]
  },
  {
   "cell_type": "code",
   "execution_count": null,
   "id": "6faf19c2-54dc-41de-ad1b-b5f64a9c2c41",
   "metadata": {},
   "outputs": [],
   "source": [
    "x = \"3.14159\"\n",
    "y = float(x)\n",
    "print(x, type(x))\n",
    "print(y, type(y))"
   ]
  },
  {
   "cell_type": "code",
   "execution_count": null,
   "id": "8334f284-6224-43c2-a179-f63185a71a36",
   "metadata": {},
   "outputs": [],
   "source": [
    "# everything in Python is an object\n",
    "\n",
    "# dir() lists methods and attributes associated with an object\n",
    "\n",
    "# by itself, dir() lists all names in the current local scope \n",
    "\n",
    "# given an object (a variable, a function, a module) dir() returns all methods and attributes\n",
    "x = 1.3\n",
    "print(dir(x))\n",
    "\n",
    "# attributes/methods prefixed/suffixed by __ should be avoided (implementation detail subject to change)"
   ]
  },
  {
   "cell_type": "code",
   "execution_count": null,
   "id": "741c4ac6-af87-4400-922a-4801b2b820a8",
   "metadata": {},
   "outputs": [],
   "source": [
    "# methods and attributes of an object accessible using the . convention\n",
    "\n",
    "print(x.is_integer())\n",
    "print(x.as_integer_ratio())\n",
    "\n",
    "print()\n",
    "\n",
    "y = 1.\n",
    "print(type(y))\n",
    "print(y.is_integer())"
   ]
  },
  {
   "cell_type": "code",
   "execution_count": null,
   "id": "dd01421e-5b36-48a2-889b-4999ab33385e",
   "metadata": {},
   "outputs": [],
   "source": [
    "y = \"This Is A String\"\n",
    "print(dir(y))"
   ]
  },
  {
   "cell_type": "code",
   "execution_count": null,
   "id": "912125ff-c27a-453a-b209-8d17805f06c6",
   "metadata": {},
   "outputs": [],
   "source": [
    "print(y.count(\"i\"))\n",
    "print(y.swapcase())"
   ]
  },
  {
   "cell_type": "markdown",
   "id": "070df010-9310-4c72-b8bd-11c8ab16b2b1",
   "metadata": {},
   "source": [
    "***\n",
    "\n",
    "## Numeric Types and Operations"
   ]
  },
  {
   "cell_type": "code",
   "execution_count": null,
   "id": "0a13b008-e009-4c2a-bb02-826bdbac6730",
   "metadata": {},
   "outputs": [],
   "source": [
    "# int vs. float types - decimal point indicates a float type\n",
    "\n",
    "x = 1\n",
    "y = 1.\n",
    "print(type(x))\n",
    "print(type(y))"
   ]
  },
  {
   "cell_type": "code",
   "execution_count": null,
   "id": "d0b48d8c-2b94-4ca5-918c-17559da8d8a4",
   "metadata": {},
   "outputs": [],
   "source": [
    "z = x*y\n",
    "print(type(z))"
   ]
  },
  {
   "cell_type": "code",
   "execution_count": null,
   "id": "6b924772-d0e0-4e2b-abc0-294b208ca20f",
   "metadata": {},
   "outputs": [],
   "source": [
    "x = 1-.0000000001\n",
    "y = 1-.0000000000000001\n",
    "z = 1-.00000000000000001\n",
    "print(x)\n",
    "print(y)\n",
    "print(z)"
   ]
  },
  {
   "cell_type": "code",
   "execution_count": null,
   "id": "2e5384ac-2747-483f-864c-a86846c7e039",
   "metadata": {},
   "outputs": [],
   "source": [
    "print(1000 * .01)"
   ]
  },
  {
   "cell_type": "code",
   "execution_count": null,
   "id": "6d82f896-f085-4679-8515-b13756ac33b8",
   "metadata": {},
   "outputs": [],
   "source": [
    "sum = 0\n",
    "for i in range(0,1000):\n",
    "    sum = sum+.01\n",
    "print(sum)"
   ]
  },
  {
   "cell_type": "code",
   "execution_count": null,
   "id": "a73374a4-1de3-41b6-bb73-135d9efa5e44",
   "metadata": {},
   "outputs": [],
   "source": [
    "# infinity in Python\n",
    "\n",
    "x = float('inf')\n",
    "print(x)\n",
    "type(x)"
   ]
  },
  {
   "cell_type": "markdown",
   "id": "203db821-e3db-4f10-988c-e01699695bf5",
   "metadata": {},
   "source": [
    "https://jakevdp.github.io/WhirlwindTourOfPython/04-semantics-operators.html "
   ]
  },
  {
   "cell_type": "code",
   "execution_count": null,
   "id": "4e4e5d30-beb8-4886-87b8-47f096f37474",
   "metadata": {},
   "outputs": [],
   "source": [
    "# mathematical operation\n",
    "\n",
    "print(\"2+3  = \", 2+3)\n",
    "print(\"2-3  = \", 2-3)\n",
    "print(\"2*3  = \", 2*3)\n",
    "print(\"2/3  = \", 2/3)\n",
    "print(\"2**3 = \", 2**3)\n",
    "print(\"2//3 = \", 2//3)\n",
    "print(\"2%3  = \", 2%3)"
   ]
  },
  {
   "cell_type": "code",
   "execution_count": null,
   "id": "c2322a66-8610-490d-bdb8-338eb775fe86",
   "metadata": {},
   "outputs": [],
   "source": [
    "# what type will each of these print?\n",
    "\n",
    "print(type(2+3))\n",
    "print(type(2.+3.))\n",
    "print(type(2/3))"
   ]
  },
  {
   "cell_type": "code",
   "execution_count": null,
   "id": "0461678a-8849-4ff2-b463-972b5fb0e168",
   "metadata": {},
   "outputs": [],
   "source": [
    "# what type will each of these print?\n",
    "\n",
    "print(type(2//3))\n",
    "print(type(2%3))\n",
    "print(type(2.//3.))\n",
    "print(type(2.%3.))"
   ]
  },
  {
   "cell_type": "code",
   "execution_count": null,
   "id": "e06548e8-2aff-46ed-bb35-c4763d8a61e3",
   "metadata": {},
   "outputs": [],
   "source": [
    "# what values will these generate?\n",
    "\n",
    "print(\"2 ** 2+1  =\", 2 ** 2+1)\n",
    "print(\"2+3 ** 2  =\", 2+3 ** 2)\n",
    "print(\"2 * 3**2  = \", 2 * 3**2)\n",
    "print(\"4+2 / 1+2 = \", 4+2 / 1+2)\n",
    "print(\"-2 ** 2   =\", -2 ** 2)"
   ]
  },
  {
   "cell_type": "code",
   "execution_count": null,
   "id": "22d6f18b-c0dd-44df-abba-b18389e682c5",
   "metadata": {},
   "outputs": [],
   "source": [
    "# order of operation and parentheses\n",
    "\n",
    "print(\"(2 ** 2)+1  =\", (2 ** 2)+1)\n",
    "print(\"2+(3 ** 2)  =\", 2+(3 ** 2))\n",
    "print(\"2 * (3**2)  = \", 2 * (3**2))\n",
    "print(\"4+(2 / 1)+2 = \", 4+(2 / 1)+2)\n",
    "print(\"-(2 ** 2)   =\", -(2 ** 2))"
   ]
  },
  {
   "cell_type": "code",
   "execution_count": null,
   "id": "9346dc31-3a68-47d5-9c71-57de5b7daa0d",
   "metadata": {},
   "outputs": [],
   "source": [
    "# order of operation and parentheses\n",
    "\n",
    "print(\"2 ** (2+1)    =\", 2 ** (2+1))\n",
    "print(\"(2+3) ** 2)   =\", (2+3) ** 2)\n",
    "print(\"2 * (3**2)    = \", 2 * (3**2))\n",
    "print(\"(4+2) / (1+2) = \", (4+2) / (1+2))\n",
    "print(\"(-2) ** 2)    =\", (-2) ** 2)"
   ]
  },
  {
   "cell_type": "code",
   "execution_count": null,
   "id": "f213885d-13cc-4317-bb53-d2422ec3b5f9",
   "metadata": {},
   "outputs": [],
   "source": [
    "# equal order of operations, evaluated left to right\n",
    "\n",
    "print(\"8 / 4 * 4 / 2         = \", 8 / 4 * 4 / 2)\n",
    "print(\"(((8 / 4) *  4) / 2)  = \", (((8 / 4) * 4) / 2))\n",
    "print(\"(8 / (4 * (4 / 2)))   = \", (8 / (4 * (4 / 2))))"
   ]
  },
  {
   "cell_type": "code",
   "execution_count": null,
   "id": "d1e66e5a-fe03-4101-8541-dff0771a566c",
   "metadata": {},
   "outputs": [],
   "source": [
    "# modulo division\n",
    "\n",
    "print(\"20 divided by 3 equals \", 20 // 3, \" remainder \", 20 % 3)"
   ]
  },
  {
   "cell_type": "code",
   "execution_count": null,
   "id": "34173e0d-ed9e-481d-9c52-e5865f358e6a",
   "metadata": {},
   "outputs": [],
   "source": [
    "# special numbers inf and nan\n",
    "\n",
    "x = inf\n",
    "print(x)\n",
    "print(type(x))\n",
    "\n",
    "y = nan\n",
    "print(y)\n",
    "print(type(y))\n"
   ]
  },
  {
   "cell_type": "markdown",
   "id": "0a9e18bb-cf63-4f66-96fe-7fb2aa9a6099",
   "metadata": {},
   "source": [
    "***\n",
    "\n",
    "## Assignment and Equivalence"
   ]
  },
  {
   "cell_type": "code",
   "execution_count": null,
   "id": "01abc4e6-b943-42f5-b9f2-72a522bc4546",
   "metadata": {},
   "outputs": [],
   "source": [
    "x = 1\n",
    "y = x\n",
    "print(x, y)\n",
    "\n",
    "# note that above y was assigned the value of x (copied it), it wasn't made the same object as x\n",
    "x = 4\n",
    "print(x, y)\n",
    "\n",
    "# with other data structures, this will be different"
   ]
  },
  {
   "cell_type": "code",
   "execution_count": null,
   "id": "854f1629-d486-4648-9787-6b5061a10cdf",
   "metadata": {},
   "outputs": [],
   "source": [
    "# compound assignment operators in Python\n",
    "\n",
    "x = 2; x += 5;  print(\"x += 5  ==> \", x)\n",
    "x = 2; x -= 5;  print(\"x -= 5  ==> \", x)\n",
    "x = 2; x *= 5;  print(\"x *= 5  ==> \", x)\n",
    "x = 2; x /= 5;  print(\"x /= 5  ==> \", x)\n",
    "x = 2; x %= 5;  print(\"x %= 5  ==> \", x)\n",
    "x = 2; x //= 5; print(\"x //= 5 ==> \", x)\n",
    "x = 2; x **= 5; print(\"x **= 5 ==> \", x)\n",
    "\n",
    "# note use of ; to put multiple statements on the same line"
   ]
  },
  {
   "cell_type": "code",
   "execution_count": null,
   "id": "c8aec0ec-ed79-4eb7-abbe-e8dde8bb23a9",
   "metadata": {},
   "outputs": [],
   "source": [
    "# checking for equivalence\n",
    "\n",
    "print(2 + (3-1) == 3)"
   ]
  },
  {
   "cell_type": "code",
   "execution_count": null,
   "id": "3b0ee723-f7ea-421a-b4ef-ba48bd8ba01a",
   "metadata": {},
   "outputs": [],
   "source": []
  }
 ],
 "metadata": {
  "kernelspec": {
   "display_name": "Python 3 (ipykernel)",
   "language": "python",
   "name": "python3"
  },
  "language_info": {
   "codemirror_mode": {
    "name": "ipython",
    "version": 3
   },
   "file_extension": ".py",
   "mimetype": "text/x-python",
   "name": "python",
   "nbconvert_exporter": "python",
   "pygments_lexer": "ipython3",
   "version": "3.8.13"
  }
 },
 "nbformat": 4,
 "nbformat_minor": 5
}
