{
 "cells": [
  {
   "cell_type": "markdown",
   "id": "97d6d545-6a4f-488a-9cd0-fcb20cf403e6",
   "metadata": {},
   "source": [
    "***\n",
    "\n",
    "# Numpy Arrays\n",
    "\n",
    "https://numpy.org \n",
    "\n",
    "https://numpy.org/doc/stable/user/quickstart.html "
   ]
  },
  {
   "cell_type": "code",
   "execution_count": null,
   "id": "5f20f009-9ed4-4be9-8275-58216fbf33d4",
   "metadata": {},
   "outputs": [],
   "source": [
    "import numpy as np\n",
    "\n",
    "# numpy arrays are homogeneous (the same type), unlike lists and tuples\n",
    "\n",
    "# creating a numpy array from a list\n",
    "a = np.array([1., 2., 3., 4., 5.])\n",
    "print(a)\n",
    "print(type(a))\n",
    "print(type(a[0]))"
   ]
  },
  {
   "cell_type": "markdown",
   "id": "bdc8ce0c-7f4a-4acb-9d2f-d215b396e154",
   "metadata": {},
   "source": [
    "### Numpy Array Types"
   ]
  },
  {
   "cell_type": "code",
   "execution_count": null,
   "id": "ce07eda9-eeb5-445e-be95-aa6059c8c80a",
   "metadata": {},
   "outputs": [],
   "source": [
    "# numpy arrays can have a wide range of types\n",
    "\n",
    "a = np.array([1, 2, 3, 4, 5], dtype='int64')\n",
    "\n",
    "print(a)\n",
    "print(type(a))\n",
    "print(type(a[0]))\n",
    "print(a.dtype)\n",
    "print()"
   ]
  },
  {
   "cell_type": "code",
   "execution_count": null,
   "id": "b946716c-3ce4-4b8a-ae41-54e7ffbf116f",
   "metadata": {},
   "outputs": [],
   "source": [
    "# numpy arrays can have a wide range of types\n",
    "\n",
    "b = np.array([1, 2, 3, 4, 5], dtype='float64')\n",
    "\n",
    "print(b)\n",
    "print(type(b))\n",
    "print(type(b[0]))\n",
    "print(b.dtype)\n",
    "print()"
   ]
  },
  {
   "cell_type": "code",
   "execution_count": null,
   "id": "f2aa52f9-0704-4c22-ab89-853410ba7816",
   "metadata": {},
   "outputs": [],
   "source": [
    "# numpy arrays can have a wide range of types\n",
    "\n",
    "c = np.array([1, 2, 3, 4, 5], dtype='uint8')\n",
    "\n",
    "print(c)\n",
    "print(type(c))\n",
    "print(type(c[0]))\n",
    "print(c.dtype)"
   ]
  },
  {
   "cell_type": "markdown",
   "id": "074b0746-039b-4c6e-a184-83b1199ca089",
   "metadata": {},
   "source": [
    "### Multidimensional Numpy Arrays"
   ]
  },
  {
   "cell_type": "code",
   "execution_count": null,
   "id": "42bb58f0-1f72-4947-9f20-070cfe508f20",
   "metadata": {},
   "outputs": [],
   "source": [
    "# multidimensional numpy arrays\n",
    "\n",
    "# this is a list\n",
    "a = [[1, 2, 3], [4, 5, 6]]\n",
    "\n",
    "# convert to a numpy array\n",
    "b = np.array(a)\n",
    "\n",
    "print(a)\n",
    "print(b)\n",
    "\n",
    "# can also start with a tuple\n",
    "a = ((1, 2, 3), (4, 5, 6))\n",
    "\n",
    "# convert to a numpy array\n",
    "b = np.array(a)\n",
    "\n",
    "print(a)\n",
    "print(b)"
   ]
  },
  {
   "cell_type": "markdown",
   "id": "f8e868e1-d73d-4327-9568-cb431f7654c6",
   "metadata": {},
   "source": [
    "### Lists vs. Numpy Arrays"
   ]
  },
  {
   "cell_type": "code",
   "execution_count": null,
   "id": "70a482fd-75e3-4a83-9903-18ecc6b47047",
   "metadata": {},
   "outputs": [],
   "source": [
    "# lists vs. numpy arrays\n",
    "\n",
    "a = [[1, 2, 3], [4, 5, 6]]\n",
    "b = np.array(a)\n",
    "\n",
    "# addressing lists vs. numpy arrays\n",
    "print(\"a[1][2] \", a[1][2])\n",
    "print(\"b[1,2]  \", b[1,2])"
   ]
  },
  {
   "cell_type": "code",
   "execution_count": null,
   "id": "f51da953-e834-43d9-97b9-fa2ab07189cf",
   "metadata": {},
   "outputs": [],
   "source": [
    "# this is perfectly ok with a list\n",
    "a = [[1, 2], [4, 5, 6]]\n",
    "print(a)\n",
    "\n",
    "# doesn't work with a numpy array\n",
    "b = np.array(a)\n",
    "print(b)"
   ]
  },
  {
   "cell_type": "markdown",
   "id": "732b87f7-3eb7-4a71-a077-810e1c8c668c",
   "metadata": {},
   "source": [
    "### Shapes of Numpy Arrays"
   ]
  },
  {
   "cell_type": "code",
   "execution_count": null,
   "id": "5add7360-7d4e-4362-8447-4dcf3f3eefa2",
   "metadata": {},
   "outputs": [],
   "source": [
    "import numpy as np\n",
    "\n",
    "# shape of numpy array\n",
    "a = np.array([[1,2],[3,4],[5,6],[7,8]])\n",
    "print(a)\n",
    "s = a.shape\n",
    "print(\"a.shape : \", s)\n",
    "type(s)"
   ]
  },
  {
   "cell_type": "code",
   "execution_count": null,
   "id": "01f472a7-1d51-48c9-a1ef-5c614e44ccd7",
   "metadata": {},
   "outputs": [],
   "source": [
    "b = [[[1, 2, 3], [4, 5, 6]], [[7, 8, 9], [10, 11, 12]]]\n",
    "print(b)\n",
    "c = np.array(b)\n",
    "print(c)\n",
    "print(c.shape)"
   ]
  },
  {
   "cell_type": "markdown",
   "id": "ee461325-2a93-4de8-933c-7a04764f8c65",
   "metadata": {},
   "source": [
    "### Slicing Numpy Arrays"
   ]
  },
  {
   "cell_type": "code",
   "execution_count": null,
   "id": "d3cdff20-ffe1-4ea2-9a1d-563fd747f5fe",
   "metadata": {},
   "outputs": [],
   "source": [
    "# slicing numpy arrays (see class slides for illustrations)\n",
    "\n",
    "import numpy as np\n",
    "\n",
    "a = np.array([[[1, 2, 3], [4, 5, 6]], [[7, 8, 9], [10, 11, 12]]])\n",
    "\n",
    "print(a[0,:,:])\n",
    "print(a[:,1,:])\n",
    "print(a[:,:,1])"
   ]
  },
  {
   "cell_type": "code",
   "execution_count": null,
   "id": "33977e8a-2c13-46fe-8ab3-c8978ec49464",
   "metadata": {},
   "outputs": [],
   "source": [
    "# slicing part of a numpy array\n",
    "\n",
    "a = np.array([[1, 1, 2, 2, 3, 3, 4, 4, 5, 5], [6, 6, 7, 7, 8, 8, 9, 9, 0, 0]])\n",
    "print(a)"
   ]
  },
  {
   "cell_type": "code",
   "execution_count": null,
   "id": "296780e1-7c48-425b-ae21-29dcd29f11ab",
   "metadata": {},
   "outputs": [],
   "source": [
    "print(\"a[0, 2:7]\")\n",
    "print(a[0, 2:7])"
   ]
  },
  {
   "cell_type": "code",
   "execution_count": null,
   "id": "4319d2b9-b76e-4b16-99a9-3c34c4e0d2e6",
   "metadata": {},
   "outputs": [],
   "source": [
    "print(\"a[:, 5:]\")\n",
    "print(a[:, 5:])"
   ]
  },
  {
   "cell_type": "code",
   "execution_count": null,
   "id": "ed7085b3-6a32-4fce-b7aa-856d418808e3",
   "metadata": {},
   "outputs": [],
   "source": [
    "print(\"a[1, 0:10:2]\")\n",
    "print(a[1, 0:10:2])"
   ]
  },
  {
   "cell_type": "code",
   "execution_count": null,
   "id": "157a6e9b-f2b2-45ad-ab99-e07f9c47c9d2",
   "metadata": {},
   "outputs": [],
   "source": [
    "print(\"a[:, [9, 4, 6]]\")\n",
    "print(a[:, [9, 4, 6]])"
   ]
  },
  {
   "cell_type": "markdown",
   "id": "5ee4119f-0ee5-49bf-ae5c-01467ef4dba4",
   "metadata": {},
   "source": [
    "### Preallocating Numpy Arrays"
   ]
  },
  {
   "cell_type": "code",
   "execution_count": null,
   "id": "ed317c76-dfa6-4c5d-ada5-71ca6d275620",
   "metadata": {},
   "outputs": [],
   "source": [
    "# preallocating numpy arrays with zeros\n",
    "\n",
    "import numpy as np\n",
    "\n",
    "a = np.zeros(5)\n",
    "print(a)\n",
    "print(a.shape)\n",
    "\n",
    "# is the same as\n",
    "a = np.zeros((5,))\n",
    "print(a)\n",
    "print(a.shape)"
   ]
  },
  {
   "cell_type": "code",
   "execution_count": null,
   "id": "eb731ecc-b2cf-41dd-9af1-bbf37c94337c",
   "metadata": {},
   "outputs": [],
   "source": [
    "# can specify type\n",
    "a = np.zeros(5, dtype=int)\n",
    "print(a)\n",
    "b = np.zeros(5, dtype=float)\n",
    "print(b)"
   ]
  },
  {
   "cell_type": "code",
   "execution_count": null,
   "id": "8c6aa670-e868-47e2-97f7-2cf49e35361f",
   "metadata": {},
   "outputs": [],
   "source": [
    "# multidimensional numpy array\n",
    "\n",
    "a = np.zeros((4,3))\n",
    "print(a)\n",
    "(r,c) = a.shape\n",
    "print(r,c)"
   ]
  },
  {
   "cell_type": "code",
   "execution_count": null,
   "id": "a5cd0a60-5306-42f8-8686-6ecb813a53b5",
   "metadata": {},
   "outputs": [],
   "source": [
    "# preallocating with ones\n",
    "\n",
    "a = np.ones((5,))\n",
    "print(a)\n",
    "print(a.shape)"
   ]
  },
  {
   "cell_type": "code",
   "execution_count": null,
   "id": "67a18494-44dd-4b74-8caa-d77fa069e115",
   "metadata": {},
   "outputs": [],
   "source": [
    "# note these differences\n",
    "\n",
    "# array of 5 elements (1D vector)\n",
    "a = np.ones((5,))\n",
    "print(a)\n",
    "print(a.shape)\n",
    "print()\n",
    "\n",
    "# 2D column vector\n",
    "b = np.ones((5,1))\n",
    "print(b)\n",
    "print(b.shape)\n",
    "print()\n",
    "\n",
    "# 2D row vector\n",
    "c = np.ones((1,5))\n",
    "print(c)\n",
    "print(c.shape)"
   ]
  },
  {
   "cell_type": "code",
   "execution_count": null,
   "id": "4f3e2d44-60ee-4d03-b27f-06244ff6c84e",
   "metadata": {},
   "outputs": [],
   "source": [
    "# fill a numpy array with a sequence\n",
    "\n",
    "# min, max, step (doesn't include max)\n",
    "a = np.arange(0, 10, .1)\n",
    "print(a)\n",
    "\n",
    "# min, max, number of equal-spaced elements (includes max)\n",
    "b = np.linspace(0, 10, 100)\n",
    "print(b)\n",
    "\n",
    "c = np.linspace(0, 10, 101)\n",
    "print(c)"
   ]
  },
  {
   "cell_type": "code",
   "execution_count": null,
   "id": "d276bbed-8684-42a0-b87c-a54b95fcdf50",
   "metadata": {},
   "outputs": [],
   "source": [
    "# fill with (uniformly-distributed) random numbers \n",
    "# (we will talk more about random numbers later)\n",
    "\n",
    "a = np.random.random((5, 4))\n",
    "print(a)"
   ]
  },
  {
   "cell_type": "markdown",
   "id": "c8bcf34d-d685-4529-b71e-a34b6519e08f",
   "metadata": {},
   "source": [
    "### Extending, Reshaping, Resizing Numpy Arrays"
   ]
  },
  {
   "cell_type": "code",
   "execution_count": null,
   "id": "7518f6dd-fb53-4413-a054-d6ca67cb12fa",
   "metadata": {},
   "outputs": [],
   "source": [
    "# extend a numpy array (using append)\n",
    "\n",
    "import numpy as np\n",
    "\n",
    "a = np.array([[1, 2, 3], [4, 5, 6]])\n",
    "print(f\"a: (nrows, ncols) = ({a.shape[0]}, {a.shape[1]})\")\n",
    "print(a)"
   ]
  },
  {
   "cell_type": "code",
   "execution_count": null,
   "id": "72b21c66-d026-4c8e-9522-4dd4d235ae4c",
   "metadata": {},
   "outputs": [],
   "source": [
    "# add a new row\n",
    "b = np.array([[7, 8, 9]])\n",
    "print(f\"b: (nrows, ncols) = ({b.shape[0]}, {b.shape[1]})\")\n",
    "c = np.append(a, b, axis=0)\n",
    "print(c)"
   ]
  },
  {
   "cell_type": "code",
   "execution_count": null,
   "id": "f1f2ae27-2ad6-4783-a05a-0daacb65393c",
   "metadata": {},
   "outputs": [],
   "source": [
    "# add a new row of zeros\n",
    "b = np.zeros((1, a.shape[1]), dtype=a.dtype)\n",
    "print(f\"b: (nrows, ncols) = ({b.shape[0]}, {b.shape[1]})\")\n",
    "c = np.append(a, b, axis=0)\n",
    "print(c)"
   ]
  },
  {
   "cell_type": "code",
   "execution_count": null,
   "id": "dcf3a827-d0f6-40f8-936e-1f6505b692ea",
   "metadata": {},
   "outputs": [],
   "source": [
    "# add 5 new columns of zeros\n",
    "b = np.zeros((a.shape[0], 5))\n",
    "print(f\"b: (nrows, ncols) = ({b.shape[0]}, {b.shape[1]})\")\n",
    "c = np.append(a, b, axis=1)\n",
    "print(c)"
   ]
  },
  {
   "cell_type": "code",
   "execution_count": null,
   "id": "1235c4d1-b875-43ab-bce4-90e69c3f7c13",
   "metadata": {},
   "outputs": [],
   "source": [
    "a = np.array([[1, 2], [3, 4]])\n",
    "b = np.array([[6, 7], [8, 9]])\n",
    "\n",
    "# can append to axis 0 OR axis 1\n",
    "\n",
    "c = np.append(a, b, axis=1)\n",
    "\n",
    "print(a)\n",
    "print(b)\n",
    "print(c)"
   ]
  },
  {
   "cell_type": "code",
   "execution_count": null,
   "id": "b1a73d12-6d5b-46c2-b38c-1f295a4f2423",
   "metadata": {},
   "outputs": [],
   "source": [
    "# extend a numpy array (using concatenate)\n",
    "\n",
    "a = np.array([[1, 2, 3], [4, 5, 6]])\n",
    "print(f\"a: (nrows, ncols) = ({a.shape[0]}, {a.shape[1]})\")\n",
    "print(a)"
   ]
  },
  {
   "cell_type": "code",
   "execution_count": null,
   "id": "7df3094c-7806-4984-b629-6a07524d549a",
   "metadata": {},
   "outputs": [],
   "source": [
    "# add a new row\n",
    "b = np.array([[7, 8, 9]])\n",
    "print(f\"b: (nrows, ncols) = ({b.shape[0]}, {b.shape[1]})\")\n",
    "c = np.concatenate((a, b), axis=0)\n",
    "print(c)"
   ]
  },
  {
   "cell_type": "code",
   "execution_count": null,
   "id": "20c720a3-8900-4f84-8433-fd9bcf5554d6",
   "metadata": {},
   "outputs": [],
   "source": [
    "# add a new row of zeros\n",
    "b = np.zeros((1, a.shape[1]), dtype=a.dtype)\n",
    "print(f\"b: (nrows, ncols) = ({b.shape[0]}, {b.shape[1]})\")\n",
    "c = np.concatenate((a, b), axis=0)\n",
    "print(c)"
   ]
  },
  {
   "cell_type": "code",
   "execution_count": null,
   "id": "11ec8315-4de8-4978-8160-8a30cb9a2cba",
   "metadata": {},
   "outputs": [],
   "source": [
    "# add 5 new columns of zeros\n",
    "b = np.zeros((a.shape[0], 5))\n",
    "print(f\"b: (nrows, ncols) = ({b.shape[0]}, {b.shape[1]})\")\n",
    "c = np.concatenate((a, b), axis=1)"
   ]
  },
  {
   "cell_type": "code",
   "execution_count": null,
   "id": "b60dcd79-5777-444e-a78c-cea9b916c45c",
   "metadata": {},
   "outputs": [],
   "source": [
    "# reshape/resize numpy array\n",
    "\n",
    "a = np.array([[1, 2, 3], [4, 5, 6]])\n",
    "(nr, nc) = a.shape"
   ]
  },
  {
   "cell_type": "code",
   "execution_count": null,
   "id": "527ff6ff-dc23-43da-b8fe-a9867e6dbe97",
   "metadata": {},
   "outputs": [],
   "source": [
    "# reshape (keep a the same)\n",
    "b = a.reshape((1, nr*nc))\n",
    "print(a)\n",
    "print(b)"
   ]
  },
  {
   "cell_type": "code",
   "execution_count": null,
   "id": "9e4b1c14-ecfb-4dcd-b380-ef20470f8a19",
   "metadata": {},
   "outputs": [],
   "source": [
    "b = a.reshape((nr*nc, 1))\n",
    "print(a)\n",
    "print(b)"
   ]
  },
  {
   "cell_type": "code",
   "execution_count": null,
   "id": "fe6464a1-4016-46c3-affb-305ae8d2b649",
   "metadata": {},
   "outputs": [],
   "source": [
    "b = a.reshape((1, 1, nr*nc, 1, 1))\n",
    "print(a)\n",
    "print(b)\n",
    "print(b.shape)"
   ]
  },
  {
   "cell_type": "code",
   "execution_count": null,
   "id": "ccdd3570-4ba7-403e-93b4-26dde3801e16",
   "metadata": {},
   "outputs": [],
   "source": [
    "b = a.reshape((nr*nc,))\n",
    "print(a)\n",
    "print(b)\n",
    "print(a.shape)\n",
    "print(b.shape)"
   ]
  },
  {
   "cell_type": "code",
   "execution_count": null,
   "id": "41b99c78-b027-4a1b-a186-ef7a02898815",
   "metadata": {},
   "outputs": [],
   "source": [
    "# resize (changes a, doesn't return a new array)\n",
    "b = a.resize((nc, nr))\n",
    "print(a)\n",
    "print(b)"
   ]
  },
  {
   "cell_type": "code",
   "execution_count": null,
   "id": "6fbe5f2b-b715-4fb8-b6f6-3a19a818b61a",
   "metadata": {},
   "outputs": [],
   "source": [
    "# transpose rows and columns\n",
    "\n",
    "a = np.array([[1, 2, 3, 4], [5, 6, 7, 8]])\n",
    "print(a)\n",
    "print()\n",
    "\n",
    "print(a.transpose())\n",
    "print()"
   ]
  },
  {
   "cell_type": "markdown",
   "id": "5b3a7a8a-30f7-4f7a-9c7e-d3f3f1f1ff0d",
   "metadata": {},
   "source": [
    "### Delete Indices, Rows, Columns in Numpy Array\n",
    "\n",
    "https://numpy.org/doc/stable/reference/generated/numpy.delete.html"
   ]
  },
  {
   "cell_type": "code",
   "execution_count": null,
   "id": "8443898f-0361-4217-809f-0545e698b3d1",
   "metadata": {},
   "outputs": [],
   "source": [
    "# delete part of a numpy array\n",
    "\n",
    "import numpy as np\n",
    "\n",
    "a = np.array([10, 20, 30, 40, 50, 60, 70, 80, 90])\n",
    "\n",
    "# delete a single index position\n",
    "b = np.delete(a, 2)\n",
    "print(b)\n",
    "\n",
    "# delete a range of index positions\n",
    "b = np.delete(a, range(1,4))\n",
    "print(b)\n",
    "\n",
    "# delete a list of index positions\n",
    "b = np.delete(a, [1, 5, 7])\n",
    "print(b)"
   ]
  },
  {
   "cell_type": "code",
   "execution_count": null,
   "id": "698939cc-a054-4310-9070-f9ddc94ca532",
   "metadata": {},
   "outputs": [],
   "source": [
    "# delete rows and columns\n",
    "\n",
    "a = (np.arange(100)).reshape((4, 5, 5))\n",
    "print(a.shape)\n",
    "print(a)"
   ]
  },
  {
   "cell_type": "code",
   "execution_count": null,
   "id": "00774040-3225-4669-9eae-36fba7741b0e",
   "metadata": {},
   "outputs": [],
   "source": [
    "# delete third row\n",
    "b = np.delete(a, 2, axis=0)\n",
    "print(b)"
   ]
  },
  {
   "cell_type": "code",
   "execution_count": null,
   "id": "d8542c65-a679-4230-a90a-4bd63e0ac134",
   "metadata": {},
   "outputs": [],
   "source": [
    "# delete second column\n",
    "b = np.delete(a, 1, axis=1)\n",
    "print(b)"
   ]
  },
  {
   "cell_type": "code",
   "execution_count": null,
   "id": "afb78e19-a91e-4911-918e-a8905668d277",
   "metadata": {},
   "outputs": [],
   "source": [
    "# delete first page\n",
    "b = np.delete(a, 0, axis=2)\n",
    "print(b)"
   ]
  },
  {
   "cell_type": "markdown",
   "id": "faafd8ef-364d-4bd9-b1ee-766ca83d3bc5",
   "metadata": {},
   "source": [
    "### Copying Numpy Arrays"
   ]
  },
  {
   "cell_type": "markdown",
   "id": "6b2eadfa-a661-4442-bd80-d3e5acb7f571",
   "metadata": {},
   "source": [
    "these are not copies of numpy array"
   ]
  },
  {
   "cell_type": "code",
   "execution_count": null,
   "id": "df89a772-81c1-49e8-bb1b-d0b979272e65",
   "metadata": {},
   "outputs": [],
   "source": [
    "a = np.array([[1, 2, 3], [4, 5, 6]])\n",
    "b = a\n",
    "c = a[:, 1:]\n",
    "print(a)\n",
    "print(b)\n",
    "print(c)"
   ]
  },
  {
   "cell_type": "code",
   "execution_count": null,
   "id": "0bba07a2-19b6-45d8-b540-8cb22861b34f",
   "metadata": {},
   "outputs": [],
   "source": [
    "a[1,2] = 99\n",
    "print(a)\n",
    "print(b)\n",
    "print(c)"
   ]
  },
  {
   "cell_type": "code",
   "execution_count": null,
   "id": "5693e6b1-acc8-4675-842b-71d8bee022f2",
   "metadata": {},
   "outputs": [],
   "source": [
    "b[0,1] = 66\n",
    "print(a)\n",
    "print(b)\n",
    "print(c)"
   ]
  },
  {
   "cell_type": "markdown",
   "id": "b203baf0-682d-4521-9bcc-425cc18341d0",
   "metadata": {},
   "source": [
    "(shallow) copy (but will copy all numeric elements)"
   ]
  },
  {
   "cell_type": "code",
   "execution_count": null,
   "id": "1ee09eee-f7e2-482a-a253-311cd40e82a4",
   "metadata": {},
   "outputs": [],
   "source": [
    "a = np.array([[1, 2, 3], [4, 5, 6]])\n",
    "b = a.copy()\n",
    "print(a)\n",
    "print(b)"
   ]
  },
  {
   "cell_type": "code",
   "execution_count": null,
   "id": "0a1e5896-e32b-4f2c-a62d-d4a7d9a8d6df",
   "metadata": {},
   "outputs": [],
   "source": [
    "a[1,2] = 99\n",
    "print(a)\n",
    "print(b)"
   ]
  },
  {
   "cell_type": "code",
   "execution_count": null,
   "id": "5fad2f24-77f2-4b98-9fff-87743d4a569e",
   "metadata": {},
   "outputs": [],
   "source": [
    "b[0,1] = 66\n",
    "print(a)\n",
    "print(b)"
   ]
  },
  {
   "cell_type": "markdown",
   "id": "7fc5370a-7254-4387-846d-61ff002958f2",
   "metadata": {},
   "source": [
    "note this"
   ]
  },
  {
   "cell_type": "code",
   "execution_count": null,
   "id": "c05ca71f-2806-4a60-a8e8-131f646dc405",
   "metadata": {},
   "outputs": [],
   "source": [
    "a = np.array([[1, 2, 3], [4, 5, 6]])\n",
    "b = a[:, 1:]\n",
    "c = a[:, [2,1]]\n",
    "print(a)\n",
    "print(b)\n",
    "print(c)"
   ]
  },
  {
   "cell_type": "code",
   "execution_count": null,
   "id": "f83d1081-e3e0-49c2-8c84-3dd37f54d6e5",
   "metadata": {},
   "outputs": [],
   "source": [
    "# this is a view\n",
    "b[1, 1] = 99\n",
    "print(a)\n",
    "print(b)\n",
    "print(c)"
   ]
  },
  {
   "cell_type": "code",
   "execution_count": null,
   "id": "3546a393-9382-4dfa-87c7-15bd73d886f4",
   "metadata": {},
   "outputs": [],
   "source": [
    "# this is a copy\n",
    "c[1, 1] = 77\n",
    "print(a)\n",
    "print(b)\n",
    "print(c)"
   ]
  },
  {
   "cell_type": "markdown",
   "id": "253d40e6-0a3e-4881-95d7-5a7c6eb118e4",
   "metadata": {},
   "source": [
    "in this case, part of a is copied into part of b"
   ]
  },
  {
   "cell_type": "code",
   "execution_count": null,
   "id": "e6af669e-b17f-43d9-8fb8-28f9a36c046b",
   "metadata": {},
   "outputs": [],
   "source": [
    "a = np.array([[1, 2, 3, 5], [4, 5, 6, 7]])\n",
    "b = np.array([[8, 8, 8, 8], [9, 9, 9, 9]])\n",
    "b[:,2:] = a[:,2:]\n",
    "\n",
    "print(a)\n",
    "print(b)"
   ]
  },
  {
   "cell_type": "code",
   "execution_count": null,
   "id": "c6460907-8c7b-4344-8e69-3c00b5ecc92e",
   "metadata": {},
   "outputs": [],
   "source": [
    "a[0, 3] = 99\n",
    "b[0, 3] = 55\n",
    "print(a)\n",
    "print(b)\n",
    "print()"
   ]
  }
 ],
 "metadata": {
  "kernelspec": {
   "display_name": "Python 3 (ipykernel)",
   "language": "python",
   "name": "python3"
  },
  "language_info": {
   "codemirror_mode": {
    "name": "ipython",
    "version": 3
   },
   "file_extension": ".py",
   "mimetype": "text/x-python",
   "name": "python",
   "nbconvert_exporter": "python",
   "pygments_lexer": "ipython3",
   "version": "3.8.13"
  }
 },
 "nbformat": 4,
 "nbformat_minor": 5
}
