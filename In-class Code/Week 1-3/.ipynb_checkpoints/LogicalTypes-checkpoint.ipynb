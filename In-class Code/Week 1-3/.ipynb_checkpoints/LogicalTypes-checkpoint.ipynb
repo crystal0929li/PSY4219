{
 "cells": [
  {
   "cell_type": "markdown",
   "id": "e05b268f-c747-4896-9874-f961ec1dc0b3",
   "metadata": {},
   "source": [
    "***\n",
    "\n",
    "## Logical Types and Operators\n",
    "\n",
    "https://docs.python.org/3/library/stdtypes.html "
   ]
  },
  {
   "cell_type": "code",
   "execution_count": 1,
   "id": "2ecd3a73-30c8-44b6-9576-854e0af790c0",
   "metadata": {},
   "outputs": [
    {
     "name": "stdout",
     "output_type": "stream",
     "text": [
      "<class 'bool'>\n",
      "<class 'bool'>\n"
     ]
    }
   ],
   "source": [
    "# logical types are bool\n",
    "\n",
    "x = True\n",
    "print(type(x))\n",
    "y = False\n",
    "print(type(y))"
   ]
  },
  {
   "cell_type": "code",
   "execution_count": 2,
   "id": "fa337ef5-6e00-4983-82d1-cf69ea76a1ab",
   "metadata": {},
   "outputs": [
    {
     "name": "stdout",
     "output_type": "stream",
     "text": [
      "True\n",
      "<class 'bool'>\n"
     ]
    }
   ],
   "source": [
    "# here, x is a bool type\n",
    "\n",
    "x = (1 == 1)\n",
    "print(x)\n",
    "print(type(x))"
   ]
  },
  {
   "cell_type": "code",
   "execution_count": 3,
   "id": "59128a2a-76cf-473f-9ab2-a9b10ddccd30",
   "metadata": {},
   "outputs": [
    {
     "name": "stdout",
     "output_type": "stream",
     "text": [
      "3\n"
     ]
    }
   ],
   "source": [
    "# True can be cast to a numeric 1, False to a numeric 0\n",
    "\n",
    "x = 2 + (1==1) + (1==0)\n",
    "print(x)"
   ]
  },
  {
   "cell_type": "code",
   "execution_count": null,
   "id": "a8849573-0b80-462d-90c4-ccdd04696e75",
   "metadata": {},
   "outputs": [],
   "source": [
    "# relational operators (logical)\n",
    "\n",
    "x = 2\n",
    "y = 1\n",
    "z = 3\n",
    "\n",
    "print(x > y)\n",
    "print(y > z)"
   ]
  },
  {
   "cell_type": "code",
   "execution_count": null,
   "id": "e32b8318-6083-4a6b-9bf3-57b231a6321b",
   "metadata": {},
   "outputs": [],
   "source": [
    "# be careful with equivalence with float\n",
    "\n",
    "import math as m\n",
    "\n",
    "print((m.sqrt(3)**2 == 3))\n",
    "print(m.sqrt(3)**2 - 3)"
   ]
  },
  {
   "cell_type": "code",
   "execution_count": null,
   "id": "ccf5cfe4-2bd3-4fff-91af-81b6ad01a124",
   "metadata": {},
   "outputs": [],
   "source": [
    "# an alternative way to check \"equivalence\" of float\n",
    "\n",
    "epsilon = .0000000001\n",
    "print(abs((m.sqrt(3))**2 - 3) < epsilon)"
   ]
  },
  {
   "cell_type": "code",
   "execution_count": null,
   "id": "542f65dd-ff10-44b7-83f2-c969c4934ffd",
   "metadata": {},
   "outputs": [],
   "source": [
    "abs(-2)"
   ]
  },
  {
   "cell_type": "code",
   "execution_count": null,
   "id": "fc409e78-baba-4eec-9a96-1f70d65c70fd",
   "metadata": {},
   "outputs": [],
   "source": [
    "# logical operators\n",
    "\n",
    "x = 2\n",
    "y = 1\n",
    "z = 3\n",
    "\n",
    "print((x > y) and (y > z))\n",
    "print((x > y) or (y > z))"
   ]
  },
  {
   "cell_type": "code",
   "execution_count": null,
   "id": "f579a5c3-98fa-4f8b-9160-85d29d43782d",
   "metadata": {},
   "outputs": [],
   "source": [
    "print( (x > y) or  (y > z)  and (x > z))\n",
    "print(((x > y) or  (y > z)) and (x > z))\n",
    "print( (x > y) or ((y > z)  and (x > z)))"
   ]
  },
  {
   "cell_type": "code",
   "execution_count": null,
   "id": "20c0833c-09cd-4a2a-8f69-657bdbd35ded",
   "metadata": {},
   "outputs": [],
   "source": [
    "# in Python, True equals 1, and False equals 0\n",
    "\n",
    "print(\"1 == True  : \", 1 == True)\n",
    "print(\"0 == False : \", 0 == False)\n",
    "\n",
    "# in some languages, any non-zero number is true, but not in Python\n",
    "print(\"2 == True  : \", 2 == True)"
   ]
  },
  {
   "cell_type": "code",
   "execution_count": null,
   "id": "a0c2a985-a2f9-49c3-b446-f3b4afc8e5b8",
   "metadata": {},
   "outputs": [],
   "source": []
  }
 ],
 "metadata": {
  "kernelspec": {
   "display_name": "Python 3 (ipykernel)",
   "language": "python",
   "name": "python3"
  },
  "language_info": {
   "codemirror_mode": {
    "name": "ipython",
    "version": 3
   },
   "file_extension": ".py",
   "mimetype": "text/x-python",
   "name": "python",
   "nbconvert_exporter": "python",
   "pygments_lexer": "ipython3",
   "version": "3.8.13"
  }
 },
 "nbformat": 4,
 "nbformat_minor": 5
}
