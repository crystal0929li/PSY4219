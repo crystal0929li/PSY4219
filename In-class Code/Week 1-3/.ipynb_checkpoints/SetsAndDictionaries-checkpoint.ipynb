{
 "cells": [
  {
   "cell_type": "markdown",
   "id": "c7773b6c",
   "metadata": {},
   "source": [
    "***\n",
    "\n",
    "# Sets\n",
    "\n",
    "https://docs.python.org/3/library/stdtypes.html#set-types-set-frozenset \n",
    "\n",
    "https://docs.python.org/3/tutorial/datastructures.html#sets "
   ]
  },
  {
   "cell_type": "code",
   "execution_count": 1,
   "id": "a839a957",
   "metadata": {},
   "outputs": [
    {
     "name": "stdout",
     "output_type": "stream",
     "text": [
      "set :  {'yellow', 'brown', 'orange', 'blue', 'red'}\n",
      "# elements :  5\n"
     ]
    }
   ],
   "source": [
    "# sets are unordered, each element is unique, duplicate elements not allowed/ignored\n",
    "\n",
    "a = {'red', 'red', 'red', 'blue', 'orange', 'brown', 'blue', 'yellow', 'blue', 'red'}\n",
    "print('set : ', a)\n",
    "\n",
    "# number of elements in a set\n",
    "print('# elements : ', len(a))"
   ]
  },
  {
   "cell_type": "markdown",
   "id": "5304623b",
   "metadata": {},
   "source": [
    "membership"
   ]
  },
  {
   "cell_type": "code",
   "execution_count": 2,
   "id": "4791212d",
   "metadata": {},
   "outputs": [
    {
     "name": "stdout",
     "output_type": "stream",
     "text": [
      "is \"black\" a member :  False\n",
      "is \"blue\" a member :  True\n"
     ]
    }
   ],
   "source": [
    "print('is \"black\" a member : ', 'black' in a)\n",
    "print('is \"blue\" a member : ', 'blue' in a)"
   ]
  },
  {
   "cell_type": "markdown",
   "id": "15ba4670",
   "metadata": {},
   "source": [
    "add an element"
   ]
  },
  {
   "cell_type": "code",
   "execution_count": null,
   "id": "1941cb1d",
   "metadata": {},
   "outputs": [],
   "source": [
    "a.add('orange')\n",
    "print(a)\n",
    "a.add('pink')\n",
    "print(a)"
   ]
  },
  {
   "cell_type": "markdown",
   "id": "2d15812e",
   "metadata": {},
   "source": [
    "remove element"
   ]
  },
  {
   "cell_type": "code",
   "execution_count": null,
   "id": "cc51d0d7",
   "metadata": {},
   "outputs": [],
   "source": [
    "# remove element\n",
    "print(a)\n",
    "a.remove('red')\n",
    "print(a)"
   ]
  },
  {
   "cell_type": "code",
   "execution_count": null,
   "id": "9db7f5d9",
   "metadata": {},
   "outputs": [],
   "source": [
    "# otherwise throws an error\n",
    "if 'magenta' in a:\n",
    "    a.remove('magenta')\n",
    "print(a)"
   ]
  },
  {
   "cell_type": "markdown",
   "id": "db394786",
   "metadata": {},
   "source": [
    "operations on sets"
   ]
  },
  {
   "cell_type": "code",
   "execution_count": null,
   "id": "29957f79",
   "metadata": {},
   "outputs": [],
   "source": [
    "a = {1, 4, 8, 9, 10}\n",
    "b = {1, 2, 3, 9}\n",
    "c = {1, 2, 3, 4, 8, 9, 10}\n",
    "\n",
    "# set intersection\n",
    "print('a & b : ', a & b)\n",
    "\n",
    "# set union\n",
    "print('a | b : ', a | b)\n",
    "\n",
    "# subset\n",
    "print('b < c : ', b < c)\n",
    "\n",
    "# superset\n",
    "print('a > b : ', a < b)"
   ]
  },
  {
   "cell_type": "markdown",
   "id": "235b640d",
   "metadata": {},
   "source": [
    "convert from list to a set"
   ]
  },
  {
   "cell_type": "code",
   "execution_count": null,
   "id": "15f790eb",
   "metadata": {},
   "outputs": [],
   "source": [
    "a = [1, 2, 3, 1, 2, 5, 3, 7, 5, 3, 1, 4, 6, 3, 9]\n",
    "b = set(a)\n",
    "print(a)\n",
    "print(b)"
   ]
  },
  {
   "cell_type": "code",
   "execution_count": null,
   "id": "b5449ff3",
   "metadata": {},
   "outputs": [],
   "source": [
    "print(len(a))\n",
    "print(len(b))"
   ]
  },
  {
   "cell_type": "markdown",
   "id": "412d64fa",
   "metadata": {},
   "source": [
    "***\n",
    "\n",
    "# Dictionaries\n",
    "\n",
    "https://docs.python.org/3/library/stdtypes.html#mapping-types-dict \n",
    "\n",
    "https://docs.python.org/3/tutorial/datastructures.html#dictionaries "
   ]
  },
  {
   "cell_type": "code",
   "execution_count": null,
   "id": "bbc57caf",
   "metadata": {},
   "outputs": [],
   "source": [
    "# collection of key-value pairs, duplicate keys are not allowed \n",
    "\n",
    "resp = {'Low'    : 3,\n",
    "        'Medium' : 6,\n",
    "        'High'   : 9}\n",
    "print(resp)"
   ]
  },
  {
   "cell_type": "markdown",
   "id": "53d734dd",
   "metadata": {},
   "source": [
    "reference by key"
   ]
  },
  {
   "cell_type": "code",
   "execution_count": null,
   "id": "d61a1ea2",
   "metadata": {},
   "outputs": [],
   "source": [
    "print(resp['Low'])\n",
    "resp['Low'] += 1\n",
    "print(resp)"
   ]
  },
  {
   "cell_type": "markdown",
   "id": "8e33ae85",
   "metadata": {},
   "source": [
    "list all the keys"
   ]
  },
  {
   "cell_type": "code",
   "execution_count": null,
   "id": "1426b27d",
   "metadata": {},
   "outputs": [],
   "source": [
    "print(list(resp))"
   ]
  },
  {
   "cell_type": "markdown",
   "id": "d97b7081",
   "metadata": {},
   "source": [
    "list all the values"
   ]
  },
  {
   "cell_type": "code",
   "execution_count": null,
   "id": "4ebb9789",
   "metadata": {},
   "outputs": [],
   "source": [
    "print(list(resp.values()))"
   ]
  },
  {
   "cell_type": "markdown",
   "id": "c2a14b4d",
   "metadata": {},
   "source": [
    "add a new key"
   ]
  },
  {
   "cell_type": "code",
   "execution_count": null,
   "id": "7af9609b",
   "metadata": {},
   "outputs": [],
   "source": [
    "resp['Very Low'] = 1\n",
    "print(resp)"
   ]
  },
  {
   "cell_type": "markdown",
   "id": "34f8c830",
   "metadata": {},
   "source": [
    "loop over keys"
   ]
  },
  {
   "cell_type": "code",
   "execution_count": null,
   "id": "3a7eab82",
   "metadata": {},
   "outputs": [],
   "source": [
    "for k in resp:\n",
    "    print(k, ':', resp[k])"
   ]
  },
  {
   "cell_type": "markdown",
   "id": "1df14f14",
   "metadata": {},
   "source": [
    "is a key present or not"
   ]
  },
  {
   "cell_type": "code",
   "execution_count": null,
   "id": "d9be5ba6",
   "metadata": {},
   "outputs": [],
   "source": [
    "test_key = 'Very High'\n",
    "\n",
    "if test_key in resp:\n",
    "    print(f'resp[{test_key}] : ',resp[test_key])\n",
    "else:\n",
    "    print(f'resp[{test_key}] : ', ' DOES NOT EXIST!')"
   ]
  },
  {
   "cell_type": "code",
   "execution_count": null,
   "id": "6d7ac19e",
   "metadata": {},
   "outputs": [],
   "source": [
    "print(resp)\n",
    "resp['Very Very Low'] = 0\n",
    "print(resp)"
   ]
  },
  {
   "cell_type": "code",
   "execution_count": null,
   "id": "aa2cb983",
   "metadata": {
    "tags": []
   },
   "outputs": [],
   "source": []
  },
  {
   "cell_type": "code",
   "execution_count": null,
   "id": "6654ffec",
   "metadata": {},
   "outputs": [],
   "source": []
  }
 ],
 "metadata": {
  "kernelspec": {
   "display_name": "Python 3 (ipykernel)",
   "language": "python",
   "name": "python3"
  },
  "language_info": {
   "codemirror_mode": {
    "name": "ipython",
    "version": 3
   },
   "file_extension": ".py",
   "mimetype": "text/x-python",
   "name": "python",
   "nbconvert_exporter": "python",
   "pygments_lexer": "ipython3",
   "version": "3.9.12"
  }
 },
 "nbformat": 4,
 "nbformat_minor": 5
}
