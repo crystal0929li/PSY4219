{
 "cells": [
  {
   "cell_type": "markdown",
   "id": "6b3bc678-faf3-4469-bede-2bcad62eb7e8",
   "metadata": {},
   "source": [
    "***\n",
    "\n",
    "# Lists and Tuples\n",
    "\n",
    "https://docs.python.org/3/tutorial/introduction.html#lists \n",
    "\n",
    "https://docs.python.org/3/tutorial/datastructures.html#more-on-lists \n",
    "\n",
    "https://docs.python.org/3/tutorial/datastructures.html#tuples-and-sequences"
   ]
  },
  {
   "cell_type": "code",
   "execution_count": null,
   "id": "d8f701a9-7383-41d8-9bb2-996b1516243d",
   "metadata": {},
   "outputs": [],
   "source": [
    "# declare lists using square brackets\n",
    "\n",
    "a = [2, 5, 10, 3, 9]\n",
    "print(type(a))\n",
    "\n",
    "# reference item in a list (like strings) with square brackets\n",
    "print(\"a[0]  \", a[0])\n",
    "print(\"a[2]  \", a[2])\n",
    "print(\"a[-1] \", a[-1])\n",
    "print()\n",
    "\n",
    "# slice using : (like strings)\n",
    "print(\"a[:]     \", a[:])\n",
    "print(\"a[1:5:2] \", a[1:5:2])\n",
    "print()\n",
    "\n",
    "# length\n",
    "print(\"len(a) = \", len(a))"
   ]
  },
  {
   "cell_type": "code",
   "execution_count": null,
   "id": "dc0c7d9d-c1c1-4389-a606-e32238e9fb10",
   "metadata": {},
   "outputs": [],
   "source": [
    "# declare tuples using parentheses\n",
    "\n",
    "a = (2, 5, 10, 3, 9)\n",
    "print(type(a))\n",
    "\n",
    "# reference item in a list (like strings) with square brackets\n",
    "print(\"a[0]  \", a[0])\n",
    "print(\"a[2]  \", a[2])\n",
    "print(\"a[-1] \", a[-1])\n",
    "print()\n",
    "\n",
    "# slice using : (like strings and lists)\n",
    "print(\"a[:]     \", a[:])\n",
    "print(\"a[1:5:2] \", a[1:5:2])\n",
    "print()\n",
    "\n",
    "# length\n",
    "print(\"len(a) = \", len(a))"
   ]
  },
  {
   "cell_type": "markdown",
   "id": "e427f6be-2d2c-403e-add6-a75885b8d2ac",
   "metadata": {},
   "source": [
    "### Homogeneous vs. Heterogeneous Data"
   ]
  },
  {
   "cell_type": "code",
   "execution_count": null,
   "id": "5bd21121-b2f1-4d88-95ec-53399a8cf7d6",
   "metadata": {},
   "outputs": [],
   "source": [
    "# both lists and tuples can be homogenous or heterogenous\n",
    "\n",
    "a = [4, 9, 3, 1]\n",
    "b = [\"fish\", 3.1, 1, True]\n",
    "print(a[0], b[0])\n",
    "\n",
    "a = (4, 9, 3, 1)\n",
    "b = (\"fish\", 3.1, 1, True)\n",
    "print(a[0], b[0])"
   ]
  },
  {
   "cell_type": "markdown",
   "id": "537d0b46-17a8-4765-b8ff-243b7b8a30f4",
   "metadata": {},
   "source": [
    "### Mutability"
   ]
  },
  {
   "cell_type": "code",
   "execution_count": null,
   "id": "e743a099-d45d-4d41-8fe1-cd08aa7ee5db",
   "metadata": {},
   "outputs": [],
   "source": [
    "# lists are mutable (can be changed)\n",
    "\n",
    "a = [2, 5, 10, 3, 9]\n",
    "print(a)\n",
    "a[1] = 99\n",
    "print(a)\n",
    "\n",
    "print()\n",
    "\n",
    "# tuples are immutable (cannot be changed, like strings)\n",
    "\n",
    "a = (2, 5, 10, 3, 9)\n",
    "print(a)\n",
    "a[1] = 99\n",
    "print(a)\n",
    "\n",
    "# immutability can be beneficial to ensure that data in the tuple does not change "
   ]
  },
  {
   "cell_type": "markdown",
   "id": "50b2dcd2-2db9-4329-87ae-88df91e66b12",
   "metadata": {},
   "source": [
    "### Tuples and Lists with Zero or One Element"
   ]
  },
  {
   "cell_type": "code",
   "execution_count": null,
   "id": "e9355ca9-ab59-4ae8-baa7-831d1f17d012",
   "metadata": {},
   "outputs": [],
   "source": [
    "# empty tuple\n",
    "\n",
    "a = ()\n",
    "print(a)\n",
    "print(type(a))"
   ]
  },
  {
   "cell_type": "code",
   "execution_count": null,
   "id": "9d13af81-120a-441c-8052-a36e48cfd2c0",
   "metadata": {},
   "outputs": [],
   "source": [
    "# tuple with one element  \n",
    "\n",
    "# this doesn't work, parentheses is interpretted mathematically\n",
    "a = (99)\n",
    "print(a)\n",
    "print(type(a))\n",
    "print()\n",
    "\n",
    "# this works\n",
    "a = (99,)\n",
    "print(a)\n",
    "print(type(a))"
   ]
  },
  {
   "cell_type": "code",
   "execution_count": null,
   "id": "d4286c6f-ae25-4079-ac7b-b0ec00388b5d",
   "metadata": {},
   "outputs": [],
   "source": [
    "# other ways to create tuple\n",
    "\n",
    "a = 1, 5, 10\n",
    "print(a)\n",
    "print(type(a))\n",
    "print()\n",
    "\n",
    "a = 99,\n",
    "print(a)\n",
    "print(type(a))"
   ]
  },
  {
   "cell_type": "code",
   "execution_count": null,
   "id": "f78b1706-8026-49aa-ad72-36b82e2634f0",
   "metadata": {},
   "outputs": [],
   "source": [
    "# empty list\n",
    "\n",
    "a = []\n",
    "print(a)\n",
    "print(type(a))"
   ]
  },
  {
   "cell_type": "code",
   "execution_count": null,
   "id": "1098a7e8-6a93-415f-8da4-094cd9a79ec3",
   "metadata": {},
   "outputs": [],
   "source": [
    "# list with one element  \n",
    "\n",
    "# this works\n",
    "a = [99]\n",
    "print(a)\n",
    "print(type(a))\n",
    "print()\n",
    "\n",
    "# so does this\n",
    "a = [99,]\n",
    "print(a)\n",
    "print(type(a))"
   ]
  },
  {
   "cell_type": "markdown",
   "id": "77f574b3-c3a1-4331-84d5-e3a6f64a876c",
   "metadata": {},
   "source": [
    "### Converting Between Lists and Tuples"
   ]
  },
  {
   "cell_type": "code",
   "execution_count": null,
   "id": "69ae4683-8ff8-4b23-a2c3-077f99e806cb",
   "metadata": {},
   "outputs": [],
   "source": [
    "# converting between lists and tuples \n",
    "\n",
    "mylist  = [10, 5, 1]\n",
    "mytuple = (11, 6, 0)\n",
    "\n",
    "newtuple  = tuple(mylist)\n",
    "newlist = list(mytuple)\n",
    "\n",
    "print(newlist)\n",
    "print(type(newlist))\n",
    "print()\n",
    "\n",
    "print(newtuple)\n",
    "print(type(newtuple))"
   ]
  },
  {
   "cell_type": "code",
   "execution_count": null,
   "id": "f61540ea-3f34-4240-a043-8ec958de60e6",
   "metadata": {},
   "outputs": [],
   "source": [
    "# can convert from iterator to list (or tuple)\n",
    "# recall range() is often used in a for loop\n",
    "\n",
    "a = range(10)\n",
    "print(a)\n",
    "print(type(a))\n",
    "print()\n",
    "\n",
    "b = list(range(10))\n",
    "print(b)\n",
    "print(type(b))\n",
    "print()\n",
    "\n",
    "c = tuple(range(10))\n",
    "print(c)\n",
    "print(type(c))"
   ]
  },
  {
   "cell_type": "markdown",
   "id": "49a04af9-a48c-45e0-95fc-600fde0e9556",
   "metadata": {},
   "source": [
    "### Operations on Lists and Tuples"
   ]
  },
  {
   "cell_type": "code",
   "execution_count": null,
   "id": "f778bfff-a0f0-480c-a0ba-f640bad64096",
   "metadata": {},
   "outputs": [],
   "source": [
    "# operations on lists and tuples \n",
    "\n",
    "a = [1, 2, 3]\n",
    "b = [5, 6, 7]\n",
    "print(a+b)\n",
    "print(3*a)\n",
    "print(max(b))\n",
    "print()\n",
    "\n",
    "c = (1, 2, 3)\n",
    "d = (5, 6, 7)\n",
    "print(c+d)\n",
    "print(3*c)\n",
    "print(max(d))"
   ]
  },
  {
   "cell_type": "markdown",
   "id": "2dd398ff-897a-4f87-8914-4eb1fb89cb0c",
   "metadata": {},
   "source": [
    "### Adding and Deleting Items on Lists"
   ]
  },
  {
   "cell_type": "code",
   "execution_count": null,
   "id": "9e55412f-34ca-49ec-bec9-1f3ad8c93b1e",
   "metadata": {},
   "outputs": [],
   "source": [
    "# adding and deleting items on a list \n",
    "\n",
    "a = [1, 2, 3, 4, 5, 6]\n",
    "\n",
    "# adding items\n",
    "a.append(4)\n",
    "print(\"after a.append(4)       \", a)\n",
    "\n",
    "a.append(99)\n",
    "print(\"after a.append(99)      \", a)\n",
    "\n",
    "a.append(\"truck\")\n",
    "print(\"after a.append('truck') \", a)\n",
    "\n",
    "# deleting item\n",
    "del(a[1])\n",
    "print(\"after del(a[1])         \", a)\n",
    "\n",
    "# delete range of items\n",
    "del(a[0:3])\n",
    "print(\"after del(a[0:3])       \", a)"
   ]
  },
  {
   "cell_type": "code",
   "execution_count": null,
   "id": "fd614e90-9897-4b08-b0da-279c701c5ca9",
   "metadata": {},
   "outputs": [],
   "source": [
    "# unlike Matlab, you cannot just do something like this\n",
    "\n",
    "a = [1, 2, 3]\n",
    "a[3] = 4\n",
    "\n",
    "# let alone this\n",
    "a[99] = 100"
   ]
  },
  {
   "cell_type": "markdown",
   "id": "b41df41c-c315-4c5a-958d-c3657f64124c",
   "metadata": {},
   "source": [
    "### Deleting/Removing Items from Lists"
   ]
  },
  {
   "cell_type": "code",
   "execution_count": null,
   "id": "e8660749-410d-404e-9091-53404d95293a",
   "metadata": {},
   "outputs": [],
   "source": [
    "# other operations on lists \n",
    "\n",
    "a = [1, 4, 7, \"truck\", 3, 4]\n",
    "print(\"original list           \", a)\n",
    "\n",
    "# recall what del() does\n",
    "del(a[1])\n",
    "print(\"after del(a[1])         \", a)\n",
    "\n",
    "# can remove first one\n",
    "a.remove(\"truck\")\n",
    "print(\"after a.remove('truck') \", a)"
   ]
  },
  {
   "cell_type": "code",
   "execution_count": null,
   "id": "32dfb472-4876-4e71-851f-8a6b9c4ac6bf",
   "metadata": {},
   "outputs": [],
   "source": [
    "# no more left to remove - throws an error\n",
    "\n",
    "print(a)\n",
    "a.remove(\"truck\")\n",
    "print(\"after a.remove('truck') \", a)"
   ]
  },
  {
   "cell_type": "markdown",
   "id": "7c3ef3b6-2f5d-43c8-a586-2a1d044c4e86",
   "metadata": {},
   "source": [
    "### Finding Items on a List"
   ]
  },
  {
   "cell_type": "code",
   "execution_count": null,
   "id": "38c4e7e7-b9df-46b4-a249-3a72a7f28ea7",
   "metadata": {},
   "outputs": [],
   "source": [
    "# find particular items in a list\n",
    "\n",
    "a = [\"nail\", \"truck\", \"cow\", \"fish\", \"cow\", \"ball\", \"kite\", \"cow\"]\n",
    "\n",
    "# count the number of occurrences\n",
    "print(\"a.count('cow')  \", a.count(\"cow\"))\n",
    "print(\"a.count('book') \", a.count(\"book\"))\n",
    "print()\n",
    "\n",
    "# find the index of the first occurence\n",
    "print(\"a.index('cow')  \", a.index(\"cow\"))\n",
    "print()\n",
    "\n",
    "# introducing the conditional (if statement) in Python\n",
    "if (a.count('book') > 0):\n",
    "    print(\"a.index('book') \", a.index(\"book\"))\n",
    "else:\n",
    "    print(\"not found!\")"
   ]
  },
  {
   "cell_type": "markdown",
   "id": "85a83608-67fb-40d2-ae65-3284b486ddb3",
   "metadata": {},
   "source": [
    "### Concatenating, Extending, Appending"
   ]
  },
  {
   "cell_type": "code",
   "execution_count": null,
   "id": "58b2da52-0f86-4d86-a916-8bf9d1a657a7",
   "metadata": {},
   "outputs": [],
   "source": [
    "# + vs. extend vs. append\n",
    "\n",
    "a = [1, 2, 3, 4, 5]\n",
    "b = [6, 7, 8]\n",
    "\n",
    "print(\"a+b  \", a+b)\n",
    "print()\n",
    "\n",
    "a.extend(b)\n",
    "print(\"a.extend(b) \", a)\n",
    "print()\n",
    "\n",
    "a.append(b)\n",
    "print(\"a.append(b) \", a)"
   ]
  },
  {
   "cell_type": "markdown",
   "id": "4b876dc3-5e66-4553-97df-ef5c8fbff1d7",
   "metadata": {},
   "source": [
    "### Sorting Lists"
   ]
  },
  {
   "cell_type": "code",
   "execution_count": null,
   "id": "940d7ffe-dffe-40c5-8745-a10cdb9b12ac",
   "metadata": {},
   "outputs": [],
   "source": [
    "# .sort method\n",
    "\n",
    "a = [5, 4, 6, 1, 4, 3, 5]\n",
    "\n",
    "a.sort()\n",
    "print(a)"
   ]
  },
  {
   "cell_type": "code",
   "execution_count": null,
   "id": "8dda9fc2-48b7-41b7-b488-8d4a8bc49ccc",
   "metadata": {},
   "outputs": [],
   "source": [
    "# sorted() function\n",
    "\n",
    "a = [5, 4, 6, 1, 4, 3, 5]\n",
    "\n",
    "# sorted returns a sorted list without affecting the original list\n",
    "print(\"sorted(a)  \", sorted(a))\n",
    "print(\"original a \", a)"
   ]
  },
  {
   "cell_type": "markdown",
   "id": "9527e762-b7d9-4518-b183-6353ec9a3037",
   "metadata": {},
   "source": [
    "### Iterating Over Lists and Tuples with For Loops"
   ]
  },
  {
   "cell_type": "code",
   "execution_count": null,
   "id": "0e057d70-da9e-4879-aa9d-720677c6ccef",
   "metadata": {},
   "outputs": [],
   "source": [
    "# stepping through each item in a list - for loops in Python\n",
    "\n",
    "a = [1, 2, 3, 5, 7, 11]\n",
    "for i in range(len(a)):\n",
    "    print(i, \"\\t\", a[i])\n",
    "\n",
    "print()\n",
    "    \n",
    "for elem in a:\n",
    "    print(i, \"\\t\", elem)"
   ]
  },
  {
   "cell_type": "code",
   "execution_count": null,
   "id": "9d7a6b18-17ae-449d-8ca0-e37161adb281",
   "metadata": {},
   "outputs": [],
   "source": [
    "# stepping through each item in a tuple - for loops in Python\n",
    "\n",
    "a = (1, 2, 3, 5, 7, 11)\n",
    "for i in range(len(a)):\n",
    "    print(i, \"\\t\", a[i])\n",
    "\n",
    "print(\"\\n- or -\\n\")\n",
    "\n",
    "a = (1, 2, 3, 5, 7, 11)\n",
    "for elem in a:\n",
    "    print(elem)"
   ]
  },
  {
   "cell_type": "markdown",
   "id": "774635d8-2119-4f0c-84a9-abcea999c551",
   "metadata": {},
   "source": [
    "### Copying a List"
   ]
  },
  {
   "cell_type": "code",
   "execution_count": null,
   "id": "ee918d9a-9a3b-438b-aa2f-3c659144f157",
   "metadata": {},
   "outputs": [],
   "source": [
    "# copy of a list\n",
    "\n",
    "a = [5, 4, 6, 1, 4, 3, 5]\n",
    "b = a\n",
    "print(\"a \", a); print(\"b \", b); print()"
   ]
  },
  {
   "cell_type": "code",
   "execution_count": null,
   "id": "097aa532-08a9-44a5-8ea2-982c6cda27ee",
   "metadata": {},
   "outputs": [],
   "source": [
    "a[2] = 99\n",
    "print(\"a \", a); print(\"b \", b); print()"
   ]
  },
  {
   "cell_type": "code",
   "execution_count": null,
   "id": "e87ada91-8698-460e-b0a3-f16bee7fb26b",
   "metadata": {},
   "outputs": [],
   "source": [
    "# make a copy\n",
    "a = [5, 4, 6, 1, 4, 3, 5]\n",
    "b = a.copy()\n",
    "a[2] = 99\n",
    "print(\"a \", a); print(\"b \", b); print()\n",
    "\n",
    "# or this way\n",
    "a = [5, 4, 6, 1, 4, 3, 5]\n",
    "b = a[:]\n",
    "a[2] = 99\n",
    "print(\"a \", a); print(\"b \", b); print()"
   ]
  },
  {
   "cell_type": "markdown",
   "id": "133ddbca-88cc-455f-bf26-5b2a75cf4f9b",
   "metadata": {},
   "source": [
    "### Nested (Multidimensional) Lists and Tuples"
   ]
  },
  {
   "cell_type": "code",
   "execution_count": null,
   "id": "eb09614a-aaf4-44ad-b6a4-b39c2063e2f4",
   "metadata": {},
   "outputs": [],
   "source": [
    "# lists and tuples contain object\n",
    "#\n",
    "# those object can be other lists and tuples \n",
    "# (or strings, or floats, or ints, or any other object)\n",
    "\n",
    "a = [[1, 2, 3], [4, 5, 6]]\n",
    "print(a)\n",
    "print(a[0][2])\n",
    "print(a[1][0])"
   ]
  },
  {
   "cell_type": "markdown",
   "id": "e285b0f2-79d8-4882-89d2-5099ea400f49",
   "metadata": {},
   "source": [
    "give this:"
   ]
  },
  {
   "cell_type": "code",
   "execution_count": null,
   "id": "eae6c8ea-ee08-4b20-949d-9a275e89bcdd",
   "metadata": {},
   "outputs": [],
   "source": [
    "a = [1, \"fish\", [2, 3], (1, 3, 5), [\"truck\", \"house\"]]\n",
    "print(a)"
   ]
  },
  {
   "cell_type": "markdown",
   "id": "cf47612d-257b-4a9f-b2e6-5f17dc34a7d0",
   "metadata": {},
   "source": [
    "what will these return?"
   ]
  },
  {
   "cell_type": "code",
   "execution_count": null,
   "id": "16659e91-896e-4f45-8a10-216c0cd4c4a7",
   "metadata": {},
   "outputs": [],
   "source": [
    "print(\"a[2][0] \", a[2][0])"
   ]
  },
  {
   "cell_type": "code",
   "execution_count": null,
   "id": "8de6c4d5-eb3b-4480-94df-e68ba24396b2",
   "metadata": {},
   "outputs": [],
   "source": [
    "print(\"a[4][1] \", a[4][1])"
   ]
  },
  {
   "cell_type": "code",
   "execution_count": null,
   "id": "c621906a-0cee-4291-8611-b79c49bd3e7c",
   "metadata": {},
   "outputs": [],
   "source": [
    "print(\"a[0][0] \", a[0][0])"
   ]
  },
  {
   "cell_type": "code",
   "execution_count": null,
   "id": "f80ab0b2-35e1-4ceb-9ccd-8beeabad7dd4",
   "metadata": {},
   "outputs": [],
   "source": [
    "print(\"a[1][0] \", a[1][0])"
   ]
  },
  {
   "cell_type": "code",
   "execution_count": null,
   "id": "b16161aa-7ea0-4745-8ef0-dcb21a7de77d",
   "metadata": {},
   "outputs": [],
   "source": [
    "print(\"a[4][1][2] \", a[4][1][2])"
   ]
  },
  {
   "cell_type": "markdown",
   "id": "b0d219ed-6529-400e-bb92-1f74332c75a7",
   "metadata": {},
   "source": [
    "how to think of accessing these nested lists/tuples"
   ]
  },
  {
   "cell_type": "code",
   "execution_count": null,
   "id": "caf730b9-c992-4faa-b611-430f4eba4d9d",
   "metadata": {},
   "outputs": [],
   "source": [
    "a = (1, [2, 3], (4, [5, 6]), 7)\n",
    "print(a)"
   ]
  },
  {
   "cell_type": "code",
   "execution_count": null,
   "id": "d4495412-74d3-4264-9821-dde6ca35ab22",
   "metadata": {},
   "outputs": [],
   "source": [
    "a1 = a[2]\n",
    "print(a1)"
   ]
  },
  {
   "cell_type": "code",
   "execution_count": null,
   "id": "cad0958a-b630-4161-862c-f809570d3307",
   "metadata": {},
   "outputs": [],
   "source": [
    "a2 = a1[1]\n",
    "print(a2)"
   ]
  },
  {
   "cell_type": "code",
   "execution_count": null,
   "id": "3d20a2e1-0c10-499f-9730-7fae3ec83dea",
   "metadata": {},
   "outputs": [],
   "source": [
    "a3 = a2[0]\n",
    "print(a3)"
   ]
  },
  {
   "cell_type": "code",
   "execution_count": null,
   "id": "31b025c3-ed5f-4dd8-9c15-6bd0eddee45c",
   "metadata": {},
   "outputs": [],
   "source": [
    "# that is the same as\n",
    "print(a[2][1][0])"
   ]
  },
  {
   "cell_type": "markdown",
   "id": "b5b66c0e-e4f7-4075-b03d-e2594de1fed0",
   "metadata": {},
   "source": [
    "### Shallow vs. Deep Copy of Lists"
   ]
  },
  {
   "cell_type": "markdown",
   "id": "d70af4ec-89ff-49c3-9796-4b7fae221428",
   "metadata": {},
   "source": [
    "shallow copy"
   ]
  },
  {
   "cell_type": "code",
   "execution_count": null,
   "id": "02aac0c0-2bb8-4d0d-adb4-4a8b7be3b57e",
   "metadata": {},
   "outputs": [],
   "source": [
    "a = [1, [2, 3], [4, [5, 6]], 7]\n",
    "b = a.copy()\n",
    "\n",
    "a[2][1][0] = 99\n",
    "print(a)\n",
    "print(b)"
   ]
  },
  {
   "cell_type": "markdown",
   "id": "1167fcfc-e855-4358-9401-8cd5855fabde",
   "metadata": {},
   "source": [
    "also a shallow copy"
   ]
  },
  {
   "cell_type": "code",
   "execution_count": null,
   "id": "f20b949b-ab3b-477d-a919-c454c0ce4394",
   "metadata": {},
   "outputs": [],
   "source": [
    "import copy\n",
    "\n",
    "a = [1, [2, 3], [4, [5, 6]], 7]\n",
    "b = copy.copy(a)\n",
    "\n",
    "a[2][1][0] = 99\n",
    "a[0] = 1000\n",
    "print(a)\n",
    "print(b)"
   ]
  },
  {
   "cell_type": "markdown",
   "id": "464fc285-77dd-429e-86b7-ccfc1f4f741e",
   "metadata": {},
   "source": [
    "deep copy (full nesting)"
   ]
  },
  {
   "cell_type": "code",
   "execution_count": null,
   "id": "3c01ea65-c0f5-46b3-b709-b5007255479d",
   "metadata": {},
   "outputs": [],
   "source": [
    "import copy\n",
    "\n",
    "a = [1, [2, 3], [4, [5, 6]], 7]\n",
    "b = copy.deepcopy(a)\n",
    "\n",
    "a[2][1][0] = 99\n",
    "print(a)\n",
    "print(b)"
   ]
  },
  {
   "cell_type": "markdown",
   "id": "6e5ef0a1-8534-4cb3-868d-f85b9f6e46fa",
   "metadata": {},
   "source": [
    "deep copy (full nesting) - with a different import syntax"
   ]
  },
  {
   "cell_type": "code",
   "execution_count": null,
   "id": "2c324275-103f-42fe-9581-92ea09f7cc34",
   "metadata": {},
   "outputs": [],
   "source": [
    "from copy import deepcopy\n",
    "\n",
    "a = [1, [2, 3], [4, [5, 6]], 7]\n",
    "b = deepcopy(a)\n",
    "\n",
    "a[2][1][0] = 99\n",
    "print(a)\n",
    "print(b)"
   ]
  },
  {
   "cell_type": "code",
   "execution_count": null,
   "id": "92d529f8-517b-45bd-b579-a12ca64b9a6b",
   "metadata": {},
   "outputs": [],
   "source": []
  },
  {
   "cell_type": "code",
   "execution_count": null,
   "id": "881a9a9a-97b9-499e-8135-f593aa78e751",
   "metadata": {},
   "outputs": [],
   "source": []
  }
 ],
 "metadata": {
  "kernelspec": {
   "display_name": "Python 3 (ipykernel)",
   "language": "python",
   "name": "python3"
  },
  "language_info": {
   "codemirror_mode": {
    "name": "ipython",
    "version": 3
   },
   "file_extension": ".py",
   "mimetype": "text/x-python",
   "name": "python",
   "nbconvert_exporter": "python",
   "pygments_lexer": "ipython3",
   "version": "3.8.13"
  }
 },
 "nbformat": 4,
 "nbformat_minor": 5
}
