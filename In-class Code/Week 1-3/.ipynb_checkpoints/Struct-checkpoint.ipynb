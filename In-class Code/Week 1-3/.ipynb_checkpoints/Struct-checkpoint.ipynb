{
 "cells": [
  {
   "cell_type": "markdown",
   "id": "da717104-4be7-4257-8e4f-2c401e6fdf8c",
   "metadata": {},
   "source": [
    "***\n",
    "\n",
    "# Struct-like using Python\n",
    "\n",
    "### Python does not have a struct type per se"
   ]
  },
  {
   "cell_type": "code",
   "execution_count": null,
   "id": "81ea15e9-f1cd-4c86-ba98-1ab288aa1179",
   "metadata": {
    "tags": []
   },
   "outputs": [],
   "source": [
    "# struct-like using dictionary\n",
    "\n",
    "subj = {}\n",
    "subj['firstname'] = 'Sally'\n",
    "subj['lastname'] = 'Jones'\n",
    "subj['age'] = 63\n",
    "subj['BDI'] = 38\n",
    "\n",
    "print(subj)\n",
    "print(subj['lastname'])"
   ]
  },
  {
   "cell_type": "code",
   "execution_count": null,
   "id": "38202e3e-cecc-45d6-b4de-01942c06a8c3",
   "metadata": {},
   "outputs": [],
   "source": [
    "# struct-like using a class\n",
    "\n",
    "class subject:\n",
    "    firstname = ''; lastname = ''; age = 999; BDI = 999\n",
    "    \n",
    "    def __init__(self, fname, lname, age, BDI):\n",
    "        self.firstname = fname\n",
    "        self.lastname = lname\n",
    "        self.age = age\n",
    "        self.BDI = BDI\n",
    "        \n",
    "    def __str__(self):\n",
    "        return 'subject(firstname='+self.firstname+', lastname='+self.lastname+', age='+str(self.age)+', BDI='+str(self.BDI)+')'\n",
    "\n",
    "subj = subject('Sally', 'Jones', 63, 38)\n",
    "print(subj)\n",
    "print(subj.lastname)"
   ]
  },
  {
   "cell_type": "code",
   "execution_count": null,
   "id": "c4c4bad7-d3a8-4bd0-997e-460414c27d5c",
   "metadata": {},
   "outputs": [],
   "source": [
    "# struct-like using a namedtuple\n",
    "# https://docs.python.org/3/library/collections.html#collections.namedtuple\n",
    "\n",
    "from collections import namedtuple\n",
    "\n",
    "subject = namedtuple('subject', ['firstname', 'lastname', 'age', 'BDI'])\n",
    "subj = subject(firstname='Sally', lastname='Jones', age=63, BDI=38)\n",
    "print(subj)\n",
    "print(subj.lastname)"
   ]
  },
  {
   "cell_type": "code",
   "execution_count": null,
   "id": "cb259f82-2ec9-4004-ad42-7285e8a5d8a2",
   "metadata": {},
   "outputs": [],
   "source": []
  }
 ],
 "metadata": {
  "kernelspec": {
   "display_name": "Python 3 (ipykernel)",
   "language": "python",
   "name": "python3"
  },
  "language_info": {
   "codemirror_mode": {
    "name": "ipython",
    "version": 3
   },
   "file_extension": ".py",
   "mimetype": "text/x-python",
   "name": "python",
   "nbconvert_exporter": "python",
   "pygments_lexer": "ipython3",
   "version": "3.8.13"
  }
 },
 "nbformat": 4,
 "nbformat_minor": 5
}
