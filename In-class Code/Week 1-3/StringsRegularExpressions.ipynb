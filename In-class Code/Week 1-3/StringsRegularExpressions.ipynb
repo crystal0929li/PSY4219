{
 "cells": [
  {
   "cell_type": "markdown",
   "id": "e1b2bdf4-2f12-4cc9-9efe-383c4343c4e0",
   "metadata": {
    "tags": []
   },
   "source": [
    "***\n",
    "\n",
    "# Strings"
   ]
  },
  {
   "cell_type": "markdown",
   "id": "e3e97393-db91-432a-97d9-889f988863ff",
   "metadata": {},
   "source": [
    "### String Types and Operators\n",
    "\n",
    "https://docs.python.org/3/tutorial/introduction.html#strings \n",
    "\n",
    "https://docs.python.org/3/library/stdtypes.html#string-methods "
   ]
  },
  {
   "cell_type": "code",
   "execution_count": 1,
   "id": "a13ff203-9c9a-4786-b6cf-cdd4107bb816",
   "metadata": {},
   "outputs": [
    {
     "name": "stdout",
     "output_type": "stream",
     "text": [
      "You can put a 'quoted bit' inside a string if you use a different type of quote\n",
      "<class 'str'>\n"
     ]
    }
   ],
   "source": [
    "# declaring strings using single or double quotes\n",
    "\n",
    "a = 'This is a string with single quotes'\n",
    "b = \"This is a string with double quotes\"\n",
    "c = \"You can put a 'quoted bit' inside a string if you use a different type of quote\"\n",
    "print(c)\n",
    "print(type(c))"
   ]
  },
  {
   "cell_type": "code",
   "execution_count": 2,
   "id": "549c4146-7548-47c7-8104-206002d955e0",
   "metadata": {},
   "outputs": [],
   "source": [
    "# unlike other languages, Python does not distinguish between characters and strings - \n",
    "# a “character” is a string with one element \n",
    "\n",
    "# this is a 1-element string\n",
    "a = \"A\"\n",
    "\n",
    "# this is a multi-element string\n",
    "a = \"This is a test\""
   ]
  },
  {
   "cell_type": "code",
   "execution_count": 3,
   "id": "bbe3dbe4-035d-4c33-b6ae-cd71b7494746",
   "metadata": {},
   "outputs": [
    {
     "name": "stdout",
     "output_type": "stream",
     "text": [
      "14\n",
      "4\n",
      "4.0\n"
     ]
    }
   ],
   "source": [
    "# length of a string\n",
    "\n",
    "s = \"Example String\"\n",
    "print(len(s))\n",
    "\n",
    "# convert from string to numbers\n",
    "a = int(\"4\")\n",
    "b = float(\"4\")\n",
    "print(a)\n",
    "print(b)"
   ]
  },
  {
   "cell_type": "code",
   "execution_count": 4,
   "id": "cd015709-5900-478c-8237-7896d947739d",
   "metadata": {},
   "outputs": [
    {
     "name": "stdout",
     "output_type": "stream",
     "text": [
      "Thisisastring\n",
      "This is a string\n",
      "ThisThisThis\n"
     ]
    }
   ],
   "source": [
    "# operations on strings\n",
    "\n",
    "# concatenate strings (operator overloading in Python)\n",
    "a = \"This\"\n",
    "b = \"is\"\n",
    "c = \"a\"\n",
    "d = \"string\"\n",
    "print(a+b+c+d)\n",
    "print(a+\" \"+b+\" \"+c+\" \"+d)\n",
    "\n",
    "# replicate strings\n",
    "print(3*a)"
   ]
  },
  {
   "cell_type": "code",
   "execution_count": 5,
   "id": "75faa16b-c3c4-4f90-b5df-9b03f34fa32a",
   "metadata": {},
   "outputs": [
    {
     "ename": "TypeError",
     "evalue": "unsupported operand type(s) for -: 'str' and 'str'",
     "output_type": "error",
     "traceback": [
      "\u001b[0;31m---------------------------------------------------------------------------\u001b[0m",
      "\u001b[0;31mTypeError\u001b[0m                                 Traceback (most recent call last)",
      "Input \u001b[0;32mIn [5]\u001b[0m, in \u001b[0;36m<cell line: 5>\u001b[0;34m()\u001b[0m\n\u001b[1;32m      3\u001b[0m a \u001b[38;5;241m=\u001b[39m \u001b[38;5;124m\"\u001b[39m\u001b[38;5;124mABC\u001b[39m\u001b[38;5;124m\"\u001b[39m\n\u001b[1;32m      4\u001b[0m b \u001b[38;5;241m=\u001b[39m \u001b[38;5;124m\"\u001b[39m\u001b[38;5;124mA\u001b[39m\u001b[38;5;124m\"\u001b[39m\n\u001b[0;32m----> 5\u001b[0m \u001b[38;5;28mprint\u001b[39m(\u001b[43ma\u001b[49m\u001b[38;5;241;43m-\u001b[39;49m\u001b[43mb\u001b[49m)\n",
      "\u001b[0;31mTypeError\u001b[0m: unsupported operand type(s) for -: 'str' and 'str'"
     ]
    }
   ],
   "source": [
    "# illegal string operations\n",
    "\n",
    "a = \"ABC\"\n",
    "b = \"A\"\n",
    "print(a-b)"
   ]
  },
  {
   "cell_type": "code",
   "execution_count": 6,
   "id": "3fc7a546-8297-4df3-9874-066da69ee24f",
   "metadata": {},
   "outputs": [
    {
     "ename": "TypeError",
     "evalue": "can only concatenate str (not \"int\") to str",
     "output_type": "error",
     "traceback": [
      "\u001b[0;31m---------------------------------------------------------------------------\u001b[0m",
      "\u001b[0;31mTypeError\u001b[0m                                 Traceback (most recent call last)",
      "Input \u001b[0;32mIn [6]\u001b[0m, in \u001b[0;36m<cell line: 4>\u001b[0;34m()\u001b[0m\n\u001b[1;32m      1\u001b[0m \u001b[38;5;66;03m# this is defined in some languages (like Matlab), not in Python\u001b[39;00m\n\u001b[1;32m      3\u001b[0m A \u001b[38;5;241m=\u001b[39m \u001b[38;5;124m\"\u001b[39m\u001b[38;5;124ma\u001b[39m\u001b[38;5;124m\"\u001b[39m\n\u001b[0;32m----> 4\u001b[0m \u001b[38;5;28mprint\u001b[39m(\u001b[43mA\u001b[49m\u001b[38;5;241;43m+\u001b[39;49m\u001b[38;5;241;43m1\u001b[39;49m)\n",
      "\u001b[0;31mTypeError\u001b[0m: can only concatenate str (not \"int\") to str"
     ]
    }
   ],
   "source": [
    "# this is defined in some languages (like Matlab), not in Python\n",
    "\n",
    "A = \"a\"\n",
    "print(A+1)"
   ]
  },
  {
   "cell_type": "code",
   "execution_count": 7,
   "id": "3a24c931-4da0-4806-93af-37bce912a5fe",
   "metadata": {},
   "outputs": [
    {
     "name": "stdout",
     "output_type": "stream",
     "text": [
      "['__add__', '__class__', '__contains__', '__delattr__', '__dir__', '__doc__', '__eq__', '__format__', '__ge__', '__getattribute__', '__getitem__', '__getnewargs__', '__gt__', '__hash__', '__init__', '__init_subclass__', '__iter__', '__le__', '__len__', '__lt__', '__mod__', '__mul__', '__ne__', '__new__', '__reduce__', '__reduce_ex__', '__repr__', '__rmod__', '__rmul__', '__setattr__', '__sizeof__', '__str__', '__subclasshook__', 'capitalize', 'casefold', 'center', 'count', 'encode', 'endswith', 'expandtabs', 'find', 'format', 'format_map', 'index', 'isalnum', 'isalpha', 'isascii', 'isdecimal', 'isdigit', 'isidentifier', 'islower', 'isnumeric', 'isprintable', 'isspace', 'istitle', 'isupper', 'join', 'ljust', 'lower', 'lstrip', 'maketrans', 'partition', 'replace', 'rfind', 'rindex', 'rjust', 'rpartition', 'rsplit', 'rstrip', 'split', 'splitlines', 'startswith', 'strip', 'swapcase', 'title', 'translate', 'upper', 'zfill']\n",
      "THIS is A String\n"
     ]
    }
   ],
   "source": [
    "# many methods for string types\n",
    "\n",
    "s = \"THIS is A String\"\n",
    "print(dir(s))\n",
    "\n",
    "print(s)"
   ]
  },
  {
   "cell_type": "markdown",
   "id": "9438bfab-c97d-4ba6-80fa-05ba8fed43fe",
   "metadata": {},
   "source": [
    "see https://docs.python.org/3/library/stdtypes.html#string-methods"
   ]
  },
  {
   "cell_type": "code",
   "execution_count": 8,
   "id": "8aee06f9-0ff0-4a07-8f5d-4a7260f18059",
   "metadata": {},
   "outputs": [
    {
     "name": "stdout",
     "output_type": "stream",
     "text": [
      "this is a string\n",
      "['THIS', 'is', 'A', 'String']\n",
      "THIS IS A STRING\n"
     ]
    }
   ],
   "source": [
    "print(s.lower())\n",
    "print(s.split())\n",
    "print(s.upper())"
   ]
  },
  {
   "cell_type": "markdown",
   "id": "95bc1fcd-fdc0-4b25-8ced-41c1979ea0e7",
   "metadata": {},
   "source": [
    "### format strings\n",
    "\n",
    "https://docs.python.org/3/library/string.html#formatstrings "
   ]
  },
  {
   "cell_type": "code",
   "execution_count": 9,
   "id": "a2203a78-c0f7-4606-82c9-b96a055fa941",
   "metadata": {},
   "outputs": [
    {
     "name": "stdout",
     "output_type": "stream",
     "text": [
      "an int: 1; a float: 3.4; a string: Tom\n"
     ]
    }
   ],
   "source": [
    "a = 1\n",
    "b = 3.4\n",
    "c = \"Tom\"\n",
    "s = \"an int: {}; a float: {}; a string: {}\"\n",
    "s = \"an int: {}; a float: {}; a string: {}\".format(a, b, c)\n",
    "print(s)"
   ]
  },
  {
   "cell_type": "code",
   "execution_count": 10,
   "id": "80c2c630-91f3-4171-9626-d7064f64a0df",
   "metadata": {},
   "outputs": [
    {
     "name": "stdout",
     "output_type": "stream",
     "text": [
      "an int: 1; a float: 3.4; a string: Tom\n",
      "an int: 1; a float: 3.4; a string: Tom\n",
      "an int: 1; a float: 3.4; a string: Tom; a float again: 3.4; an int again: 1\n",
      "an int: 1; a float: 3.4; a string: Tom; a float again: 3.4; an int again: 1\n"
     ]
    }
   ],
   "source": [
    "# format strings\n",
    "\n",
    "# often used with print() function (to screen) or write() method (to file) but can be used anywhere with strings\n",
    "\n",
    "a = 1\n",
    "b = 3.4\n",
    "c = \"Tom\"\n",
    "print(\"an int: {}; a float: {}; a string: {}\".format(a, b, c))\n",
    "\n",
    "# this does the same thing\n",
    "print(\"an int: {0}; a float: {1}; a string: {2}\".format(a, b, c))\n",
    "\n",
    "# with indices, you can do this\n",
    "print(\"an int: {0}; a float: {1}; a string: {2}; a float again: {1}; an int again: {0}\".format(a, b, c))\n",
    "\n",
    "# can do the same thing this way of course\n",
    "print(\"an int: {0}; a float: {1}; a string: {2}; a float again: {1}; an int again: {0}\".format(1, 3.4, \"Tom\"))"
   ]
  },
  {
   "cell_type": "code",
   "execution_count": 11,
   "id": "84cabf39-b8f5-429f-b528-69bdb6a448cf",
   "metadata": {},
   "outputs": [
    {
     "name": "stdout",
     "output_type": "stream",
     "text": [
      "\n",
      "  Name   \t   Age   \t  Score  \n",
      "  Tom    \t    56   \t   7.3   \n",
      "  Amy    \t    53   \t   8.5   \n"
     ]
    }
   ],
   "source": [
    "# can control the spacing and use tabs\n",
    "print(\"\")\n",
    "print(\"{0:^8s} \\t {1:^8s}\\t {2:^8s}\".format(\"Name\", \"Age\", \"Score\"))\n",
    "print(\"{0:^8s} \\t {1:^8d}\\t {2:^8.1f}\".format(\"Tom\", 56, 7.324))\n",
    "print(\"{0:^8s} \\t {1:^8d}\\t {2:^8.1f}\".format(\"Amy\", 53, 8.516))"
   ]
  },
  {
   "cell_type": "markdown",
   "id": "e474a8b1-4d6e-4ef4-b4e6-f120360a9bdc",
   "metadata": {},
   "source": [
    "### string literals / f-strings \n",
    "\n",
    "https://docs.python.org/3/reference/lexical_analysis.html#literals\n",
    "\n",
    "https://realpython.com/python-f-strings/"
   ]
  },
  {
   "cell_type": "code",
   "execution_count": 23,
   "id": "ee003b6b-db8c-471f-997c-227766eda9f1",
   "metadata": {},
   "outputs": [
    {
     "name": "stdout",
     "output_type": "stream",
     "text": [
      "an int: 1; a float: 3.4523; a string: Tom\n",
      "an int: 1; a float: 3.4523; a string: Tom; a float again: 3.4523; an int again: 1\n",
      "\n",
      "an int:     1; a float:  3.45; a string: Tom     \n",
      "first 101.050 and then ABCdef\n"
     ]
    }
   ],
   "source": [
    "# string literals / f-strings \n",
    "\n",
    "a = 1\n",
    "b = 3.4523\n",
    "c = \"Tom\"\n",
    "print(f\"an int: {a}; a float: {b}; a string: {c}\")\n",
    "\n",
    "# you can do this\n",
    "print(f\"an int: {a}; a float: {b}; a string: {c}; a float again: {b}; an int again: {a}\")\n",
    "\n",
    "# can control the spacing and use tabs\n",
    "print(\"\")\n",
    "print(f\"an int: {a:5d}; a float: {b:5.2f}; a string: {c:8s}\")\n",
    "\n",
    "# can have operations inside with f-strings\n",
    "a = 4.3\n",
    "b = 23.5\n",
    "c = \"ABC\"\n",
    "d = \"def\"\n",
    "print(f\"first {a*b:6.3f} and then {c+d}\")"
   ]
  },
  {
   "cell_type": "markdown",
   "id": "127bb102-7643-4ba0-be85-1bc1c4edeb76",
   "metadata": {},
   "source": [
    "### string comparison"
   ]
  },
  {
   "cell_type": "code",
   "execution_count": 24,
   "id": "565a815d-cdeb-453a-8319-84b689d883d7",
   "metadata": {},
   "outputs": [
    {
     "name": "stdout",
     "output_type": "stream",
     "text": [
      "True\n",
      "False\n",
      "False\n",
      "True\n"
     ]
    }
   ],
   "source": [
    "# string comparison\n",
    "\n",
    "a = \"Truck\"\n",
    "b = \"Truck\"\n",
    "c = \"truck\"\n",
    "d = \"Truck \"\n",
    "\n",
    "# string comparison is case-sensitive and fairly stupid\n",
    "print(a == b)\n",
    "print(a == c)\n",
    "print(a == d)\n",
    "\n",
    "print(a != c)"
   ]
  },
  {
   "cell_type": "code",
   "execution_count": 25,
   "id": "fe19630c-128f-422e-b23f-11c1e8f01d83",
   "metadata": {},
   "outputs": [
    {
     "name": "stdout",
     "output_type": "stream",
     "text": [
      "True\n"
     ]
    }
   ],
   "source": [
    "# can convert to upper or lower case before doing the comparison\n",
    "print(a.lower() == c.lower())"
   ]
  },
  {
   "cell_type": "code",
   "execution_count": 26,
   "id": "c217beee-211b-4aaa-b050-9f89b16d1f77",
   "metadata": {},
   "outputs": [
    {
     "name": "stdout",
     "output_type": "stream",
     "text": [
      "True\n",
      "False\n"
     ]
    }
   ],
   "source": [
    "# determine if part of one string is embedded in another (case-sensitive)\n",
    "\n",
    "a = \"This is a string\"\n",
    "print(\"is\" in a)\n",
    "print(\"this\" in a)"
   ]
  },
  {
   "cell_type": "markdown",
   "id": "a3ba8f49-27b8-4483-a3d0-1739812fab70",
   "metadata": {},
   "source": [
    "### String Indices and String Slicing"
   ]
  },
  {
   "cell_type": "code",
   "execution_count": null,
   "id": "ed6a70d5-c9de-48bb-9246-14fddd1d5639",
   "metadata": {},
   "outputs": [],
   "source": [
    "# reference individual characters in a string using square brackets and integer index\n",
    "\n",
    "s = \"This is a string\"\n",
    "print(s[0])\n",
    "print(s[1])\n",
    "print(s[2])"
   ]
  },
  {
   "cell_type": "code",
   "execution_count": null,
   "id": "ecc4f44b-54f1-4004-937e-b44408127c3a",
   "metadata": {},
   "outputs": [],
   "source": [
    "# note that indices in Python start at 0, not at 1\n",
    "\n",
    "# and the last index of the string is len(s)-1\n",
    "\n",
    "s = \"This is a string\"\n",
    "\n",
    "L = len(s)\n",
    "print(s[L-1])"
   ]
  },
  {
   "cell_type": "code",
   "execution_count": null,
   "id": "bf476e94-2616-4450-a79a-a0e066e4b8f7",
   "metadata": {},
   "outputs": [],
   "source": [
    "# this gives an error\n",
    "\n",
    "s = \"This is a string\"\n",
    "\n",
    "print(s[L])"
   ]
  },
  {
   "cell_type": "code",
   "execution_count": null,
   "id": "147411bf-c34b-4fd1-983a-b26595edae87",
   "metadata": {},
   "outputs": [],
   "source": [
    "# negative indices count from the end of the string\n",
    "\n",
    "s = \"This is a string\"\n",
    "\n",
    "print(s[-1])\n",
    "print(s[-2])\n",
    "print(s[-3])"
   ]
  },
  {
   "cell_type": "code",
   "execution_count": null,
   "id": "ccad71e8-82ee-4a31-938d-7b9e97d0c88d",
   "metadata": {},
   "outputs": [],
   "source": [
    "# string slicing (pulling out a section of a string)\n",
    "\n",
    "s = \"This is a string\"\n",
    "\n",
    "# from (start-index) to (end-index + 1)\n",
    "print(\"s[0:4]  \", s[0:4])\n",
    "print(\"s[6:12] \", s[6:12])"
   ]
  },
  {
   "cell_type": "code",
   "execution_count": null,
   "id": "572a07d5-495a-4731-a482-01515aff02f9",
   "metadata": {},
   "outputs": [],
   "source": [
    "# if first integer is missing, defaults to 0 (start of the list)\n",
    "\n",
    "s = \"This is a string\"\n",
    "\n",
    "print(\"s[:6]  \", s[:6])\n",
    "print(\"s[0:6] \", s[0:6])"
   ]
  },
  {
   "cell_type": "code",
   "execution_count": null,
   "id": "0a609811-450d-4dda-be5b-8e7566fc333c",
   "metadata": {},
   "outputs": [],
   "source": [
    "# if last integer is missing, defaults to end of the list\n",
    "\n",
    "s = \"This is a string\"\n",
    "\n",
    "print(\"s[8:]        \", s[8:])\n",
    "print(\"s[8:len(s)]  \", s[8:len(s)])"
   ]
  },
  {
   "cell_type": "code",
   "execution_count": null,
   "id": "dd0c91ba-f4ae-4d93-a8f7-ad03098d8308",
   "metadata": {},
   "outputs": [],
   "source": [
    "# if both missing, entire list\n",
    "\n",
    "s = \"This is a string\"\n",
    "\n",
    "print(\"s[:] \", s[:])\n",
    "print(\"s    \", s)"
   ]
  },
  {
   "cell_type": "code",
   "execution_count": null,
   "id": "ed487ac1-bc95-4337-a4cf-3e64b8615c2b",
   "metadata": {},
   "outputs": [],
   "source": [
    "# slicing with a step\n",
    "\n",
    "s = \"This is a string\"\n",
    "\n",
    "print(\"*\"+s[1:11:2]+\"*\")\n",
    "print(\"*\"+s[1]+s[3]+s[5]+s[7]+s[9]+\"*\")"
   ]
  },
  {
   "cell_type": "code",
   "execution_count": null,
   "id": "2b9970b3-b1f2-4acb-b77c-b82c5ad38b77",
   "metadata": {},
   "outputs": [],
   "source": [
    "# slicing with backwards steps\n",
    "\n",
    "s = \"This is a string\"\n",
    "\n",
    "print(s[::-1])"
   ]
  },
  {
   "cell_type": "markdown",
   "id": "2a00247d-a74d-4426-b3bb-c2b048a1e780",
   "metadata": {},
   "source": [
    "### Iterating over Strings with For Loops"
   ]
  },
  {
   "cell_type": "code",
   "execution_count": 8,
   "id": "9a1db99b-d920-43ac-a4ea-ad4537b68fdd",
   "metadata": {},
   "outputs": [
    {
     "name": "stdout",
     "output_type": "stream",
     "text": [
      "len(s) =  16\n",
      "\n",
      "0 \t T\n",
      "1 \t h\n",
      "2 \t i\n",
      "3 \t s\n",
      "4 \t  \n",
      "5 \t i\n",
      "6 \t s\n",
      "7 \t  \n",
      "8 \t a\n",
      "9 \t  \n",
      "10 \t s\n",
      "11 \t t\n",
      "12 \t r\n",
      "13 \t i\n",
      "14 \t n\n",
      "15 \t g\n"
     ]
    }
   ],
   "source": [
    "# introducing for loops\n",
    "\n",
    "s = \"This is a string\"\n",
    "\n",
    "print(\"len(s) = \", len(s))\n",
    "print()\n",
    "\n",
    "# indenting is necessary in Python; must be consistent through a program; convention is to use spaces\n",
    "# spaces added automatically by Jupyter Notebooks and most IDEs \n",
    "\n",
    "# range returns a (virtual) sequence of numbers from 0 to len(s)-1\n",
    "\n",
    "for i in range(len(s)):\n",
    "    print(i, \"\\t\", s[i])"
   ]
  },
  {
   "cell_type": "code",
   "execution_count": 9,
   "id": "770c7462-248f-407a-b5ec-6fae8e1e3189",
   "metadata": {},
   "outputs": [
    {
     "name": "stdout",
     "output_type": "stream",
     "text": [
      "0 \t T\n",
      "1 \t h\n",
      "2 \t i\n",
      "3 \t s\n",
      "4 \t  \n",
      "5 \t i\n",
      "6 \t s\n",
      "7 \t  \n",
      "8 \t a\n",
      "9 \t  \n",
      "10 \t s\n",
      "11 \t t\n",
      "12 \t r\n",
      "13 \t i\n",
      "14 \t n\n",
      "15 \t g\n"
     ]
    }
   ],
   "source": [
    "# range can take a start, an end, and a step\n",
    "\n",
    "s = \"This is a string\"\n",
    "\n",
    "for i in range(0, len(s), 1):\n",
    "    print(i, \"\\t\", s[i])"
   ]
  },
  {
   "cell_type": "code",
   "execution_count": 10,
   "id": "5f431003-7a27-427c-b067-fd5054d81a43",
   "metadata": {},
   "outputs": [
    {
     "name": "stdout",
     "output_type": "stream",
     "text": [
      "0 \t T\n",
      "2 \t i\n",
      "4 \t  \n",
      "6 \t s\n",
      "8 \t a\n",
      "10 \t s\n",
      "12 \t r\n",
      "14 \t n\n"
     ]
    }
   ],
   "source": [
    "# with a step of 2\n",
    "\n",
    "s = \"This is a string\"\n",
    "\n",
    "for i in range(0, len(s), 2):\n",
    "    print(i, \"\\t\", s[i])"
   ]
  },
  {
   "cell_type": "code",
   "execution_count": 11,
   "id": "611cfe52-d872-4677-8da6-eb987a3cfcde",
   "metadata": {},
   "outputs": [
    {
     "name": "stdout",
     "output_type": "stream",
     "text": [
      "0, 1, 2, 3, 4, 5, 6, 7, 8, 9, "
     ]
    }
   ],
   "source": [
    "# range (in Python 3) does not actually create a list\n",
    "\n",
    "N = 10 ** 15        # this is larger than the memory capacity of any personal computers\n",
    "for i in range(N):\n",
    "    if i >= 10: \n",
    "        break\n",
    "    print(i, end=', ')"
   ]
  },
  {
   "cell_type": "code",
   "execution_count": 12,
   "id": "d8548af6-7d93-47c4-802e-483beab429a8",
   "metadata": {},
   "outputs": [
    {
     "name": "stdout",
     "output_type": "stream",
     "text": [
      "T\n",
      "h\n",
      "i\n",
      "s\n",
      " \n",
      "i\n",
      "s\n",
      " \n",
      "a\n",
      " \n",
      "s\n",
      "t\n",
      "r\n",
      "i\n",
      "n\n",
      "g\n"
     ]
    }
   ],
   "source": [
    "# can also iterate directly over the string itself\n",
    "\n",
    "s = \"This is a string\"\n",
    "\n",
    "for c in s:\n",
    "    print(c)"
   ]
  },
  {
   "cell_type": "code",
   "execution_count": 13,
   "id": "46eb1e60-7f1e-493a-a878-d8f16a791c6c",
   "metadata": {},
   "outputs": [
    {
     "name": "stdout",
     "output_type": "stream",
     "text": [
      "T h i s   i s   a   s t r i n g "
     ]
    }
   ],
   "source": [
    "# by default, print() issues a return/enter, but this can be overridden with end\n",
    "\n",
    "s = \"This is a string\"\n",
    "\n",
    "for c in s:\n",
    "    print(c, end=\" \")"
   ]
  },
  {
   "cell_type": "code",
   "execution_count": null,
   "id": "f8d5072b-17ad-4471-898e-dfe96e62ce8e",
   "metadata": {},
   "outputs": [],
   "source": [
    "# by default, print() issues a return/enter, but this can be overridden with end\n",
    "\n",
    "s = \"This is a string\"\n",
    "\n",
    "for c in s:\n",
    "    print(c, end=\"\")"
   ]
  },
  {
   "cell_type": "markdown",
   "id": "3411be43-d3d9-42f0-a6e2-86cd62af1211",
   "metadata": {},
   "source": [
    "### Strings are Immutable"
   ]
  },
  {
   "cell_type": "code",
   "execution_count": null,
   "id": "734210f9-ff57-456b-b782-d55ef0ecca73",
   "metadata": {},
   "outputs": [],
   "source": [
    "# strings are immutable\n",
    "\n",
    "s = \"This is a string\"\n",
    "\n",
    "# cannot change a string\n",
    "s[3] = \"X\""
   ]
  },
  {
   "cell_type": "code",
   "execution_count": null,
   "id": "bb46be4e-c29d-47b7-ba50-933eb77953bd",
   "metadata": {},
   "outputs": [],
   "source": [
    "# can only create a new string from old strings (and possibly overwrite)\n",
    "\n",
    "s = \"This is a string\"\n",
    "\n",
    "s = s[0:3] + \"X\" + s[4:]\n",
    "print(s)"
   ]
  },
  {
   "cell_type": "markdown",
   "id": "be8422cc-e4df-49b4-8961-7710ee6b8e44",
   "metadata": {},
   "source": [
    "### Regular Expressions in Python\n",
    "\n",
    "https://jakevdp.github.io/WhirlwindTourOfPython/14-strings-and-regular-expressions.html \n",
    "\n",
    "https://www.activestate.com/wp-content/uploads/2020/03/Python-RegEx-Cheatsheet.pdf \n",
    "\n",
    "https://docs.python.org/3/library/re.html \n",
    "\n",
    "https://docs.python.org/3/howto/regex.html#regex-howto "
   ]
  },
  {
   "cell_type": "code",
   "execution_count": null,
   "id": "372953a6-445c-4548-8b17-c55fbabd6657",
   "metadata": {},
   "outputs": [],
   "source": [
    "# put r in front of a string makes it a \"raw\" string (does not interpret what is inside wrt Python)\n",
    "pattern = r\"S.*.dat\"\n",
    "s = r\"C:\\Project\\Data\\S102-3.dat\"\n",
    "print(s)"
   ]
  },
  {
   "cell_type": "code",
   "execution_count": null,
   "id": "1a52bb60-b2d9-4e1b-83a7-868916affa35",
   "metadata": {},
   "outputs": [],
   "source": [
    "# eliminating r either interprets these as old C-style formatting commands\n",
    "\n",
    "pattern = \"S.*.dat\"\n",
    "s = \"C:\\tom\\newproject\\data\\S102-3.dat\"\n",
    "print(s)"
   ]
  },
  {
   "cell_type": "code",
   "execution_count": null,
   "id": "80f8acd2-e555-455b-a307-73f246685cd7",
   "metadata": {},
   "outputs": [],
   "source": [
    "# or throws an error\n",
    "\n",
    "pattern = \"S.*.dat\"\n",
    "s = \"C:\\Users\\tom\\newproject\\data\\S102-3.dat\"\n",
    "print(s)"
   ]
  },
  {
   "cell_type": "code",
   "execution_count": null,
   "id": "b4faf07d-48f7-4def-a3dc-01cea7106a19",
   "metadata": {},
   "outputs": [],
   "source": [
    "# regular expressions\n",
    "\n",
    "import re\n",
    "\n",
    "pattern = r\"S.*.dat\"\n",
    "fname1 = r\"C:\\Project\\Data\\S102-3.dat\"\n",
    "fname2 = r\"C:\\Project\\Data\\T104-1.dat\"\n",
    "print(\"fname1 : \", re.search(pattern, fname1))\n",
    "print(\"fname2 : \", re.search(pattern, fname2))\n"
   ]
  },
  {
   "cell_type": "code",
   "execution_count": null,
   "id": "394991e8-6d34-4a2a-b3ff-6d0809fc2851",
   "metadata": {},
   "outputs": [],
   "source": [
    "# if successful, returns an object\n",
    "# otherwise, return a None\n",
    "\n",
    "if re.search(pattern, fname1):\n",
    "    print(\"Success!\")\n",
    "else:\n",
    "    print(\"Failure!\")\n",
    "\n",
    "print()\n",
    "\n",
    "# print the matched part\n",
    "print(re.search(pattern,fname1)[0])"
   ]
  },
  {
   "cell_type": "code",
   "execution_count": null,
   "id": "9dd8146f-1c64-43e3-bf2e-c4f35eee07e9",
   "metadata": {},
   "outputs": [],
   "source": [
    "# search vs. findall\n",
    "\n",
    "# finds first occurence of 'a' or 'b' or 'c' anywhere in string\n",
    "print(re.search(r\"[abc]\", r\"abacus\"))\n",
    "\n",
    "# finds all occurences anywhere in string\n",
    "print(re.findall(r\"[abc]\", r\"abacus\"))"
   ]
  },
  {
   "cell_type": "markdown",
   "id": "e73bd274-ceb7-442a-92de-bccb74db4936",
   "metadata": {},
   "source": [
    "### examples of regular expression matching\n",
    "\n",
    "https://www.activestate.com/wp-content/uploads/2020/03/Python-RegEx-Cheatsheet.pdf\n",
    "\n",
    "https://docs.python.org/3/library/re.html \n",
    "\n",
    "https://docs.python.org/3/howto/regex.html#regex-howto "
   ]
  },
  {
   "cell_type": "code",
   "execution_count": null,
   "id": "c7cbfc33-ee9d-43b4-9c5a-cbf4da01d601",
   "metadata": {},
   "outputs": [],
   "source": [
    "# examples of regular expression matching\n",
    "\n",
    "# ^      match expression to right at beginning of string\n",
    "# .      match any character\n",
    "# [3aj]  match any one of these characters\n",
    "# *      match 0 or more occurrences of the previous\n",
    "# +      match 1 or more occurrences of the previous\n",
    "# $      match express to left at end of string\n",
    "# [a-z]  match any one character in this range\n",
    "# [0-9]  match any one character in this range\n",
    "print(\"1) \", re.search(r\"^.[3aj]x*z+Q$\", r\"XaxxxzzzQ\"))\n",
    "print(\"2) \", re.search(r\"^.[3aj]x*z+Q$\", r\"axxxzzzQ\"))\n",
    "print(\"3) \", re.search(r\"^.[3aj]x*z+Q$\", r\"XaxxxQ\"))\n",
    "print(\"4) \", re.search(r\"^.[3aj]x*z+Q$\", r\"XazzzQ\"))\n",
    "print(\"5) \", re.search(r\"^.[3aj]x*z+Q$\", r\"Xaxxxzzz\"))\n",
    "print()\n",
    "print(\"6) \", re.search(r\"^.*[3aj]x*z+Q$\", r\"X12345axxxzzzQ\"))\n",
    "print()\n",
    "print(\"7) \", re.search(r\"^[a-z].*[3aj]x*z+Q$\", r\"X12345axxxzzzQ\"))\n",
    "print(\"8) \", re.search(r\"^[a-z].*[3aj]x*z+Q$\", r\"x12345axxxzzzQ\"))\n",
    "print(\"9) \", re.search(r\"^[0-9].*[3aj]x*z+Q$\", r\"012345axxxzzzQ\"))"
   ]
  },
  {
   "cell_type": "code",
   "execution_count": null,
   "id": "77df6dd6-0ba8-44ed-8d17-02a1d99651c5",
   "metadata": {},
   "outputs": [],
   "source": [
    "# can use grouping to parse a complex string into its components using regular expressions \n",
    "# groups specified by parentheses\n",
    "\n",
    "# imagine parsing a file name into the subject number, session number, and condition\n",
    "print(re.findall(r\"S-([0-9]*)-([0-9]*)-([a-zA-Z]*)\", r\"S-154-2-Control\"))\n",
    "\n",
    "# same thing without grouping (parentheses)\n",
    "print(re.findall(r\"S-[0-9]*-[0-9]*-[a-zA-Z]*\", r\"S-154-2-Control\"))"
   ]
  },
  {
   "cell_type": "code",
   "execution_count": null,
   "id": "317a44da-4bf5-4a4b-b9fc-71b3cb895912",
   "metadata": {},
   "outputs": [],
   "source": []
  },
  {
   "cell_type": "code",
   "execution_count": null,
   "id": "c0bf957a-3301-4cec-9364-325856aeb365",
   "metadata": {},
   "outputs": [],
   "source": []
  }
 ],
 "metadata": {
  "kernelspec": {
   "display_name": "Python 3 (ipykernel)",
   "language": "python",
   "name": "python3"
  },
  "language_info": {
   "codemirror_mode": {
    "name": "ipython",
    "version": 3
   },
   "file_extension": ".py",
   "mimetype": "text/x-python",
   "name": "python",
   "nbconvert_exporter": "python",
   "pygments_lexer": "ipython3",
   "version": "3.8.13"
  }
 },
 "nbformat": 4,
 "nbformat_minor": 5
}
