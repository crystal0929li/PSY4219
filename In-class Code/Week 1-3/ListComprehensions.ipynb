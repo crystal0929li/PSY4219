{
 "cells": [
  {
   "cell_type": "markdown",
   "id": "299b28f3",
   "metadata": {
    "tags": []
   },
   "source": [
    "***\n",
    "\n",
    "# List Comprehensions\n",
    "\n",
    "https://docs.python.org/3/tutorial/datastructures.html#list-comprehensions "
   ]
  },
  {
   "cell_type": "code",
   "execution_count": 1,
   "id": "55b5cbe7",
   "metadata": {},
   "outputs": [
    {
     "ename": "SyntaxError",
     "evalue": "invalid syntax (3967361632.py, line 2)",
     "output_type": "error",
     "traceback": [
      "\u001b[0;36m  Input \u001b[0;32mIn [1]\u001b[0;36m\u001b[0m\n\u001b[0;31m    a = [2:10:2]\u001b[0m\n\u001b[0m          ^\u001b[0m\n\u001b[0;31mSyntaxError\u001b[0m\u001b[0;31m:\u001b[0m invalid syntax\n"
     ]
    }
   ],
   "source": [
    "# this doesn't work\n",
    "a = [2:10:2]"
   ]
  },
  {
   "cell_type": "code",
   "execution_count": 2,
   "id": "9bba0182",
   "metadata": {},
   "outputs": [
    {
     "name": "stdout",
     "output_type": "stream",
     "text": [
      "[range(2, 10, 2)]\n"
     ]
    }
   ],
   "source": [
    "# neither does this (range returns a range object, an iterator)\n",
    "a = [range(2, 10, 2)]\n",
    "print(a)"
   ]
  },
  {
   "cell_type": "code",
   "execution_count": 3,
   "id": "5c513505",
   "metadata": {},
   "outputs": [
    {
     "name": "stdout",
     "output_type": "stream",
     "text": [
      "[2, 4, 6, 8]\n"
     ]
    }
   ],
   "source": [
    "# this does (casting a range object to a list)\n",
    "a = list(range(2, 10, 2))\n",
    "print(a)"
   ]
  },
  {
   "cell_type": "code",
   "execution_count": 4,
   "id": "3569b9d5",
   "metadata": {},
   "outputs": [
    {
     "name": "stdout",
     "output_type": "stream",
     "text": [
      "[2, 4, 6, 8]\n"
     ]
    }
   ],
   "source": [
    "# can do a \"list comprehension\"\n",
    "a = [x for x in range(2, 10, 2)]\n",
    "print(a)"
   ]
  },
  {
   "cell_type": "code",
   "execution_count": 5,
   "id": "bd2386a3",
   "metadata": {
    "tags": []
   },
   "outputs": [
    {
     "name": "stdout",
     "output_type": "stream",
     "text": [
      "[0, 1, 4, 9, 16, 25, 36, 49, 64, 81]\n"
     ]
    }
   ],
   "source": [
    "# 5.1.3. List Comprehensions\n",
    "# Using a list comprehension: [x for x in iterable]\n",
    "\n",
    "# this\n",
    "a = [x**2 for x in range(10)]\n",
    "print(a)"
   ]
  },
  {
   "cell_type": "code",
   "execution_count": 6,
   "id": "85ac0554",
   "metadata": {},
   "outputs": [
    {
     "name": "stdout",
     "output_type": "stream",
     "text": [
      "[0, 1, 4, 9, 16, 25, 36, 49, 64, 81]\n"
     ]
    }
   ],
   "source": [
    "# is equivalent to\n",
    "a = []\n",
    "for x in range(10):\n",
    "    a.append(x**2)\n",
    "print(a)"
   ]
  },
  {
   "cell_type": "code",
   "execution_count": 7,
   "id": "b9bc4bc5",
   "metadata": {},
   "outputs": [
    {
     "name": "stdout",
     "output_type": "stream",
     "text": [
      "[(0, 1), (0, 2), (0, 3), (0, 4), (1, 0), (1, 2), (1, 3), (1, 4), (2, 0), (2, 1), (2, 3), (2, 4), (3, 0), (3, 1), (3, 2), (3, 4), (4, 0), (4, 1), (4, 2), (4, 3)]\n"
     ]
    }
   ],
   "source": [
    "# this\n",
    "b = [(x, y) for x in range(5) for y in (range(5)) if x != y]\n",
    "print(b)"
   ]
  },
  {
   "cell_type": "code",
   "execution_count": 8,
   "id": "83588a6f",
   "metadata": {},
   "outputs": [
    {
     "name": "stdout",
     "output_type": "stream",
     "text": [
      "[(0, 1), (0, 2), (0, 3), (0, 4), (1, 0), (1, 2), (1, 3), (1, 4), (2, 0), (2, 1), (2, 3), (2, 4), (3, 0), (3, 1), (3, 2), (3, 4), (4, 0), (4, 1), (4, 2), (4, 3)]\n"
     ]
    }
   ],
   "source": [
    "# is equivalent to\n",
    "b = []\n",
    "for x in range(5):\n",
    "    for y in range(5):\n",
    "        if x != y:\n",
    "            b.append((x, y))\n",
    "print(b)"
   ]
  },
  {
   "cell_type": "markdown",
   "id": "3b5d2ead",
   "metadata": {},
   "source": [
    "While list comprehensions are powerful and potentially more readable for those fluent in Python,\n",
    "they can be very difficult to comprehend for those who are not programming in Python daily.\n",
    "\n",
    "More verbose code is often easier to understand, and easier to debug.\n",
    "\n",
    "I have seen many homework assignments with list comprehensions and other forms of compact\n",
    "code that look nice but are completely wrong (and difficult to unpack to see why they are wrong)"
   ]
  },
  {
   "cell_type": "code",
   "execution_count": null,
   "id": "613173e9",
   "metadata": {},
   "outputs": [],
   "source": []
  }
 ],
 "metadata": {
  "kernelspec": {
   "display_name": "Python 3 (ipykernel)",
   "language": "python",
   "name": "python3"
  },
  "language_info": {
   "codemirror_mode": {
    "name": "ipython",
    "version": 3
   },
   "file_extension": ".py",
   "mimetype": "text/x-python",
   "name": "python",
   "nbconvert_exporter": "python",
   "pygments_lexer": "ipython3",
   "version": "3.9.12"
  }
 },
 "nbformat": 4,
 "nbformat_minor": 5
}
