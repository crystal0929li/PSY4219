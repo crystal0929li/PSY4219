{
 "cells": [
  {
   "cell_type": "markdown",
   "id": "ecf4a5b0-d17f-4391-a06c-7b34f3593f01",
   "metadata": {
    "tags": []
   },
   "source": [
    "## Introduction to Jupyter Notebooks\n",
    "- two main types of cells - Markdown and Code\n",
    "- click to highlight a cell\n",
    "- double-click to edit a formatted Markdown cell\n",
    "- click the \"Run\" buttom above to execute highlighted cell\n",
    "- or do Shift-Return (Mac) or Shift-Enter (PC)\n",
    "- Cell -> Run All to run all cells in the notebook\n",
    "- Kernel -> Restart and then Cell -> Run All or Kernel -> Restart & Run All (reset everything and rerun)\n",
    "\n",
    "before finalizing any Jupyter notebook and turning it in for homework, please make sure you do a Kernel -> Restart to make sure your code runs completely (since when I run your code to grade it, everything will be similarly reset when I load it on my computer)"
   ]
  },
  {
   "cell_type": "code",
   "execution_count": null,
   "id": "dbf639a1-062f-4931-864c-6d9bd3fffa30",
   "metadata": {},
   "outputs": [],
   "source": [
    "x = 1\n",
    "print(\"x = \", x)"
   ]
  },
  {
   "cell_type": "markdown",
   "id": "12f6a269-a5c0-433d-997b-7a016586537e",
   "metadata": {
    "tags": []
   },
   "source": [
    "Above is a Code cell. \n",
    "\n",
    "This is a markdown cell. Text in this cell can be <u>formatted</u> <i>using</i> <b<html</b> codes. If you double-click on this cell, you can see the html formatting.\n",
    "\n",
    "<h1>You can have headers.</h1>\n",
    "<h2>Of various sizes.</h2>\n",
    "<h3>Big and small.</h3>\n",
    "\n",
    "<br>\n",
    "\n",
    "# You can also do headers this way.\n",
    "## Of various sizes.\n",
    "### Big and small.\n",
    "#### And tiny.\n",
    "##### And tinier.\n",
    "\n",
    "<br>\n",
    "\n",
    "Hairlines using $<$hr$>$ or ***\n",
    "<hr>\n",
    "\n",
    "***\n",
    "\n",
    "You can include images like this (from my lab web site).\n",
    "<img src=\"http://catlab.psy.vanderbilt.edu/wp-content/uploads/image/Palmeri-Picture-Small-forwebpage.jpg\">\n",
    "\n",
    "You can include <a href=\"http://www.vanderbilt.edu\">links</a>.\n",
    "\n",
    "<br>\n",
    "\n",
    "More on Jupyter Notebook markdown cells:\n",
    "\n",
    "https://jupyter-notebook.readthedocs.io/en/stable/examples/Notebook/Working%20With%20Markdown%20Cells.html\n",
    "\n",
    "<br>\n",
    "\n",
    "\"Run\" to reformat this cell or use Shift-Return (Mac) or Shift-Enter (PC)."
   ]
  },
  {
   "cell_type": "code",
   "execution_count": null,
   "id": "02516420-75fd-46aa-8ff4-d60d2e20ce08",
   "metadata": {},
   "outputs": [],
   "source": [
    "# this is a comment in Python - you always want to comment your code\n",
    "\n",
    "# we will go over these code elements in the coming weeks - this is just for illustration\n",
    "\n",
    "# import numpy (for arrays) and matplotlib (for plotting)\n",
    "import numpy as np\n",
    "import matplotlib.pyplot as plt\n",
    "import math\n",
    "\n",
    "m = 0.0\n",
    "s = 1.0\n",
    "x = np.arange(-4.0, 4.0, .01)\n",
    "p = (1/math.sqrt(2*math.pi*(s**2))) * np.exp(-((x-m)**2)/(2*(s**2)))\n",
    "plt.plot(x, p)\n",
    "plt.xlabel(\"x\")\n",
    "plt.ylabel(\"p(x)\")\n",
    "plt.title(\"Normal Distribution\")\n",
    "plt.show()"
   ]
  },
  {
   "cell_type": "markdown",
   "id": "2ef1ccf1-66ab-41ab-bccb-ffdf23a8df42",
   "metadata": {},
   "source": [
    "You can do formatted equations using LaTeX:\n",
    "$p(x) = \\frac{1}{\\sqrt{2\\pi\\sigma^2}}\\exp\\left(\\frac{-(x-\\mu)^2}{2\\sigma^2}\\right)$"
   ]
  },
  {
   "cell_type": "code",
   "execution_count": null,
   "id": "de89b6bd-93b4-4c7c-a59a-9c9750fe7316",
   "metadata": {},
   "outputs": [],
   "source": [
    "# variables defined in one code cell carry over to other code cells\n",
    "print(\"m =\", m, \"and s =\", s)"
   ]
  },
  {
   "cell_type": "code",
   "execution_count": null,
   "id": "3f1e8d45-49f4-4172-8680-19dcd47358ce",
   "metadata": {},
   "outputs": [],
   "source": [
    "a = 1"
   ]
  },
  {
   "cell_type": "code",
   "execution_count": null,
   "id": "3c8821d5-c225-4031-b983-208689b221cc",
   "metadata": {},
   "outputs": [],
   "source": [
    "print(\"a =\", a)"
   ]
  },
  {
   "cell_type": "code",
   "execution_count": null,
   "id": "5fde1f1b-42cd-49a2-93d0-9a4d82476c58",
   "metadata": {},
   "outputs": [],
   "source": [
    "a = a + 1\n",
    "\n",
    "# after running this cell, run the one above"
   ]
  },
  {
   "cell_type": "markdown",
   "id": "18852485-fc8f-4cb3-8f80-5d4207cb3544",
   "metadata": {},
   "source": [
    "Note the number next to In increments in the order of execution. It is not merely a line number.\n",
    "\n",
    "Note that In $[$*$]$ means that the Code cell is still running."
   ]
  },
  {
   "cell_type": "markdown",
   "id": "9ca04c07-7bca-44a6-96c0-3710d35ff304",
   "metadata": {},
   "source": [
    "***"
   ]
  },
  {
   "cell_type": "markdown",
   "id": "5406d460-6e06-48e0-a6da-ecdda4d9de74",
   "metadata": {},
   "source": [
    "## Magic Commands in Jupyter Notebooks\n",
    "\n",
    "https://ipython.readthedocs.io/en/stable/interactive/magics.html"
   ]
  },
  {
   "cell_type": "code",
   "execution_count": null,
   "id": "2490e6c8-3860-4053-b3e2-a37659a21a72",
   "metadata": {},
   "outputs": [],
   "source": [
    "# see what variables are defined in the workspace\n",
    "%whos\n",
    "\n",
    "print()\n",
    "\n",
    "# can also do dir(), but that will return variables the system created as well as ones you created\n",
    "print(dir())"
   ]
  },
  {
   "cell_type": "code",
   "execution_count": null,
   "id": "0f16de7e-48e1-463c-8696-7ba12f05c5bc",
   "metadata": {},
   "outputs": [],
   "source": [
    "%%time\n",
    "sum = 0\n",
    "for i in range(0,100000):\n",
    "    sum = sum + i\n",
    "print(sum)"
   ]
  },
  {
   "cell_type": "code",
   "execution_count": null,
   "id": "7d7078ef-0f33-4058-bd80-8f8c6119ec2f",
   "metadata": {},
   "outputs": [],
   "source": [
    "# list currently available magic functions\n",
    "\n",
    "%lsmagic"
   ]
  },
  {
   "cell_type": "code",
   "execution_count": null,
   "id": "d95376e3-7dde-42a1-9b1a-9cc790725b2e",
   "metadata": {},
   "outputs": [],
   "source": [
    "%%time?"
   ]
  },
  {
   "cell_type": "code",
   "execution_count": null,
   "id": "aa042b83-7fec-4080-a9bd-6ef6fbf0b7c7",
   "metadata": {},
   "outputs": [],
   "source": []
  }
 ],
 "metadata": {
  "kernelspec": {
   "display_name": "Python 3 (ipykernel)",
   "language": "python",
   "name": "python3"
  },
  "language_info": {
   "codemirror_mode": {
    "name": "ipython",
    "version": 3
   },
   "file_extension": ".py",
   "mimetype": "text/x-python",
   "name": "python",
   "nbconvert_exporter": "python",
   "pygments_lexer": "ipython3",
   "version": "3.9.12"
  }
 },
 "nbformat": 4,
 "nbformat_minor": 5
}
