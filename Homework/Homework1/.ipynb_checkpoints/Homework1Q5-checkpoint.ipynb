{
 "cells": [
  {
   "cell_type": "markdown",
   "id": "9503f52e",
   "metadata": {},
   "source": [
    "<h1>PSY 4219 is fun!</h1>"
   ]
  },
  {
   "cell_type": "markdown",
   "id": "6d709d47",
   "metadata": {},
   "source": [
    "<h2>Mochi is my dog's name, she looks just like this one below :)</h2>"
   ]
  },
  {
   "cell_type": "markdown",
   "id": "3a077ed9",
   "metadata": {},
   "source": [
    "<img src=\"https://www.allthingsdogs.com/wp-content/uploads/2020/01/White-Pomeranian-Feature-678x381.jpg\">"
   ]
  },
  {
   "cell_type": "markdown",
   "id": "aabe3065",
   "metadata": {},
   "source": [
    "<h2>I am a math major so I deal with latex equations a lot, just like the one below.</h2>"
   ]
  },
  {
   "cell_type": "markdown",
   "id": "d9a17355",
   "metadata": {},
   "source": [
    "\\begin{equation}\n",
    "e^x=\\sum_{i=0}^\\infty \\frac{1}{i!}x^i\n",
    "\\end{equation}"
   ]
  },
  {
   "cell_type": "markdown",
   "id": "4a5bf680",
   "metadata": {},
   "source": [
    "Here is a link to the Vanderbilt printing service website <a href=\"https://print.app.vanderbilt.edu/myprintcenter/\">links</a> "
   ]
  }
 ],
 "metadata": {
  "kernelspec": {
   "display_name": "Python 3 (ipykernel)",
   "language": "python",
   "name": "python3"
  },
  "language_info": {
   "codemirror_mode": {
    "name": "ipython",
    "version": 3
   },
   "file_extension": ".py",
   "mimetype": "text/x-python",
   "name": "python",
   "nbconvert_exporter": "python",
   "pygments_lexer": "ipython3",
   "version": "3.8.13"
  }
 },
 "nbformat": 4,
 "nbformat_minor": 5
}
