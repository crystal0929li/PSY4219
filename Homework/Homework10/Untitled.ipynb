{
 "cells": [
  {
   "cell_type": "code",
   "execution_count": 1,
   "id": "686d170f",
   "metadata": {},
   "outputs": [],
   "source": [
    "import pandas as pd"
   ]
  },
  {
   "cell_type": "code",
   "execution_count": 20,
   "id": "b7d6ff67",
   "metadata": {},
   "outputs": [],
   "source": [
    "def exp_summary(study_data, test_data):\n",
    "    study_df = pd.read_csv(study_data)\n",
    "    test_df = pd.read_csv(test_data)\n",
    "    recognition = test_df[test_df.choice == 'd']\n",
    "    print(recognition)\n",
    "    total_old = len(recognition)\n",
    "    print(total_old)\n",
    "\n",
    "    hits = len(recognition[recognition.ans == 'old'])\n",
    "    false = len(recognition[recognition.ans == 'new'])\n",
    "\n",
    "    hit_pro = hits / total_old\n",
    "    false_pro = false / total_old\n",
    "    print(f\"The proportion of hits is {hit_pro}.\")\n",
    "    print(f\"The proportion of false alarm is {false_pro}.\")"
   ]
  },
  {
   "cell_type": "code",
   "execution_count": 21,
   "id": "56e011a6",
   "metadata": {},
   "outputs": [
    {
     "name": "stdout",
     "output_type": "stream",
     "text": [
      "   subj  block  trial                           image choice        RT  ans  \\\n",
      "1    10      0      1        ./OBJECTSALL/AFLUTE6.jpg      d  4.068134  old   \n",
      "2    10      0      2   ./OBJECTSALL/22827276.thl.jpg      d  4.729277  new   \n",
      "5    10      0      5  ./OBJECTSALL/Atoychameleo2.jpg      d  1.164167  old   \n",
      "7    10      0      7     ./OBJECTSALL/Astatue113.jpg      d  9.208391  old   \n",
      "8    10      0      8    ./OBJECTSALL/9815480.thl.jpg      d  1.400463  old   \n",
      "\n",
      "      badkeys                                     badRT  nbadkeys  \n",
      "1         NaN                                       NaN       NaN  \n",
      "2         NaN                                       NaN       NaN  \n",
      "5         NaN                                       NaN       NaN  \n",
      "7  ['h', 'e']  [1.6458004999999503, 2.1421626249998553]       2.0  \n",
      "8         NaN                                       NaN       NaN  \n",
      "5\n",
      "The proportion of hits is 0.8.\n",
      "The proportion of false alarm is 0.2.\n"
     ]
    }
   ],
   "source": [
    "exp_summary('study_data.csv', 'test_data.csv')"
   ]
  },
  {
   "cell_type": "code",
   "execution_count": null,
   "id": "232cfb1d",
   "metadata": {},
   "outputs": [],
   "source": []
  }
 ],
 "metadata": {
  "kernelspec": {
   "display_name": "Python 3 (ipykernel)",
   "language": "python",
   "name": "python3"
  },
  "language_info": {
   "codemirror_mode": {
    "name": "ipython",
    "version": 3
   },
   "file_extension": ".py",
   "mimetype": "text/x-python",
   "name": "python",
   "nbconvert_exporter": "python",
   "pygments_lexer": "ipython3",
   "version": "3.9.12"
  }
 },
 "nbformat": 4,
 "nbformat_minor": 5
}
