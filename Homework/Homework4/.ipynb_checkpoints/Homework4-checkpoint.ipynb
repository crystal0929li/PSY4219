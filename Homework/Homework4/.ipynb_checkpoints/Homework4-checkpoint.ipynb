{
 "cells": [
  {
   "cell_type": "markdown",
   "metadata": {},
   "source": [
    "# Homework 4\n",
    "PSY4219/6129 Fall 2022\n",
    "\n",
    "**Due Monday October 3 at 11:59pm**\n",
    "\n",
    "**20 points**\n",
    "\n",
    "This assignment can be done within this Jupyter notebook (.ipynb), please \n",
    "rename the notebook with your name before submitting it.\n",
    "\n",
    "**<u>Please do not</u>** turn in the `difdata.csv` file with your homework \n",
    "(for Q2).\n",
    "\n",
    "Please make sure you comment in your code and please use good programming style \n",
    "(especially points emphasized in class).\n",
    "\n",
    "*Unexcused late assignments will be penalized 10% for every 24 hours late, \n",
    "starting from the time class ends, for a maximum of two days, after which they \n",
    "will earn a 0.*"
   ]
  },
  {
   "cell_type": "markdown",
   "metadata": {},
   "source": [
    "***\n",
    "## Q1 \n",
    "Using the code from Homework 3* for generating the $HDR(t)$ function, I want \n",
    "you to save that $HDR(t)$ function as a CSV file (using techniques from class), \n",
    "then load it back in, and redisplay the function using the information saved in \n",
    "the file (pasting in the code you wrote for the last assignment, but using the \n",
    "information loaded in from the file).\n",
    "\n",
    "Your CSV file should have the following structure:\n",
    "* 1st line should be an informative note (< 50 characters) about what the file \n",
    "    contains.\n",
    "* 2nd line is the <u>number of time steps</u> in $HDR(t)$.\n",
    "* 3rd line should be the <u>names</u> of the parameters of the $HDR$ (from \n",
    "    Homeworks 2 and 3), separated by commas.\n",
    "* 4th line should be the <u>values</u> of the parameters (from Homeworks 1 and \n",
    "    2), separated by commas.\n",
    "\n",
    "The remaining lines should be each value of $t$ and its corresponding $HDR(t)$, \n",
    "separated by commas (in other words, if you had 1000 values of $t$ and $HDR(t)$\n",
    "in your numpy arrays, these should be 1000 lines in the CSV file).\n",
    "\n",
    "**If you were unable to get your Homework 3 code to work, email the TA and we will supply code for you to use for this assignment.*\n",
    "### (a) (4 points)\n",
    "Save the file (write) as a CSV (using the structure described above)."
   ]
  },
  {
   "cell_type": "code",
   "execution_count": 1,
   "metadata": {},
   "outputs": [],
   "source": [
    "import csv\n",
    "import numpy as np\n",
    "import math"
   ]
  },
  {
   "cell_type": "code",
   "execution_count": 2,
   "metadata": {},
   "outputs": [],
   "source": [
    "#### TODO: Create and save a CSV using the structure described above ####\n",
    "\n",
    "t = np.linspace(0, 50, 1000).reshape(1000,1)\n",
    "\n",
    "# Create the first four lines of the csv file\n",
    "info_note = ['This file contains the HDR(t) function.']\n",
    "num_timesteps = [len(t)]\n",
    "para_name = ['alpha1', 'beta1', 'alpha2', 'beta2', 'w']\n",
    "para_val = np.array([6., 1., 16., 1., 5/6])\n",
    "\n",
    "# Create the remaining lines of the csv file\n",
    "alpha1 = 6.\n",
    "beta1 = 1.\n",
    "alpha2 = 16.\n",
    "beta2 = 1.\n",
    "w = 5/6\n",
    "\n",
    "HDR_vector = (w * ((beta1 ** alpha1) * (t ** alpha1) * np.exp(-t * beta1) / math.gamma(alpha1))\n",
    "           - (1 - w) * ((beta2 ** alpha2) * (t ** alpha2) * np.exp(-t * beta2) / math.gamma(alpha2)))\n",
    "\n",
    "HDR_fct = np.hstack((t, HDR_vector.reshape(1000,1)))\n",
    "\n",
    "with open('HDR.csv', 'w', newline='') as fp:\n",
    "    csvwriter = csv.writer(fp)\n",
    "    csvwriter.writerow(info_note) \n",
    "    csvwriter.writerow(num_timesteps)\n",
    "    csvwriter.writerow(para_name)\n",
    "    csvwriter.writerow(para_val) \n",
    "    csvwriter.writerows(HDR_fct) "
   ]
  },
  {
   "cell_type": "markdown",
   "metadata": {},
   "source": [
    "### (b) (4 points)\n",
    "Open the CSV file and load (read) its content into variables (for the number of \n",
    "time steps and the HDR parameters) and a numpy arrays for $t$ and $HDR(t)$. \n",
    "Using your code from Q2 of Homework 3, display a plot of $HDR(t)$ values as a \n",
    "function of $t$ (to demonstrate that what you saved to the file and read in \n",
    "from the file is the same as what you started with)."
   ]
  },
  {
   "cell_type": "code",
   "execution_count": 3,
   "metadata": {},
   "outputs": [
    {
     "data": {
      "image/png": "[encoded data removed]",
      "text/plain": [
       "<Figure size 432x288 with 1 Axes>"
      ]
     },
     "metadata": {
      "needs_background": "light"
     },
     "output_type": "display_data"
    }
   ],
   "source": [
    "#### TODO: Load the csv you just created, assign its values to variables, and \n",
    "# display a plot of HDR values as a function of t ####\n",
    "import matplotlib.pyplot as plt\n",
    "\n",
    "with open('HDR.csv', 'r') as fp:\n",
    "    csvreader = csv.reader(fp, delimiter=',')\n",
    "    info_note = next(csvreader)\n",
    "    num_timesteps = next(csvreader)\n",
    "    para_name = next(csvreader)\n",
    "    para_val = next(csvreader)\n",
    "    \n",
    "    t_len = HDR_fct.shape[0]\n",
    "    t_new = np.zeros(t_len,)\n",
    "    HDR_vector_new = np.zeros(t_len,)\n",
    "    for i, row in enumerate(csvreader):\n",
    "        t_new[i] = float(row[0])\n",
    "        HDR_vector_new[i] = float(row[1])\n",
    "\n",
    "plt.plot(t_new, HDR_vector_new, 'b-')\n",
    "plt.xlabel('Time')\n",
    "plt.ylabel('HDR(t)')\n",
    "plt.title(\"HDR Plot\")\n",
    "plt.show()"
   ]
  },
  {
   "cell_type": "markdown",
   "metadata": {},
   "source": [
    "***\n",
    "## Q2 \n",
    "In class, we went over code for reading the data file `difdata.csv`. Here is \n",
    "example code that does that:"
   ]
  },
  {
   "cell_type": "code",
   "execution_count": 4,
   "metadata": {},
   "outputs": [],
   "source": [
    "with open('./difdata.csv', 'r') as fp:\n",
    "    csvreader = csv.reader(fp, delimiter=',')\n",
    "\n",
    "    row = next(csvreader)\n",
    "    Ntrials = int(row[0])\n",
    "    \n",
    "    icondition = np.zeros(Ntrials, dtype=int)\n",
    "    ichoice = np.zeros(Ntrials, dtype=int)\n",
    "    iRT = np.zeros(Ntrials, dtype=float)\n",
    "\n",
    "    for i, row in enumerate(csvreader):\n",
    "        icondition[i] = int(row[1])\n",
    "        ichoice[i] = int(row[2])\n",
    "        iRT[i]  = float(row[3])"
   ]
  },
  {
   "cell_type": "markdown",
   "metadata": {},
   "source": [
    "Recall that this code parses the data file into `icondition`, a numpy array \n",
    "which holds the condition (1 or 2) on each trial, `ichoice`, a numpy array \n",
    "which holds the choice accuracy (0=error or 1=correct) on each trial, and \n",
    "`iRT`, a numpy array which holds the response time (RT) on each trial.\n",
    "\n",
    "### (a) (6 points) \n",
    "Following the discussion from class, I want you to partition the data so that \n",
    "one two-dimensional array holds the choices in condition 1 and the choices in \n",
    "condition 2 and another two-dimensional array that holds the RTs in condition 1 \n",
    "and the RTs in condition 2. **First**, do this using `for` loops. **Second**, \n",
    "do this using logical (Boolean) indexing. "
   ]
  },
  {
   "cell_type": "code",
   "execution_count": 6,
   "metadata": {},
   "outputs": [
    {
     "name": "stdout",
     "output_type": "stream",
     "text": [
      "[[0 0 1 1 0 0 1 0 0 0 1 1 1 1 0 1 1 1 1 0]\n",
      " [1 1 1 1 1 1 1 1 1 0 1 1 1 1 1 1 0 1 1 1]]\n",
      "[[0.51  1.28  0.372 0.643 0.446 0.548 0.343 0.736 0.618 1.013 0.456 0.616\n",
      "  0.742 0.384 0.4   0.714 0.393 0.652 0.835 0.406]\n",
      " [0.361 0.411 0.344 0.622 0.563 0.995 0.561 0.432 0.367 0.682 0.412 0.389\n",
      "  0.419 0.37  0.39  0.473 0.415 0.379 0.435 0.535]]\n"
     ]
    }
   ],
   "source": [
    "#### TODO: Using for loops, create a 2D array that holds the choices for each \n",
    "# condition and another 2D array that holds the RTs for each condition ####\n",
    "with open('./difdata.csv', 'r') as fp:\n",
    "    csvreader = csv.reader(fp, delimiter=',')\n",
    "\n",
    "    row = next(csvreader)\n",
    "    Ntrials = int(row[0])  \n",
    "    \n",
    "    choice = np.zeros((2, Ntrials), dtype=int)\n",
    "    RT = np.zeros((2, Ntrials), dtype=float)\n",
    "\n",
    "    a = 0\n",
    "    b = 0\n",
    "    for row in csvreader:\n",
    "        if int(row[1]) == 1:\n",
    "            choice[0,a] = int(row[2])\n",
    "            RT[0,a] = row[3]\n",
    "            a += 1\n",
    "        elif int(row[1]) == 2:\n",
    "            choice[1,b] = int(row[2])\n",
    "            RT[1,b] = row[3]\n",
    "            b += 1\n",
    "    print(choice[:,:20])\n",
    "    print(RT[:,:20])"
   ]
  },
  {
   "cell_type": "code",
   "execution_count": 7,
   "metadata": {},
   "outputs": [
    {
     "name": "stdout",
     "output_type": "stream",
     "text": [
      "[[0 0 1 1 0 0 1 0 0 0 1 1 1 1 0 1 1 1 1 0]\n",
      " [1 1 1 1 1 1 1 1 1 0 1 1 1 1 1 1 0 1 1 1]]\n",
      "[[0.51  1.28  0.372 0.643 0.446 0.548 0.343 0.736 0.618 1.013 0.456 0.616\n",
      "  0.742 0.384 0.4   0.714 0.393 0.652 0.835 0.406]\n",
      " [0.361 0.411 0.344 0.622 0.563 0.995 0.561 0.432 0.367 0.682 0.412 0.389\n",
      "  0.419 0.37  0.39  0.473 0.415 0.379 0.435 0.535]]\n"
     ]
    }
   ],
   "source": [
    "#### TODO: Using logical indexing, create a 2D array that holds the choices \n",
    "# for each condition and another 2D array that holds the RTs for each condition ####\n",
    "with open('./difdata.csv', 'r') as fp:\n",
    "    csvreader = csv.reader(fp, delimiter=',')\n",
    "    \n",
    "    choice1 = ichoice[((icondition % 2) == 1)]\n",
    "    choice2 = ichoice[((icondition % 2) == 0)]\n",
    "    choice = np.vstack((choice1, choice2))\n",
    "    \n",
    "    RT1 = iRT[((icondition % 2) == 1)]\n",
    "    RT2 = iRT[((icondition % 2) == 0)]\n",
    "    RT = np.vstack((RT1, RT2))\n",
    "    print(choice[:,:20])\n",
    "    print(RT[:,:20])"
   ]
  },
  {
   "cell_type": "markdown",
   "metadata": {},
   "source": [
    "### (b) (6 points) \n",
    "Following the discussion from class, I want you to remove “outliers” based on \n",
    "RT, in this case trials where RT is outside some bound (RT<0.100 or RT>1.000) \n",
    "are considered outliers. **First**, do this using `for` loops. **Second**, do \n",
    "this using logical (Boolean) indexing. Remember from discussion in class that \n",
    "here you will not be able to use a 2x500 numpy array because the number of \n",
    "resulting trials after removing outliers will be unequal (instead, use a list \n",
    "of numpy arrays)."
   ]
  },
  {
   "cell_type": "code",
   "execution_count": 9,
   "metadata": {},
   "outputs": [],
   "source": [
    "lowerBound = .1\n",
    "upperBound = 1"
   ]
  },
  {
   "cell_type": "code",
   "execution_count": 13,
   "metadata": {},
   "outputs": [
    {
     "name": "stdout",
     "output_type": "stream",
     "text": [
      "[1 1 1 1 1 1 1 1 1 0 1 1 1 1 1 1 0 1 1 1]\n",
      "[0.361 0.411 0.344 0.622 0.563 0.995 0.561 0.432 0.367 0.682 0.412 0.389\n",
      " 0.419 0.37  0.39  0.473 0.415 0.379 0.435 0.535]\n",
      "(491,)\n"
     ]
    }
   ],
   "source": [
    "#### TODO: Using for loops, remove outliers based on RTs ####\n",
    "with open('./difdata.csv', 'r') as fp:\n",
    "    csvreader = csv.reader(fp, delimiter=',')\n",
    "\n",
    "    row = next(csvreader)\n",
    "    Ntrials = int(row[0])\n",
    "    \n",
    "    choice1 = np.zeros(1, dtype=int)\n",
    "    choice2 = np.zeros(1, dtype=int)\n",
    "    RT1 = np.zeros(1, dtype=float)\n",
    "    RT2 = np.zeros(1, dtype=float)\n",
    "\n",
    "    # Iterate through the dataset and filter out RT values out of bound\n",
    "    a = 0\n",
    "    b = 0\n",
    "    for row in csvreader:\n",
    "        if (int(row[1]) == 1 and (lowerBound <= float(row[3]) <= upperBound)):\n",
    "            choice1 = np.hstack((choice1, int(row[2])))\n",
    "            RT1 = np.hstack((RT1, float(row[3])))\n",
    "            a += 1\n",
    "        elif (int(row[1]) == 2 and (lowerBound <= float(row[3]) <= upperBound)):\n",
    "            choice2 = np.hstack((choice2, int(row[2])))\n",
    "            RT2 = np.hstack((RT2, float(row[3])))\n",
    "            b += 1\n",
    "            \n",
    "    # Delete the first column of zero from the arrays\n",
    "    choice1 = np.delete(choice1,0)\n",
    "    choice2 = np.delete(choice2,0)\n",
    "    RT1 = np.delete(RT1,0)\n",
    "    RT2 = np.delete(RT2,0)\n",
    "    \n",
    "    # Create two lists of arrays that present the final result    \n",
    "    choice_for_out = [choice1, choice2]\n",
    "    RT_for_out = [RT1, RT2]\n",
    "    print(choice_for_out[1][:20])\n",
    "    print(RT_for_out[1][:20])"
   ]
  },
  {
   "cell_type": "code",
   "execution_count": 28,
   "metadata": {},
   "outputs": [
    {
     "name": "stdout",
     "output_type": "stream",
     "text": [
      "[1 1 1 1 1 1 1 1 1 0 1 1 1 1 1 1 0 1 1 1]\n"
     ]
    }
   ],
   "source": [
    "#### TODO: Using logical indexing, remove outliers based on RTs ####\n",
    "with open('./difdata.csv', 'r') as fp:\n",
    "    csvreader = csv.reader(fp, delimiter=',')\n",
    "    \n",
    "    choice1 = choice[0][(np.logical_and(lowerBound <= RT[0], RT[0] <= upperBound))]\n",
    "    choice2 = choice[1][(np.logical_and(lowerBound <= RT[1], RT[1] <= upperBound))]\n",
    "    \n",
    "    RT1 = RT[0][(np.logical_and(lowerBound <= RT[0], RT[0] <= upperBound))]\n",
    "    RT2 = RT[1][(np.logical_and(lowerBound <= RT[1], RT[1] <= upperBound))]\n",
    "    \n",
    "    # Create two lists of arrays that present the final result   \n",
    "    choice_log_out = [choice1, choice2]\n",
    "    RT_log_out = [RT1, RT2]\n",
    "    print(choice_log_out[1][:20])"
   ]
  }
 ],
 "metadata": {
  "kernelspec": {
   "display_name": "Python 3 (ipykernel)",
   "language": "python",
   "name": "python3"
  },
  "language_info": {
   "codemirror_mode": {
    "name": "ipython",
    "version": 3
   },
   "file_extension": ".py",
   "mimetype": "text/x-python",
   "name": "python",
   "nbconvert_exporter": "python",
   "pygments_lexer": "ipython3",
   "version": "3.8.13"
  },
  "vscode": {
   "interpreter": {
    "hash": "6a95088bfd0f1c24c044c7dee51d34b34b592915d7bc38bde1421207f927bc51"
   }
  }
 },
 "nbformat": 4,
 "nbformat_minor": 4
}
