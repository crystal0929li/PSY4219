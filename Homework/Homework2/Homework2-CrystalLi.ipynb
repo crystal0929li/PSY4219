{
 "cells": [
  {
   "cell_type": "markdown",
   "metadata": {
    "pycharm": {
     "name": "#%% md\n"
    }
   },
   "source": [
    "# Homework 2\n",
    "PSY4219/6129 Fall 2022\n",
    "\n",
    "**Due September 14 in class**\n",
    "\n",
    "**13 points**\n",
    "\n",
    "For this assignment, please do not use `for` loops or `if`/`elif`/`else` statements, or define \n",
    "functions, or use any Python programming constructions that we have not yet discussed in \n",
    "class.\n",
    "\n",
    "This assignment should be done within this Jupyter notebook (.ipynb), please rename the notebook with your name before submitting it.\n",
    "\n",
    "Each question and subquestion should be answered in its own code cell and they should be \n",
    "proceeded by a properly-formatted markdown cell in your notebook where necessary.\n",
    "\n",
    "*Unexcused late assignments will be penalized 10% for every 24 hours late, starting from the \n",
    "time class ends, for a maximum of two days, after which they will earn a 0.*"
   ]
  },
  {
   "cell_type": "markdown",
   "metadata": {
    "pycharm": {
     "name": "#%% md\n"
    }
   },
   "source": [
    "***\n",
    "## Q1 (3 points)\n",
    "Research one of these modules that are part of The Python Standard Library\n",
    "(https://docs.python.org/3/library/index.html), choosing from the following: `datetime`, \n",
    "`pprint`, `fractions`, `statistics`, `time`, or `turtle` (note that while `turtle` is fun, it \n",
    "may not work on everyone’s computer). Briefly describe what the module does in a \n",
    "markdown cell and demonstrate that you understand what it does in several lines of code \n",
    "in a code cell (describe in the markdown cell and show in a code cell at least three things\n",
    "the modules can do). Feel free to google around beyond the python.org web site to \n",
    "understand what the modules does (the python.org site can be terse and technical); just \n",
    "make sure you don’t copy and paste code from a web site."
   ]
  },
  {
   "cell_type": "markdown",
   "metadata": {
    "pycharm": {
     "name": "#%% md\n"
    }
   },
   "source": [
    "#### The statistics module helps calculate mathematical statistics and perform statistical analysis on numeric data such as calculating the mean, quantile, standard deviation, variance, etc. \n"
   ]
  },
  {
   "cell_type": "code",
   "execution_count": 73,
   "metadata": {
    "pycharm": {
     "name": "#%%\n"
    }
   },
   "outputs": [
    {
     "name": "stdout",
     "output_type": "stream",
     "text": [
      "3.5\n",
      "2.993795165523909\n",
      "1.707825127659933\n"
     ]
    }
   ],
   "source": [
    "#### Demo module code here ####\n",
    "import statistics\n",
    "dataset = [1, 2, 3, 4, 5, 6]\n",
    "\n",
    "### Calculating the arithmatic mean value of the dataset ###\n",
    "average_ = statistics.mean(dataset)\n",
    "print(average_)\n",
    "\n",
    "### Calculating the geometric mean of the dataset ###\n",
    "geo_mean = statistics.geometric_mean(dataset)\n",
    "print(geo_mean)\n",
    "\n",
    "### Calculating the population standard deviation of the dataset ###\n",
    "p_sd = statistics.pstdev(dataset, mu=None)\n",
    "print(p_sd)"
   ]
  },
  {
   "cell_type": "markdown",
   "metadata": {
    "pycharm": {
     "name": "#%% md\n"
    }
   },
   "source": [
    "---\n",
    "## Q2 (3 points)\n",
    "fMRI (functional Magnetic Resonance Imaging) is used in neuroscience \n",
    "research to measure changes in local blood flow in the brain associated with local changes \n",
    "in neural activity associated with some manipulation. \n",
    "\n",
    "For example, imagine a subject viewing a random display of dots while in an MR scanner. \n",
    "Those dots are stationary for a while. Then they move for a while. Then they are stationary \n",
    "again. Move for a while. Stationary for a while. And so on. We can imagine portraying this \n",
    "stimulus manipulation as a function of time as a “box car” (square wave) function that is \n",
    "low for some amount of time (stationary), high for some amount of time (moving), low for \n",
    "some amount of time (stationary), high for some amount of time (moving), and so on. \n",
    "\n",
    "Ideally, we would like to find areas of the brain whose increasing and decreasing activity \n",
    "roughly matches a boxcar function time-locked with manipulated motion. In fact, there is \n",
    "such an area, discovered fifty years ago by Professor Jon Kaas in our department, called \n",
    "area MT. In fact, if we were measuring neural activity directly, using neurophysiological or \n",
    "electrophysiological techniques, we would see box car activity in the brain (with just some \n",
    "delay lag caused by the amount of time it takes for neural signals to propagate from the \n",
    "retina to area MT, plus a bit of time to integrate the visual signal to detect motion).\n",
    "Things are different with fMRI. We are measuring changes in blood flow, which indirectly \n",
    "reflects changes in neural activity. An increase in neural activity leads to an increase in\n",
    "metabolic demand and this leads to an increase in blood flow. That change in blood flow is \n",
    "not instantaneous, but takes several seconds to unfold (whereas the change in neural \n",
    "activity unfolds over 10s to 100s of milliseconds). So finding areas in the brain that \n",
    "modulate activity with some experimental manipulation requires taking into account that \n",
    "hemodynamic lag. Doing so involves using what is called a hemodynamic response \n",
    "function.\n",
    "\n",
    "We will talk later in the course about some of the signal processing that goes into doing \n",
    "such analyses. For now, I simply want you to calculate values from one common \n",
    "hemodynamic response function (there are more complex variants). (It is fine if you do not \n",
    "understand anything I wrote above about fMRI. I simply want you to calculate a function \n",
    "given below in Python code. All the above was just the scientific context.)\n",
    "\n",
    "This function is called the double-gamma (because it is a weighted difference between two \n",
    "gammas) hemodynamic response function (HDR). Technically, the mathematics is the \n",
    "difference between two gamma distribution functions, but the hemodynamic response \n",
    "function is simply using these as functions having some shape, not as distributions per se.\n",
    "\n",
    "$$\n",
    "HDR(t) = w\\left(\\frac{\\beta_{1}^{\\alpha_{1}}t^{\\alpha_{1}}e^{-t\\beta_{1}}}{\\Gamma(\\alpha_{1})}\\right) - \n",
    "(1 - w)\\left(\\frac{\\beta_{2}^{\\alpha_{2}}t^{\\alpha_{2}}e^{-t\\beta_{2}}}{\\Gamma(\\alpha_{2})}\\right)\n",
    "$$\n",
    "\n",
    "The parameters of the first gamma distribution are $\\alpha_{1}$ and $\\beta_{2}$, the parameters of the second \n",
    "gamma distribution are $\\alpha_{2}$ and $\\beta_{2}$, and $w$ is the weight. $\\Gamma(x)$ is called a gamma function (not \n",
    "to be confused with the gamma distribution); it is a generalization of the factorial to real \n",
    "numbers, with  $\\Gamma(x) = (x - 1)!$ when $x$ is a positive integer. In Python, the gamma function is \n",
    "one of the special function in the `math` module.\n",
    "\n",
    "For the parameters, assume the following:\n",
    "\n",
    "${\\alpha_{1}} = 6$\n",
    "\n",
    "${\\beta_{1}} = 1$\n",
    "\n",
    "${\\alpha_{2}} = 16$\n",
    "\n",
    "${\\beta_{2}} = 1$\n",
    "\n",
    "$w = 5/6$\n",
    "\n",
    "\n",
    "Calculate (and print out) the value of the HDR function at $t=0$, $t=1$, and $t=5$ (these are in \n",
    "units of seconds).\n",
    "\n",
    "Remember NOT to hard code the elements of the equation"
   ]
  },
  {
   "cell_type": "code",
   "execution_count": 63,
   "metadata": {
    "pycharm": {
     "name": "#%%\n"
    }
   },
   "outputs": [],
   "source": [
    "#### For the parameters assume the following: ####\n",
    "alpha1 = 6.\n",
    "beta1 = 1.\n",
    "alpha2 = 16.\n",
    "beta2 = 1.\n",
    "w = 5/6\n",
    "\n",
    "import math\n",
    "import numpy as np"
   ]
  },
  {
   "cell_type": "code",
   "execution_count": 65,
   "metadata": {
    "pycharm": {
     "name": "#%%\n"
    }
   },
   "outputs": [
    {
     "name": "stdout",
     "output_type": "stream",
     "text": [
      "HDR given t = 0 is 0.0\n"
     ]
    }
   ],
   "source": [
    "#### Calculate and print out the value of the HDR given t = 0 ####\n",
    "t = 0\n",
    "HDR = (w * ((beta1 ** alpha1) * (t ** alpha1) * np.exp(-t * beta1) / math.gamma(alpha1))\n",
    "       - (1 - w) * ((beta2 ** alpha2) * (t ** alpha2) * np.exp(-t * beta2) / math.gamma(alpha2)))\n",
    "print(f\"HDR given t = 0 is {HDR}\")"
   ]
  },
  {
   "cell_type": "code",
   "execution_count": 68,
   "metadata": {
    "pycharm": {
     "name": "#%%\n"
    }
   },
   "outputs": [
    {
     "name": "stdout",
     "output_type": "stream",
     "text": [
      "HDR given t = 1 is 0.0025547183414214624\n"
     ]
    }
   ],
   "source": [
    "#### Calculate and print out the value of the HDR given t = 1 ####\n",
    "t = 1\n",
    "HDR = (w * ((beta1 ** alpha1) * (t ** alpha1) * np.exp(-t * beta1) / math.gamma(alpha1))\n",
    "       - (1 - w) * ((beta2 ** alpha2) * (t ** alpha2) * np.exp(-t * beta2) / math.gamma(alpha2)))\n",
    "print(f\"HDR given t = 1 is {HDR}\")"
   ]
  },
  {
   "cell_type": "code",
   "execution_count": 69,
   "metadata": {
    "pycharm": {
     "name": "#%%\n"
    }
   },
   "outputs": [
    {
     "name": "stdout",
     "output_type": "stream",
     "text": [
      "HDR given t = 5 is 0.7309830028374437\n"
     ]
    }
   ],
   "source": [
    "#### Calculate and print out the value of the HDR given t = 5 ####\n",
    "t = 5\n",
    "HDR = (w * ((beta1 ** alpha1) * (t ** alpha1) * np.exp(-t * beta1) / math.gamma(alpha1))\n",
    "       - (1 - w) * ((beta2 ** alpha2) * (t ** alpha2) * np.exp(-t * beta2) / math.gamma(alpha2)))\n",
    "print(f\"HDR given t = 5 is {HDR}\")"
   ]
  },
  {
   "cell_type": "markdown",
   "metadata": {
    "pycharm": {
     "name": "#%% md\n"
    }
   },
   "source": [
    "---\n",
    "## Question 3 (4 points)\n",
    "For this question, I want you to demonstrate that you can use string literals / f-strings. I will often ask you to output results (on a Jupyter Notebook or as output from \n",
    "Python script) and that output should be nicely formatted (readable). Furthermore, string\n",
    "literals / f-strings are also used to format output to text files. (As described in class, string \n",
    "literals / f-strings produce formatted strings without using the `.format` suffix.)\n",
    "\n",
    "a) Given integer variables `a` and `b` (set to some value) compute a modulo division and print \n",
    "out the integer for the quotient followed by the remainder. So if `a=9` and `b=4`, the following \n",
    "would be printed out like this (you need to do the calculation in Python and then format the \n",
    "output with a string literal / f-string):\n",
    "\n",
    "`9 divided by 4 equals 2 with a remainder of 1`"
   ]
  },
  {
   "cell_type": "code",
   "execution_count": 3,
   "metadata": {
    "pycharm": {
     "name": "#%%\n"
    }
   },
   "outputs": [
    {
     "name": "stdout",
     "output_type": "stream",
     "text": [
      "9 divided by 4 equals 2 with a remainder of 1\n"
     ]
    }
   ],
   "source": [
    "#### Compute modulo division and print out the integer for the quotient followed by the remainder ####\n",
    "a = 9\n",
    "b = 4\n",
    "mod = a % b\n",
    "quo = a // b\n",
    "print(f\"{a} divided by {b} equals {quo} with a remainder of {mod}\")\n"
   ]
  },
  {
   "cell_type": "markdown",
   "metadata": {
    "pycharm": {
     "name": "#%% md\n"
    }
   },
   "source": [
    "b) Get the value of pi from the math module. Using a formatted string literal (1) print it out \n",
    "as floating point number to 4 decimal places, (2) cast it as an integer and print it out taking \n",
    "up a total of 2 spaces, and (3) cast it as a string and print out pi backwards. (Printing the \n",
    "string backwards can be done in one step using the appropriate string slicing – do not use a \n",
    "`for` loop.)"
   ]
  },
  {
   "cell_type": "code",
   "execution_count": 27,
   "metadata": {
    "pycharm": {
     "name": "#%%\n"
    }
   },
   "outputs": [
    {
     "name": "stdout",
     "output_type": "stream",
     "text": [
      "3.1416\n"
     ]
    }
   ],
   "source": [
    "#### Print pi as a floating point number to 4 decimal places ####\n",
    "import math\n",
    "print(f\"{pi:.4f}\")"
   ]
  },
  {
   "cell_type": "code",
   "execution_count": 28,
   "metadata": {
    "pycharm": {
     "name": "#%%\n"
    }
   },
   "outputs": [
    {
     "name": "stdout",
     "output_type": "stream",
     "text": [
      " 3\n"
     ]
    }
   ],
   "source": [
    "#### Cast pi as an integer and print it out taking up a total of 2 spaces ####\n",
    "pi_int = int(pi)\n",
    "print(f\"{pi_int:2d}\")"
   ]
  },
  {
   "cell_type": "code",
   "execution_count": 29,
   "metadata": {
    "pycharm": {
     "name": "#%%\n"
    }
   },
   "outputs": [
    {
     "name": "stdout",
     "output_type": "stream",
     "text": [
      "397985356295141.3\n"
     ]
    }
   ],
   "source": [
    "#### Cast it as a string and print out pi backwards ####\n",
    "pi_str = str(pi)\n",
    "print(pi_str[::-1])"
   ]
  },
  {
   "cell_type": "markdown",
   "metadata": {
    "pycharm": {
     "name": "#%% md\n"
    }
   },
   "source": [
    "## Question 4 (3 points)\n",
    "For this question, I want you to demonstrate that you can navigate strings, \n",
    "lists, and tuples.\n",
    "\n",
    "a) Given the following string:\n",
    "`string = 'The brown fox jumped over the lazy dog.'`\n",
    "\n",
    "- Use a string slice to pull out just the word “brown” from the string and print it.\n",
    "- Given the same string, use a string slice to pull out every other word from the string and print it.\n",
    "- Given the same string, delete the word “jumped” from the string."
   ]
  },
  {
   "cell_type": "code",
   "execution_count": 54,
   "metadata": {
    "pycharm": {
     "name": "#%%\n"
    }
   },
   "outputs": [],
   "source": [
    "#### Given the following string: ####\n",
    "string = 'The brown fox jumped over the lazy dog.'"
   ]
  },
  {
   "cell_type": "code",
   "execution_count": 55,
   "metadata": {
    "pycharm": {
     "name": "#%%\n"
    }
   },
   "outputs": [
    {
     "name": "stdout",
     "output_type": "stream",
     "text": [
      "brown\n"
     ]
    }
   ],
   "source": [
    "#### Slice the string to pull out just the word \"brown\" and print it ####\n",
    "print(string[4:9])"
   ]
  },
  {
   "cell_type": "code",
   "execution_count": 75,
   "metadata": {
    "pycharm": {
     "name": "#%%\n"
    }
   },
   "outputs": [
    {
     "name": "stdout",
     "output_type": "stream",
     "text": [
      "Tebonfxjme vrtelz o.\n",
      "['The', 'fox', 'over', 'lazy']\n"
     ]
    }
   ],
   "source": [
    "#### Slice the string to pull out every other letter/word and print it ####\n",
    "#### Every other Letter\n",
    "print(string[0:len(string):2])\n",
    "\n",
    "#### Every Other Word\n",
    "lst = string.split()\n",
    "print(lst[0:len(lst):2])"
   ]
  },
  {
   "cell_type": "code",
   "execution_count": 39,
   "metadata": {
    "pycharm": {
     "name": "#%%\n"
    }
   },
   "outputs": [
    {
     "name": "stdout",
     "output_type": "stream",
     "text": [
      "The brown fox over the lazy dog.\n"
     ]
    }
   ],
   "source": [
    "#### Delete the word \"jumped\" from the string and print it ####\n",
    "print(string[0:14] + string[21:])"
   ]
  },
  {
   "cell_type": "markdown",
   "metadata": {
    "pycharm": {
     "name": "#%% md\n"
    }
   },
   "source": [
    "b) Given the following: \n",
    "\n",
    "`mylist = [[\"dog\", (True, 17)], \"house\", [[3, 4], [5, 6], \"dog\"], (\"dog\", [1, \"dog\"])]`\n",
    "\n",
    "- Reference and print out (from the list) each instance of \"dog\".\n",
    "- Reference and print out the \"o\" from \"house\".\n",
    "- Reference and print out the [5, 6] list from the larger list."
   ]
  },
  {
   "cell_type": "code",
   "execution_count": 46,
   "metadata": {},
   "outputs": [],
   "source": [
    "#### Given the following list: ####\n",
    "mylist = [[\"dog\", (True, 17)], \"house\", [[3, 4], [5, 6], \"dog\"], (\"dog\", [1, \"dog\"])]"
   ]
  },
  {
   "cell_type": "code",
   "execution_count": 51,
   "metadata": {
    "pycharm": {
     "name": "#%%\n"
    }
   },
   "outputs": [
    {
     "name": "stdout",
     "output_type": "stream",
     "text": [
      "dog\n",
      "dog\n",
      "dog\n",
      "dog\n"
     ]
    }
   ],
   "source": [
    "#### Reference and print out each instance of \"dog\" ####\n",
    "print(mylist[0][0])\n",
    "print(mylist[2][2])\n",
    "print(mylist[3][0])\n",
    "print(mylist[3][1][1])"
   ]
  },
  {
   "cell_type": "code",
   "execution_count": 52,
   "metadata": {
    "pycharm": {
     "name": "#%%\n"
    }
   },
   "outputs": [
    {
     "name": "stdout",
     "output_type": "stream",
     "text": [
      "o\n"
     ]
    }
   ],
   "source": [
    "#### Reference and print the \"o\" from \"house\" ####\n",
    "print(mylist[1][1])"
   ]
  },
  {
   "cell_type": "code",
   "execution_count": 53,
   "metadata": {
    "pycharm": {
     "name": "#%%\n"
    }
   },
   "outputs": [
    {
     "name": "stdout",
     "output_type": "stream",
     "text": [
      "[5, 6]\n"
     ]
    }
   ],
   "source": [
    "#### Reference and print the [5, 6] from the list ####\n",
    "print(mylist[2][1])"
   ]
  }
 ],
 "metadata": {
  "kernelspec": {
   "display_name": "Python 3 (ipykernel)",
   "language": "python",
   "name": "python3"
  },
  "language_info": {
   "codemirror_mode": {
    "name": "ipython",
    "version": 3
   },
   "file_extension": ".py",
   "mimetype": "text/x-python",
   "name": "python",
   "nbconvert_exporter": "python",
   "pygments_lexer": "ipython3",
   "version": "3.9.12"
  },
  "vscode": {
   "interpreter": {
    "hash": "9dbf35e99f8eb896b243eec7c98eb94d1dd6ec896f8bc11b93709aa36ee3b11c"
   }
  }
 },
 "nbformat": 4,
 "nbformat_minor": 4
}
